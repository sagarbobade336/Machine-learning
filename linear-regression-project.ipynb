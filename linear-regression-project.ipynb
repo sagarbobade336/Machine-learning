{
 "cells": [
  {
   "cell_type": "code",
   "execution_count": 1,
   "id": "9aabf19e",
   "metadata": {
    "_cell_guid": "b1076dfc-b9ad-4769-8c92-a6c4dae69d19",
    "_uuid": "8f2839f25d086af736a60e9eeb907d3b93b6e0e5",
    "execution": {
     "iopub.execute_input": "2025-09-02T02:12:50.380591Z",
     "iopub.status.busy": "2025-09-02T02:12:50.378558Z",
     "iopub.status.idle": "2025-09-02T02:12:52.557980Z",
     "shell.execute_reply": "2025-09-02T02:12:52.556845Z"
    },
    "papermill": {
     "duration": 2.187915,
     "end_time": "2025-09-02T02:12:52.559710",
     "exception": false,
     "start_time": "2025-09-02T02:12:50.371795",
     "status": "completed"
    },
    "tags": []
   },
   "outputs": [
    {
     "name": "stdout",
     "output_type": "stream",
     "text": [
      "/kaggle/input/teen-phone-addiction/teen_phone_addiction_dataset.csv\n"
     ]
    }
   ],
   "source": [
    "# This Python 3 environment comes with many helpful analytics libraries installed\n",
    "# It is defined by the kaggle/python Docker image: https://github.com/kaggle/docker-python\n",
    "# For example, here's several helpful packages to load\n",
    "\n",
    "import numpy as np # linear algebra\n",
    "import pandas as pd # data processing, CSV file I/O (e.g. pd.read_csv)\n",
    "\n",
    "# Input data files are available in the read-only \"../input/\" directory\n",
    "# For example, running this (by clicking run or pressing Shift+Enter) will list all files under the input directory\n",
    "\n",
    "import os\n",
    "for dirname, _, filenames in os.walk('/kaggle/input'):\n",
    "    for filename in filenames:\n",
    "        print(os.path.join(dirname, filename))\n",
    "\n",
    "# You can write up to 20GB to the current directory (/kaggle/working/) that gets preserved as output when you create a version using \"Save & Run All\" \n",
    "# You can also write temporary files to /kaggle/temp/, but they won't be saved outside of the current session"
   ]
  },
  {
   "cell_type": "markdown",
   "id": "ea402894",
   "metadata": {
    "papermill": {
     "duration": 0.00397,
     "end_time": "2025-09-02T02:12:52.568256",
     "exception": false,
     "start_time": "2025-09-02T02:12:52.564286",
     "status": "completed"
    },
    "tags": []
   },
   "source": [
    "**load data**"
   ]
  },
  {
   "cell_type": "code",
   "execution_count": 2,
   "id": "ed647abc",
   "metadata": {
    "execution": {
     "iopub.execute_input": "2025-09-02T02:12:52.578032Z",
     "iopub.status.busy": "2025-09-02T02:12:52.577543Z",
     "iopub.status.idle": "2025-09-02T02:12:52.617370Z",
     "shell.execute_reply": "2025-09-02T02:12:52.616281Z"
    },
    "papermill": {
     "duration": 0.047097,
     "end_time": "2025-09-02T02:12:52.619430",
     "exception": false,
     "start_time": "2025-09-02T02:12:52.572333",
     "status": "completed"
    },
    "tags": []
   },
   "outputs": [],
   "source": [
    "data = pd.read_csv(\"/kaggle/input/teen-phone-addiction/teen_phone_addiction_dataset.csv\")"
   ]
  },
  {
   "cell_type": "markdown",
   "id": "6f346144",
   "metadata": {
    "papermill": {
     "duration": 0.00366,
     "end_time": "2025-09-02T02:12:52.627328",
     "exception": false,
     "start_time": "2025-09-02T02:12:52.623668",
     "status": "completed"
    },
    "tags": []
   },
   "source": [
    "**Data expliotation**"
   ]
  },
  {
   "cell_type": "code",
   "execution_count": 3,
   "id": "516bfa2a",
   "metadata": {
    "execution": {
     "iopub.execute_input": "2025-09-02T02:12:52.636776Z",
     "iopub.status.busy": "2025-09-02T02:12:52.636389Z",
     "iopub.status.idle": "2025-09-02T02:12:52.644156Z",
     "shell.execute_reply": "2025-09-02T02:12:52.643138Z"
    },
    "papermill": {
     "duration": 0.014746,
     "end_time": "2025-09-02T02:12:52.645983",
     "exception": false,
     "start_time": "2025-09-02T02:12:52.631237",
     "status": "completed"
    },
    "tags": []
   },
   "outputs": [
    {
     "data": {
      "text/plain": [
       "(3000, 25)"
      ]
     },
     "execution_count": 3,
     "metadata": {},
     "output_type": "execute_result"
    }
   ],
   "source": [
    "data.shape"
   ]
  },
  {
   "cell_type": "code",
   "execution_count": 4,
   "id": "756275b1",
   "metadata": {
    "execution": {
     "iopub.execute_input": "2025-09-02T02:12:52.656376Z",
     "iopub.status.busy": "2025-09-02T02:12:52.656026Z",
     "iopub.status.idle": "2025-09-02T02:12:52.742084Z",
     "shell.execute_reply": "2025-09-02T02:12:52.741065Z"
    },
    "papermill": {
     "duration": 0.093422,
     "end_time": "2025-09-02T02:12:52.744017",
     "exception": false,
     "start_time": "2025-09-02T02:12:52.650595",
     "status": "completed"
    },
    "tags": []
   },
   "outputs": [
    {
     "name": "stdout",
     "output_type": "stream",
     "text": [
      "<class 'pandas.core.frame.DataFrame'>\n",
      "RangeIndex: 3000 entries, 0 to 2999\n",
      "Data columns (total 25 columns):\n",
      " #   Column                  Non-Null Count  Dtype  \n",
      "---  ------                  --------------  -----  \n",
      " 0   ID                      3000 non-null   int64  \n",
      " 1   Name                    3000 non-null   object \n",
      " 2   Age                     3000 non-null   int64  \n",
      " 3   Gender                  3000 non-null   object \n",
      " 4   Location                3000 non-null   object \n",
      " 5   School_Grade            3000 non-null   object \n",
      " 6   Daily_Usage_Hours       3000 non-null   float64\n",
      " 7   Sleep_Hours             3000 non-null   float64\n",
      " 8   Academic_Performance    3000 non-null   int64  \n",
      " 9   Social_Interactions     3000 non-null   int64  \n",
      " 10  Exercise_Hours          3000 non-null   float64\n",
      " 11  Anxiety_Level           3000 non-null   int64  \n",
      " 12  Depression_Level        3000 non-null   int64  \n",
      " 13  Self_Esteem             3000 non-null   int64  \n",
      " 14  Parental_Control        3000 non-null   int64  \n",
      " 15  Screen_Time_Before_Bed  3000 non-null   float64\n",
      " 16  Phone_Checks_Per_Day    3000 non-null   int64  \n",
      " 17  Apps_Used_Daily         3000 non-null   int64  \n",
      " 18  Time_on_Social_Media    3000 non-null   float64\n",
      " 19  Time_on_Gaming          3000 non-null   float64\n",
      " 20  Time_on_Education       3000 non-null   float64\n",
      " 21  Phone_Usage_Purpose     3000 non-null   object \n",
      " 22  Family_Communication    3000 non-null   int64  \n",
      " 23  Weekend_Usage_Hours     3000 non-null   float64\n",
      " 24  Addiction_Level         3000 non-null   float64\n",
      "dtypes: float64(9), int64(11), object(5)\n",
      "memory usage: 586.1+ KB\n",
      "None\n",
      "                ID          Age  Daily_Usage_Hours  Sleep_Hours  \\\n",
      "count  3000.000000  3000.000000        3000.000000  3000.000000   \n",
      "mean   1500.500000    15.969667           5.020667     6.489767   \n",
      "std     866.169729     1.989489           1.956501     1.490713   \n",
      "min       1.000000    13.000000           0.000000     3.000000   \n",
      "25%     750.750000    14.000000           3.700000     5.500000   \n",
      "50%    1500.500000    16.000000           5.000000     6.500000   \n",
      "75%    2250.250000    18.000000           6.400000     7.500000   \n",
      "max    3000.000000    19.000000          11.500000    10.000000   \n",
      "\n",
      "       Academic_Performance  Social_Interactions  Exercise_Hours  \\\n",
      "count           3000.000000          3000.000000     3000.000000   \n",
      "mean              74.947333             5.097667        1.040667   \n",
      "std               14.684156             3.139333        0.734620   \n",
      "min               50.000000             0.000000        0.000000   \n",
      "25%               62.000000             2.000000        0.500000   \n",
      "50%               75.000000             5.000000        1.000000   \n",
      "75%               88.000000             8.000000        1.500000   \n",
      "max              100.000000            10.000000        4.000000   \n",
      "\n",
      "       Anxiety_Level  Depression_Level  Self_Esteem  Parental_Control  \\\n",
      "count    3000.000000       3000.000000  3000.000000       3000.000000   \n",
      "mean        5.590000          5.460333     5.546333          0.507333   \n",
      "std         2.890678          2.871557     2.860754          0.500030   \n",
      "min         1.000000          1.000000     1.000000          0.000000   \n",
      "25%         3.000000          3.000000     3.000000          0.000000   \n",
      "50%         6.000000          5.000000     6.000000          1.000000   \n",
      "75%         8.000000          8.000000     8.000000          1.000000   \n",
      "max        10.000000         10.000000    10.000000          1.000000   \n",
      "\n",
      "       Screen_Time_Before_Bed  Phone_Checks_Per_Day  Apps_Used_Daily  \\\n",
      "count             3000.000000           3000.000000      3000.000000   \n",
      "mean                 1.006733             83.093000        12.609333   \n",
      "std                  0.492878             37.747044         4.611486   \n",
      "min                  0.000000             20.000000         5.000000   \n",
      "25%                  0.700000             51.000000         9.000000   \n",
      "50%                  1.000000             82.000000        13.000000   \n",
      "75%                  1.400000            115.250000        17.000000   \n",
      "max                  2.600000            150.000000        20.000000   \n",
      "\n",
      "       Time_on_Social_Media  Time_on_Gaming  Time_on_Education  \\\n",
      "count           3000.000000     3000.000000        3000.000000   \n",
      "mean               2.499233        1.525267           1.016333   \n",
      "std                0.988201        0.932701           0.648341   \n",
      "min                0.000000        0.000000           0.000000   \n",
      "25%                1.800000        0.800000           0.500000   \n",
      "50%                2.500000        1.500000           1.000000   \n",
      "75%                3.200000        2.200000           1.500000   \n",
      "max                5.000000        4.000000           3.000000   \n",
      "\n",
      "       Family_Communication  Weekend_Usage_Hours  Addiction_Level  \n",
      "count           3000.000000          3000.000000      3000.000000  \n",
      "mean               5.459667             6.015100         8.881900  \n",
      "std                2.864572             2.014776         1.609598  \n",
      "min                1.000000             0.000000         1.000000  \n",
      "25%                3.000000             4.700000         8.000000  \n",
      "50%                5.000000             6.000000        10.000000  \n",
      "75%                8.000000             7.400000        10.000000  \n",
      "max               10.000000            14.000000        10.000000  \n"
     ]
    }
   ],
   "source": [
    "print(data.info())\n",
    "print(data.describe())"
   ]
  },
  {
   "cell_type": "code",
   "execution_count": 5,
   "id": "beacc645",
   "metadata": {
    "execution": {
     "iopub.execute_input": "2025-09-02T02:12:52.754956Z",
     "iopub.status.busy": "2025-09-02T02:12:52.754627Z",
     "iopub.status.idle": "2025-09-02T02:12:52.763274Z",
     "shell.execute_reply": "2025-09-02T02:12:52.762292Z"
    },
    "papermill": {
     "duration": 0.016188,
     "end_time": "2025-09-02T02:12:52.765280",
     "exception": false,
     "start_time": "2025-09-02T02:12:52.749092",
     "status": "completed"
    },
    "tags": []
   },
   "outputs": [
    {
     "name": "stdout",
     "output_type": "stream",
     "text": [
      "ID                        0\n",
      "Name                      0\n",
      "Age                       0\n",
      "Gender                    0\n",
      "Location                  0\n",
      "School_Grade              0\n",
      "Daily_Usage_Hours         0\n",
      "Sleep_Hours               0\n",
      "Academic_Performance      0\n",
      "Social_Interactions       0\n",
      "Exercise_Hours            0\n",
      "Anxiety_Level             0\n",
      "Depression_Level          0\n",
      "Self_Esteem               0\n",
      "Parental_Control          0\n",
      "Screen_Time_Before_Bed    0\n",
      "Phone_Checks_Per_Day      0\n",
      "Apps_Used_Daily           0\n",
      "Time_on_Social_Media      0\n",
      "Time_on_Gaming            0\n",
      "Time_on_Education         0\n",
      "Phone_Usage_Purpose       0\n",
      "Family_Communication      0\n",
      "Weekend_Usage_Hours       0\n",
      "Addiction_Level           0\n",
      "dtype: int64\n"
     ]
    }
   ],
   "source": [
    "print(data.isnull().sum())"
   ]
  },
  {
   "cell_type": "markdown",
   "id": "cc731d43",
   "metadata": {
    "papermill": {
     "duration": 0.005558,
     "end_time": "2025-09-02T02:12:52.775829",
     "exception": false,
     "start_time": "2025-09-02T02:12:52.770271",
     "status": "completed"
    },
    "tags": []
   },
   "source": [
    "This is a cleaned data so no need to do data wrangling"
   ]
  },
  {
   "cell_type": "markdown",
   "id": "44b184db",
   "metadata": {
    "papermill": {
     "duration": 0.004261,
     "end_time": "2025-09-02T02:12:52.784776",
     "exception": false,
     "start_time": "2025-09-02T02:12:52.780515",
     "status": "completed"
    },
    "tags": []
   },
   "source": [
    "**Step 1: Define target**"
   ]
  },
  {
   "cell_type": "code",
   "execution_count": 6,
   "id": "85d01ce9",
   "metadata": {
    "execution": {
     "iopub.execute_input": "2025-09-02T02:12:52.795367Z",
     "iopub.status.busy": "2025-09-02T02:12:52.795043Z",
     "iopub.status.idle": "2025-09-02T02:12:52.800220Z",
     "shell.execute_reply": "2025-09-02T02:12:52.799009Z"
    },
    "papermill": {
     "duration": 0.012691,
     "end_time": "2025-09-02T02:12:52.802009",
     "exception": false,
     "start_time": "2025-09-02T02:12:52.789318",
     "status": "completed"
    },
    "tags": []
   },
   "outputs": [],
   "source": [
    "y = data['Addiction_Level']"
   ]
  },
  {
   "cell_type": "markdown",
   "id": "b3837c28",
   "metadata": {
    "papermill": {
     "duration": 0.004482,
     "end_time": "2025-09-02T02:12:52.811124",
     "exception": false,
     "start_time": "2025-09-02T02:12:52.806642",
     "status": "completed"
    },
    "tags": []
   },
   "source": [
    "**Step 2: Prepare features**"
   ]
  },
  {
   "cell_type": "markdown",
   "id": "ab9baccd",
   "metadata": {
    "papermill": {
     "duration": 0.004014,
     "end_time": "2025-09-02T02:12:52.819553",
     "exception": false,
     "start_time": "2025-09-02T02:12:52.815539",
     "status": "completed"
    },
    "tags": []
   },
   "source": [
    "Drop target and unnecessary columns"
   ]
  },
  {
   "cell_type": "code",
   "execution_count": 7,
   "id": "17cd63aa",
   "metadata": {
    "execution": {
     "iopub.execute_input": "2025-09-02T02:12:52.830599Z",
     "iopub.status.busy": "2025-09-02T02:12:52.830140Z",
     "iopub.status.idle": "2025-09-02T02:12:52.841794Z",
     "shell.execute_reply": "2025-09-02T02:12:52.840295Z"
    },
    "papermill": {
     "duration": 0.019183,
     "end_time": "2025-09-02T02:12:52.843707",
     "exception": false,
     "start_time": "2025-09-02T02:12:52.824524",
     "status": "completed"
    },
    "tags": []
   },
   "outputs": [],
   "source": [
    "X = data.drop(['Addiction_Level', 'ID', 'Name'], axis=1)"
   ]
  },
  {
   "cell_type": "markdown",
   "id": "6ce80238",
   "metadata": {
    "papermill": {
     "duration": 0.004912,
     "end_time": "2025-09-02T02:12:52.853471",
     "exception": false,
     "start_time": "2025-09-02T02:12:52.848559",
     "status": "completed"
    },
    "tags": []
   },
   "source": [
    "Automatically select categorical columns"
   ]
  },
  {
   "cell_type": "code",
   "execution_count": 8,
   "id": "84764818",
   "metadata": {
    "execution": {
     "iopub.execute_input": "2025-09-02T02:12:52.864061Z",
     "iopub.status.busy": "2025-09-02T02:12:52.863716Z",
     "iopub.status.idle": "2025-09-02T02:12:52.869816Z",
     "shell.execute_reply": "2025-09-02T02:12:52.868522Z"
    },
    "papermill": {
     "duration": 0.01342,
     "end_time": "2025-09-02T02:12:52.871492",
     "exception": false,
     "start_time": "2025-09-02T02:12:52.858072",
     "status": "completed"
    },
    "tags": []
   },
   "outputs": [],
   "source": [
    "#  Find categorical columns\n",
    "categorical_cols = X.select_dtypes(include=[\"object\"]).columns.tolist()"
   ]
  },
  {
   "cell_type": "markdown",
   "id": "dd7fb2b3",
   "metadata": {
    "papermill": {
     "duration": 0.004378,
     "end_time": "2025-09-02T02:12:52.880896",
     "exception": false,
     "start_time": "2025-09-02T02:12:52.876518",
     "status": "completed"
    },
    "tags": []
   },
   "source": [
    "One-hot encode categorical columns"
   ]
  },
  {
   "cell_type": "code",
   "execution_count": 9,
   "id": "43714880",
   "metadata": {
    "execution": {
     "iopub.execute_input": "2025-09-02T02:12:52.891994Z",
     "iopub.status.busy": "2025-09-02T02:12:52.891567Z",
     "iopub.status.idle": "2025-09-02T02:12:52.943926Z",
     "shell.execute_reply": "2025-09-02T02:12:52.942774Z"
    },
    "papermill": {
     "duration": 0.060674,
     "end_time": "2025-09-02T02:12:52.946271",
     "exception": false,
     "start_time": "2025-09-02T02:12:52.885597",
     "status": "completed"
    },
    "tags": []
   },
   "outputs": [
    {
     "name": "stdout",
     "output_type": "stream",
     "text": [
      "   Age  Daily_Usage_Hours  Sleep_Hours  Academic_Performance  \\\n",
      "0   13                4.0          6.1                    78   \n",
      "1   17                5.5          6.5                    70   \n",
      "2   13                5.8          5.5                    93   \n",
      "3   18                3.1          3.9                    78   \n",
      "4   14                2.5          6.7                    56   \n",
      "\n",
      "   Social_Interactions  Exercise_Hours  Anxiety_Level  Depression_Level  \\\n",
      "0                    5             0.1             10                 3   \n",
      "1                    5             0.0              3                 7   \n",
      "2                    8             0.8              2                 3   \n",
      "3                    8             1.6              9                10   \n",
      "4                    4             1.1              1                 5   \n",
      "\n",
      "   Self_Esteem  Parental_Control  ...  School_Grade_11th  School_Grade_12th  \\\n",
      "0            8                 0  ...              False              False   \n",
      "1            3                 0  ...              False              False   \n",
      "2           10                 0  ...               True              False   \n",
      "3            3                 0  ...              False               True   \n",
      "4            1                 0  ...              False              False   \n",
      "\n",
      "   School_Grade_7th  School_Grade_8th  School_Grade_9th  \\\n",
      "0             False             False              True   \n",
      "1              True             False             False   \n",
      "2             False             False             False   \n",
      "3             False             False             False   \n",
      "4             False             False              True   \n",
      "\n",
      "   Phone_Usage_Purpose_Browsing  Phone_Usage_Purpose_Education  \\\n",
      "0                          True                          False   \n",
      "1                          True                          False   \n",
      "2                         False                           True   \n",
      "3                         False                          False   \n",
      "4                         False                          False   \n",
      "\n",
      "   Phone_Usage_Purpose_Gaming  Phone_Usage_Purpose_Other  \\\n",
      "0                       False                      False   \n",
      "1                       False                      False   \n",
      "2                       False                      False   \n",
      "3                       False                      False   \n",
      "4                        True                      False   \n",
      "\n",
      "   Phone_Usage_Purpose_Social Media  \n",
      "0                             False  \n",
      "1                             False  \n",
      "2                             False  \n",
      "3                              True  \n",
      "4                             False  \n",
      "\n",
      "[5 rows x 2758 columns]\n"
     ]
    }
   ],
   "source": [
    "X_encoded = pd.get_dummies(X, columns=categorical_cols)\n",
    "print(X_encoded.head())"
   ]
  },
  {
   "cell_type": "markdown",
   "id": "0c0308be",
   "metadata": {
    "papermill": {
     "duration": 0.004494,
     "end_time": "2025-09-02T02:12:52.955819",
     "exception": false,
     "start_time": "2025-09-02T02:12:52.951325",
     "status": "completed"
    },
    "tags": []
   },
   "source": [
    "**Split the Dataset**"
   ]
  },
  {
   "cell_type": "code",
   "execution_count": 10,
   "id": "4fe74818",
   "metadata": {
    "execution": {
     "iopub.execute_input": "2025-09-02T02:12:52.966389Z",
     "iopub.status.busy": "2025-09-02T02:12:52.966038Z",
     "iopub.status.idle": "2025-09-02T02:12:54.750589Z",
     "shell.execute_reply": "2025-09-02T02:12:54.749303Z"
    },
    "papermill": {
     "duration": 1.792268,
     "end_time": "2025-09-02T02:12:54.752603",
     "exception": false,
     "start_time": "2025-09-02T02:12:52.960335",
     "status": "completed"
    },
    "tags": []
   },
   "outputs": [],
   "source": [
    "from sklearn.model_selection import train_test_split\n",
    "\n",
    "X_train, X_test, y_train, y_test = train_test_split(\n",
    "    X_encoded, y, test_size=0.2, random_state=42\n",
    ")"
   ]
  },
  {
   "cell_type": "markdown",
   "id": "3c366a30",
   "metadata": {
    "papermill": {
     "duration": 0.004574,
     "end_time": "2025-09-02T02:12:54.761811",
     "exception": false,
     "start_time": "2025-09-02T02:12:54.757237",
     "status": "completed"
    },
    "tags": []
   },
   "source": [
    "# Step 1: Training the Model"
   ]
  },
  {
   "cell_type": "code",
   "execution_count": 11,
   "id": "a42be320",
   "metadata": {
    "execution": {
     "iopub.execute_input": "2025-09-02T02:12:54.773089Z",
     "iopub.status.busy": "2025-09-02T02:12:54.772504Z",
     "iopub.status.idle": "2025-09-02T02:13:01.707110Z",
     "shell.execute_reply": "2025-09-02T02:13:01.706071Z"
    },
    "papermill": {
     "duration": 6.942679,
     "end_time": "2025-09-02T02:13:01.709213",
     "exception": false,
     "start_time": "2025-09-02T02:12:54.766534",
     "status": "completed"
    },
    "tags": []
   },
   "outputs": [
    {
     "data": {
      "text/html": [
       "<style>#sk-container-id-1 {color: black;background-color: white;}#sk-container-id-1 pre{padding: 0;}#sk-container-id-1 div.sk-toggleable {background-color: white;}#sk-container-id-1 label.sk-toggleable__label {cursor: pointer;display: block;width: 100%;margin-bottom: 0;padding: 0.3em;box-sizing: border-box;text-align: center;}#sk-container-id-1 label.sk-toggleable__label-arrow:before {content: \"▸\";float: left;margin-right: 0.25em;color: #696969;}#sk-container-id-1 label.sk-toggleable__label-arrow:hover:before {color: black;}#sk-container-id-1 div.sk-estimator:hover label.sk-toggleable__label-arrow:before {color: black;}#sk-container-id-1 div.sk-toggleable__content {max-height: 0;max-width: 0;overflow: hidden;text-align: left;background-color: #f0f8ff;}#sk-container-id-1 div.sk-toggleable__content pre {margin: 0.2em;color: black;border-radius: 0.25em;background-color: #f0f8ff;}#sk-container-id-1 input.sk-toggleable__control:checked~div.sk-toggleable__content {max-height: 200px;max-width: 100%;overflow: auto;}#sk-container-id-1 input.sk-toggleable__control:checked~label.sk-toggleable__label-arrow:before {content: \"▾\";}#sk-container-id-1 div.sk-estimator input.sk-toggleable__control:checked~label.sk-toggleable__label {background-color: #d4ebff;}#sk-container-id-1 div.sk-label input.sk-toggleable__control:checked~label.sk-toggleable__label {background-color: #d4ebff;}#sk-container-id-1 input.sk-hidden--visually {border: 0;clip: rect(1px 1px 1px 1px);clip: rect(1px, 1px, 1px, 1px);height: 1px;margin: -1px;overflow: hidden;padding: 0;position: absolute;width: 1px;}#sk-container-id-1 div.sk-estimator {font-family: monospace;background-color: #f0f8ff;border: 1px dotted black;border-radius: 0.25em;box-sizing: border-box;margin-bottom: 0.5em;}#sk-container-id-1 div.sk-estimator:hover {background-color: #d4ebff;}#sk-container-id-1 div.sk-parallel-item::after {content: \"\";width: 100%;border-bottom: 1px solid gray;flex-grow: 1;}#sk-container-id-1 div.sk-label:hover label.sk-toggleable__label {background-color: #d4ebff;}#sk-container-id-1 div.sk-serial::before {content: \"\";position: absolute;border-left: 1px solid gray;box-sizing: border-box;top: 0;bottom: 0;left: 50%;z-index: 0;}#sk-container-id-1 div.sk-serial {display: flex;flex-direction: column;align-items: center;background-color: white;padding-right: 0.2em;padding-left: 0.2em;position: relative;}#sk-container-id-1 div.sk-item {position: relative;z-index: 1;}#sk-container-id-1 div.sk-parallel {display: flex;align-items: stretch;justify-content: center;background-color: white;position: relative;}#sk-container-id-1 div.sk-item::before, #sk-container-id-1 div.sk-parallel-item::before {content: \"\";position: absolute;border-left: 1px solid gray;box-sizing: border-box;top: 0;bottom: 0;left: 50%;z-index: -1;}#sk-container-id-1 div.sk-parallel-item {display: flex;flex-direction: column;z-index: 1;position: relative;background-color: white;}#sk-container-id-1 div.sk-parallel-item:first-child::after {align-self: flex-end;width: 50%;}#sk-container-id-1 div.sk-parallel-item:last-child::after {align-self: flex-start;width: 50%;}#sk-container-id-1 div.sk-parallel-item:only-child::after {width: 0;}#sk-container-id-1 div.sk-dashed-wrapped {border: 1px dashed gray;margin: 0 0.4em 0.5em 0.4em;box-sizing: border-box;padding-bottom: 0.4em;background-color: white;}#sk-container-id-1 div.sk-label label {font-family: monospace;font-weight: bold;display: inline-block;line-height: 1.2em;}#sk-container-id-1 div.sk-label-container {text-align: center;}#sk-container-id-1 div.sk-container {/* jupyter's `normalize.less` sets `[hidden] { display: none; }` but bootstrap.min.css set `[hidden] { display: none !important; }` so we also need the `!important` here to be able to override the default hidden behavior on the sphinx rendered scikit-learn.org. See: https://github.com/scikit-learn/scikit-learn/issues/21755 */display: inline-block !important;position: relative;}#sk-container-id-1 div.sk-text-repr-fallback {display: none;}</style><div id=\"sk-container-id-1\" class=\"sk-top-container\"><div class=\"sk-text-repr-fallback\"><pre>LinearRegression()</pre><b>In a Jupyter environment, please rerun this cell to show the HTML representation or trust the notebook. <br />On GitHub, the HTML representation is unable to render, please try loading this page with nbviewer.org.</b></div><div class=\"sk-container\" hidden><div class=\"sk-item\"><div class=\"sk-estimator sk-toggleable\"><input class=\"sk-toggleable__control sk-hidden--visually\" id=\"sk-estimator-id-1\" type=\"checkbox\" checked><label for=\"sk-estimator-id-1\" class=\"sk-toggleable__label sk-toggleable__label-arrow\">LinearRegression</label><div class=\"sk-toggleable__content\"><pre>LinearRegression()</pre></div></div></div></div></div>"
      ],
      "text/plain": [
       "LinearRegression()"
      ]
     },
     "execution_count": 11,
     "metadata": {},
     "output_type": "execute_result"
    }
   ],
   "source": [
    "from sklearn.linear_model import LinearRegression\n",
    "\n",
    "# Create the model\n",
    "model = LinearRegression()\n",
    "\n",
    "# Train the model\n",
    "model.fit(X_train, y_train)"
   ]
  },
  {
   "cell_type": "markdown",
   "id": "9ad230bc",
   "metadata": {
    "papermill": {
     "duration": 0.004883,
     "end_time": "2025-09-02T02:13:01.719423",
     "exception": false,
     "start_time": "2025-09-02T02:13:01.714540",
     "status": "completed"
    },
    "tags": []
   },
   "source": [
    "# Step 2: Predict outcomes on the test set"
   ]
  },
  {
   "cell_type": "code",
   "execution_count": 12,
   "id": "a48a52d2",
   "metadata": {
    "execution": {
     "iopub.execute_input": "2025-09-02T02:13:01.731259Z",
     "iopub.status.busy": "2025-09-02T02:13:01.730842Z",
     "iopub.status.idle": "2025-09-02T02:13:01.780004Z",
     "shell.execute_reply": "2025-09-02T02:13:01.779074Z"
    },
    "papermill": {
     "duration": 0.057875,
     "end_time": "2025-09-02T02:13:01.782580",
     "exception": false,
     "start_time": "2025-09-02T02:13:01.724705",
     "status": "completed"
    },
    "tags": []
   },
   "outputs": [
    {
     "name": "stdout",
     "output_type": "stream",
     "text": [
      "[ 3.19840130e+07  3.19840132e+07  3.19840154e+07  3.19840124e+07\n",
      "  3.19840151e+07  3.19840128e+07  3.19840107e+07  3.19840139e+07\n",
      "  3.19840150e+07  3.19840137e+07  3.19840122e+07  3.19840158e+07\n",
      "  9.50003815e+00  3.19840137e+07  3.19840139e+07  3.19840128e+07\n",
      "  3.19840101e+07  3.19840145e+07  3.19840117e+07  3.19840121e+07\n",
      "  3.19840142e+07  3.19840113e+07  3.19840127e+07  3.19840118e+07\n",
      "  3.19840127e+07  3.19840149e+07  3.19840145e+07  3.19840130e+07\n",
      "  3.19840115e+07  3.19840124e+07  3.19840120e+07  3.19840166e+07\n",
      "  3.19840130e+07  3.19840099e+07  8.67457199e+00  3.19840131e+07\n",
      "  3.19840143e+07  3.19840123e+07  9.67180252e+00  3.19840130e+07\n",
      "  3.19840119e+07  3.19840127e+07  3.19840128e+07  3.19840157e+07\n",
      "  3.19840121e+07  4.92625660e+07  3.19840106e+07  3.19840143e+07\n",
      "  3.19840156e+07  3.19840105e+07  7.25450516e+00  3.19840122e+07\n",
      "  3.19840125e+07  3.19840130e+07  3.19840128e+07  3.19840130e+07\n",
      "  3.19840142e+07  3.19840139e+07  1.00830841e+01  3.19840148e+07\n",
      "  3.19840142e+07  3.19840132e+07  3.19840139e+07  3.19840144e+07\n",
      "  3.19840128e+07  3.19840128e+07  3.19840115e+07  3.19840138e+07\n",
      "  3.19840151e+07  1.09932232e+01  3.19840136e+07  3.19840126e+07\n",
      "  3.19840124e+07  9.29844666e+00  3.19840124e+07  3.19840148e+07\n",
      "  3.19840139e+07  3.19840123e+07  3.19840120e+07  3.19840133e+07\n",
      "  3.19840113e+07  3.19840138e+07  3.19840112e+07  3.19840130e+07\n",
      "  3.19840124e+07  3.19840126e+07  7.15967941e+00  3.19840116e+07\n",
      " -1.74279692e+10  3.19840146e+07  3.19840138e+07  3.19840115e+07\n",
      "  3.19840126e+07  3.19840163e+07  3.19840140e+07  3.19840143e+07\n",
      "  3.19840123e+07  3.19840157e+07  6.61867905e+00  3.19840117e+07\n",
      "  3.19840129e+07  3.19840102e+07  3.19840135e+07  3.19840126e+07\n",
      "  3.19840123e+07  3.19840126e+07  3.19840110e+07  8.65462875e+00\n",
      "  3.19840150e+07  3.19840135e+07  1.03106289e+01  3.19840125e+07\n",
      "  3.19840109e+07  3.19840110e+07  3.19840141e+07  1.04637337e+01\n",
      "  3.19840145e+07  3.19840114e+07  3.19840125e+07  3.19840153e+07\n",
      "  3.19840109e+07  1.14766922e+01  3.19840120e+07  3.19840116e+07\n",
      "  3.19840125e+07  3.19840132e+07  3.19840122e+07  3.19840119e+07\n",
      "  3.19840127e+07  3.19839826e+07  3.19840107e+07  3.19840112e+07\n",
      "  3.19840141e+07  3.19840125e+07  3.19840145e+07  3.19840126e+07\n",
      "  3.19840112e+07  6.68874931e+00  1.05442085e+01  3.19840122e+07\n",
      "  3.19840129e+07  3.19840118e+07  2.04570381e+07  3.19840109e+07\n",
      "  3.19840141e+07  6.47368240e+00  3.19840130e+07  3.19840133e+07\n",
      "  3.19840135e+07  3.19840095e+07  3.19840110e+07  3.19840137e+07\n",
      "  3.19840112e+07  3.19840130e+07  3.19840124e+07  3.19840140e+07\n",
      "  3.19840145e+07  3.19840112e+07  3.19840141e+07  3.19840157e+07\n",
      "  3.19840120e+07  3.19840107e+07  3.19840125e+07  3.19840123e+07\n",
      "  3.19840109e+07  3.19840109e+07  3.19840132e+07  3.19840121e+07\n",
      "  3.19840111e+07  8.24988937e+00  3.19840129e+07  3.19840125e+07\n",
      "  7.69490814e+00  9.10175705e+00  3.19840140e+07  6.47696304e+00\n",
      "  3.19840118e+07  1.19452171e+01  3.19840131e+07  3.19840127e+07\n",
      "  1.35291080e+01  3.19840115e+07  3.19840120e+07  3.19840122e+07\n",
      "  3.19840119e+07  3.19840143e+07  3.19840149e+07  4.90576363e+00\n",
      "  3.19840130e+07  3.19840097e+07  3.19840129e+07  3.19840115e+07\n",
      "  3.19840118e+07  3.19840114e+07  3.19840117e+07  3.19840129e+07\n",
      "  3.19840146e+07  3.19840138e+07  3.19840110e+07  3.19840131e+07\n",
      "  3.19840115e+07  3.19840121e+07  3.19840132e+07  3.19840153e+07\n",
      "  3.19840151e+07  3.19840121e+07  3.19840123e+07  3.19840119e+07\n",
      "  3.19840144e+07  1.06371422e+01  3.19840095e+07  3.19840119e+07\n",
      "  3.19840125e+07  3.19840160e+07  3.19840135e+07  3.19840124e+07\n",
      "  3.19840145e+07  3.19840160e+07  9.35354996e+00  3.19840140e+07\n",
      "  3.19840123e+07  6.80929947e+00  3.19840142e+07  3.19840132e+07\n",
      "  3.19840139e+07  8.03223991e+00  3.19840145e+07  3.19840134e+07\n",
      "  3.19840147e+07  3.19840129e+07  8.44709778e+00  3.19840127e+07\n",
      "  3.19840137e+07  3.19840114e+07  3.19840115e+07  3.19840117e+07\n",
      "  3.19840116e+07  3.19840119e+07  3.19840128e+07  3.19840145e+07\n",
      "  3.19840145e+07  3.19840122e+07  8.30210686e+00  3.19840145e+07\n",
      "  3.19840149e+07  3.19840146e+07  3.19840127e+07  6.72592735e+00\n",
      "  3.19840161e+07  3.19840119e+07  3.19840127e+07  3.19840132e+07\n",
      "  3.19840118e+07  6.27262115e+00  3.19840151e+07  3.19840121e+07\n",
      "  3.19840120e+07  3.19840139e+07  7.12443161e+00  3.19840147e+07\n",
      "  2.96092033e+00  3.19840113e+07  8.10628128e+00  3.19840140e+07\n",
      "  3.19840143e+07  3.19840140e+07  8.40097618e+00  3.19840108e+07\n",
      "  3.19840139e+07  3.19840104e+07  3.19840109e+07  3.19840116e+07\n",
      "  3.19840119e+07  3.19840109e+07  1.04499969e+01  3.19840114e+07\n",
      "  3.19840117e+07  3.19840145e+07  7.96444702e+00  3.19840135e+07\n",
      "  3.19840131e+07  3.19840138e+07  3.19840137e+07  3.19840119e+07\n",
      "  3.19840154e+07  3.19840127e+07  3.19840122e+07  3.19840141e+07\n",
      "  3.19840108e+07  3.19840149e+07  3.19840140e+07  3.19840158e+07\n",
      "  3.19840112e+07  3.19840150e+07  1.12661629e+01  1.02249069e+01\n",
      "  3.19840117e+07  3.19840142e+07  3.19840140e+07  3.19840129e+07\n",
      "  3.19840141e+07  3.19840138e+07  1.07960014e+01  7.22923279e+00\n",
      "  1.24510002e+01  3.19840126e+07  1.07902451e+01  3.19840132e+07\n",
      "  3.19840147e+07  3.19840138e+07  3.19840134e+07  3.19840106e+07\n",
      "  3.19840105e+07  3.19840133e+07  3.19840118e+07  3.19840122e+07\n",
      "  1.09832573e+01  1.15038376e+01  3.19840119e+07  3.19840132e+07\n",
      "  3.19840133e+07  3.19840141e+07  3.19840115e+07  8.84092140e+00\n",
      "  3.19840133e+07  3.19840152e+07  3.19840119e+07  3.19840128e+07\n",
      "  9.08808899e+00  3.19840113e+07  3.19840110e+07  1.17048531e+01\n",
      "  3.19840146e+07  3.19840153e+07  3.19840125e+07  6.27846146e+00\n",
      "  8.12798119e+00  3.19840132e+07  3.19840128e+07  3.19840129e+07\n",
      "  3.19840126e+07  6.96157074e+00  3.19840124e+07  3.19840132e+07\n",
      "  3.19840166e+07  7.49733734e+00  3.19840137e+07  3.19840159e+07\n",
      "  3.19840113e+07  3.19840117e+07  3.19840146e+07  3.19840145e+07\n",
      "  3.19840110e+07  3.19840136e+07  3.19840108e+07  3.19840104e+07\n",
      "  1.10358849e+01  9.02484131e+00  3.19840124e+07  3.19840145e+07\n",
      "  3.19840144e+07  3.19840135e+07  3.19840147e+07  3.19840142e+07\n",
      "  9.54059792e+00  3.19840129e+07  3.19840126e+07  3.19840154e+07\n",
      "  3.19840152e+07  3.19840144e+07  9.88666534e+00  3.19840120e+07\n",
      "  3.19840118e+07  1.01802750e+01  1.06299286e+01  3.19840124e+07\n",
      "  3.19840145e+07  3.19840148e+07  3.19840117e+07  3.19840130e+07\n",
      "  3.19840129e+07  3.19840150e+07  3.19840115e+07  3.19840130e+07\n",
      "  3.19840142e+07  3.19840120e+07  8.83936310e+00  1.04131088e+01\n",
      "  3.19840145e+07  3.19840129e+07  3.19840133e+07  3.19840136e+07\n",
      "  3.19840127e+07  3.19840125e+07  3.19840136e+07  3.19840140e+07\n",
      "  3.19840142e+07  3.19840113e+07  3.19840116e+07  3.19840104e+07\n",
      "  8.48075676e+00  6.47335815e+00  3.19840145e+07  3.19840109e+07\n",
      "  3.19840131e+07  3.19840121e+07  3.19840153e+07  3.19840127e+07\n",
      "  3.19840119e+07  3.19840118e+07  3.19840118e+07  3.19840128e+07\n",
      "  3.19840116e+07  3.19840136e+07  9.45584869e+00  3.19840151e+07\n",
      "  3.19840137e+07  3.19840100e+07  3.19840139e+07  3.19840143e+07\n",
      "  3.19840138e+07  3.19840130e+07  3.19840112e+07  9.19816208e+00\n",
      "  3.19840124e+07  3.19840115e+07  3.19840118e+07  3.19840129e+07\n",
      "  9.10005569e+00  3.19840129e+07  3.19840135e+07  3.19840112e+07\n",
      "  3.19840149e+07  3.19840141e+07  3.19840140e+07  3.19840168e+07\n",
      "  3.19840158e+07  3.19840140e+07  3.19840121e+07  3.19840117e+07\n",
      "  3.19840099e+07  3.19840120e+07  3.19840099e+07  3.19840127e+07\n",
      "  3.19840130e+07  3.19840122e+07  3.19840107e+07  3.19840124e+07\n",
      "  3.19840140e+07  3.19840127e+07  3.19840144e+07  3.19840134e+07\n",
      "  3.19840153e+07  3.19840143e+07  3.19840127e+07  3.19840115e+07\n",
      "  3.19840109e+07  3.19840119e+07  3.19840144e+07  3.19840119e+07\n",
      "  3.19840163e+07  3.19840148e+07  3.19840152e+07  6.71737671e+00\n",
      "  9.83002472e+00  3.19840130e+07  3.19840109e+07  3.19840133e+07\n",
      "  3.19840136e+07  3.19840135e+07  3.19840127e+07  3.19840121e+07\n",
      "  3.19840129e+07  3.19840140e+07  3.19840146e+07  3.19840099e+07\n",
      "  3.19840152e+07  1.06969299e+01  3.19840105e+07  3.19840143e+07\n",
      "  3.19840114e+07  3.19840128e+07  3.19840145e+07  3.19840137e+07\n",
      "  7.49101257e+00  3.19840147e+07  3.19840133e+07  3.19840132e+07\n",
      "  3.19840125e+07  3.19840130e+07  3.19840152e+07  3.19840138e+07\n",
      "  3.19840097e+07  3.19840142e+07  3.19840153e+07  8.37299156e+00\n",
      "  3.19840118e+07  3.19840115e+07  3.19840135e+07  3.19840124e+07\n",
      "  3.19840117e+07  5.23341751e+00  9.39861679e+00  3.19840100e+07\n",
      "  3.19840136e+07  3.19840138e+07  3.19840155e+07  3.19840105e+07\n",
      "  3.19840138e+07  3.19840138e+07  3.19840128e+07  3.19840130e+07\n",
      "  3.19840123e+07  3.19840161e+07  3.19840143e+07  3.19840139e+07\n",
      "  3.19840128e+07  3.19840131e+07  3.19840138e+07  3.19840151e+07\n",
      "  3.19840163e+07  3.19840126e+07  3.19840148e+07  3.19840142e+07\n",
      "  3.19840124e+07  3.19840113e+07  3.19840103e+07  3.19840136e+07\n",
      "  3.19840115e+07  8.63463783e+00  3.19840117e+07  8.62641144e+00\n",
      "  3.19840096e+07  3.19840145e+07  3.19840149e+07  1.09673233e+01\n",
      "  3.19840123e+07  3.19840121e+07  1.28880615e+01  3.19840105e+07\n",
      "  3.19840137e+07  3.19840154e+07  3.19840124e+07  3.19840130e+07\n",
      "  3.19840135e+07  3.19840148e+07  3.19840142e+07  3.19840150e+07\n",
      "  3.19840133e+07  3.19840115e+07  1.23564186e+01  1.06511307e+01\n",
      "  3.19840143e+07  3.19840110e+07  7.64650917e+00  1.15199718e+01\n",
      "  3.19840164e+07  1.08201866e+01  6.94041443e+00  3.19840150e+07\n",
      "  9.70443535e+00  3.19840103e+07  3.19840143e+07  3.19840152e+07\n",
      "  3.19840140e+07  3.19840144e+07  3.19840159e+07  8.64275360e+00\n",
      "  8.08574677e+00  3.19840141e+07  3.19840136e+07  8.16899872e+00\n",
      "  3.19840140e+07  3.19840135e+07  8.59675217e+00  1.08805809e+01\n",
      "  1.09127598e+01  3.19840134e+07  3.19840135e+07  3.19840123e+07\n",
      "  8.64815521e+00  3.19840119e+07  3.19840129e+07  3.19840162e+07\n",
      "  3.19840134e+07  3.19840129e+07  3.19840125e+07  3.19840129e+07\n",
      "  3.19840145e+07  3.19840126e+07  3.19840122e+07  3.19840153e+07\n",
      "  3.19840138e+07  3.19840140e+07  3.19840131e+07  3.19840102e+07\n",
      "  3.19840150e+07  3.19840125e+07  3.19840124e+07  3.19840118e+07]\n"
     ]
    }
   ],
   "source": [
    "y_pred = model.predict(X_test)\n",
    "print(y_pred)"
   ]
  },
  {
   "cell_type": "markdown",
   "id": "e7f5c69a",
   "metadata": {
    "papermill": {
     "duration": 0.005552,
     "end_time": "2025-09-02T02:13:01.793958",
     "exception": false,
     "start_time": "2025-09-02T02:13:01.788406",
     "status": "completed"
    },
    "tags": []
   },
   "source": [
    "# Step 3: Evaluating the Model"
   ]
  },
  {
   "cell_type": "code",
   "execution_count": 13,
   "id": "231df126",
   "metadata": {
    "execution": {
     "iopub.execute_input": "2025-09-02T02:13:01.807809Z",
     "iopub.status.busy": "2025-09-02T02:13:01.807433Z",
     "iopub.status.idle": "2025-09-02T02:13:01.844074Z",
     "shell.execute_reply": "2025-09-02T02:13:01.842523Z"
    },
    "papermill": {
     "duration": 0.046042,
     "end_time": "2025-09-02T02:13:01.846503",
     "exception": false,
     "start_time": "2025-09-02T02:13:01.800461",
     "status": "completed"
    },
    "tags": []
   },
   "outputs": [
    {
     "name": "stdout",
     "output_type": "stream",
     "text": [
      "Mean Squared Error: 507092676551864896.00\n",
      "Root Mean Squared Error: 712104400.04\n",
      "R² Score: -201282108186838080.00\n"
     ]
    }
   ],
   "source": [
    "from sklearn.metrics import mean_squared_error, r2_score\n",
    "import numpy as np\n",
    "\n",
    "# Make predictions on the test set\n",
    "y_pred = model.predict(X_test)\n",
    "\n",
    "# Calculate evaluation metrics\n",
    "mse = mean_squared_error(y_test, y_pred)\n",
    "rmse = np.sqrt(mse)\n",
    "r2 = r2_score(y_test, y_pred)\n",
    "\n",
    "print(f\"Mean Squared Error: {mse:.2f}\")\n",
    "print(f\"Root Mean Squared Error: {rmse:.2f}\")\n",
    "print(f\"R² Score: {r2:.2f}\")"
   ]
  }
 ],
 "metadata": {
  "kaggle": {
   "accelerator": "none",
   "dataSources": [
    {
     "datasetId": 7847265,
     "sourceId": 12440152,
     "sourceType": "datasetVersion"
    }
   ],
   "dockerImageVersionId": 31089,
   "isGpuEnabled": false,
   "isInternetEnabled": true,
   "language": "python",
   "sourceType": "notebook"
  },
  "kernelspec": {
   "display_name": "Python 3",
   "language": "python",
   "name": "python3"
  },
  "language_info": {
   "codemirror_mode": {
    "name": "ipython",
    "version": 3
   },
   "file_extension": ".py",
   "mimetype": "text/x-python",
   "name": "python",
   "nbconvert_exporter": "python",
   "pygments_lexer": "ipython3",
   "version": "3.11.13"
  },
  "papermill": {
   "default_parameters": {},
   "duration": 18.388781,
   "end_time": "2025-09-02T02:13:02.876434",
   "environment_variables": {},
   "exception": null,
   "input_path": "__notebook__.ipynb",
   "output_path": "__notebook__.ipynb",
   "parameters": {},
   "start_time": "2025-09-02T02:12:44.487653",
   "version": "2.6.0"
  }
 },
 "nbformat": 4,
 "nbformat_minor": 5
}
