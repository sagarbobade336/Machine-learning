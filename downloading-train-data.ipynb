{
 "cells": [
  {
   "cell_type": "markdown",
   "id": "cf4910cc",
   "metadata": {
    "papermill": {
     "duration": 0.003307,
     "end_time": "2025-10-11T14:22:36.455036",
     "exception": false,
     "start_time": "2025-10-11T14:22:36.451729",
     "status": "completed"
    },
    "tags": []
   },
   "source": [
    "##  Basic Library imports"
   ]
  },
  {
   "cell_type": "code",
   "execution_count": 1,
   "id": "f02f3fe0",
   "metadata": {
    "execution": {
     "iopub.execute_input": "2025-10-11T14:22:36.462424Z",
     "iopub.status.busy": "2025-10-11T14:22:36.461618Z",
     "iopub.status.idle": "2025-10-11T14:22:38.537019Z",
     "shell.execute_reply": "2025-10-11T14:22:38.535715Z"
    },
    "papermill": {
     "duration": 2.080745,
     "end_time": "2025-10-11T14:22:38.538820",
     "exception": false,
     "start_time": "2025-10-11T14:22:36.458075",
     "status": "completed"
    },
    "tags": []
   },
   "outputs": [],
   "source": [
    "import os\n",
    "import pandas as pd \n",
    "import numpy as np"
   ]
  },
  {
   "cell_type": "markdown",
   "id": "c43d1042",
   "metadata": {
    "papermill": {
     "duration": 0.002883,
     "end_time": "2025-10-11T14:22:38.544538",
     "exception": false,
     "start_time": "2025-10-11T14:22:38.541655",
     "status": "completed"
    },
    "tags": []
   },
   "source": [
    "#  Read Dataset"
   ]
  },
  {
   "cell_type": "code",
   "execution_count": 2,
   "id": "1f371d64",
   "metadata": {
    "execution": {
     "iopub.execute_input": "2025-10-11T14:22:38.552577Z",
     "iopub.status.busy": "2025-10-11T14:22:38.552178Z",
     "iopub.status.idle": "2025-10-11T14:22:43.630493Z",
     "shell.execute_reply": "2025-10-11T14:22:43.629555Z"
    },
    "papermill": {
     "duration": 5.084731,
     "end_time": "2025-10-11T14:22:43.632393",
     "exception": false,
     "start_time": "2025-10-11T14:22:38.547662",
     "status": "completed"
    },
    "tags": []
   },
   "outputs": [],
   "source": [
    "DATASET_FOLDER = '/kaggle/input/amazon-ml-challenge-2025/student_resource/dataset'\n",
    "train = pd.read_csv(os.path.join(DATASET_FOLDER, 'train.csv'))\n",
    "test = pd.read_csv(os.path.join(DATASET_FOLDER, 'test.csv'))\n",
    "sample_test = pd.read_csv(os.path.join(DATASET_FOLDER, 'sample_test.csv'))\n",
    "sample_test_out = pd.read_csv(os.path.join(DATASET_FOLDER, 'sample_test_out.csv'))"
   ]
  },
  {
   "cell_type": "code",
   "execution_count": 3,
   "id": "a9099c00",
   "metadata": {
    "execution": {
     "iopub.execute_input": "2025-10-11T14:22:43.640355Z",
     "iopub.status.busy": "2025-10-11T14:22:43.640007Z",
     "iopub.status.idle": "2025-10-11T14:22:43.668105Z",
     "shell.execute_reply": "2025-10-11T14:22:43.666688Z"
    },
    "papermill": {
     "duration": 0.033629,
     "end_time": "2025-10-11T14:22:43.669797",
     "exception": false,
     "start_time": "2025-10-11T14:22:43.636168",
     "status": "completed"
    },
    "tags": []
   },
   "outputs": [
    {
     "data": {
      "text/html": [
       "<div>\n",
       "<style scoped>\n",
       "    .dataframe tbody tr th:only-of-type {\n",
       "        vertical-align: middle;\n",
       "    }\n",
       "\n",
       "    .dataframe tbody tr th {\n",
       "        vertical-align: top;\n",
       "    }\n",
       "\n",
       "    .dataframe thead th {\n",
       "        text-align: right;\n",
       "    }\n",
       "</style>\n",
       "<table border=\"1\" class=\"dataframe\">\n",
       "  <thead>\n",
       "    <tr style=\"text-align: right;\">\n",
       "      <th></th>\n",
       "      <th>sample_id</th>\n",
       "      <th>catalog_content</th>\n",
       "      <th>image_link</th>\n",
       "      <th>price</th>\n",
       "    </tr>\n",
       "  </thead>\n",
       "  <tbody>\n",
       "    <tr>\n",
       "      <th>0</th>\n",
       "      <td>33127</td>\n",
       "      <td>Item Name: La Victoria Green Taco Sauce Mild, ...</td>\n",
       "      <td>https://m.media-amazon.com/images/I/51mo8htwTH...</td>\n",
       "      <td>4.89</td>\n",
       "    </tr>\n",
       "    <tr>\n",
       "      <th>1</th>\n",
       "      <td>198967</td>\n",
       "      <td>Item Name: Salerno Cookies, The Original Butte...</td>\n",
       "      <td>https://m.media-amazon.com/images/I/71YtriIHAA...</td>\n",
       "      <td>13.12</td>\n",
       "    </tr>\n",
       "    <tr>\n",
       "      <th>2</th>\n",
       "      <td>261251</td>\n",
       "      <td>Item Name: Bear Creek Hearty Soup Bowl, Creamy...</td>\n",
       "      <td>https://m.media-amazon.com/images/I/51+PFEe-w-...</td>\n",
       "      <td>1.97</td>\n",
       "    </tr>\n",
       "    <tr>\n",
       "      <th>3</th>\n",
       "      <td>55858</td>\n",
       "      <td>Item Name: Judee’s Blue Cheese Powder 11.25 oz...</td>\n",
       "      <td>https://m.media-amazon.com/images/I/41mu0HAToD...</td>\n",
       "      <td>30.34</td>\n",
       "    </tr>\n",
       "    <tr>\n",
       "      <th>4</th>\n",
       "      <td>292686</td>\n",
       "      <td>Item Name: kedem Sherry Cooking Wine, 12.7 Oun...</td>\n",
       "      <td>https://m.media-amazon.com/images/I/41sA037+Qv...</td>\n",
       "      <td>66.49</td>\n",
       "    </tr>\n",
       "  </tbody>\n",
       "</table>\n",
       "</div>"
      ],
      "text/plain": [
       "   sample_id                                    catalog_content  \\\n",
       "0      33127  Item Name: La Victoria Green Taco Sauce Mild, ...   \n",
       "1     198967  Item Name: Salerno Cookies, The Original Butte...   \n",
       "2     261251  Item Name: Bear Creek Hearty Soup Bowl, Creamy...   \n",
       "3      55858  Item Name: Judee’s Blue Cheese Powder 11.25 oz...   \n",
       "4     292686  Item Name: kedem Sherry Cooking Wine, 12.7 Oun...   \n",
       "\n",
       "                                          image_link  price  \n",
       "0  https://m.media-amazon.com/images/I/51mo8htwTH...   4.89  \n",
       "1  https://m.media-amazon.com/images/I/71YtriIHAA...  13.12  \n",
       "2  https://m.media-amazon.com/images/I/51+PFEe-w-...   1.97  \n",
       "3  https://m.media-amazon.com/images/I/41mu0HAToD...  30.34  \n",
       "4  https://m.media-amazon.com/images/I/41sA037+Qv...  66.49  "
      ]
     },
     "execution_count": 3,
     "metadata": {},
     "output_type": "execute_result"
    }
   ],
   "source": [
    "train.head()"
   ]
  },
  {
   "cell_type": "code",
   "execution_count": 4,
   "id": "3bea5e67",
   "metadata": {
    "execution": {
     "iopub.execute_input": "2025-10-11T14:22:43.677239Z",
     "iopub.status.busy": "2025-10-11T14:22:43.676932Z",
     "iopub.status.idle": "2025-10-11T14:22:43.685076Z",
     "shell.execute_reply": "2025-10-11T14:22:43.683355Z"
    },
    "papermill": {
     "duration": 0.014058,
     "end_time": "2025-10-11T14:22:43.686919",
     "exception": false,
     "start_time": "2025-10-11T14:22:43.672861",
     "status": "completed"
    },
    "tags": []
   },
   "outputs": [
    {
     "name": "stdout",
     "output_type": "stream",
     "text": [
      "   sample_id                                    catalog_content  \\\n",
      "0      33127  Item Name: La Victoria Green Taco Sauce Mild, ...   \n",
      "1     198967  Item Name: Salerno Cookies, The Original Butte...   \n",
      "2     261251  Item Name: Bear Creek Hearty Soup Bowl, Creamy...   \n",
      "3      55858  Item Name: Judee’s Blue Cheese Powder 11.25 oz...   \n",
      "4     292686  Item Name: kedem Sherry Cooking Wine, 12.7 Oun...   \n",
      "\n",
      "                                          image_link  price  \n",
      "0  https://m.media-amazon.com/images/I/51mo8htwTH...   4.89  \n",
      "1  https://m.media-amazon.com/images/I/71YtriIHAA...  13.12  \n",
      "2  https://m.media-amazon.com/images/I/51+PFEe-w-...   1.97  \n",
      "3  https://m.media-amazon.com/images/I/41mu0HAToD...  30.34  \n",
      "4  https://m.media-amazon.com/images/I/41sA037+Qv...  66.49  \n"
     ]
    }
   ],
   "source": [
    "print(train.head())"
   ]
  },
  {
   "cell_type": "code",
   "execution_count": 5,
   "id": "0309604a",
   "metadata": {
    "execution": {
     "iopub.execute_input": "2025-10-11T14:22:43.694681Z",
     "iopub.status.busy": "2025-10-11T14:22:43.694373Z",
     "iopub.status.idle": "2025-10-11T14:22:43.704486Z",
     "shell.execute_reply": "2025-10-11T14:22:43.702958Z"
    },
    "papermill": {
     "duration": 0.015825,
     "end_time": "2025-10-11T14:22:43.706092",
     "exception": false,
     "start_time": "2025-10-11T14:22:43.690267",
     "status": "completed"
    },
    "tags": []
   },
   "outputs": [
    {
     "data": {
      "text/html": [
       "<div>\n",
       "<style scoped>\n",
       "    .dataframe tbody tr th:only-of-type {\n",
       "        vertical-align: middle;\n",
       "    }\n",
       "\n",
       "    .dataframe tbody tr th {\n",
       "        vertical-align: top;\n",
       "    }\n",
       "\n",
       "    .dataframe thead th {\n",
       "        text-align: right;\n",
       "    }\n",
       "</style>\n",
       "<table border=\"1\" class=\"dataframe\">\n",
       "  <thead>\n",
       "    <tr style=\"text-align: right;\">\n",
       "      <th></th>\n",
       "      <th>sample_id</th>\n",
       "      <th>catalog_content</th>\n",
       "      <th>image_link</th>\n",
       "    </tr>\n",
       "  </thead>\n",
       "  <tbody>\n",
       "    <tr>\n",
       "      <th>0</th>\n",
       "      <td>217392</td>\n",
       "      <td>Item Name: Gift Basket Village Gourmet Meat an...</td>\n",
       "      <td>https://m.media-amazon.com/images/I/91GB1wC6Ob...</td>\n",
       "    </tr>\n",
       "    <tr>\n",
       "      <th>1</th>\n",
       "      <td>209156</td>\n",
       "      <td>Item Name: NPG Dried Lotus Seeds 16 Oz, Uncook...</td>\n",
       "      <td>https://m.media-amazon.com/images/I/81VnzF1vkv...</td>\n",
       "    </tr>\n",
       "    <tr>\n",
       "      <th>2</th>\n",
       "      <td>262333</td>\n",
       "      <td>Item Name: Annies Homegrown Macaroni and Chees...</td>\n",
       "      <td>https://m.media-amazon.com/images/I/51aCDMHMnI...</td>\n",
       "    </tr>\n",
       "    <tr>\n",
       "      <th>3</th>\n",
       "      <td>295979</td>\n",
       "      <td>Item Name: Bear Creek Country Kitchens Creamy ...</td>\n",
       "      <td>https://m.media-amazon.com/images/I/71dzRyLGPi...</td>\n",
       "    </tr>\n",
       "    <tr>\n",
       "      <th>4</th>\n",
       "      <td>50604</td>\n",
       "      <td>Item Name: Japanese Kelp Kombu Umami Soup Stoc...</td>\n",
       "      <td>https://m.media-amazon.com/images/I/71Yu21cGwr...</td>\n",
       "    </tr>\n",
       "  </tbody>\n",
       "</table>\n",
       "</div>"
      ],
      "text/plain": [
       "   sample_id                                    catalog_content  \\\n",
       "0     217392  Item Name: Gift Basket Village Gourmet Meat an...   \n",
       "1     209156  Item Name: NPG Dried Lotus Seeds 16 Oz, Uncook...   \n",
       "2     262333  Item Name: Annies Homegrown Macaroni and Chees...   \n",
       "3     295979  Item Name: Bear Creek Country Kitchens Creamy ...   \n",
       "4      50604  Item Name: Japanese Kelp Kombu Umami Soup Stoc...   \n",
       "\n",
       "                                          image_link  \n",
       "0  https://m.media-amazon.com/images/I/91GB1wC6Ob...  \n",
       "1  https://m.media-amazon.com/images/I/81VnzF1vkv...  \n",
       "2  https://m.media-amazon.com/images/I/51aCDMHMnI...  \n",
       "3  https://m.media-amazon.com/images/I/71dzRyLGPi...  \n",
       "4  https://m.media-amazon.com/images/I/71Yu21cGwr...  "
      ]
     },
     "execution_count": 5,
     "metadata": {},
     "output_type": "execute_result"
    }
   ],
   "source": [
    "sample_test.head()"
   ]
  },
  {
   "cell_type": "code",
   "execution_count": 6,
   "id": "3ed5c0fe",
   "metadata": {
    "execution": {
     "iopub.execute_input": "2025-10-11T14:22:43.714222Z",
     "iopub.status.busy": "2025-10-11T14:22:43.713864Z",
     "iopub.status.idle": "2025-10-11T14:22:43.721081Z",
     "shell.execute_reply": "2025-10-11T14:22:43.719935Z"
    },
    "papermill": {
     "duration": 0.012827,
     "end_time": "2025-10-11T14:22:43.722477",
     "exception": false,
     "start_time": "2025-10-11T14:22:43.709650",
     "status": "completed"
    },
    "tags": []
   },
   "outputs": [
    {
     "name": "stdout",
     "output_type": "stream",
     "text": [
      "   sample_id                                    catalog_content  \\\n",
      "0     217392  Item Name: Gift Basket Village Gourmet Meat an...   \n",
      "1     209156  Item Name: NPG Dried Lotus Seeds 16 Oz, Uncook...   \n",
      "2     262333  Item Name: Annies Homegrown Macaroni and Chees...   \n",
      "3     295979  Item Name: Bear Creek Country Kitchens Creamy ...   \n",
      "4      50604  Item Name: Japanese Kelp Kombu Umami Soup Stoc...   \n",
      "\n",
      "                                          image_link  \n",
      "0  https://m.media-amazon.com/images/I/91GB1wC6Ob...  \n",
      "1  https://m.media-amazon.com/images/I/81VnzF1vkv...  \n",
      "2  https://m.media-amazon.com/images/I/51aCDMHMnI...  \n",
      "3  https://m.media-amazon.com/images/I/71dzRyLGPi...  \n",
      "4  https://m.media-amazon.com/images/I/71Yu21cGwr...  \n"
     ]
    }
   ],
   "source": [
    "print(sample_test.head())"
   ]
  },
  {
   "cell_type": "code",
   "execution_count": 7,
   "id": "df7c1995",
   "metadata": {
    "execution": {
     "iopub.execute_input": "2025-10-11T14:22:43.731110Z",
     "iopub.status.busy": "2025-10-11T14:22:43.730420Z",
     "iopub.status.idle": "2025-10-11T14:22:43.740251Z",
     "shell.execute_reply": "2025-10-11T14:22:43.739181Z"
    },
    "papermill": {
     "duration": 0.015947,
     "end_time": "2025-10-11T14:22:43.741947",
     "exception": false,
     "start_time": "2025-10-11T14:22:43.726000",
     "status": "completed"
    },
    "tags": []
   },
   "outputs": [
    {
     "data": {
      "text/html": [
       "<div>\n",
       "<style scoped>\n",
       "    .dataframe tbody tr th:only-of-type {\n",
       "        vertical-align: middle;\n",
       "    }\n",
       "\n",
       "    .dataframe tbody tr th {\n",
       "        vertical-align: top;\n",
       "    }\n",
       "\n",
       "    .dataframe thead th {\n",
       "        text-align: right;\n",
       "    }\n",
       "</style>\n",
       "<table border=\"1\" class=\"dataframe\">\n",
       "  <thead>\n",
       "    <tr style=\"text-align: right;\">\n",
       "      <th></th>\n",
       "      <th>sample_id</th>\n",
       "      <th>price</th>\n",
       "    </tr>\n",
       "  </thead>\n",
       "  <tbody>\n",
       "    <tr>\n",
       "      <th>0</th>\n",
       "      <td>217392</td>\n",
       "      <td>62.080008</td>\n",
       "    </tr>\n",
       "    <tr>\n",
       "      <th>1</th>\n",
       "      <td>209156</td>\n",
       "      <td>17.189763</td>\n",
       "    </tr>\n",
       "    <tr>\n",
       "      <th>2</th>\n",
       "      <td>262333</td>\n",
       "      <td>96.501410</td>\n",
       "    </tr>\n",
       "    <tr>\n",
       "      <th>3</th>\n",
       "      <td>295979</td>\n",
       "      <td>5.652474</td>\n",
       "    </tr>\n",
       "    <tr>\n",
       "      <th>4</th>\n",
       "      <td>50604</td>\n",
       "      <td>23.794780</td>\n",
       "    </tr>\n",
       "  </tbody>\n",
       "</table>\n",
       "</div>"
      ],
      "text/plain": [
       "   sample_id      price\n",
       "0     217392  62.080008\n",
       "1     209156  17.189763\n",
       "2     262333  96.501410\n",
       "3     295979   5.652474\n",
       "4      50604  23.794780"
      ]
     },
     "execution_count": 7,
     "metadata": {},
     "output_type": "execute_result"
    }
   ],
   "source": [
    "sample_test_out.head()"
   ]
  },
  {
   "cell_type": "markdown",
   "id": "6abba474",
   "metadata": {
    "papermill": {
     "duration": 0.003695,
     "end_time": "2025-10-11T14:22:43.749899",
     "exception": false,
     "start_time": "2025-10-11T14:22:43.746204",
     "status": "completed"
    },
    "tags": []
   },
   "source": [
    "# Download code from utils.py"
   ]
  },
  {
   "cell_type": "code",
   "execution_count": 8,
   "id": "42b4d9c6",
   "metadata": {
    "execution": {
     "iopub.execute_input": "2025-10-11T14:22:43.758291Z",
     "iopub.status.busy": "2025-10-11T14:22:43.757999Z",
     "iopub.status.idle": "2025-10-11T14:22:43.874097Z",
     "shell.execute_reply": "2025-10-11T14:22:43.873124Z"
    },
    "papermill": {
     "duration": 0.122137,
     "end_time": "2025-10-11T14:22:43.875816",
     "exception": false,
     "start_time": "2025-10-11T14:22:43.753679",
     "status": "completed"
    },
    "tags": []
   },
   "outputs": [],
   "source": [
    "import re\n",
    "import os\n",
    "import pandas as pd\n",
    "import multiprocessing\n",
    "from time import time as timer\n",
    "from tqdm import tqdm\n",
    "import numpy as np\n",
    "from pathlib import Path\n",
    "from functools import partial\n",
    "import requests\n",
    "import urllib\n",
    "\n",
    "def download_image(image_link, savefolder):\n",
    "    if(isinstance(image_link, str)):\n",
    "        filename = Path(image_link).name\n",
    "        image_save_path = os.path.join(savefolder, filename)\n",
    "        if(not os.path.exists(image_save_path)):\n",
    "            try:\n",
    "                urllib.request.urlretrieve(image_link, image_save_path)    \n",
    "            except Exception as ex:\n",
    "                print('Warning: Not able to download - {}\\n{}'.format(image_link, ex))\n",
    "        else:\n",
    "            return\n",
    "    return\n",
    "\n",
    "def download_images(image_links, download_folder):\n",
    "    if not os.path.exists(download_folder):\n",
    "        os.makedirs(download_folder)\n",
    "    results = []\n",
    "    download_image_partial = partial(download_image, savefolder=download_folder)\n",
    "    with multiprocessing.Pool(100) as pool:\n",
    "        for result in tqdm(pool.imap(download_image_partial, image_links), total=len(image_links)):\n",
    "            results.append(result)\n",
    "        pool.close()\n",
    "        pool.join()\n"
   ]
  },
  {
   "cell_type": "code",
   "execution_count": 9,
   "id": "da9ab026",
   "metadata": {
    "execution": {
     "iopub.execute_input": "2025-10-11T14:22:43.884292Z",
     "iopub.status.busy": "2025-10-11T14:22:43.883992Z",
     "iopub.status.idle": "2025-10-11T14:29:10.589866Z",
     "shell.execute_reply": "2025-10-11T14:29:10.588340Z"
    },
    "papermill": {
     "duration": 386.712907,
     "end_time": "2025-10-11T14:29:10.592354",
     "exception": false,
     "start_time": "2025-10-11T14:22:43.879447",
     "status": "completed"
    },
    "tags": []
   },
   "outputs": [
    {
     "name": "stderr",
     "output_type": "stream",
     "text": [
      " 51%|█████     | 38067/75000 [03:08<00:50, 736.35it/s]"
     ]
    },
    {
     "name": "stdout",
     "output_type": "stream",
     "text": [
      "Warning: Not able to download - https://m.media-amazon.com/images/I/51mjZYDYjyL.jpg\n",
      "HTTP Error 404: Not Found\n"
     ]
    },
    {
     "name": "stderr",
     "output_type": "stream",
     "text": [
      "100%|██████████| 75000/75000 [06:24<00:00, 194.93it/s]\n"
     ]
    }
   ],
   "source": [
    "download_images(train['image_link'], '/kaggle/working/train/')"
   ]
  },
  {
   "cell_type": "code",
   "execution_count": 10,
   "id": "fdd91fdd",
   "metadata": {
    "execution": {
     "iopub.execute_input": "2025-10-11T14:29:10.671439Z",
     "iopub.status.busy": "2025-10-11T14:29:10.671106Z",
     "iopub.status.idle": "2025-10-11T14:29:13.757229Z",
     "shell.execute_reply": "2025-10-11T14:29:13.755684Z"
    },
    "papermill": {
     "duration": 3.128729,
     "end_time": "2025-10-11T14:29:13.759221",
     "exception": false,
     "start_time": "2025-10-11T14:29:10.630492",
     "status": "completed"
    },
    "tags": []
   },
   "outputs": [
    {
     "name": "stderr",
     "output_type": "stream",
     "text": [
      "100%|██████████| 100/100 [00:01<00:00, 68.27it/s]\n"
     ]
    }
   ],
   "source": [
    "download_images(sample_test['image_link'], '/kaggle/working/sample_test')"
   ]
  },
  {
   "cell_type": "code",
   "execution_count": null,
   "id": "4487bd93",
   "metadata": {
    "papermill": {
     "duration": 0.037959,
     "end_time": "2025-10-11T14:29:13.835107",
     "exception": false,
     "start_time": "2025-10-11T14:29:13.797148",
     "status": "completed"
    },
    "tags": []
   },
   "outputs": [],
   "source": []
  }
 ],
 "metadata": {
  "kaggle": {
   "accelerator": "none",
   "dataSources": [
    {
     "datasetId": 8449859,
     "sourceId": 13328179,
     "sourceType": "datasetVersion"
    }
   ],
   "isGpuEnabled": false,
   "isInternetEnabled": true,
   "language": "python",
   "sourceType": "notebook"
  },
  "kernelspec": {
   "display_name": "Python 3",
   "language": "python",
   "name": "python3"
  },
  "language_info": {
   "codemirror_mode": {
    "name": "ipython",
    "version": 3
   },
   "file_extension": ".py",
   "mimetype": "text/x-python",
   "name": "python",
   "nbconvert_exporter": "python",
   "pygments_lexer": "ipython3",
   "version": "3.11.13"
  },
  "papermill": {
   "default_parameters": {},
   "duration": 403.577631,
   "end_time": "2025-10-11T14:29:14.695489",
   "environment_variables": {},
   "exception": null,
   "input_path": "__notebook__.ipynb",
   "output_path": "__notebook__.ipynb",
   "parameters": {},
   "start_time": "2025-10-11T14:22:31.117858",
   "version": "2.6.0"
  }
 },
 "nbformat": 4,
 "nbformat_minor": 5
}
