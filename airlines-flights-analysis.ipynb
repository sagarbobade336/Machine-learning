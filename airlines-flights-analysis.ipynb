{
 "cells": [
  {
   "cell_type": "code",
   "execution_count": 1,
   "id": "6eaeca94",
   "metadata": {
    "_cell_guid": "b1076dfc-b9ad-4769-8c92-a6c4dae69d19",
    "_uuid": "8f2839f25d086af736a60e9eeb907d3b93b6e0e5",
    "execution": {
     "iopub.execute_input": "2025-08-23T05:07:51.876666Z",
     "iopub.status.busy": "2025-08-23T05:07:51.876358Z",
     "iopub.status.idle": "2025-08-23T05:07:53.840156Z",
     "shell.execute_reply": "2025-08-23T05:07:53.838389Z"
    },
    "papermill": {
     "duration": 1.970745,
     "end_time": "2025-08-23T05:07:53.842172",
     "exception": false,
     "start_time": "2025-08-23T05:07:51.871427",
     "status": "completed"
    },
    "tags": []
   },
   "outputs": [
    {
     "name": "stdout",
     "output_type": "stream",
     "text": [
      "/kaggle/input/airlines-flights-data/airlines_flights_data.csv\n"
     ]
    }
   ],
   "source": [
    "# This Python 3 environment comes with many helpful analytics libraries installed\n",
    "# It is defined by the kaggle/python Docker image: https://github.com/kaggle/docker-python\n",
    "# For example, here's several helpful packages to load\n",
    "\n",
    "import numpy as np # linear algebra\n",
    "import pandas as pd # data processing, CSV file I/O (e.g. pd.read_csv)\n",
    "\n",
    "# Input data files are available in the read-only \"../input/\" directory\n",
    "# For example, running this (by clicking run or pressing Shift+Enter) will list all files under the input directory\n",
    "\n",
    "import os\n",
    "for dirname, _, filenames in os.walk('/kaggle/input'):\n",
    "    for filename in filenames:\n",
    "        print(os.path.join(dirname, filename))\n",
    "\n",
    "# You can write up to 20GB to the current directory (/kaggle/working/) that gets preserved as output when you create a version using \"Save & Run All\" \n",
    "# You can also write temporary files to /kaggle/temp/, but they won't be saved outside of the current session"
   ]
  },
  {
   "cell_type": "code",
   "execution_count": 2,
   "id": "2ca5962e",
   "metadata": {
    "execution": {
     "iopub.execute_input": "2025-08-23T05:07:53.850793Z",
     "iopub.status.busy": "2025-08-23T05:07:53.849928Z",
     "iopub.status.idle": "2025-08-23T05:07:54.485387Z",
     "shell.execute_reply": "2025-08-23T05:07:54.484232Z"
    },
    "papermill": {
     "duration": 0.641325,
     "end_time": "2025-08-23T05:07:54.487172",
     "exception": false,
     "start_time": "2025-08-23T05:07:53.845847",
     "status": "completed"
    },
    "tags": []
   },
   "outputs": [],
   "source": [
    "df = pd.read_csv('/kaggle/input/airlines-flights-data/airlines_flights_data.csv')"
   ]
  },
  {
   "cell_type": "code",
   "execution_count": 3,
   "id": "5231f342",
   "metadata": {
    "execution": {
     "iopub.execute_input": "2025-08-23T05:07:54.497257Z",
     "iopub.status.busy": "2025-08-23T05:07:54.496902Z",
     "iopub.status.idle": "2025-08-23T05:07:54.524157Z",
     "shell.execute_reply": "2025-08-23T05:07:54.523203Z"
    },
    "papermill": {
     "duration": 0.033933,
     "end_time": "2025-08-23T05:07:54.525673",
     "exception": false,
     "start_time": "2025-08-23T05:07:54.491740",
     "status": "completed"
    },
    "tags": []
   },
   "outputs": [
    {
     "data": {
      "text/html": [
       "<div>\n",
       "<style scoped>\n",
       "    .dataframe tbody tr th:only-of-type {\n",
       "        vertical-align: middle;\n",
       "    }\n",
       "\n",
       "    .dataframe tbody tr th {\n",
       "        vertical-align: top;\n",
       "    }\n",
       "\n",
       "    .dataframe thead th {\n",
       "        text-align: right;\n",
       "    }\n",
       "</style>\n",
       "<table border=\"1\" class=\"dataframe\">\n",
       "  <thead>\n",
       "    <tr style=\"text-align: right;\">\n",
       "      <th></th>\n",
       "      <th>index</th>\n",
       "      <th>airline</th>\n",
       "      <th>flight</th>\n",
       "      <th>source_city</th>\n",
       "      <th>departure_time</th>\n",
       "      <th>stops</th>\n",
       "      <th>arrival_time</th>\n",
       "      <th>destination_city</th>\n",
       "      <th>class</th>\n",
       "      <th>duration</th>\n",
       "      <th>days_left</th>\n",
       "      <th>price</th>\n",
       "    </tr>\n",
       "  </thead>\n",
       "  <tbody>\n",
       "    <tr>\n",
       "      <th>0</th>\n",
       "      <td>0</td>\n",
       "      <td>SpiceJet</td>\n",
       "      <td>SG-8709</td>\n",
       "      <td>Delhi</td>\n",
       "      <td>Evening</td>\n",
       "      <td>zero</td>\n",
       "      <td>Night</td>\n",
       "      <td>Mumbai</td>\n",
       "      <td>Economy</td>\n",
       "      <td>2.17</td>\n",
       "      <td>1</td>\n",
       "      <td>5953</td>\n",
       "    </tr>\n",
       "    <tr>\n",
       "      <th>1</th>\n",
       "      <td>1</td>\n",
       "      <td>SpiceJet</td>\n",
       "      <td>SG-8157</td>\n",
       "      <td>Delhi</td>\n",
       "      <td>Early_Morning</td>\n",
       "      <td>zero</td>\n",
       "      <td>Morning</td>\n",
       "      <td>Mumbai</td>\n",
       "      <td>Economy</td>\n",
       "      <td>2.33</td>\n",
       "      <td>1</td>\n",
       "      <td>5953</td>\n",
       "    </tr>\n",
       "    <tr>\n",
       "      <th>2</th>\n",
       "      <td>2</td>\n",
       "      <td>AirAsia</td>\n",
       "      <td>I5-764</td>\n",
       "      <td>Delhi</td>\n",
       "      <td>Early_Morning</td>\n",
       "      <td>zero</td>\n",
       "      <td>Early_Morning</td>\n",
       "      <td>Mumbai</td>\n",
       "      <td>Economy</td>\n",
       "      <td>2.17</td>\n",
       "      <td>1</td>\n",
       "      <td>5956</td>\n",
       "    </tr>\n",
       "    <tr>\n",
       "      <th>3</th>\n",
       "      <td>3</td>\n",
       "      <td>Vistara</td>\n",
       "      <td>UK-995</td>\n",
       "      <td>Delhi</td>\n",
       "      <td>Morning</td>\n",
       "      <td>zero</td>\n",
       "      <td>Afternoon</td>\n",
       "      <td>Mumbai</td>\n",
       "      <td>Economy</td>\n",
       "      <td>2.25</td>\n",
       "      <td>1</td>\n",
       "      <td>5955</td>\n",
       "    </tr>\n",
       "    <tr>\n",
       "      <th>4</th>\n",
       "      <td>4</td>\n",
       "      <td>Vistara</td>\n",
       "      <td>UK-963</td>\n",
       "      <td>Delhi</td>\n",
       "      <td>Morning</td>\n",
       "      <td>zero</td>\n",
       "      <td>Morning</td>\n",
       "      <td>Mumbai</td>\n",
       "      <td>Economy</td>\n",
       "      <td>2.33</td>\n",
       "      <td>1</td>\n",
       "      <td>5955</td>\n",
       "    </tr>\n",
       "  </tbody>\n",
       "</table>\n",
       "</div>"
      ],
      "text/plain": [
       "   index   airline   flight source_city departure_time stops   arrival_time  \\\n",
       "0      0  SpiceJet  SG-8709       Delhi        Evening  zero          Night   \n",
       "1      1  SpiceJet  SG-8157       Delhi  Early_Morning  zero        Morning   \n",
       "2      2   AirAsia   I5-764       Delhi  Early_Morning  zero  Early_Morning   \n",
       "3      3   Vistara   UK-995       Delhi        Morning  zero      Afternoon   \n",
       "4      4   Vistara   UK-963       Delhi        Morning  zero        Morning   \n",
       "\n",
       "  destination_city    class  duration  days_left  price  \n",
       "0           Mumbai  Economy      2.17          1   5953  \n",
       "1           Mumbai  Economy      2.33          1   5953  \n",
       "2           Mumbai  Economy      2.17          1   5956  \n",
       "3           Mumbai  Economy      2.25          1   5955  \n",
       "4           Mumbai  Economy      2.33          1   5955  "
      ]
     },
     "execution_count": 3,
     "metadata": {},
     "output_type": "execute_result"
    }
   ],
   "source": [
    "df.head()"
   ]
  },
  {
   "cell_type": "code",
   "execution_count": 4,
   "id": "117d1267",
   "metadata": {
    "execution": {
     "iopub.execute_input": "2025-08-23T05:07:54.534234Z",
     "iopub.status.busy": "2025-08-23T05:07:54.533881Z",
     "iopub.status.idle": "2025-08-23T05:07:54.571361Z",
     "shell.execute_reply": "2025-08-23T05:07:54.570497Z"
    },
    "papermill": {
     "duration": 0.043878,
     "end_time": "2025-08-23T05:07:54.573230",
     "exception": false,
     "start_time": "2025-08-23T05:07:54.529352",
     "status": "completed"
    },
    "tags": []
   },
   "outputs": [],
   "source": [
    "df.drop(columns=['index'], inplace=True)"
   ]
  },
  {
   "cell_type": "code",
   "execution_count": 5,
   "id": "c386168c",
   "metadata": {
    "execution": {
     "iopub.execute_input": "2025-08-23T05:07:54.581734Z",
     "iopub.status.busy": "2025-08-23T05:07:54.581035Z",
     "iopub.status.idle": "2025-08-23T05:07:54.593567Z",
     "shell.execute_reply": "2025-08-23T05:07:54.592455Z"
    },
    "papermill": {
     "duration": 0.018206,
     "end_time": "2025-08-23T05:07:54.595104",
     "exception": false,
     "start_time": "2025-08-23T05:07:54.576898",
     "status": "completed"
    },
    "tags": []
   },
   "outputs": [
    {
     "data": {
      "text/html": [
       "<div>\n",
       "<style scoped>\n",
       "    .dataframe tbody tr th:only-of-type {\n",
       "        vertical-align: middle;\n",
       "    }\n",
       "\n",
       "    .dataframe tbody tr th {\n",
       "        vertical-align: top;\n",
       "    }\n",
       "\n",
       "    .dataframe thead th {\n",
       "        text-align: right;\n",
       "    }\n",
       "</style>\n",
       "<table border=\"1\" class=\"dataframe\">\n",
       "  <thead>\n",
       "    <tr style=\"text-align: right;\">\n",
       "      <th></th>\n",
       "      <th>airline</th>\n",
       "      <th>flight</th>\n",
       "      <th>source_city</th>\n",
       "      <th>departure_time</th>\n",
       "      <th>stops</th>\n",
       "      <th>arrival_time</th>\n",
       "      <th>destination_city</th>\n",
       "      <th>class</th>\n",
       "      <th>duration</th>\n",
       "      <th>days_left</th>\n",
       "      <th>price</th>\n",
       "    </tr>\n",
       "  </thead>\n",
       "  <tbody>\n",
       "    <tr>\n",
       "      <th>0</th>\n",
       "      <td>SpiceJet</td>\n",
       "      <td>SG-8709</td>\n",
       "      <td>Delhi</td>\n",
       "      <td>Evening</td>\n",
       "      <td>zero</td>\n",
       "      <td>Night</td>\n",
       "      <td>Mumbai</td>\n",
       "      <td>Economy</td>\n",
       "      <td>2.17</td>\n",
       "      <td>1</td>\n",
       "      <td>5953</td>\n",
       "    </tr>\n",
       "    <tr>\n",
       "      <th>1</th>\n",
       "      <td>SpiceJet</td>\n",
       "      <td>SG-8157</td>\n",
       "      <td>Delhi</td>\n",
       "      <td>Early_Morning</td>\n",
       "      <td>zero</td>\n",
       "      <td>Morning</td>\n",
       "      <td>Mumbai</td>\n",
       "      <td>Economy</td>\n",
       "      <td>2.33</td>\n",
       "      <td>1</td>\n",
       "      <td>5953</td>\n",
       "    </tr>\n",
       "    <tr>\n",
       "      <th>2</th>\n",
       "      <td>AirAsia</td>\n",
       "      <td>I5-764</td>\n",
       "      <td>Delhi</td>\n",
       "      <td>Early_Morning</td>\n",
       "      <td>zero</td>\n",
       "      <td>Early_Morning</td>\n",
       "      <td>Mumbai</td>\n",
       "      <td>Economy</td>\n",
       "      <td>2.17</td>\n",
       "      <td>1</td>\n",
       "      <td>5956</td>\n",
       "    </tr>\n",
       "    <tr>\n",
       "      <th>3</th>\n",
       "      <td>Vistara</td>\n",
       "      <td>UK-995</td>\n",
       "      <td>Delhi</td>\n",
       "      <td>Morning</td>\n",
       "      <td>zero</td>\n",
       "      <td>Afternoon</td>\n",
       "      <td>Mumbai</td>\n",
       "      <td>Economy</td>\n",
       "      <td>2.25</td>\n",
       "      <td>1</td>\n",
       "      <td>5955</td>\n",
       "    </tr>\n",
       "    <tr>\n",
       "      <th>4</th>\n",
       "      <td>Vistara</td>\n",
       "      <td>UK-963</td>\n",
       "      <td>Delhi</td>\n",
       "      <td>Morning</td>\n",
       "      <td>zero</td>\n",
       "      <td>Morning</td>\n",
       "      <td>Mumbai</td>\n",
       "      <td>Economy</td>\n",
       "      <td>2.33</td>\n",
       "      <td>1</td>\n",
       "      <td>5955</td>\n",
       "    </tr>\n",
       "  </tbody>\n",
       "</table>\n",
       "</div>"
      ],
      "text/plain": [
       "    airline   flight source_city departure_time stops   arrival_time  \\\n",
       "0  SpiceJet  SG-8709       Delhi        Evening  zero          Night   \n",
       "1  SpiceJet  SG-8157       Delhi  Early_Morning  zero        Morning   \n",
       "2   AirAsia   I5-764       Delhi  Early_Morning  zero  Early_Morning   \n",
       "3   Vistara   UK-995       Delhi        Morning  zero      Afternoon   \n",
       "4   Vistara   UK-963       Delhi        Morning  zero        Morning   \n",
       "\n",
       "  destination_city    class  duration  days_left  price  \n",
       "0           Mumbai  Economy      2.17          1   5953  \n",
       "1           Mumbai  Economy      2.33          1   5953  \n",
       "2           Mumbai  Economy      2.17          1   5956  \n",
       "3           Mumbai  Economy      2.25          1   5955  \n",
       "4           Mumbai  Economy      2.33          1   5955  "
      ]
     },
     "execution_count": 5,
     "metadata": {},
     "output_type": "execute_result"
    }
   ],
   "source": [
    "df.head()"
   ]
  },
  {
   "cell_type": "code",
   "execution_count": 6,
   "id": "2100abf6",
   "metadata": {
    "execution": {
     "iopub.execute_input": "2025-08-23T05:07:54.604209Z",
     "iopub.status.busy": "2025-08-23T05:07:54.603888Z",
     "iopub.status.idle": "2025-08-23T05:07:54.727635Z",
     "shell.execute_reply": "2025-08-23T05:07:54.726605Z"
    },
    "papermill": {
     "duration": 0.13011,
     "end_time": "2025-08-23T05:07:54.729298",
     "exception": false,
     "start_time": "2025-08-23T05:07:54.599188",
     "status": "completed"
    },
    "tags": []
   },
   "outputs": [
    {
     "name": "stdout",
     "output_type": "stream",
     "text": [
      "<class 'pandas.core.frame.DataFrame'>\n",
      "RangeIndex: 300153 entries, 0 to 300152\n",
      "Data columns (total 11 columns):\n",
      " #   Column            Non-Null Count   Dtype  \n",
      "---  ------            --------------   -----  \n",
      " 0   airline           300153 non-null  object \n",
      " 1   flight            300153 non-null  object \n",
      " 2   source_city       300153 non-null  object \n",
      " 3   departure_time    300153 non-null  object \n",
      " 4   stops             300153 non-null  object \n",
      " 5   arrival_time      300153 non-null  object \n",
      " 6   destination_city  300153 non-null  object \n",
      " 7   class             300153 non-null  object \n",
      " 8   duration          300153 non-null  float64\n",
      " 9   days_left         300153 non-null  int64  \n",
      " 10  price             300153 non-null  int64  \n",
      "dtypes: float64(1), int64(2), object(8)\n",
      "memory usage: 25.2+ MB\n"
     ]
    }
   ],
   "source": [
    "df.info()"
   ]
  },
  {
   "cell_type": "code",
   "execution_count": 7,
   "id": "70079ae1",
   "metadata": {
    "execution": {
     "iopub.execute_input": "2025-08-23T05:07:54.738625Z",
     "iopub.status.busy": "2025-08-23T05:07:54.738088Z",
     "iopub.status.idle": "2025-08-23T05:07:54.770638Z",
     "shell.execute_reply": "2025-08-23T05:07:54.769690Z"
    },
    "papermill": {
     "duration": 0.038756,
     "end_time": "2025-08-23T05:07:54.772162",
     "exception": false,
     "start_time": "2025-08-23T05:07:54.733406",
     "status": "completed"
    },
    "tags": []
   },
   "outputs": [
    {
     "name": "stdout",
     "output_type": "stream",
     "text": [
      "     airline   count\n",
      "0    AirAsia   16098\n",
      "1  Air_India   80892\n",
      "2   GO_FIRST   23173\n",
      "3     Indigo   43120\n",
      "4   SpiceJet    9011\n",
      "5    Vistara  127859\n"
     ]
    }
   ],
   "source": [
    "airline_wise_flight_counts = df.groupby('airline')['airline'].count().reset_index(name='count')\n",
    "print(airline_wise_flight_counts)"
   ]
  },
  {
   "cell_type": "code",
   "execution_count": 8,
   "id": "443f213e",
   "metadata": {
    "execution": {
     "iopub.execute_input": "2025-08-23T05:07:54.780459Z",
     "iopub.status.busy": "2025-08-23T05:07:54.780162Z",
     "iopub.status.idle": "2025-08-23T05:07:54.784496Z",
     "shell.execute_reply": "2025-08-23T05:07:54.783613Z"
    },
    "papermill": {
     "duration": 0.010461,
     "end_time": "2025-08-23T05:07:54.786282",
     "exception": false,
     "start_time": "2025-08-23T05:07:54.775821",
     "status": "completed"
    },
    "tags": []
   },
   "outputs": [],
   "source": [
    "import matplotlib.pyplot as plt"
   ]
  },
  {
   "cell_type": "code",
   "execution_count": 9,
   "id": "74d0f09e",
   "metadata": {
    "execution": {
     "iopub.execute_input": "2025-08-23T05:07:54.795274Z",
     "iopub.status.busy": "2025-08-23T05:07:54.794953Z",
     "iopub.status.idle": "2025-08-23T05:07:54.799210Z",
     "shell.execute_reply": "2025-08-23T05:07:54.798370Z"
    },
    "papermill": {
     "duration": 0.010314,
     "end_time": "2025-08-23T05:07:54.800777",
     "exception": false,
     "start_time": "2025-08-23T05:07:54.790463",
     "status": "completed"
    },
    "tags": []
   },
   "outputs": [],
   "source": [
    "import numpy as np"
   ]
  },
  {
   "cell_type": "code",
   "execution_count": 10,
   "id": "707ab8fb",
   "metadata": {
    "execution": {
     "iopub.execute_input": "2025-08-23T05:07:54.809182Z",
     "iopub.status.busy": "2025-08-23T05:07:54.808936Z",
     "iopub.status.idle": "2025-08-23T05:07:54.813699Z",
     "shell.execute_reply": "2025-08-23T05:07:54.812500Z"
    },
    "papermill": {
     "duration": 0.010876,
     "end_time": "2025-08-23T05:07:54.815338",
     "exception": false,
     "start_time": "2025-08-23T05:07:54.804462",
     "status": "completed"
    },
    "tags": []
   },
   "outputs": [],
   "source": [
    "n = len(airline_wise_flight_counts)\n",
    "colors = np.random.rand(n,3)"
   ]
  },
  {
   "cell_type": "code",
   "execution_count": 11,
   "id": "28db9aa3",
   "metadata": {
    "execution": {
     "iopub.execute_input": "2025-08-23T05:07:54.824507Z",
     "iopub.status.busy": "2025-08-23T05:07:54.824227Z",
     "iopub.status.idle": "2025-08-23T05:07:55.142192Z",
     "shell.execute_reply": "2025-08-23T05:07:55.141159Z"
    },
    "papermill": {
     "duration": 0.324017,
     "end_time": "2025-08-23T05:07:55.143776",
     "exception": false,
     "start_time": "2025-08-23T05:07:54.819759",
     "status": "completed"
    },
    "tags": []
   },
   "outputs": [
    {
     "data": {
      "image/png": "[encoded data removed]",
      "text/plain": [
       "<Figure size 640x480 with 1 Axes>"
      ]
     },
     "metadata": {},
     "output_type": "display_data"
    }
   ],
   "source": [
    "plt.barh(airline_wise_flight_counts['airline'], airline_wise_flight_counts['count'], color=colors)\n",
    "plt.title('Airline wise flights count')\n",
    "plt.xlabel('Flights Count')\n",
    "plt.ylabel('Airlines Name')\n",
    "plt.show()"
   ]
  },
  {
   "cell_type": "code",
   "execution_count": 12,
   "id": "cc4e539c",
   "metadata": {
    "execution": {
     "iopub.execute_input": "2025-08-23T05:07:55.153359Z",
     "iopub.status.busy": "2025-08-23T05:07:55.152738Z",
     "iopub.status.idle": "2025-08-23T05:07:55.279876Z",
     "shell.execute_reply": "2025-08-23T05:07:55.278815Z"
    },
    "papermill": {
     "duration": 0.133533,
     "end_time": "2025-08-23T05:07:55.281419",
     "exception": false,
     "start_time": "2025-08-23T05:07:55.147886",
     "status": "completed"
    },
    "tags": []
   },
   "outputs": [
    {
     "data": {
      "image/png": "[encoded data removed]",
      "text/plain": [
       "<Figure size 640x480 with 1 Axes>"
      ]
     },
     "metadata": {},
     "output_type": "display_data"
    }
   ],
   "source": [
    "plt.pie(airline_wise_flight_counts['count'], labels=airline_wise_flight_counts['airline'], colors=colors, autopct='%1.1f%%')\n",
    "plt.title(\"Airline's contribution in total flights\")\n",
    "plt.show()"
   ]
  },
  {
   "cell_type": "code",
   "execution_count": 13,
   "id": "e7273567",
   "metadata": {
    "execution": {
     "iopub.execute_input": "2025-08-23T05:07:55.292286Z",
     "iopub.status.busy": "2025-08-23T05:07:55.292026Z",
     "iopub.status.idle": "2025-08-23T05:07:57.326979Z",
     "shell.execute_reply": "2025-08-23T05:07:57.326132Z"
    },
    "papermill": {
     "duration": 2.04263,
     "end_time": "2025-08-23T05:07:57.329055",
     "exception": false,
     "start_time": "2025-08-23T05:07:55.286425",
     "status": "completed"
    },
    "tags": []
   },
   "outputs": [],
   "source": [
    "import seaborn as sns"
   ]
  },
  {
   "cell_type": "code",
   "execution_count": 14,
   "id": "044cab97",
   "metadata": {
    "execution": {
     "iopub.execute_input": "2025-08-23T05:07:57.339789Z",
     "iopub.status.busy": "2025-08-23T05:07:57.339223Z",
     "iopub.status.idle": "2025-08-23T05:07:57.475950Z",
     "shell.execute_reply": "2025-08-23T05:07:57.474881Z"
    },
    "papermill": {
     "duration": 0.143513,
     "end_time": "2025-08-23T05:07:57.477270",
     "exception": false,
     "start_time": "2025-08-23T05:07:57.333757",
     "status": "completed"
    },
    "tags": []
   },
   "outputs": [
    {
     "data": {
      "text/plain": [
       "<Axes: >"
      ]
     },
     "execution_count": 14,
     "metadata": {},
     "output_type": "execute_result"
    },
    {
     "data": {
      "image/png": "[encoded data removed]",
      "text/plain": [
       "<Figure size 640x480 with 1 Axes>"
      ]
     },
     "metadata": {},
     "output_type": "display_data"
    }
   ],
   "source": [
    "sns.boxplot(df['price'])"
   ]
  },
  {
   "cell_type": "code",
   "execution_count": 15,
   "id": "2eff2b0b",
   "metadata": {
    "execution": {
     "iopub.execute_input": "2025-08-23T05:07:57.487947Z",
     "iopub.status.busy": "2025-08-23T05:07:57.487703Z",
     "iopub.status.idle": "2025-08-23T05:07:57.493365Z",
     "shell.execute_reply": "2025-08-23T05:07:57.492253Z"
    },
    "papermill": {
     "duration": 0.012834,
     "end_time": "2025-08-23T05:07:57.495063",
     "exception": false,
     "start_time": "2025-08-23T05:07:57.482229",
     "status": "completed"
    },
    "tags": []
   },
   "outputs": [
    {
     "name": "stdout",
     "output_type": "stream",
     "text": [
      "0\n"
     ]
    }
   ],
   "source": [
    "print(df['price'].isnull().sum())"
   ]
  },
  {
   "cell_type": "code",
   "execution_count": 16,
   "id": "01ab8eda",
   "metadata": {
    "execution": {
     "iopub.execute_input": "2025-08-23T05:07:57.506050Z",
     "iopub.status.busy": "2025-08-23T05:07:57.505742Z",
     "iopub.status.idle": "2025-08-23T05:07:58.927918Z",
     "shell.execute_reply": "2025-08-23T05:07:58.926840Z"
    },
    "papermill": {
     "duration": 1.429454,
     "end_time": "2025-08-23T05:07:58.929508",
     "exception": false,
     "start_time": "2025-08-23T05:07:57.500054",
     "status": "completed"
    },
    "tags": []
   },
   "outputs": [
    {
     "name": "stderr",
     "output_type": "stream",
     "text": [
      "/usr/local/lib/python3.11/dist-packages/seaborn/_oldcore.py:1119: FutureWarning: use_inf_as_na option is deprecated and will be removed in a future version. Convert inf values to NaN before operating instead.\n",
      "  with pd.option_context('mode.use_inf_as_na', True):\n"
     ]
    },
    {
     "data": {
      "text/plain": [
       "<Axes: xlabel='price', ylabel='Count'>"
      ]
     },
     "execution_count": 16,
     "metadata": {},
     "output_type": "execute_result"
    },
    {
     "data": {
      "image/png": "[encoded data removed]",
      "text/plain": [
       "<Figure size 640x480 with 1 Axes>"
      ]
     },
     "metadata": {},
     "output_type": "display_data"
    }
   ],
   "source": [
    "sns.histplot(df['price'], bins=30, kde=True)"
   ]
  },
  {
   "cell_type": "code",
   "execution_count": 17,
   "id": "a82fecc9",
   "metadata": {
    "execution": {
     "iopub.execute_input": "2025-08-23T05:07:58.942345Z",
     "iopub.status.busy": "2025-08-23T05:07:58.942006Z",
     "iopub.status.idle": "2025-08-23T05:07:58.949054Z",
     "shell.execute_reply": "2025-08-23T05:07:58.947705Z"
    },
    "papermill": {
     "duration": 0.015225,
     "end_time": "2025-08-23T05:07:58.950686",
     "exception": false,
     "start_time": "2025-08-23T05:07:58.935461",
     "status": "completed"
    },
    "tags": []
   },
   "outputs": [
    {
     "name": "stdout",
     "output_type": "stream",
     "text": [
      "12.22\n"
     ]
    }
   ],
   "source": [
    "avg_flight_time = df['duration'].mean()\n",
    "print(round(avg_flight_time,2))"
   ]
  },
  {
   "cell_type": "code",
   "execution_count": 18,
   "id": "6dc67414",
   "metadata": {
    "execution": {
     "iopub.execute_input": "2025-08-23T05:07:58.963244Z",
     "iopub.status.busy": "2025-08-23T05:07:58.962950Z",
     "iopub.status.idle": "2025-08-23T05:08:00.373580Z",
     "shell.execute_reply": "2025-08-23T05:08:00.372730Z"
    },
    "papermill": {
     "duration": 1.418698,
     "end_time": "2025-08-23T05:08:00.375317",
     "exception": false,
     "start_time": "2025-08-23T05:07:58.956619",
     "status": "completed"
    },
    "tags": []
   },
   "outputs": [
    {
     "name": "stderr",
     "output_type": "stream",
     "text": [
      "/usr/local/lib/python3.11/dist-packages/seaborn/_oldcore.py:1119: FutureWarning: use_inf_as_na option is deprecated and will be removed in a future version. Convert inf values to NaN before operating instead.\n",
      "  with pd.option_context('mode.use_inf_as_na', True):\n"
     ]
    },
    {
     "data": {
      "text/plain": [
       "<Axes: xlabel='duration', ylabel='Count'>"
      ]
     },
     "execution_count": 18,
     "metadata": {},
     "output_type": "execute_result"
    },
    {
     "data": {
      "image/png": "[encoded data removed]",
      "text/plain": [
       "<Figure size 640x480 with 1 Axes>"
      ]
     },
     "metadata": {},
     "output_type": "display_data"
    }
   ],
   "source": [
    "sns.histplot(df['duration'], bins=30, kde=True)"
   ]
  }
 ],
 "metadata": {
  "kaggle": {
   "accelerator": "none",
   "dataSources": [
    {
     "datasetId": 7964540,
     "sourceId": 12608684,
     "sourceType": "datasetVersion"
    }
   ],
   "dockerImageVersionId": 31089,
   "isGpuEnabled": false,
   "isInternetEnabled": true,
   "language": "python",
   "sourceType": "notebook"
  },
  "kernelspec": {
   "display_name": "Python 3",
   "language": "python",
   "name": "python3"
  },
  "language_info": {
   "codemirror_mode": {
    "name": "ipython",
    "version": 3
   },
   "file_extension": ".py",
   "mimetype": "text/x-python",
   "name": "python",
   "nbconvert_exporter": "python",
   "pygments_lexer": "ipython3",
   "version": "3.11.13"
  },
  "papermill": {
   "default_parameters": {},
   "duration": 14.967076,
   "end_time": "2025-08-23T05:08:01.003081",
   "environment_variables": {},
   "exception": null,
   "input_path": "__notebook__.ipynb",
   "output_path": "__notebook__.ipynb",
   "parameters": {},
   "start_time": "2025-08-23T05:07:46.036005",
   "version": "2.6.0"
  }
 },
 "nbformat": 4,
 "nbformat_minor": 5
}
