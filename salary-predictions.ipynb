{
 "cells": [
  {
   "cell_type": "markdown",
   "id": "0cf04a8d",
   "metadata": {
    "papermill": {
     "duration": 0.008998,
     "end_time": "2025-09-22T21:46:14.324484",
     "exception": false,
     "start_time": "2025-09-22T21:46:14.315486",
     "status": "completed"
    },
    "tags": []
   },
   "source": [
    "Our goal is to determine the salary based on the other metrics."
   ]
  },
  {
   "cell_type": "markdown",
   "id": "c534cd3a",
   "metadata": {
    "papermill": {
     "duration": 0.007767,
     "end_time": "2025-09-22T21:46:14.340472",
     "exception": false,
     "start_time": "2025-09-22T21:46:14.332705",
     "status": "completed"
    },
    "tags": []
   },
   "source": [
    "### 1 - Importing Libraries"
   ]
  },
  {
   "cell_type": "code",
   "execution_count": 1,
   "id": "da32bfa5",
   "metadata": {
    "execution": {
     "iopub.execute_input": "2025-09-22T21:46:14.358365Z",
     "iopub.status.busy": "2025-09-22T21:46:14.358001Z",
     "iopub.status.idle": "2025-09-22T21:46:19.400359Z",
     "shell.execute_reply": "2025-09-22T21:46:19.398608Z"
    },
    "papermill": {
     "duration": 5.053699,
     "end_time": "2025-09-22T21:46:19.402507",
     "exception": false,
     "start_time": "2025-09-22T21:46:14.348808",
     "status": "completed"
    },
    "tags": []
   },
   "outputs": [],
   "source": [
    "# Standard libraries\n",
    "import os\n",
    "import re # regex\n",
    "\n",
    "# Data Analysis + Visualization\n",
    "import numpy as np\n",
    "import pandas as pd\n",
    "import matplotlib.pyplot as plt\n",
    "\n",
    "# Machine Learning\n",
    "from sklearn.model_selection import train_test_split\n",
    "from sklearn.ensemble import RandomForestRegressor\n",
    "from sklearn.preprocessing import OneHotEncoder, StandardScaler\n",
    "from sklearn.metrics import mean_absolute_error, mean_squared_error, r2_score\n",
    "from sklearn.dummy import DummyRegressor\n",
    "from sklearn.pipeline import Pipeline\n",
    "from sklearn.preprocessing import RobustScaler\n",
    "from sklearn.linear_model import RidgeCV, ElasticNetCV\n",
    "from sklearn.ensemble import HistGradientBoostingRegressor"
   ]
  },
  {
   "cell_type": "markdown",
   "id": "4826eb34",
   "metadata": {
    "papermill": {
     "duration": 0.010329,
     "end_time": "2025-09-22T21:46:19.422028",
     "exception": false,
     "start_time": "2025-09-22T21:46:19.411699",
     "status": "completed"
    },
    "tags": []
   },
   "source": [
    "### 2 - Loading Dataset"
   ]
  },
  {
   "cell_type": "code",
   "execution_count": 2,
   "id": "19bd0d49",
   "metadata": {
    "execution": {
     "iopub.execute_input": "2025-09-22T21:46:19.439774Z",
     "iopub.status.busy": "2025-09-22T21:46:19.439282Z",
     "iopub.status.idle": "2025-09-22T21:46:19.498221Z",
     "shell.execute_reply": "2025-09-22T21:46:19.497209Z"
    },
    "papermill": {
     "duration": 0.069774,
     "end_time": "2025-09-22T21:46:19.499868",
     "exception": false,
     "start_time": "2025-09-22T21:46:19.430094",
     "status": "completed"
    },
    "tags": []
   },
   "outputs": [
    {
     "data": {
      "text/html": [
       "<div>\n",
       "<style scoped>\n",
       "    .dataframe tbody tr th:only-of-type {\n",
       "        vertical-align: middle;\n",
       "    }\n",
       "\n",
       "    .dataframe tbody tr th {\n",
       "        vertical-align: top;\n",
       "    }\n",
       "\n",
       "    .dataframe thead th {\n",
       "        text-align: right;\n",
       "    }\n",
       "</style>\n",
       "<table border=\"1\" class=\"dataframe\">\n",
       "  <thead>\n",
       "    <tr style=\"text-align: right;\">\n",
       "      <th></th>\n",
       "      <th>job_title</th>\n",
       "      <th>seniority_level</th>\n",
       "      <th>status</th>\n",
       "      <th>company</th>\n",
       "      <th>location</th>\n",
       "      <th>post_date</th>\n",
       "      <th>headquarter</th>\n",
       "      <th>industry</th>\n",
       "      <th>ownership</th>\n",
       "      <th>company_size</th>\n",
       "      <th>revenue</th>\n",
       "      <th>salary</th>\n",
       "      <th>skills</th>\n",
       "    </tr>\n",
       "  </thead>\n",
       "  <tbody>\n",
       "    <tr>\n",
       "      <th>0</th>\n",
       "      <td>data scientist</td>\n",
       "      <td>senior</td>\n",
       "      <td>hybrid</td>\n",
       "      <td>company_003</td>\n",
       "      <td>Grapevine, TX . Hybrid</td>\n",
       "      <td>17 days ago</td>\n",
       "      <td>Bentonville, AR, US</td>\n",
       "      <td>Retail</td>\n",
       "      <td>Public</td>\n",
       "      <td>€352.44B</td>\n",
       "      <td>Public</td>\n",
       "      <td>€100,472 - €200,938</td>\n",
       "      <td>['spark', 'r', 'python', 'scala', 'machine lea...</td>\n",
       "    </tr>\n",
       "    <tr>\n",
       "      <th>1</th>\n",
       "      <td>data scientist</td>\n",
       "      <td>lead</td>\n",
       "      <td>hybrid</td>\n",
       "      <td>company_005</td>\n",
       "      <td>Fort Worth, TX . Hybrid</td>\n",
       "      <td>15 days ago</td>\n",
       "      <td>Detroit, MI, US</td>\n",
       "      <td>Manufacturing</td>\n",
       "      <td>Public</td>\n",
       "      <td>155,030</td>\n",
       "      <td>€51.10B</td>\n",
       "      <td>€118,733</td>\n",
       "      <td>['spark', 'r', 'python', 'sql', 'machine learn...</td>\n",
       "    </tr>\n",
       "    <tr>\n",
       "      <th>2</th>\n",
       "      <td>data scientist</td>\n",
       "      <td>senior</td>\n",
       "      <td>on-site</td>\n",
       "      <td>company_007</td>\n",
       "      <td>Austin, TX . Toronto, Ontario, Canada . Kirkla...</td>\n",
       "      <td>a month ago</td>\n",
       "      <td>Redwood City, CA, US</td>\n",
       "      <td>Technology</td>\n",
       "      <td>Public</td>\n",
       "      <td>25,930</td>\n",
       "      <td>€33.80B</td>\n",
       "      <td>€94,987 - €159,559</td>\n",
       "      <td>['aws', 'git', 'python', 'docker', 'sql', 'mac...</td>\n",
       "    </tr>\n",
       "    <tr>\n",
       "      <th>3</th>\n",
       "      <td>data scientist</td>\n",
       "      <td>senior</td>\n",
       "      <td>hybrid</td>\n",
       "      <td>company_008</td>\n",
       "      <td>Chicago, IL . Scottsdale, AZ . Austin, TX . Hy...</td>\n",
       "      <td>8 days ago</td>\n",
       "      <td>San Jose, CA, US</td>\n",
       "      <td>Technology</td>\n",
       "      <td>Public</td>\n",
       "      <td>34,690</td>\n",
       "      <td>€81.71B</td>\n",
       "      <td>€112,797 - €194,402</td>\n",
       "      <td>['sql', 'r', 'python']</td>\n",
       "    </tr>\n",
       "    <tr>\n",
       "      <th>4</th>\n",
       "      <td>data scientist</td>\n",
       "      <td>NaN</td>\n",
       "      <td>on-site</td>\n",
       "      <td>company_009</td>\n",
       "      <td>On-site</td>\n",
       "      <td>3 days ago</td>\n",
       "      <td>Stamford, CT, US</td>\n",
       "      <td>Finance</td>\n",
       "      <td>Private</td>\n",
       "      <td>1,800</td>\n",
       "      <td>Private</td>\n",
       "      <td>€114,172 - €228,337</td>\n",
       "      <td>[]</td>\n",
       "    </tr>\n",
       "  </tbody>\n",
       "</table>\n",
       "</div>"
      ],
      "text/plain": [
       "        job_title seniority_level   status      company  \\\n",
       "0  data scientist          senior   hybrid  company_003   \n",
       "1  data scientist            lead   hybrid  company_005   \n",
       "2  data scientist          senior  on-site  company_007   \n",
       "3  data scientist          senior   hybrid  company_008   \n",
       "4  data scientist             NaN  on-site  company_009   \n",
       "\n",
       "                                            location    post_date  \\\n",
       "0                             Grapevine, TX . Hybrid  17 days ago   \n",
       "1                            Fort Worth, TX . Hybrid  15 days ago   \n",
       "2  Austin, TX . Toronto, Ontario, Canada . Kirkla...  a month ago   \n",
       "3  Chicago, IL . Scottsdale, AZ . Austin, TX . Hy...   8 days ago   \n",
       "4                                            On-site   3 days ago   \n",
       "\n",
       "            headquarter       industry ownership company_size  revenue  \\\n",
       "0   Bentonville, AR, US         Retail    Public     €352.44B   Public   \n",
       "1       Detroit, MI, US  Manufacturing    Public      155,030  €51.10B   \n",
       "2  Redwood City, CA, US     Technology    Public       25,930  €33.80B   \n",
       "3      San Jose, CA, US     Technology    Public       34,690  €81.71B   \n",
       "4      Stamford, CT, US        Finance   Private        1,800  Private   \n",
       "\n",
       "                salary                                             skills  \n",
       "0  €100,472 - €200,938  ['spark', 'r', 'python', 'scala', 'machine lea...  \n",
       "1             €118,733  ['spark', 'r', 'python', 'sql', 'machine learn...  \n",
       "2   €94,987 - €159,559  ['aws', 'git', 'python', 'docker', 'sql', 'mac...  \n",
       "3  €112,797 - €194,402                             ['sql', 'r', 'python']  \n",
       "4  €114,172 - €228,337                                                 []  "
      ]
     },
     "execution_count": 2,
     "metadata": {},
     "output_type": "execute_result"
    }
   ],
   "source": [
    "df = pd.read_csv(\"/kaggle/input/data-science-job-postings-with-salaries-2025/data_science_job_posts_2025.csv\")\n",
    "df.head()"
   ]
  },
  {
   "cell_type": "markdown",
   "id": "c90db056",
   "metadata": {
    "papermill": {
     "duration": 0.007827,
     "end_time": "2025-09-22T21:46:19.516201",
     "exception": false,
     "start_time": "2025-09-22T21:46:19.508374",
     "status": "completed"
    },
    "tags": []
   },
   "source": [
    "### 3 - Data Exploration"
   ]
  },
  {
   "cell_type": "markdown",
   "id": "4cb6ba87",
   "metadata": {
    "papermill": {
     "duration": 0.007819,
     "end_time": "2025-09-22T21:46:19.531941",
     "exception": false,
     "start_time": "2025-09-22T21:46:19.524122",
     "status": "completed"
    },
    "tags": []
   },
   "source": [
    "From this data exploration we can see that there are:\n",
    "\n",
    "* 13 columns of data\n",
    "* 944 rows of data\n",
    "* 0 duplicated values\n",
    "* various rows in null values"
   ]
  },
  {
   "cell_type": "code",
   "execution_count": 3,
   "id": "b0624274",
   "metadata": {
    "execution": {
     "iopub.execute_input": "2025-09-22T21:46:19.550366Z",
     "iopub.status.busy": "2025-09-22T21:46:19.549979Z",
     "iopub.status.idle": "2025-09-22T21:46:19.573669Z",
     "shell.execute_reply": "2025-09-22T21:46:19.571886Z"
    },
    "papermill": {
     "duration": 0.036045,
     "end_time": "2025-09-22T21:46:19.576209",
     "exception": false,
     "start_time": "2025-09-22T21:46:19.540164",
     "status": "completed"
    },
    "tags": []
   },
   "outputs": [
    {
     "name": "stdout",
     "output_type": "stream",
     "text": [
      "Columns in dataset: ['job_title', 'seniority_level', 'status', 'company', 'location', 'post_date', 'headquarter', 'industry', 'ownership', 'company_size', 'revenue', 'salary', 'skills']\n",
      "Shape: (944, 13)\n",
      "Number of null values: \n",
      "job_title            3\n",
      "seniority_level     60\n",
      "status             256\n",
      "company              0\n",
      "location             2\n",
      "post_date            0\n",
      "headquarter          0\n",
      "industry             0\n",
      "ownership           47\n",
      "company_size         0\n",
      "revenue             15\n",
      "salary               0\n",
      "skills               0\n",
      "dtype: int64\n",
      "Number of duplicated values: 0\n"
     ]
    }
   ],
   "source": [
    "cols = df.columns.tolist()\n",
    "print(\"Columns in dataset:\", cols)\n",
    "\n",
    "# Shape of the dataset (rows, columns)\n",
    "print(\"Shape: \" + str(df.shape))\n",
    "\n",
    "# Data types\n",
    "df.info\n",
    "\n",
    "print(\"Number of null values: \\n\"+ str(df.isnull().sum()))\n",
    "print(\"Number of duplicated values: \"+ str(df.duplicated().sum()))"
   ]
  },
  {
   "cell_type": "markdown",
   "id": "a75c46db",
   "metadata": {
    "papermill": {
     "duration": 0.008057,
     "end_time": "2025-09-22T21:46:19.592904",
     "exception": false,
     "start_time": "2025-09-22T21:46:19.584847",
     "status": "completed"
    },
    "tags": []
   },
   "source": [
    "### 4 - Data Cleaning\n",
    "\n"
   ]
  },
  {
   "cell_type": "markdown",
   "id": "6b3f8283",
   "metadata": {
    "papermill": {
     "duration": 0.007979,
     "end_time": "2025-09-22T21:46:19.610275",
     "exception": false,
     "start_time": "2025-09-22T21:46:19.602296",
     "status": "completed"
    },
    "tags": []
   },
   "source": [
    "According to the dataset, 'status' describes whether the jobs is:\n",
    "\n",
    "1. on-site\n",
    "2. hybrid\n",
    "3. remote\n",
    "\n",
    "In total, we are missing 381 values. This means the number of complete rows is between 563 and 688. Let's check how many rows there are if we drop a row with a missing value:"
   ]
  },
  {
   "cell_type": "code",
   "execution_count": 4,
   "id": "6dadd66c",
   "metadata": {
    "execution": {
     "iopub.execute_input": "2025-09-22T21:46:19.629538Z",
     "iopub.status.busy": "2025-09-22T21:46:19.628239Z",
     "iopub.status.idle": "2025-09-22T21:46:19.640042Z",
     "shell.execute_reply": "2025-09-22T21:46:19.639076Z"
    },
    "papermill": {
     "duration": 0.023454,
     "end_time": "2025-09-22T21:46:19.641714",
     "exception": false,
     "start_time": "2025-09-22T21:46:19.618260",
     "status": "completed"
    },
    "tags": []
   },
   "outputs": [
    {
     "name": "stdout",
     "output_type": "stream",
     "text": [
      "len_df: 944, len_dfc: 599\n"
     ]
    }
   ],
   "source": [
    "len_df = len(df)\n",
    "df_drop_missing = df.dropna()\n",
    "len_df_drop_missing = len(df_drop_missing)\n",
    "\n",
    "print(\"len_df: \" + str(len_df) + \", len_dfc: \" + str(len_df_drop_missing))"
   ]
  },
  {
   "cell_type": "markdown",
   "id": "84c5fa8d",
   "metadata": {
    "papermill": {
     "duration": 0.00804,
     "end_time": "2025-09-22T21:46:19.658045",
     "exception": false,
     "start_time": "2025-09-22T21:46:19.650005",
     "status": "completed"
    },
    "tags": []
   },
   "source": [
    "We can see there's a significant drop in data if we drop all our missing rows. Let's try changing missing 'status' values to 'Unknown', and then check the difference between df and dfc!"
   ]
  },
  {
   "cell_type": "code",
   "execution_count": 5,
   "id": "df86a3d7",
   "metadata": {
    "execution": {
     "iopub.execute_input": "2025-09-22T21:46:19.676642Z",
     "iopub.status.busy": "2025-09-22T21:46:19.675476Z",
     "iopub.status.idle": "2025-09-22T21:46:19.686579Z",
     "shell.execute_reply": "2025-09-22T21:46:19.685170Z"
    },
    "papermill": {
     "duration": 0.022292,
     "end_time": "2025-09-22T21:46:19.688484",
     "exception": false,
     "start_time": "2025-09-22T21:46:19.666192",
     "status": "completed"
    },
    "tags": []
   },
   "outputs": [
    {
     "data": {
      "text/plain": [
       "job_title           3\n",
       "seniority_level    60\n",
       "status              0\n",
       "company             0\n",
       "location            2\n",
       "post_date           0\n",
       "headquarter         0\n",
       "industry            0\n",
       "ownership          47\n",
       "company_size        0\n",
       "revenue            15\n",
       "salary              0\n",
       "skills              0\n",
       "dtype: int64"
      ]
     },
     "execution_count": 5,
     "metadata": {},
     "output_type": "execute_result"
    }
   ],
   "source": [
    "dfc = df.copy()\n",
    "dfc['status'] = dfc['status'].fillna('Unknown')\n",
    "dfc.isnull().sum()"
   ]
  },
  {
   "cell_type": "markdown",
   "id": "b398d25a",
   "metadata": {
    "papermill": {
     "duration": 0.010671,
     "end_time": "2025-09-22T21:46:19.708610",
     "exception": false,
     "start_time": "2025-09-22T21:46:19.697939",
     "status": "completed"
    },
    "tags": []
   },
   "source": [
    "Great, we've changed the \"NaN\" values in 'status' to \"Unknown\". Now, we can drop the other empty rows."
   ]
  },
  {
   "cell_type": "code",
   "execution_count": 6,
   "id": "04af1a5e",
   "metadata": {
    "execution": {
     "iopub.execute_input": "2025-09-22T21:46:19.727890Z",
     "iopub.status.busy": "2025-09-22T21:46:19.727453Z",
     "iopub.status.idle": "2025-09-22T21:46:19.737505Z",
     "shell.execute_reply": "2025-09-22T21:46:19.736515Z"
    },
    "papermill": {
     "duration": 0.021697,
     "end_time": "2025-09-22T21:46:19.739131",
     "exception": false,
     "start_time": "2025-09-22T21:46:19.717434",
     "status": "completed"
    },
    "tags": []
   },
   "outputs": [
    {
     "data": {
      "text/plain": [
       "834"
      ]
     },
     "execution_count": 6,
     "metadata": {},
     "output_type": "execute_result"
    }
   ],
   "source": [
    "dfc.dropna(inplace=True)\n",
    "len(dfc)"
   ]
  },
  {
   "cell_type": "markdown",
   "id": "50e3b3ca",
   "metadata": {
    "papermill": {
     "duration": 0.010464,
     "end_time": "2025-09-22T21:46:19.758518",
     "exception": false,
     "start_time": "2025-09-22T21:46:19.748054",
     "status": "completed"
    },
    "tags": []
   },
   "source": [
    "After dropping the other rows with an empty value, we have 834 complete rows that we can infer from. Through manually inspecting the data, we can see that salaries either:\n",
    "\n",
    "(i) as a range with the following formatting: \n",
    "€xxx, xxx - €xxx, xxx\n",
    "\n",
    "(ii) as a static number with the following formatting:\n",
    "€xxx, xxx\n",
    "\n",
    "For ranges, we should take the average value using the following formula: (max - min) / 2\n",
    "\n",
    "We will also strip the whitespace and remove the commas to get static numbers as such:\n",
    "\n",
    "€xxxxxx\n",
    "\n",
    "After, we will convert € (EUR) -> $ (CAD) with the current conversion rate: 1 EUR = 1.62 CAD (as of Sept. 9th, 2025)"
   ]
  },
  {
   "cell_type": "code",
   "execution_count": 7,
   "id": "a1dee032",
   "metadata": {
    "execution": {
     "iopub.execute_input": "2025-09-22T21:46:19.777412Z",
     "iopub.status.busy": "2025-09-22T21:46:19.777084Z",
     "iopub.status.idle": "2025-09-22T21:46:19.804950Z",
     "shell.execute_reply": "2025-09-22T21:46:19.803999Z"
    },
    "papermill": {
     "duration": 0.039734,
     "end_time": "2025-09-22T21:46:19.807156",
     "exception": false,
     "start_time": "2025-09-22T21:46:19.767422",
     "status": "completed"
    },
    "tags": []
   },
   "outputs": [],
   "source": [
    "s = df['salary'].astype(str)\n",
    "\n",
    "# normalize formatting for s\n",
    "s = (s.str.replace('\\u00a0', '', regex=False) # NBSP\n",
    "      .str.replace('\\u202f', '', regex=False) # narrow NBSP\n",
    "      .str.replace(',', '', regex=False)      # commas\n",
    "      .str.strip())\n",
    "\n",
    "# extract ranges\n",
    "pat_range = re.compile(r\"\"\"\n",
    "    €\\s*             # euro sign + optional whitespace\n",
    "    ([\\d\\s\\.]+)      # first number (digits/space/dots)\n",
    "    \\s*[-–]\\s*       # dash (en or hyphen) with optional spaces\n",
    "    €?               # optional second euro sign\n",
    "    \\s*([\\d\\s\\.]+)  # second number\n",
    "\"\"\", re.VERBOSE)\n",
    "\n",
    "rng = s.str.extract(pat_range) # cols: 0 (low), 1 (high)\n",
    "\n",
    "# cleaning ranging salaries -> to numeric\n",
    "to_num = lambda x: pd.to_numeric(x.str.replace(r'[\\s\\.\\,]+', '', regex=True), # drop all whitespace\n",
    "                                 errors='coerce' # convert to numbers; error = NaN\n",
    "                                )\n",
    "low = to_num(rng[0])\n",
    "high = to_num(rng[1])\n",
    "\n",
    "# get the average for ranging salaries\n",
    "avg_range = (low + high) / 2\n",
    "mask_range = avg_range.notna()\n",
    "\n",
    "# extract cleaned single values\n",
    "single = s[~mask_range].str.extract(r'€\\s*([\\d\\s\\.]+)')[0]\n",
    "single = to_num(single)\n",
    "\n",
    "# combine\n",
    "df.loc[mask_range, 'salary_eur'] = avg_range[mask_range]\n",
    "df.loc[~mask_range, 'salary_eur'] = single\n",
    "\n",
    "# convert 'salary_eur' to 'salary_cad'\n",
    "EUR_TO_CAD = 1.62 # conversion rate\n",
    "df['salary_cad'] = df['salary_eur'] * EUR_TO_CAD"
   ]
  },
  {
   "cell_type": "code",
   "execution_count": 8,
   "id": "0b1f7e28",
   "metadata": {
    "execution": {
     "iopub.execute_input": "2025-09-22T21:46:19.827079Z",
     "iopub.status.busy": "2025-09-22T21:46:19.826695Z",
     "iopub.status.idle": "2025-09-22T21:46:19.845567Z",
     "shell.execute_reply": "2025-09-22T21:46:19.844253Z"
    },
    "papermill": {
     "duration": 0.031264,
     "end_time": "2025-09-22T21:46:19.847503",
     "exception": false,
     "start_time": "2025-09-22T21:46:19.816239",
     "status": "completed"
    },
    "tags": []
   },
   "outputs": [
    {
     "name": "stdout",
     "output_type": "stream",
     "text": [
      "Ranges parsed: 594\n",
      "Singles parsed: 350\n"
     ]
    },
    {
     "data": {
      "text/html": [
       "<div>\n",
       "<style scoped>\n",
       "    .dataframe tbody tr th:only-of-type {\n",
       "        vertical-align: middle;\n",
       "    }\n",
       "\n",
       "    .dataframe tbody tr th {\n",
       "        vertical-align: top;\n",
       "    }\n",
       "\n",
       "    .dataframe thead th {\n",
       "        text-align: right;\n",
       "    }\n",
       "</style>\n",
       "<table border=\"1\" class=\"dataframe\">\n",
       "  <thead>\n",
       "    <tr style=\"text-align: right;\">\n",
       "      <th></th>\n",
       "      <th>salary</th>\n",
       "      <th>salary_eur</th>\n",
       "      <th>salary_cad</th>\n",
       "    </tr>\n",
       "  </thead>\n",
       "  <tbody>\n",
       "    <tr>\n",
       "      <th>0</th>\n",
       "      <td>€100,472 - €200,938</td>\n",
       "      <td>150705.0</td>\n",
       "      <td>244142.10</td>\n",
       "    </tr>\n",
       "    <tr>\n",
       "      <th>1</th>\n",
       "      <td>€118,733</td>\n",
       "      <td>118733.0</td>\n",
       "      <td>192347.46</td>\n",
       "    </tr>\n",
       "    <tr>\n",
       "      <th>2</th>\n",
       "      <td>€94,987 - €159,559</td>\n",
       "      <td>127273.0</td>\n",
       "      <td>206182.26</td>\n",
       "    </tr>\n",
       "    <tr>\n",
       "      <th>3</th>\n",
       "      <td>€112,797 - €194,402</td>\n",
       "      <td>153599.5</td>\n",
       "      <td>248831.19</td>\n",
       "    </tr>\n",
       "    <tr>\n",
       "      <th>4</th>\n",
       "      <td>€114,172 - €228,337</td>\n",
       "      <td>171254.5</td>\n",
       "      <td>277432.29</td>\n",
       "    </tr>\n",
       "  </tbody>\n",
       "</table>\n",
       "</div>"
      ],
      "text/plain": [
       "                salary  salary_eur  salary_cad\n",
       "0  €100,472 - €200,938    150705.0   244142.10\n",
       "1             €118,733    118733.0   192347.46\n",
       "2   €94,987 - €159,559    127273.0   206182.26\n",
       "3  €112,797 - €194,402    153599.5   248831.19\n",
       "4  €114,172 - €228,337    171254.5   277432.29"
      ]
     },
     "execution_count": 8,
     "metadata": {},
     "output_type": "execute_result"
    }
   ],
   "source": [
    "# check the results\n",
    "print(\"Ranges parsed:\", mask_range.sum())\n",
    "print(\"Singles parsed:\", single.notna().sum())\n",
    "df[['salary','salary_eur','salary_cad']].head()"
   ]
  },
  {
   "cell_type": "markdown",
   "id": "b2347235",
   "metadata": {
    "papermill": {
     "duration": 0.00914,
     "end_time": "2025-09-22T21:46:19.865587",
     "exception": false,
     "start_time": "2025-09-22T21:46:19.856447",
     "status": "completed"
    },
    "tags": []
   },
   "source": [
    "Great! Now, we have salaries in CAD, and no empty cells!\n",
    "\n",
    "### 5 - Exploratory Data Analysis (EDA)"
   ]
  },
  {
   "cell_type": "code",
   "execution_count": 9,
   "id": "d06306bb",
   "metadata": {
    "execution": {
     "iopub.execute_input": "2025-09-22T21:46:19.885285Z",
     "iopub.status.busy": "2025-09-22T21:46:19.884922Z",
     "iopub.status.idle": "2025-09-22T21:46:20.361413Z",
     "shell.execute_reply": "2025-09-22T21:46:20.360054Z"
    },
    "papermill": {
     "duration": 0.489175,
     "end_time": "2025-09-22T21:46:20.363501",
     "exception": false,
     "start_time": "2025-09-22T21:46:19.874326",
     "status": "completed"
    },
    "tags": []
   },
   "outputs": [
    {
     "data": {
      "image/png": "[encoded data removed]",
      "text/plain": [
       "<Figure size 900x400 with 1 Axes>"
      ]
     },
     "metadata": {},
     "output_type": "display_data"
    }
   ],
   "source": [
    "plt.figure(figsize=(9,4))\n",
    "plt.hist(df['salary_cad'], bins=80)\n",
    "plt.title('Salary Distribution')\n",
    "plt.xlabel('Salary')\n",
    "plt.ylabel('Count')\n",
    "plt.show()"
   ]
  },
  {
   "cell_type": "markdown",
   "id": "aed4e811",
   "metadata": {
    "papermill": {
     "duration": 0.008965,
     "end_time": "2025-09-22T21:46:20.382947",
     "exception": false,
     "start_time": "2025-09-22T21:46:20.373982",
     "status": "completed"
    },
    "tags": []
   },
   "source": [
    "Our salary is very skewed due to only a few extremely high salaries (very lucky!). Let's log-transform 'salary_cad' to get a more normal distribution:"
   ]
  },
  {
   "cell_type": "code",
   "execution_count": 10,
   "id": "4250b8f3",
   "metadata": {
    "execution": {
     "iopub.execute_input": "2025-09-22T21:46:20.404485Z",
     "iopub.status.busy": "2025-09-22T21:46:20.403411Z",
     "iopub.status.idle": "2025-09-22T21:46:20.682172Z",
     "shell.execute_reply": "2025-09-22T21:46:20.680815Z"
    },
    "papermill": {
     "duration": 0.291158,
     "end_time": "2025-09-22T21:46:20.684050",
     "exception": false,
     "start_time": "2025-09-22T21:46:20.392892",
     "status": "completed"
    },
    "tags": []
   },
   "outputs": [
    {
     "data": {
      "image/png": "[encoded data removed]",
      "text/plain": [
       "<Figure size 900x400 with 1 Axes>"
      ]
     },
     "metadata": {},
     "output_type": "display_data"
    }
   ],
   "source": [
    "# take the natural log of 'salary_cad'\n",
    "df['salary_cad_log'] = np.log(df['salary_cad'])\n",
    "\n",
    "plt.figure(figsize=(9,4))\n",
    "plt.hist(df['salary_cad_log'], bins=60)\n",
    "plt.title('Log-Transformed Salary Distribution')\n",
    "plt.xlabel('log1p(Salary)')\n",
    "plt.ylabel('Count')\n",
    "plt.show()"
   ]
  },
  {
   "cell_type": "code",
   "execution_count": 11,
   "id": "8b66b853",
   "metadata": {
    "execution": {
     "iopub.execute_input": "2025-09-22T21:46:20.704868Z",
     "iopub.status.busy": "2025-09-22T21:46:20.704488Z",
     "iopub.status.idle": "2025-09-22T21:46:20.840389Z",
     "shell.execute_reply": "2025-09-22T21:46:20.839354Z"
    },
    "papermill": {
     "duration": 0.148433,
     "end_time": "2025-09-22T21:46:20.842231",
     "exception": false,
     "start_time": "2025-09-22T21:46:20.693798",
     "status": "completed"
    },
    "tags": []
   },
   "outputs": [
    {
     "data": {
      "image/png": "[encoded data removed]",
      "text/plain": [
       "<Figure size 900x300 with 1 Axes>"
      ]
     },
     "metadata": {},
     "output_type": "display_data"
    },
    {
     "data": {
      "text/plain": [
       "{'Q1_log': 11.725794291605215,\n",
       " 'Median_log': 12.293409669484184,\n",
       " 'Q3_log': 12.524408042374757,\n",
       " 'IQR_log': 0.7986137507695421,\n",
       " 'LowerFence_log': 10.527873665450901,\n",
       " 'UpperFence_log': 13.72232866852907,\n",
       " 'Outliers_count': 67,\n",
       " 'Q1_CAD': 123722.23499801154,\n",
       " 'Median_CAD': 218252.8799984966,\n",
       " 'Q3_CAD': 274967.4600000001}"
      ]
     },
     "execution_count": 11,
     "metadata": {},
     "output_type": "execute_result"
    }
   ],
   "source": [
    "plt.figure(figsize=(9,3))\n",
    "plt.boxplot(df['salary_cad_log'], vert=False)\n",
    "plt.title('Salary Boxplot')\n",
    "plt.show()\n",
    "\n",
    "x = df['salary_cad_log'].dropna()\n",
    "\n",
    "q1, med, q3 = x.quantile([0.25, 0.5, 0.75])\n",
    "iqr = q3 - q1\n",
    "lower, upper = q1 - 1.5*iqr, q3 + 1.5*iqr\n",
    "n_out = ((x < lower) | (x > upper)).sum()\n",
    "\n",
    "summary = {\n",
    "    \"Q1_log\": q1, \"Median_log\": med, \"Q3_log\": q3, \"IQR_log\": iqr,\n",
    "    \"LowerFence_log\": lower, \"UpperFence_log\": upper,\n",
    "    \"Outliers_count\": int(n_out),\n",
    "    \"Q1_CAD\": np.exp(q1), \"Median_CAD\": np.exp(med), \"Q3_CAD\": np.exp(q3)\n",
    "}\n",
    "summary"
   ]
  },
  {
   "cell_type": "markdown",
   "id": "40bb3879",
   "metadata": {
    "papermill": {
     "duration": 0.071177,
     "end_time": "2025-09-22T21:46:20.923505",
     "exception": false,
     "start_time": "2025-09-22T21:46:20.852328",
     "status": "completed"
    },
    "tags": []
   },
   "source": [
    "### 6 - Data Engineering"
   ]
  },
  {
   "cell_type": "code",
   "execution_count": 12,
   "id": "4ec078e0",
   "metadata": {
    "execution": {
     "iopub.execute_input": "2025-09-22T21:46:20.948085Z",
     "iopub.status.busy": "2025-09-22T21:46:20.947442Z",
     "iopub.status.idle": "2025-09-22T21:46:21.004491Z",
     "shell.execute_reply": "2025-09-22T21:46:21.002863Z"
    },
    "papermill": {
     "duration": 0.072298,
     "end_time": "2025-09-22T21:46:21.006613",
     "exception": false,
     "start_time": "2025-09-22T21:46:20.934315",
     "status": "completed"
    },
    "tags": []
   },
   "outputs": [],
   "source": [
    "# -- Title\n",
    "df['title_clean'] = df['job_title'].fillna('Unknown').str.strip().str.title()\n",
    "title_dummies = pd.get_dummies(df['title_clean'], prefix='title', dummy_na=False)\n",
    "df = pd.concat([df, title_dummies], axis=1)\n",
    "\n",
    "# -- Status --\n",
    "df['status_clean'] = df['status'].fillna('Unknown').str.strip().str.title()\n",
    "status_dummies = pd.get_dummies(df['status_clean'], prefix='status', dummy_na=False)\n",
    "df = pd.concat([df, status_dummies], axis=1)\n",
    "df['is_remote'] = df['status_clean'].str.contains(r'\\bRemote\\b', case=False)\n",
    "\n",
    "# -- Location --\n",
    "loc = df['location'].fillna('Unknown').astype(str)\n",
    "\n",
    "# flags\n",
    "df['is_fully_remote'] = loc.str.contains(r'fully\\s*remote|remote', case=False, regex=True)\n",
    "\n",
    "# -- Country --\n",
    "country = (loc.str.split(',')\n",
    "          .apply(lambda parts: parts[-1].strip().title() if len(parts) else 'Unknown'))\n",
    "country = country.replace('', 'Unknown')\n",
    "df['country'] = country\n",
    "\n",
    "# -- Post Date --\n",
    "def age_in_days(s: str):\n",
    "    if not isinstance(s, str):\n",
    "        return np.nan\n",
    "    m = re.search(r'(\\d+)\\s*(day|week|month|year)s?\\s*ago', s.lower())\n",
    "    if not m:\n",
    "        return np.nan\n",
    "    n = int(m.group(1))\n",
    "    unit = m.group(2)\n",
    "    factor = {'day':1, 'week':7, 'month':30.44, 'year':365.25}.get(unit, np.nan)\n",
    "    return n * factor\n",
    "\n",
    "df['post_age_days'] = df['post_date'].apply(age_in_days)\n",
    "\n",
    "# -- Industry --\n",
    "K_INDUSTRIES = 20\n",
    "ind = df['industry'].fillna('Unknown').astype(str).str.strip().str.title()\n",
    "top_inds = ind.value_counts().nlargest(K_INDUSTRIES).index\n",
    "df['industry_topk'] = np.where(ind.isin(top_inds), ind, 'Other')\n",
    "ind_dummies = pd.get_dummies(df['industry_topk'], prefix='industry')\n",
    "df = pd.concat([df, ind_dummies], axis=1)\n",
    "\n",
    "# -- Ownership -- (Public/Private/NaN)\n",
    "own = df['ownership'].fillna('Unknown').astype(str).str.strip().str.title()\n",
    "own_dummies = pd.get_dummies(own, prefix='own')\n",
    "df = pd.concat([df, own_dummies], axis=1)\n",
    "\n",
    "# -- Company Size -> bins\n",
    "def size_to_bin(s):\n",
    "    if pd.isna(s): return 'Unknown'\n",
    "    t = str(s).replace(',', '')\n",
    "    nums = list(map(int, re.findall(r'\\d+', t)))\n",
    "    if not nums: return 'Unknown'\n",
    "    mx = max(nums)\n",
    "    if mx < 50: return 'small'\n",
    "    if mx < 200: return 'medium'\n",
    "    return 'large'\n",
    "\n",
    "df['company_size_bin'] = df['company_size'].apply(size_to_bin)\n",
    "size_dummies = pd.get_dummies(df['company_size_bin'], prefix='size')\n",
    "df = pd.concat([df, size_dummies], axis=1)\n",
    "\n",
    "# -- Company\n",
    "df = df.drop(columns=['company'], errors='ignore')"
   ]
  },
  {
   "cell_type": "markdown",
   "id": "69eb57a8",
   "metadata": {
    "papermill": {
     "duration": 0.009814,
     "end_time": "2025-09-22T21:46:21.030168",
     "exception": false,
     "start_time": "2025-09-22T21:46:21.020354",
     "status": "completed"
    },
    "tags": []
   },
   "source": [
    "The 'Revenue' feature will take a bit more work. Currently, the data in 'Revenue' is structured as:\n",
    "* Private\n",
    "* Public\n",
    "* €xxx.xxB\n",
    "* €xxx.xxM"
   ]
  },
  {
   "cell_type": "code",
   "execution_count": 13,
   "id": "fc4f32f1",
   "metadata": {
    "execution": {
     "iopub.execute_input": "2025-09-22T21:46:21.054569Z",
     "iopub.status.busy": "2025-09-22T21:46:21.054195Z",
     "iopub.status.idle": "2025-09-22T21:46:21.087239Z",
     "shell.execute_reply": "2025-09-22T21:46:21.086217Z"
    },
    "papermill": {
     "duration": 0.047019,
     "end_time": "2025-09-22T21:46:21.089253",
     "exception": false,
     "start_time": "2025-09-22T21:46:21.042234",
     "status": "completed"
    },
    "tags": []
   },
   "outputs": [],
   "source": [
    "# ---- Revenue\n",
    "\n",
    "rev = df['revenue'].astype(str).str.strip()\n",
    "\n",
    "# normalize spaces/commas so parsing is easier\n",
    "rev = (rev.str.replace('\\u00a0', ' ', regex=False)       # NBSP\n",
    "          .str.replace('\\u202f', ' ', regex=False)        # narrow NBSP\n",
    "          .str.replace(',', '', regex=False)              # remove commas\n",
    "          .str.replace(r'\\s+', ' ', regex=True)\n",
    "          .str.strip())\n",
    "\n",
    "# -------- 1) ownership labels that appear in revenue\n",
    "mask_own = rev.str.fullmatch(r'(?i)public|private')\n",
    "\n",
    "# start from existing ownership (if present); otherwise Unknown\n",
    "df['ownership_clean'] = df.get('ownership', pd.Series(index=df.index, dtype=object)).fillna('Unknown')\n",
    "\n",
    "# fill ownership from revenue where ownership is Unknown\n",
    "df.loc[df['ownership_clean'].eq('Unknown') & mask_own, 'ownership_clean'] = rev[mask_own].str.title()\n",
    "\n",
    "# -------- 2) parse numeric revenue like €61.06B / €913.33M / €55.54B\n",
    "# capture number and unit (B/M/K or words)\n",
    "m = rev.str.extract(r'(?i)€?\\s*([\\d.]+)\\s*(b|m|k|bn|billion|million|mio)?')\n",
    "\n",
    "num  = pd.to_numeric(m[0], errors='coerce')\n",
    "unit = m[1].str.lower().fillna('')\n",
    "\n",
    "mult = unit.map({\n",
    "    'b': 1e9, 'bn': 1e9, 'billion': 1e9,\n",
    "    'm': 1e6, 'million': 1e6, 'mio': 1e6,\n",
    "    'k': 1e3\n",
    "}).fillna(1.0)\n",
    "\n",
    "df['revenue_eur'] = num * mult\n",
    "\n",
    "# revenue cells that were ownership labels (and pure text like 'Education') -> NaN\n",
    "mask_pure_text = rev.str.fullmatch(r'(?i)[a-z\\s]+')   # only letters/spaces\n",
    "df.loc[mask_own | mask_pure_text, 'revenue_eur'] = np.nan"
   ]
  },
  {
   "cell_type": "markdown",
   "id": "5e98a120",
   "metadata": {
    "papermill": {
     "duration": 0.010739,
     "end_time": "2025-09-22T21:46:21.111678",
     "exception": false,
     "start_time": "2025-09-22T21:46:21.100939",
     "status": "completed"
    },
    "tags": []
   },
   "source": [
    "We also can process the 'headquarters' feature:"
   ]
  },
  {
   "cell_type": "code",
   "execution_count": 14,
   "id": "6ab12c25",
   "metadata": {
    "execution": {
     "iopub.execute_input": "2025-09-22T21:46:21.135794Z",
     "iopub.status.busy": "2025-09-22T21:46:21.134484Z",
     "iopub.status.idle": "2025-09-22T21:46:21.157628Z",
     "shell.execute_reply": "2025-09-22T21:46:21.156460Z"
    },
    "papermill": {
     "duration": 0.037334,
     "end_time": "2025-09-22T21:46:21.159624",
     "exception": false,
     "start_time": "2025-09-22T21:46:21.122290",
     "status": "completed"
    },
    "tags": []
   },
   "outputs": [],
   "source": [
    "# Only create if missing\n",
    "if 'hq_country' not in df.columns:\n",
    "    def extract_hq_country(s):\n",
    "        if pd.isna(s):\n",
    "            return 'UNKNOWN'\n",
    "        # expected format: \"City, [State/Prov], CountryCode\"\n",
    "        parts = str(s).split(',')\n",
    "        c = parts[-1].strip().upper().replace('.', '')\n",
    "        # normalize a few common aliases\n",
    "        aliases = {\n",
    "            'USA':'US', 'UNITED STATES':'US', 'U S':'US', 'U S A':'US',\n",
    "            'UK':'GB', 'U K':'GB', 'UNITED KINGDOM':'GB',\n",
    "            'CAN':'CA', 'CANADA':'CA'\n",
    "        }\n",
    "        return aliases.get(c, c if c else 'UNKNOWN')\n",
    "\n",
    "    if 'headquarter' in df.columns:\n",
    "        df['hq_country'] = df['headquarter'].apply(extract_hq_country)\n",
    "    else:\n",
    "        # skip HQ features if there's no 'headquarter' column\n",
    "        df['hq_country'] = 'UNKNOWN'\n",
    "\n",
    "# Now your dummies:\n",
    "K_COUNTRIES = 15\n",
    "hq_raw = df['hq_country'].fillna('UNKNOWN').astype(str).str.upper()\n",
    "top_hq = hq_raw.value_counts().nlargest(K_COUNTRIES).index\n",
    "df['hq_country_topk'] = np.where(hq_raw.isin(top_hq), hq_raw, 'OTHER')\n",
    "hq_dum = pd.get_dummies(df['hq_country_topk'], prefix='hq_country')\n",
    "\n",
    "# (Re)attach dummies cleanly\n",
    "old_hq = [c for c in df.columns if c.startswith('hq_country_') and c != 'hq_country_topk']\n",
    "df = pd.concat([df.drop(columns=old_hq, errors='ignore'), hq_dum], axis=1)\n"
   ]
  },
  {
   "cell_type": "code",
   "execution_count": 15,
   "id": "f02659c9",
   "metadata": {
    "execution": {
     "iopub.execute_input": "2025-09-22T21:46:21.181494Z",
     "iopub.status.busy": "2025-09-22T21:46:21.181124Z",
     "iopub.status.idle": "2025-09-22T21:46:21.203731Z",
     "shell.execute_reply": "2025-09-22T21:46:21.202386Z"
    },
    "papermill": {
     "duration": 0.035904,
     "end_time": "2025-09-22T21:46:21.205669",
     "exception": false,
     "start_time": "2025-09-22T21:46:21.169765",
     "status": "completed"
    },
    "tags": []
   },
   "outputs": [],
   "source": [
    "# log-transform the big count so it doesn't dominate purely by scale\n",
    "if 'hq_location_count' in df.columns:\n",
    "    df['hq_location_count'] = np.log1p(df['hq_location_count'])\n",
    "\n",
    "# job COUNTRY → top-K dummies + \"OTHER\"\n",
    "K_COUNTRIES = 15\n",
    "country_raw = df['country'].fillna('Unknown').astype(str).str.upper()\n",
    "top_cty = country_raw.value_counts().nlargest(K_COUNTRIES).index\n",
    "df['country_topk'] = np.where(country_raw.isin(top_cty), country_raw, 'OTHER')\n",
    "country_dum = pd.get_dummies(df['country_topk'], prefix='country')\n",
    "\n",
    "# HQ COUNTRY → top-K dummies + \"OTHER\"\n",
    "hq_raw = df['hq_country'].fillna('Unknown').astype(str).str.upper()\n",
    "top_hq = hq_raw.value_counts().nlargest(K_COUNTRIES).index\n",
    "df['hq_country_topk'] = np.where(hq_raw.isin(top_hq), hq_raw, 'OTHER')\n",
    "hq_dum = pd.get_dummies(df['hq_country_topk'], prefix='hq_country')\n",
    "\n",
    "# drop any old country/hq_country dummies so we don't duplicate\n",
    "old_country = [c for c in df.columns if c.startswith('country_') and c not in ['country_topk']]\n",
    "old_hq      = [c for c in df.columns if c.startswith('hq_country_') and c not in ['hq_country_topk']]\n",
    "df = df.drop(columns=old_country + old_hq, errors='ignore')\n",
    "\n",
    "# attach the new dummies\n",
    "df = pd.concat([df, country_dum, hq_dum], axis=1)"
   ]
  },
  {
   "cell_type": "markdown",
   "id": "50a99f32",
   "metadata": {
    "papermill": {
     "duration": 0.009646,
     "end_time": "2025-09-22T21:46:21.225521",
     "exception": false,
     "start_time": "2025-09-22T21:46:21.215875",
     "status": "completed"
    },
    "tags": []
   },
   "source": [
    "Let's also process the various skills that appear in the dataset:"
   ]
  },
  {
   "cell_type": "code",
   "execution_count": 16,
   "id": "e7d487ae",
   "metadata": {
    "execution": {
     "iopub.execute_input": "2025-09-22T21:46:21.250071Z",
     "iopub.status.busy": "2025-09-22T21:46:21.249675Z",
     "iopub.status.idle": "2025-09-22T21:46:21.326040Z",
     "shell.execute_reply": "2025-09-22T21:46:21.325083Z"
    },
    "papermill": {
     "duration": 0.090966,
     "end_time": "2025-09-22T21:46:21.327900",
     "exception": false,
     "start_time": "2025-09-22T21:46:21.236934",
     "status": "completed"
    },
    "tags": []
   },
   "outputs": [],
   "source": [
    "import ast, re\n",
    "from collections import Counter\n",
    "\n",
    "def parse_skills(cell):\n",
    "    if pd.isna(cell): return []\n",
    "    t = str(cell).strip()\n",
    "    try:\n",
    "        # Handles \"['Python', 'SQL']\"\n",
    "        items = ast.literal_eval(t) if t.startswith('[') and t.endswith(']') else re.split(r'[,\\|;/]+', t)\n",
    "    except Exception:\n",
    "        items = re.split(r'[,\\|;/]+', t)\n",
    "    cleaned = []\n",
    "    for x in items:\n",
    "        x = (str(x).lower().strip()\n",
    "                .strip(\"'\\\"[]()\")                       # drop stray quotes/brackets\n",
    "                .replace('\\u00a0',' '))\n",
    "        x = re.sub(r'\\s+', ' ', x)\n",
    "        x = re.sub(r'[^a-z0-9+.#\\-\\s]', '', x)         # keep sane chars\n",
    "        if x: cleaned.append(x)\n",
    "    return cleaned\n",
    "\n",
    "# normalize common variants\n",
    "SYN = {'scikit learn':'sklearn','scikit-learn':'sklearn','power bi':'powerbi',\n",
    "       'ms excel':'excel','node js':'nodejs','c plus plus':'c++',\n",
    "       'machine learning':'machine_learning'}\n",
    "skills_list = df['skills'].apply(parse_skills).apply(lambda xs: [SYN.get(s,s) for s in xs])\n",
    "\n",
    "# keep only skills with enough support\n",
    "MIN_SUPPORT = 10\n",
    "cnt = Counter(s for xs in skills_list for s in xs)\n",
    "keep = {s for s,c in cnt.items() if c >= MIN_SUPPORT}\n",
    "\n",
    "# one-hots + counts\n",
    "for s in sorted(keep):\n",
    "    df[f\"skill_{s.replace(' ','_')}\"] = skills_list.apply(lambda xs, s=s: int(s in xs))\n",
    "df['n_skills']        = skills_list.apply(len)\n",
    "df['n_topk_skills']   = df.filter(like='skill_').sum(axis=1)\n",
    "df['n_other_skills']  = df['n_skills'] - df['n_topk_skills']"
   ]
  },
  {
   "cell_type": "markdown",
   "id": "0a9bf2f1",
   "metadata": {
    "papermill": {
     "duration": 0.00977,
     "end_time": "2025-09-22T21:46:21.347722",
     "exception": false,
     "start_time": "2025-09-22T21:46:21.337952",
     "status": "completed"
    },
    "tags": []
   },
   "source": [
    "After finishing preparing all of our data, we can move onto the modelling stage.\n",
    "\n",
    "### 7 - Modelling\n",
    "\n",
    "Let's define our target:"
   ]
  },
  {
   "cell_type": "code",
   "execution_count": 17,
   "id": "19824b03",
   "metadata": {
    "execution": {
     "iopub.execute_input": "2025-09-22T21:46:21.368844Z",
     "iopub.status.busy": "2025-09-22T21:46:21.368448Z",
     "iopub.status.idle": "2025-09-22T21:46:21.374415Z",
     "shell.execute_reply": "2025-09-22T21:46:21.373060Z"
    },
    "papermill": {
     "duration": 0.018833,
     "end_time": "2025-09-22T21:46:21.376417",
     "exception": false,
     "start_time": "2025-09-22T21:46:21.357584",
     "status": "completed"
    },
    "tags": []
   },
   "outputs": [],
   "source": [
    "y = df['salary_cad_log'].copy()"
   ]
  },
  {
   "cell_type": "markdown",
   "id": "f9a9235c",
   "metadata": {
    "papermill": {
     "duration": 0.010315,
     "end_time": "2025-09-22T21:46:21.397225",
     "exception": false,
     "start_time": "2025-09-22T21:46:21.386910",
     "status": "completed"
    },
    "tags": []
   },
   "source": [
    "In Section 6, we created a variety of new features that we will use throughout the modeling phase. However, we do not want to include some of our old features, or features that will not contribute properly towards our modelling."
   ]
  },
  {
   "cell_type": "code",
   "execution_count": 18,
   "id": "11787f2d",
   "metadata": {
    "execution": {
     "iopub.execute_input": "2025-09-22T21:46:21.418491Z",
     "iopub.status.busy": "2025-09-22T21:46:21.418139Z",
     "iopub.status.idle": "2025-09-22T21:46:21.429696Z",
     "shell.execute_reply": "2025-09-22T21:46:21.428539Z"
    },
    "papermill": {
     "duration": 0.024288,
     "end_time": "2025-09-22T21:46:21.431586",
     "exception": false,
     "start_time": "2025-09-22T21:46:21.407298",
     "status": "completed"
    },
    "tags": []
   },
   "outputs": [],
   "source": [
    "ban = {'salary', 'salary_eur', 'salary_cad', 'salary_cad_log', 'salary_cad_log_capped',\n",
    "    'post_date', 'job_title', 'title_clean', 'status', 'status_clean',\n",
    "    'location', 'industry', 'industry_topk', 'company', 'company_size',\n",
    "    'headquarter', 'revenue', 'ownership', 'country'}\n",
    "\n",
    "num_bool = df.select_dtypes(include=['number', 'bool']).columns\n",
    "feature_cols = [c for c in num_bool if c not in ban]\n",
    "\n",
    "X = df[feature_cols].copy()"
   ]
  },
  {
   "cell_type": "markdown",
   "id": "066199ad",
   "metadata": {
    "papermill": {
     "duration": 0.010348,
     "end_time": "2025-09-22T21:46:21.452948",
     "exception": false,
     "start_time": "2025-09-22T21:46:21.442600",
     "status": "completed"
    },
    "tags": []
   },
   "source": [
    "Now we can begin training and testing our model."
   ]
  },
  {
   "cell_type": "code",
   "execution_count": 19,
   "id": "a0ecbc0c",
   "metadata": {
    "execution": {
     "iopub.execute_input": "2025-09-22T21:46:21.477317Z",
     "iopub.status.busy": "2025-09-22T21:46:21.476222Z",
     "iopub.status.idle": "2025-09-22T21:46:21.489027Z",
     "shell.execute_reply": "2025-09-22T21:46:21.487929Z"
    },
    "papermill": {
     "duration": 0.027434,
     "end_time": "2025-09-22T21:46:21.491031",
     "exception": false,
     "start_time": "2025-09-22T21:46:21.463597",
     "status": "completed"
    },
    "tags": []
   },
   "outputs": [],
   "source": [
    "X_train, X_valid, y_train, y_valid = train_test_split(\n",
    "    X, y, test_size = 0.2, random_state=42\n",
    ")\n",
    "\n",
    "# Baseline\n",
    "dummy = DummyRegressor(strategy='median').fit(X_train, y_train)\n",
    "\n",
    "def eval_model(m, name):\n",
    "    yhat_log = m.predict(X_valid)\n",
    "    # Duan smearing\n",
    "    resid = y_train - m.predict(X_train)\n",
    "    smear = float(np.mean(np.exp(resid)))\n",
    "    yhat = np.exp(yhat_log) * smear\n",
    "    mae_log = mean_absolute_error(y_valid, yhat_log)\n",
    "    mae_cad = mean_absolute_error(np.exp(y_valid), yhat)\n",
    "    print(f\"{name:28s} MAE_log={mae_log:,.4f}      MAE_CAD={mae_cad:,.0f}\")\n",
    "    return smear"
   ]
  },
  {
   "cell_type": "code",
   "execution_count": 20,
   "id": "ef3efc6a",
   "metadata": {
    "execution": {
     "iopub.execute_input": "2025-09-22T21:46:21.514347Z",
     "iopub.status.busy": "2025-09-22T21:46:21.513940Z",
     "iopub.status.idle": "2025-09-22T21:46:21.522621Z",
     "shell.execute_reply": "2025-09-22T21:46:21.521466Z"
    },
    "papermill": {
     "duration": 0.021769,
     "end_time": "2025-09-22T21:46:21.524618",
     "exception": false,
     "start_time": "2025-09-22T21:46:21.502849",
     "status": "completed"
    },
    "tags": []
   },
   "outputs": [
    {
     "name": "stdout",
     "output_type": "stream",
     "text": [
      "Dummy (median)               MAE_log=0.5339      MAE_CAD=83,720\n"
     ]
    }
   ],
   "source": [
    "_ = eval_model(dummy, \"Dummy (median)\")"
   ]
  },
  {
   "cell_type": "code",
   "execution_count": 21,
   "id": "c48ffbb3",
   "metadata": {
    "execution": {
     "iopub.execute_input": "2025-09-22T21:46:21.546674Z",
     "iopub.status.busy": "2025-09-22T21:46:21.546296Z",
     "iopub.status.idle": "2025-09-22T21:46:25.929321Z",
     "shell.execute_reply": "2025-09-22T21:46:25.928433Z"
    },
    "papermill": {
     "duration": 4.396678,
     "end_time": "2025-09-22T21:46:25.931500",
     "exception": false,
     "start_time": "2025-09-22T21:46:21.534822",
     "status": "completed"
    },
    "tags": []
   },
   "outputs": [
    {
     "name": "stdout",
     "output_type": "stream",
     "text": [
      "HGBR (MAE loss)              MAE_log=0.2763      MAE_CAD=48,762\n"
     ]
    }
   ],
   "source": [
    "from sklearn.ensemble import HistGradientBoostingRegressor\n",
    "gbr = HistGradientBoostingRegressor(\n",
    "    loss=\"absolute_error\", learning_rate=0.05, max_iter=500, random_state=42\n",
    ").fit(X_train, y_train)\n",
    "_ = eval_model(gbr, \"HGBR (MAE loss)\")"
   ]
  },
  {
   "cell_type": "markdown",
   "id": "a22b88f5",
   "metadata": {
    "papermill": {
     "duration": 0.009636,
     "end_time": "2025-09-22T21:46:25.951608",
     "exception": false,
     "start_time": "2025-09-22T21:46:25.941972",
     "status": "completed"
    },
    "tags": []
   },
   "source": [
    "We can see that HGBR performs better than our dummy model, which represents the median. MAE_CAD = 48,854 can be interpreted as the absolute error of our salary estimations, which is smaller compared to the median salary_cad of $218,252.\n",
    "\n",
    "Let's fine-tune our HGBR model to see if we can get an even better estimate."
   ]
  },
  {
   "cell_type": "code",
   "execution_count": 22,
   "id": "64d25368",
   "metadata": {
    "execution": {
     "iopub.execute_input": "2025-09-22T21:46:25.972854Z",
     "iopub.status.busy": "2025-09-22T21:46:25.972502Z",
     "iopub.status.idle": "2025-09-22T21:53:29.487451Z",
     "shell.execute_reply": "2025-09-22T21:53:29.486371Z"
    },
    "papermill": {
     "duration": 423.538863,
     "end_time": "2025-09-22T21:53:29.500539",
     "exception": false,
     "start_time": "2025-09-22T21:46:25.961676",
     "status": "completed"
    },
    "tags": []
   },
   "outputs": [
    {
     "name": "stdout",
     "output_type": "stream",
     "text": [
      "Best MAE_CAD: 45558.0 with params: {'learning_rate': 0.08, 'max_leaf_nodes': 31, 'min_samples_leaf': 10, 'l2_regularization': 0.3, 'max_iter': 600}\n"
     ]
    }
   ],
   "source": [
    "def eval_hgbr(params):\n",
    "    m = HistGradientBoostingRegressor(\n",
    "        loss=\"absolute_error\",\n",
    "        random_state=42,\n",
    "        **params\n",
    "    ).fit(X_train, y_train)\n",
    "    # smearing on train\n",
    "    smear = float(np.mean(np.exp(y_train - m.predict(X_train))))\n",
    "    yhat = np.exp(m.predict(X_valid)) * smear\n",
    "    mae = mean_absolute_error(np.exp(y_valid), yhat)\n",
    "    return mae, m, smear\n",
    "\n",
    "grid = [\n",
    "    {\"learning_rate\": lr, \"max_leaf_nodes\": mln, \"min_samples_leaf\": msl, \"l2_regularization\": l2, \"max_iter\": 600}\n",
    "    for lr in [0.03, 0.05, 0.08]\n",
    "    for mln in [31, 63, 127]\n",
    "    for msl in [10, 20, 50]\n",
    "    for l2 in [0.0, 0.3, 1.0]\n",
    "]\n",
    "\n",
    "best = None\n",
    "for p in grid:\n",
    "    mae, m, smear = eval_hgbr(p)\n",
    "    if (best is None) or (mae < best[0]):\n",
    "        best = (mae, p, m, smear)\n",
    "\n",
    "print(\"Best MAE_CAD:\", round(best[0], 0), \"with params:\", best[1])\n",
    "best_model, best_smear = best[2], best[3]"
   ]
  },
  {
   "cell_type": "code",
   "execution_count": 23,
   "id": "64f70bcb",
   "metadata": {
    "execution": {
     "iopub.execute_input": "2025-09-22T21:53:29.522613Z",
     "iopub.status.busy": "2025-09-22T21:53:29.522258Z",
     "iopub.status.idle": "2025-09-22T21:53:39.300632Z",
     "shell.execute_reply": "2025-09-22T21:53:39.299848Z"
    },
    "papermill": {
     "duration": 9.792131,
     "end_time": "2025-09-22T21:53:39.302938",
     "exception": false,
     "start_time": "2025-09-22T21:53:29.510807",
     "status": "completed"
    },
    "tags": []
   },
   "outputs": [
    {
     "name": "stdout",
     "output_type": "stream",
     "text": [
      "country_INDIA             0.872767\n",
      "country_OTHER             0.119019\n",
      "hq_country_US             0.087501\n",
      "status_Hybrid             0.072895\n",
      "revenue_eur               0.054495\n",
      "n_skills                  0.034523\n",
      "country_CA . HYBRID       0.034008\n",
      "own_Unknown               0.026510\n",
      "status_On-Site            0.026193\n",
      "skill_machine_learning    0.015526\n",
      "own_Private               0.013377\n",
      "own_Public                0.011668\n",
      "post_age_days             0.009472\n",
      "industry_Technology       0.006971\n",
      "industry_Finance          0.004268\n",
      "skill_deep_learning       0.004138\n",
      "skill_r                   0.003643\n",
      "country_CA                0.003280\n",
      "skill_numpy               0.003130\n",
      "status_Remote             0.003071\n",
      "dtype: float64\n"
     ]
    }
   ],
   "source": [
    "from sklearn.inspection import permutation_importance\n",
    "imp = permutation_importance(gbr, X_valid, y_valid, n_repeats=5, random_state=42)\n",
    "fi = (pd.Series(imp.importances_mean, index=X.columns)\n",
    "        .sort_values(ascending=False).head(20))\n",
    "print(fi)"
   ]
  },
  {
   "cell_type": "code",
   "execution_count": 24,
   "id": "4c3adc81",
   "metadata": {
    "execution": {
     "iopub.execute_input": "2025-09-22T21:53:39.325400Z",
     "iopub.status.busy": "2025-09-22T21:53:39.325037Z",
     "iopub.status.idle": "2025-09-22T21:53:57.606377Z",
     "shell.execute_reply": "2025-09-22T21:53:57.605363Z"
    },
    "papermill": {
     "duration": 18.295097,
     "end_time": "2025-09-22T21:53:57.608688",
     "exception": false,
     "start_time": "2025-09-22T21:53:39.313591",
     "status": "completed"
    },
    "tags": []
   },
   "outputs": [],
   "source": [
    "import shap\n",
    "\n",
    "# 1) Build a numeric copy for SHAP (booleans -> ints; everything -> float32/64)\n",
    "num_cols  = X_train.columns  # X_train already only has numeric/boolean features, right?\n",
    "Xtr_shap  = X_train[num_cols].copy()\n",
    "Xva_shap  = X_valid[num_cols].copy()\n",
    "\n",
    "# cast bools to 0/1 so the whole frame becomes numeric\n",
    "bool_cols = Xtr_shap.select_dtypes(include='bool').columns\n",
    "Xtr_shap[bool_cols] = Xtr_shap[bool_cols].astype(np.int8)\n",
    "Xva_shap[bool_cols] = Xva_shap[bool_cols].astype(np.int8)\n",
    "\n",
    "# replace infs; SHAP dislikes them\n",
    "Xtr_shap = Xtr_shap.replace([np.inf, -np.inf], np.nan)\n",
    "Xva_shap = Xva_shap.replace([np.inf, -np.inf], np.nan)\n",
    "\n",
    "# optional: fill NaNs only for the SHAP background (model was trained with NaNs fine)\n",
    "bg = shap.sample(Xtr_shap.fillna(Xtr_shap.median(numeric_only=True)), 200)  # small background speeds up\n",
    "\n",
    "# 2) Create the explainer with a numeric masker\n",
    "masker = shap.maskers.Independent(bg)\n",
    "expl   = shap.Explainer(gbr, masker, feature_names=Xtr_shap.columns)\n",
    "\n",
    "# 3) Compute SHAP values on the numeric validation set\n",
    "sv = expl(Xva_shap, check_additivity=False)   # sv.values shape: (n_valid, n_features)"
   ]
  },
  {
   "cell_type": "code",
   "execution_count": 25,
   "id": "d32e02fe",
   "metadata": {
    "execution": {
     "iopub.execute_input": "2025-09-22T21:53:57.630621Z",
     "iopub.status.busy": "2025-09-22T21:53:57.630096Z",
     "iopub.status.idle": "2025-09-22T21:53:57.655583Z",
     "shell.execute_reply": "2025-09-22T21:53:57.654361Z"
    },
    "papermill": {
     "duration": 0.038402,
     "end_time": "2025-09-22T21:53:57.657375",
     "exception": false,
     "start_time": "2025-09-22T21:53:57.618973",
     "status": "completed"
    },
    "tags": []
   },
   "outputs": [
    {
     "name": "stdout",
     "output_type": "stream",
     "text": [
      "                   feature  n_present  mean_shap  pct_effect_%\n",
      "7                  skill_r         65   0.028944      2.936729\n",
      "2      skill_deep_learning         29   0.023496      2.377373\n",
      "8              skill_spark         30   0.020729      2.094510\n",
      "11        skill_tensorflow         26   0.015523      1.564409\n",
      "3                skill_gcp         21   0.014409      1.451316\n",
      "5             skill_python        123   0.005206      0.521966\n",
      "0                skill_aws         38   0.003116      0.312084\n",
      "10           skill_tableau         26   0.002338      0.234087\n",
      "4   skill_machine_learning        112  -0.014987     -1.487520\n",
      "6            skill_pytorch         22  -0.015136     -1.502241\n",
      "9                skill_sql         82  -0.018275     -1.810921\n",
      "1              skill_azure         27  -0.028209     -2.781488\n",
      "         feature  n_present  mean_shap  pct_effect_%\n",
      "0     country_CA         21   0.060406      6.226738\n",
      "2  country_OTHER         91  -0.000390     -0.038998\n",
      "1  country_INDIA         22  -1.169258    -68.940256\n"
     ]
    }
   ],
   "source": [
    "def top_positive_binary(prefix, Xv=Xva_shap, sv=sv, top=15, min_n=20):\n",
    "    rows = []\n",
    "    for col in [c for c in Xv.columns if c.startswith(prefix)]:\n",
    "        j = Xv.columns.get_loc(col)\n",
    "        present = Xv[col] == 1\n",
    "        n = int(present.sum())\n",
    "        if n < min_n: \n",
    "            continue\n",
    "        mean_shap = sv.values[present, j].mean()         # log-scale effect\n",
    "        pct = (np.exp(mean_shap) - 1.0) * 100.0          # convert to %\n",
    "        rows.append((col, n, mean_shap, pct))\n",
    "    return (pd.DataFrame(rows, columns=['feature','n_present','mean_shap','pct_effect_%'])\n",
    "            .sort_values('mean_shap', ascending=False)\n",
    "            .head(top))\n",
    "\n",
    "top_skills_up   = top_positive_binary('skill_', top=20, min_n=20)\n",
    "top_country_up  = top_positive_binary('country_', top=15, min_n=20)\n",
    "\n",
    "print(top_skills_up)\n",
    "print(top_country_up)"
   ]
  },
  {
   "cell_type": "markdown",
   "id": "b72f3873",
   "metadata": {
    "papermill": {
     "duration": 0.010138,
     "end_time": "2025-09-22T21:53:57.678215",
     "exception": false,
     "start_time": "2025-09-22T21:53:57.668077",
     "status": "completed"
    },
    "tags": []
   },
   "source": [
    "From this, we can see that the Canadian job postings have about 6% higher salary than other countries, and the top 3 skills (according to salary increase) are:\n",
    "\n",
    "* R Programming - 2.94% increase\n",
    "* Deep Learning - 2.38% increase\n",
    "* Spark - 2.09% increase\n",
    "\n",
    "This concludes the first edition of the Salary Predictor."
   ]
  },
  {
   "cell_type": "code",
   "execution_count": null,
   "id": "31881b6f",
   "metadata": {
    "papermill": {
     "duration": 0.009928,
     "end_time": "2025-09-22T21:53:57.698433",
     "exception": false,
     "start_time": "2025-09-22T21:53:57.688505",
     "status": "completed"
    },
    "tags": []
   },
   "outputs": [],
   "source": []
  }
 ],
 "metadata": {
  "kaggle": {
   "accelerator": "none",
   "dataSources": [
    {
     "datasetId": 8208754,
     "sourceId": 12986439,
     "sourceType": "datasetVersion"
    }
   ],
   "dockerImageVersionId": 31089,
   "isGpuEnabled": false,
   "isInternetEnabled": false,
   "language": "python",
   "sourceType": "notebook"
  },
  "kernelspec": {
   "display_name": "Python 3",
   "language": "python",
   "name": "python3"
  },
  "language_info": {
   "codemirror_mode": {
    "name": "ipython",
    "version": 3
   },
   "file_extension": ".py",
   "mimetype": "text/x-python",
   "name": "python",
   "nbconvert_exporter": "python",
   "pygments_lexer": "ipython3",
   "version": "3.11.13"
  },
  "papermill": {
   "default_parameters": {},
   "duration": 472.51314,
   "end_time": "2025-09-22T21:54:00.007986",
   "environment_variables": {},
   "exception": null,
   "input_path": "__notebook__.ipynb",
   "output_path": "__notebook__.ipynb",
   "parameters": {},
   "start_time": "2025-09-22T21:46:07.494846",
   "version": "2.6.0"
  }
 },
 "nbformat": 4,
 "nbformat_minor": 5
}
