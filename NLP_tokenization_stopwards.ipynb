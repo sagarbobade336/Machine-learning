{
  "nbformat": 4,
  "nbformat_minor": 0,
  "metadata": {
    "colab": {
      "provenance": []
    },
    "kernelspec": {
      "name": "python3",
      "display_name": "Python 3"
    },
    "language_info": {
      "name": "python"
    }
  },
  "cells": [
    {
      "cell_type": "code",
      "execution_count": 9,
      "metadata": {
        "id": "rUEgVS29coca"
      },
      "outputs": [],
      "source": [
        "# Tokenization"
      ]
    },
    {
      "cell_type": "code",
      "source": [
        "import nltk  # nature language tool kit\n",
        "\n",
        "from nltk.tokenize import word_tokenize\n",
        "from nltk.tokenize import sent_tokenize\n",
        "nltk.download('punkt_tab')\n",
        "nltk.download('stopwords')\n",
        "from nltk.corpus import stopwords"
      ],
      "metadata": {
        "colab": {
          "base_uri": "https://localhost:8080/"
        },
        "id": "U4REJRjwfWam",
        "outputId": "98a2bca2-ef6a-40b8-c877-9176b1e2c55a"
      },
      "execution_count": 34,
      "outputs": [
        {
          "output_type": "stream",
          "name": "stderr",
          "text": [
            "[nltk_data] Downloading package punkt_tab to /root/nltk_data...\n",
            "[nltk_data]   Package punkt_tab is already up-to-date!\n",
            "[nltk_data] Downloading package stopwords to /root/nltk_data...\n",
            "[nltk_data]   Package stopwords is already up-to-date!\n"
          ]
        }
      ]
    },
    {
      "cell_type": "code",
      "source": [
        "text = \"This is an example of a sentence showing how to remove the stopwords using NLTK\""
      ],
      "metadata": {
        "id": "bgAW4Qp5fqbx"
      },
      "execution_count": 35,
      "outputs": []
    },
    {
      "cell_type": "code",
      "source": [
        "tokens=word_tokenize(text)\n",
        "tokens"
      ],
      "metadata": {
        "colab": {
          "base_uri": "https://localhost:8080/"
        },
        "id": "7qPkH1HXgLwR",
        "outputId": "0306eab5-96f9-4f5b-8c55-3fa1123c4ec1"
      },
      "execution_count": 36,
      "outputs": [
        {
          "output_type": "execute_result",
          "data": {
            "text/plain": [
              "['This',\n",
              " 'is',\n",
              " 'an',\n",
              " 'example',\n",
              " 'of',\n",
              " 'a',\n",
              " 'sentence',\n",
              " 'showing',\n",
              " 'how',\n",
              " 'to',\n",
              " 'remove',\n",
              " 'the',\n",
              " 'stopwords',\n",
              " 'using',\n",
              " 'NLTK']"
            ]
          },
          "metadata": {},
          "execution_count": 36
        }
      ]
    },
    {
      "cell_type": "code",
      "source": [
        "lines = \"\"\" New York, often called New York City (NYC),[b] is the most populous city in the United States. It is located at the southern tip of New York State on one of the world's largest natural harbors. The city comprises five boroughs, each coextensive with its respective county. The city is the geographical and demographic center of both the Northeast megalopolis and the New York metropolitan area, the largest metropolitan area in the United States by both population and urban area. New York is a global center of finance[13] and commerce, culture, technology,[14] entertainment and media, academics and scientific output,[15] the arts and fashion, and, as home to the headquarters of the United Nations, international diplomacy.[16][17][18][19][20]\n",
        "\n",
        "With an estimated population in July 2024 of 8,478,072, distributed over 300.46 square miles (778.2 km2),[5] the city is the most densely populated major city in the United States.[6][7] New York City has more than double the population of Los Angeles, the country's second-most populous city.[21] Over 20.1 million people live in New York City's metropolitan statistical area[22] and 23.5 million in its combined statistical area as of 2020, both the largest in the U.S. New York City is one of the world's most populous megacities.[23] The city and its metropolitan area are the premier gateway for legal immigration to the United States. An estimated 800 languages are spoken in New York City,[24][25][26] making it the most linguistically diverse city in the world.[27][28] The New York City metropolitan region is home to the largest foreign-born population of any metropolitan region in the world, approximately 5.9 million as of 2023.  \"\"\""
      ],
      "metadata": {
        "id": "sasWmtwBgXy_"
      },
      "execution_count": 37,
      "outputs": []
    },
    {
      "cell_type": "code",
      "source": [
        "word_tokenize(lines)"
      ],
      "metadata": {
        "colab": {
          "base_uri": "https://localhost:8080/"
        },
        "id": "IKA6v5qnio-9",
        "outputId": "e668af08-fc0e-47cb-86b6-617caec94447"
      },
      "execution_count": 38,
      "outputs": [
        {
          "output_type": "execute_result",
          "data": {
            "text/plain": [
              "['New',\n",
              " 'York',\n",
              " ',',\n",
              " 'often',\n",
              " 'called',\n",
              " 'New',\n",
              " 'York',\n",
              " 'City',\n",
              " '(',\n",
              " 'NYC',\n",
              " ')',\n",
              " ',',\n",
              " '[',\n",
              " 'b',\n",
              " ']',\n",
              " 'is',\n",
              " 'the',\n",
              " 'most',\n",
              " 'populous',\n",
              " 'city',\n",
              " 'in',\n",
              " 'the',\n",
              " 'United',\n",
              " 'States',\n",
              " '.',\n",
              " 'It',\n",
              " 'is',\n",
              " 'located',\n",
              " 'at',\n",
              " 'the',\n",
              " 'southern',\n",
              " 'tip',\n",
              " 'of',\n",
              " 'New',\n",
              " 'York',\n",
              " 'State',\n",
              " 'on',\n",
              " 'one',\n",
              " 'of',\n",
              " 'the',\n",
              " 'world',\n",
              " \"'s\",\n",
              " 'largest',\n",
              " 'natural',\n",
              " 'harbors',\n",
              " '.',\n",
              " 'The',\n",
              " 'city',\n",
              " 'comprises',\n",
              " 'five',\n",
              " 'boroughs',\n",
              " ',',\n",
              " 'each',\n",
              " 'coextensive',\n",
              " 'with',\n",
              " 'its',\n",
              " 'respective',\n",
              " 'county',\n",
              " '.',\n",
              " 'The',\n",
              " 'city',\n",
              " 'is',\n",
              " 'the',\n",
              " 'geographical',\n",
              " 'and',\n",
              " 'demographic',\n",
              " 'center',\n",
              " 'of',\n",
              " 'both',\n",
              " 'the',\n",
              " 'Northeast',\n",
              " 'megalopolis',\n",
              " 'and',\n",
              " 'the',\n",
              " 'New',\n",
              " 'York',\n",
              " 'metropolitan',\n",
              " 'area',\n",
              " ',',\n",
              " 'the',\n",
              " 'largest',\n",
              " 'metropolitan',\n",
              " 'area',\n",
              " 'in',\n",
              " 'the',\n",
              " 'United',\n",
              " 'States',\n",
              " 'by',\n",
              " 'both',\n",
              " 'population',\n",
              " 'and',\n",
              " 'urban',\n",
              " 'area',\n",
              " '.',\n",
              " 'New',\n",
              " 'York',\n",
              " 'is',\n",
              " 'a',\n",
              " 'global',\n",
              " 'center',\n",
              " 'of',\n",
              " 'finance',\n",
              " '[',\n",
              " '13',\n",
              " ']',\n",
              " 'and',\n",
              " 'commerce',\n",
              " ',',\n",
              " 'culture',\n",
              " ',',\n",
              " 'technology',\n",
              " ',',\n",
              " '[',\n",
              " '14',\n",
              " ']',\n",
              " 'entertainment',\n",
              " 'and',\n",
              " 'media',\n",
              " ',',\n",
              " 'academics',\n",
              " 'and',\n",
              " 'scientific',\n",
              " 'output',\n",
              " ',',\n",
              " '[',\n",
              " '15',\n",
              " ']',\n",
              " 'the',\n",
              " 'arts',\n",
              " 'and',\n",
              " 'fashion',\n",
              " ',',\n",
              " 'and',\n",
              " ',',\n",
              " 'as',\n",
              " 'home',\n",
              " 'to',\n",
              " 'the',\n",
              " 'headquarters',\n",
              " 'of',\n",
              " 'the',\n",
              " 'United',\n",
              " 'Nations',\n",
              " ',',\n",
              " 'international',\n",
              " 'diplomacy',\n",
              " '.',\n",
              " '[',\n",
              " '16',\n",
              " ']',\n",
              " '[',\n",
              " '17',\n",
              " ']',\n",
              " '[',\n",
              " '18',\n",
              " ']',\n",
              " '[',\n",
              " '19',\n",
              " ']',\n",
              " '[',\n",
              " '20',\n",
              " ']',\n",
              " 'With',\n",
              " 'an',\n",
              " 'estimated',\n",
              " 'population',\n",
              " 'in',\n",
              " 'July',\n",
              " '2024',\n",
              " 'of',\n",
              " '8,478,072',\n",
              " ',',\n",
              " 'distributed',\n",
              " 'over',\n",
              " '300.46',\n",
              " 'square',\n",
              " 'miles',\n",
              " '(',\n",
              " '778.2',\n",
              " 'km2',\n",
              " ')',\n",
              " ',',\n",
              " '[',\n",
              " '5',\n",
              " ']',\n",
              " 'the',\n",
              " 'city',\n",
              " 'is',\n",
              " 'the',\n",
              " 'most',\n",
              " 'densely',\n",
              " 'populated',\n",
              " 'major',\n",
              " 'city',\n",
              " 'in',\n",
              " 'the',\n",
              " 'United',\n",
              " 'States',\n",
              " '.',\n",
              " '[',\n",
              " '6',\n",
              " ']',\n",
              " '[',\n",
              " '7',\n",
              " ']',\n",
              " 'New',\n",
              " 'York',\n",
              " 'City',\n",
              " 'has',\n",
              " 'more',\n",
              " 'than',\n",
              " 'double',\n",
              " 'the',\n",
              " 'population',\n",
              " 'of',\n",
              " 'Los',\n",
              " 'Angeles',\n",
              " ',',\n",
              " 'the',\n",
              " 'country',\n",
              " \"'s\",\n",
              " 'second-most',\n",
              " 'populous',\n",
              " 'city',\n",
              " '.',\n",
              " '[',\n",
              " '21',\n",
              " ']',\n",
              " 'Over',\n",
              " '20.1',\n",
              " 'million',\n",
              " 'people',\n",
              " 'live',\n",
              " 'in',\n",
              " 'New',\n",
              " 'York',\n",
              " 'City',\n",
              " \"'s\",\n",
              " 'metropolitan',\n",
              " 'statistical',\n",
              " 'area',\n",
              " '[',\n",
              " '22',\n",
              " ']',\n",
              " 'and',\n",
              " '23.5',\n",
              " 'million',\n",
              " 'in',\n",
              " 'its',\n",
              " 'combined',\n",
              " 'statistical',\n",
              " 'area',\n",
              " 'as',\n",
              " 'of',\n",
              " '2020',\n",
              " ',',\n",
              " 'both',\n",
              " 'the',\n",
              " 'largest',\n",
              " 'in',\n",
              " 'the',\n",
              " 'U.S.',\n",
              " 'New',\n",
              " 'York',\n",
              " 'City',\n",
              " 'is',\n",
              " 'one',\n",
              " 'of',\n",
              " 'the',\n",
              " 'world',\n",
              " \"'s\",\n",
              " 'most',\n",
              " 'populous',\n",
              " 'megacities',\n",
              " '.',\n",
              " '[',\n",
              " '23',\n",
              " ']',\n",
              " 'The',\n",
              " 'city',\n",
              " 'and',\n",
              " 'its',\n",
              " 'metropolitan',\n",
              " 'area',\n",
              " 'are',\n",
              " 'the',\n",
              " 'premier',\n",
              " 'gateway',\n",
              " 'for',\n",
              " 'legal',\n",
              " 'immigration',\n",
              " 'to',\n",
              " 'the',\n",
              " 'United',\n",
              " 'States',\n",
              " '.',\n",
              " 'An',\n",
              " 'estimated',\n",
              " '800',\n",
              " 'languages',\n",
              " 'are',\n",
              " 'spoken',\n",
              " 'in',\n",
              " 'New',\n",
              " 'York',\n",
              " 'City',\n",
              " ',',\n",
              " '[',\n",
              " '24',\n",
              " ']',\n",
              " '[',\n",
              " '25',\n",
              " ']',\n",
              " '[',\n",
              " '26',\n",
              " ']',\n",
              " 'making',\n",
              " 'it',\n",
              " 'the',\n",
              " 'most',\n",
              " 'linguistically',\n",
              " 'diverse',\n",
              " 'city',\n",
              " 'in',\n",
              " 'the',\n",
              " 'world',\n",
              " '.',\n",
              " '[',\n",
              " '27',\n",
              " ']',\n",
              " '[',\n",
              " '28',\n",
              " ']',\n",
              " 'The',\n",
              " 'New',\n",
              " 'York',\n",
              " 'City',\n",
              " 'metropolitan',\n",
              " 'region',\n",
              " 'is',\n",
              " 'home',\n",
              " 'to',\n",
              " 'the',\n",
              " 'largest',\n",
              " 'foreign-born',\n",
              " 'population',\n",
              " 'of',\n",
              " 'any',\n",
              " 'metropolitan',\n",
              " 'region',\n",
              " 'in',\n",
              " 'the',\n",
              " 'world',\n",
              " ',',\n",
              " 'approximately',\n",
              " '5.9',\n",
              " 'million',\n",
              " 'as',\n",
              " 'of',\n",
              " '2023',\n",
              " '.']"
            ]
          },
          "metadata": {},
          "execution_count": 38
        }
      ]
    },
    {
      "cell_type": "code",
      "source": [
        "stop_words = set(stopwords.words('english'))"
      ],
      "metadata": {
        "id": "0yISTXefizGh"
      },
      "execution_count": 39,
      "outputs": []
    },
    {
      "cell_type": "code",
      "source": [
        "[word for word in tokens if word.lower() not in stop_words]"
      ],
      "metadata": {
        "colab": {
          "base_uri": "https://localhost:8080/"
        },
        "id": "nzOf3Lmqj_ss",
        "outputId": "9d07e184-7a57-473e-d742-9e9e61314a61"
      },
      "execution_count": 40,
      "outputs": [
        {
          "output_type": "execute_result",
          "data": {
            "text/plain": [
              "['example', 'sentence', 'showing', 'remove', 'stopwords', 'using', 'NLTK']"
            ]
          },
          "metadata": {},
          "execution_count": 40
        }
      ]
    },
    {
      "cell_type": "code",
      "source": [
        "text"
      ],
      "metadata": {
        "colab": {
          "base_uri": "https://localhost:8080/",
          "height": 35
        },
        "id": "DGnQb_tFkXeY",
        "outputId": "6b092b1c-d653-4c61-eb01-7bfa5ac2e06c"
      },
      "execution_count": 49,
      "outputs": [
        {
          "output_type": "execute_result",
          "data": {
            "text/plain": [
              "'This is an example of a sentence showing how to remove the stopwords using NLTK'"
            ],
            "application/vnd.google.colaboratory.intrinsic+json": {
              "type": "string"
            }
          },
          "metadata": {},
          "execution_count": 49
        }
      ]
    },
    {
      "cell_type": "code",
      "source": [
        "import string"
      ],
      "metadata": {
        "id": "vBgG4Ti9lzEH"
      },
      "execution_count": 42,
      "outputs": []
    },
    {
      "cell_type": "code",
      "source": [
        "punctuation = list(string.punctuation)"
      ],
      "metadata": {
        "id": "q8YDZFkTl493"
      },
      "execution_count": 43,
      "outputs": []
    },
    {
      "cell_type": "code",
      "source": [
        "punctuation"
      ],
      "metadata": {
        "colab": {
          "base_uri": "https://localhost:8080/"
        },
        "id": "sLtsYlwBl96D",
        "outputId": "fdf86a91-4175-4843-f1eb-5d592c6f4dce"
      },
      "execution_count": 44,
      "outputs": [
        {
          "output_type": "execute_result",
          "data": {
            "text/plain": [
              "['!',\n",
              " '\"',\n",
              " '#',\n",
              " '$',\n",
              " '%',\n",
              " '&',\n",
              " \"'\",\n",
              " '(',\n",
              " ')',\n",
              " '*',\n",
              " '+',\n",
              " ',',\n",
              " '-',\n",
              " '.',\n",
              " '/',\n",
              " ':',\n",
              " ';',\n",
              " '<',\n",
              " '=',\n",
              " '>',\n",
              " '?',\n",
              " '@',\n",
              " '[',\n",
              " '\\\\',\n",
              " ']',\n",
              " '^',\n",
              " '_',\n",
              " '`',\n",
              " '{',\n",
              " '|',\n",
              " '}',\n",
              " '~']"
            ]
          },
          "metadata": {},
          "execution_count": 44
        }
      ]
    },
    {
      "cell_type": "code",
      "source": [
        "sen = \" Sagar $#$ Varun*&^ AbhiS$hek ;;\""
      ],
      "metadata": {
        "id": "5KP2WJPHmAHn"
      },
      "execution_count": 45,
      "outputs": []
    },
    {
      "cell_type": "code",
      "source": [
        "for i in punctuation:\n",
        "    sen = sen.replace(i,'')\n"
      ],
      "metadata": {
        "id": "lZ7zcHsTmgQT"
      },
      "execution_count": 46,
      "outputs": []
    },
    {
      "cell_type": "code",
      "source": [
        "sen"
      ],
      "metadata": {
        "colab": {
          "base_uri": "https://localhost:8080/",
          "height": 35
        },
        "id": "aGmkO_sbmtAB",
        "outputId": "191cc9c3-b634-480a-d6a5-85c1fc16d704"
      },
      "execution_count": 47,
      "outputs": [
        {
          "output_type": "execute_result",
          "data": {
            "text/plain": [
              "' Sagar  Varun AbhiShek '"
            ],
            "application/vnd.google.colaboratory.intrinsic+json": {
              "type": "string"
            }
          },
          "metadata": {},
          "execution_count": 47
        }
      ]
    },
    {
      "cell_type": "code",
      "source": [],
      "metadata": {
        "id": "m9iWrASamuwW"
      },
      "execution_count": null,
      "outputs": []
    }
  ]
}