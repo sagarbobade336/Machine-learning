{
 "cells": [
  {
   "cell_type": "markdown",
   "id": "c1fa53c6",
   "metadata": {
    "papermill": {
     "duration": 0.006132,
     "end_time": "2025-09-26T05:43:13.588423",
     "exception": false,
     "start_time": "2025-09-26T05:43:13.582291",
     "status": "completed"
    },
    "tags": []
   },
   "source": [
    "# Import Necessary Libraries"
   ]
  },
  {
   "cell_type": "code",
   "execution_count": 1,
   "id": "bea8c0ce",
   "metadata": {
    "execution": {
     "iopub.execute_input": "2025-09-26T05:43:13.601223Z",
     "iopub.status.busy": "2025-09-26T05:43:13.600889Z",
     "iopub.status.idle": "2025-09-26T05:43:17.247801Z",
     "shell.execute_reply": "2025-09-26T05:43:17.246824Z"
    },
    "papermill": {
     "duration": 3.655186,
     "end_time": "2025-09-26T05:43:17.249682",
     "exception": false,
     "start_time": "2025-09-26T05:43:13.594496",
     "status": "completed"
    },
    "tags": []
   },
   "outputs": [],
   "source": [
    "import pandas as pd\n",
    "import numpy as np\n",
    "import seaborn as sns\n",
    "import matplotlib as plt\n",
    "import warnings\n",
    "warnings.filterwarnings(\"ignore\")"
   ]
  },
  {
   "cell_type": "markdown",
   "id": "c0705df0",
   "metadata": {
    "papermill": {
     "duration": 0.004937,
     "end_time": "2025-09-26T05:43:17.260064",
     "exception": false,
     "start_time": "2025-09-26T05:43:17.255127",
     "status": "completed"
    },
    "tags": []
   },
   "source": [
    "# Loading Data from Dataset"
   ]
  },
  {
   "cell_type": "code",
   "execution_count": 2,
   "id": "574235c8",
   "metadata": {
    "execution": {
     "iopub.execute_input": "2025-09-26T05:43:17.272301Z",
     "iopub.status.busy": "2025-09-26T05:43:17.271288Z",
     "iopub.status.idle": "2025-09-26T05:43:17.302347Z",
     "shell.execute_reply": "2025-09-26T05:43:17.301380Z"
    },
    "papermill": {
     "duration": 0.038817,
     "end_time": "2025-09-26T05:43:17.304036",
     "exception": false,
     "start_time": "2025-09-26T05:43:17.265219",
     "status": "completed"
    },
    "tags": []
   },
   "outputs": [],
   "source": [
    "coffee=pd.read_csv(\"/kaggle/input/coffee-sales-csv/Coffe_sales.csv\")"
   ]
  },
  {
   "cell_type": "code",
   "execution_count": 3,
   "id": "0ed81d1e",
   "metadata": {
    "execution": {
     "iopub.execute_input": "2025-09-26T05:43:17.315865Z",
     "iopub.status.busy": "2025-09-26T05:43:17.315547Z",
     "iopub.status.idle": "2025-09-26T05:43:17.350168Z",
     "shell.execute_reply": "2025-09-26T05:43:17.349036Z"
    },
    "papermill": {
     "duration": 0.04261,
     "end_time": "2025-09-26T05:43:17.351950",
     "exception": false,
     "start_time": "2025-09-26T05:43:17.309340",
     "status": "completed"
    },
    "tags": []
   },
   "outputs": [
    {
     "data": {
      "text/html": [
       "<div>\n",
       "<style scoped>\n",
       "    .dataframe tbody tr th:only-of-type {\n",
       "        vertical-align: middle;\n",
       "    }\n",
       "\n",
       "    .dataframe tbody tr th {\n",
       "        vertical-align: top;\n",
       "    }\n",
       "\n",
       "    .dataframe thead th {\n",
       "        text-align: right;\n",
       "    }\n",
       "</style>\n",
       "<table border=\"1\" class=\"dataframe\">\n",
       "  <thead>\n",
       "    <tr style=\"text-align: right;\">\n",
       "      <th></th>\n",
       "      <th>hour_of_day</th>\n",
       "      <th>cash_type</th>\n",
       "      <th>money</th>\n",
       "      <th>coffee_name</th>\n",
       "      <th>Time_of_Day</th>\n",
       "      <th>Weekday</th>\n",
       "      <th>Month_name</th>\n",
       "      <th>Weekdaysort</th>\n",
       "      <th>Monthsort</th>\n",
       "      <th>Date</th>\n",
       "      <th>Time</th>\n",
       "    </tr>\n",
       "  </thead>\n",
       "  <tbody>\n",
       "    <tr>\n",
       "      <th>0</th>\n",
       "      <td>10</td>\n",
       "      <td>card</td>\n",
       "      <td>38.70</td>\n",
       "      <td>Latte</td>\n",
       "      <td>Morning</td>\n",
       "      <td>Fri</td>\n",
       "      <td>Mar</td>\n",
       "      <td>5</td>\n",
       "      <td>3</td>\n",
       "      <td>3/1/2024</td>\n",
       "      <td>15:50.5</td>\n",
       "    </tr>\n",
       "    <tr>\n",
       "      <th>1</th>\n",
       "      <td>12</td>\n",
       "      <td>card</td>\n",
       "      <td>38.70</td>\n",
       "      <td>Hot Chocolate</td>\n",
       "      <td>Afternoon</td>\n",
       "      <td>Fri</td>\n",
       "      <td>Mar</td>\n",
       "      <td>5</td>\n",
       "      <td>3</td>\n",
       "      <td>3/1/2024</td>\n",
       "      <td>19:22.5</td>\n",
       "    </tr>\n",
       "    <tr>\n",
       "      <th>2</th>\n",
       "      <td>12</td>\n",
       "      <td>card</td>\n",
       "      <td>38.70</td>\n",
       "      <td>Hot Chocolate</td>\n",
       "      <td>Afternoon</td>\n",
       "      <td>Fri</td>\n",
       "      <td>Mar</td>\n",
       "      <td>5</td>\n",
       "      <td>3</td>\n",
       "      <td>3/1/2024</td>\n",
       "      <td>20:18.1</td>\n",
       "    </tr>\n",
       "    <tr>\n",
       "      <th>3</th>\n",
       "      <td>13</td>\n",
       "      <td>card</td>\n",
       "      <td>28.90</td>\n",
       "      <td>Americano</td>\n",
       "      <td>Afternoon</td>\n",
       "      <td>Fri</td>\n",
       "      <td>Mar</td>\n",
       "      <td>5</td>\n",
       "      <td>3</td>\n",
       "      <td>3/1/2024</td>\n",
       "      <td>46:33.0</td>\n",
       "    </tr>\n",
       "    <tr>\n",
       "      <th>4</th>\n",
       "      <td>13</td>\n",
       "      <td>card</td>\n",
       "      <td>38.70</td>\n",
       "      <td>Latte</td>\n",
       "      <td>Afternoon</td>\n",
       "      <td>Fri</td>\n",
       "      <td>Mar</td>\n",
       "      <td>5</td>\n",
       "      <td>3</td>\n",
       "      <td>3/1/2024</td>\n",
       "      <td>48:14.6</td>\n",
       "    </tr>\n",
       "    <tr>\n",
       "      <th>...</th>\n",
       "      <td>...</td>\n",
       "      <td>...</td>\n",
       "      <td>...</td>\n",
       "      <td>...</td>\n",
       "      <td>...</td>\n",
       "      <td>...</td>\n",
       "      <td>...</td>\n",
       "      <td>...</td>\n",
       "      <td>...</td>\n",
       "      <td>...</td>\n",
       "      <td>...</td>\n",
       "    </tr>\n",
       "    <tr>\n",
       "      <th>3542</th>\n",
       "      <td>10</td>\n",
       "      <td>card</td>\n",
       "      <td>35.76</td>\n",
       "      <td>Cappuccino</td>\n",
       "      <td>Morning</td>\n",
       "      <td>Sun</td>\n",
       "      <td>Mar</td>\n",
       "      <td>7</td>\n",
       "      <td>3</td>\n",
       "      <td>3/23/2025</td>\n",
       "      <td>34:54.9</td>\n",
       "    </tr>\n",
       "    <tr>\n",
       "      <th>3543</th>\n",
       "      <td>14</td>\n",
       "      <td>card</td>\n",
       "      <td>35.76</td>\n",
       "      <td>Cocoa</td>\n",
       "      <td>Afternoon</td>\n",
       "      <td>Sun</td>\n",
       "      <td>Mar</td>\n",
       "      <td>7</td>\n",
       "      <td>3</td>\n",
       "      <td>3/23/2025</td>\n",
       "      <td>43:37.4</td>\n",
       "    </tr>\n",
       "    <tr>\n",
       "      <th>3544</th>\n",
       "      <td>14</td>\n",
       "      <td>card</td>\n",
       "      <td>35.76</td>\n",
       "      <td>Cocoa</td>\n",
       "      <td>Afternoon</td>\n",
       "      <td>Sun</td>\n",
       "      <td>Mar</td>\n",
       "      <td>7</td>\n",
       "      <td>3</td>\n",
       "      <td>3/23/2025</td>\n",
       "      <td>44:16.9</td>\n",
       "    </tr>\n",
       "    <tr>\n",
       "      <th>3545</th>\n",
       "      <td>15</td>\n",
       "      <td>card</td>\n",
       "      <td>25.96</td>\n",
       "      <td>Americano</td>\n",
       "      <td>Afternoon</td>\n",
       "      <td>Sun</td>\n",
       "      <td>Mar</td>\n",
       "      <td>7</td>\n",
       "      <td>3</td>\n",
       "      <td>3/23/2025</td>\n",
       "      <td>47:28.7</td>\n",
       "    </tr>\n",
       "    <tr>\n",
       "      <th>3546</th>\n",
       "      <td>18</td>\n",
       "      <td>card</td>\n",
       "      <td>35.76</td>\n",
       "      <td>Latte</td>\n",
       "      <td>Night</td>\n",
       "      <td>Sun</td>\n",
       "      <td>Mar</td>\n",
       "      <td>7</td>\n",
       "      <td>3</td>\n",
       "      <td>3/23/2025</td>\n",
       "      <td>11:38.6</td>\n",
       "    </tr>\n",
       "  </tbody>\n",
       "</table>\n",
       "<p>3547 rows × 11 columns</p>\n",
       "</div>"
      ],
      "text/plain": [
       "      hour_of_day cash_type  money    coffee_name Time_of_Day Weekday  \\\n",
       "0              10      card  38.70          Latte     Morning     Fri   \n",
       "1              12      card  38.70  Hot Chocolate   Afternoon     Fri   \n",
       "2              12      card  38.70  Hot Chocolate   Afternoon     Fri   \n",
       "3              13      card  28.90      Americano   Afternoon     Fri   \n",
       "4              13      card  38.70          Latte   Afternoon     Fri   \n",
       "...           ...       ...    ...            ...         ...     ...   \n",
       "3542           10      card  35.76     Cappuccino     Morning     Sun   \n",
       "3543           14      card  35.76          Cocoa   Afternoon     Sun   \n",
       "3544           14      card  35.76          Cocoa   Afternoon     Sun   \n",
       "3545           15      card  25.96      Americano   Afternoon     Sun   \n",
       "3546           18      card  35.76          Latte       Night     Sun   \n",
       "\n",
       "     Month_name  Weekdaysort  Monthsort       Date     Time  \n",
       "0           Mar            5          3   3/1/2024  15:50.5  \n",
       "1           Mar            5          3   3/1/2024  19:22.5  \n",
       "2           Mar            5          3   3/1/2024  20:18.1  \n",
       "3           Mar            5          3   3/1/2024  46:33.0  \n",
       "4           Mar            5          3   3/1/2024  48:14.6  \n",
       "...         ...          ...        ...        ...      ...  \n",
       "3542        Mar            7          3  3/23/2025  34:54.9  \n",
       "3543        Mar            7          3  3/23/2025  43:37.4  \n",
       "3544        Mar            7          3  3/23/2025  44:16.9  \n",
       "3545        Mar            7          3  3/23/2025  47:28.7  \n",
       "3546        Mar            7          3  3/23/2025  11:38.6  \n",
       "\n",
       "[3547 rows x 11 columns]"
      ]
     },
     "execution_count": 3,
     "metadata": {},
     "output_type": "execute_result"
    }
   ],
   "source": [
    "coffee"
   ]
  },
  {
   "cell_type": "markdown",
   "id": "33d20ece",
   "metadata": {
    "papermill": {
     "duration": 0.006004,
     "end_time": "2025-09-26T05:43:17.363824",
     "exception": false,
     "start_time": "2025-09-26T05:43:17.357820",
     "status": "completed"
    },
    "tags": []
   },
   "source": [
    "# Exploratory Data Analysis(EDA)"
   ]
  },
  {
   "cell_type": "code",
   "execution_count": 4,
   "id": "e6ba8fde",
   "metadata": {
    "execution": {
     "iopub.execute_input": "2025-09-26T05:43:17.377695Z",
     "iopub.status.busy": "2025-09-26T05:43:17.376816Z",
     "iopub.status.idle": "2025-09-26T05:43:17.388825Z",
     "shell.execute_reply": "2025-09-26T05:43:17.388019Z"
    },
    "papermill": {
     "duration": 0.02069,
     "end_time": "2025-09-26T05:43:17.390116",
     "exception": false,
     "start_time": "2025-09-26T05:43:17.369426",
     "status": "completed"
    },
    "tags": []
   },
   "outputs": [
    {
     "data": {
      "text/html": [
       "<div>\n",
       "<style scoped>\n",
       "    .dataframe tbody tr th:only-of-type {\n",
       "        vertical-align: middle;\n",
       "    }\n",
       "\n",
       "    .dataframe tbody tr th {\n",
       "        vertical-align: top;\n",
       "    }\n",
       "\n",
       "    .dataframe thead th {\n",
       "        text-align: right;\n",
       "    }\n",
       "</style>\n",
       "<table border=\"1\" class=\"dataframe\">\n",
       "  <thead>\n",
       "    <tr style=\"text-align: right;\">\n",
       "      <th></th>\n",
       "      <th>hour_of_day</th>\n",
       "      <th>cash_type</th>\n",
       "      <th>money</th>\n",
       "      <th>coffee_name</th>\n",
       "      <th>Time_of_Day</th>\n",
       "      <th>Weekday</th>\n",
       "      <th>Month_name</th>\n",
       "      <th>Weekdaysort</th>\n",
       "      <th>Monthsort</th>\n",
       "      <th>Date</th>\n",
       "      <th>Time</th>\n",
       "    </tr>\n",
       "  </thead>\n",
       "  <tbody>\n",
       "    <tr>\n",
       "      <th>0</th>\n",
       "      <td>10</td>\n",
       "      <td>card</td>\n",
       "      <td>38.7</td>\n",
       "      <td>Latte</td>\n",
       "      <td>Morning</td>\n",
       "      <td>Fri</td>\n",
       "      <td>Mar</td>\n",
       "      <td>5</td>\n",
       "      <td>3</td>\n",
       "      <td>3/1/2024</td>\n",
       "      <td>15:50.5</td>\n",
       "    </tr>\n",
       "    <tr>\n",
       "      <th>1</th>\n",
       "      <td>12</td>\n",
       "      <td>card</td>\n",
       "      <td>38.7</td>\n",
       "      <td>Hot Chocolate</td>\n",
       "      <td>Afternoon</td>\n",
       "      <td>Fri</td>\n",
       "      <td>Mar</td>\n",
       "      <td>5</td>\n",
       "      <td>3</td>\n",
       "      <td>3/1/2024</td>\n",
       "      <td>19:22.5</td>\n",
       "    </tr>\n",
       "    <tr>\n",
       "      <th>2</th>\n",
       "      <td>12</td>\n",
       "      <td>card</td>\n",
       "      <td>38.7</td>\n",
       "      <td>Hot Chocolate</td>\n",
       "      <td>Afternoon</td>\n",
       "      <td>Fri</td>\n",
       "      <td>Mar</td>\n",
       "      <td>5</td>\n",
       "      <td>3</td>\n",
       "      <td>3/1/2024</td>\n",
       "      <td>20:18.1</td>\n",
       "    </tr>\n",
       "    <tr>\n",
       "      <th>3</th>\n",
       "      <td>13</td>\n",
       "      <td>card</td>\n",
       "      <td>28.9</td>\n",
       "      <td>Americano</td>\n",
       "      <td>Afternoon</td>\n",
       "      <td>Fri</td>\n",
       "      <td>Mar</td>\n",
       "      <td>5</td>\n",
       "      <td>3</td>\n",
       "      <td>3/1/2024</td>\n",
       "      <td>46:33.0</td>\n",
       "    </tr>\n",
       "    <tr>\n",
       "      <th>4</th>\n",
       "      <td>13</td>\n",
       "      <td>card</td>\n",
       "      <td>38.7</td>\n",
       "      <td>Latte</td>\n",
       "      <td>Afternoon</td>\n",
       "      <td>Fri</td>\n",
       "      <td>Mar</td>\n",
       "      <td>5</td>\n",
       "      <td>3</td>\n",
       "      <td>3/1/2024</td>\n",
       "      <td>48:14.6</td>\n",
       "    </tr>\n",
       "  </tbody>\n",
       "</table>\n",
       "</div>"
      ],
      "text/plain": [
       "   hour_of_day cash_type  money    coffee_name Time_of_Day Weekday Month_name  \\\n",
       "0           10      card   38.7          Latte     Morning     Fri        Mar   \n",
       "1           12      card   38.7  Hot Chocolate   Afternoon     Fri        Mar   \n",
       "2           12      card   38.7  Hot Chocolate   Afternoon     Fri        Mar   \n",
       "3           13      card   28.9      Americano   Afternoon     Fri        Mar   \n",
       "4           13      card   38.7          Latte   Afternoon     Fri        Mar   \n",
       "\n",
       "   Weekdaysort  Monthsort      Date     Time  \n",
       "0            5          3  3/1/2024  15:50.5  \n",
       "1            5          3  3/1/2024  19:22.5  \n",
       "2            5          3  3/1/2024  20:18.1  \n",
       "3            5          3  3/1/2024  46:33.0  \n",
       "4            5          3  3/1/2024  48:14.6  "
      ]
     },
     "execution_count": 4,
     "metadata": {},
     "output_type": "execute_result"
    }
   ],
   "source": [
    "# Checking first 05 Rows of Dataset\n",
    "coffee.head()"
   ]
  },
  {
   "cell_type": "code",
   "execution_count": 5,
   "id": "96ef3aed",
   "metadata": {
    "execution": {
     "iopub.execute_input": "2025-09-26T05:43:17.403573Z",
     "iopub.status.busy": "2025-09-26T05:43:17.402968Z",
     "iopub.status.idle": "2025-09-26T05:43:17.416326Z",
     "shell.execute_reply": "2025-09-26T05:43:17.415309Z"
    },
    "papermill": {
     "duration": 0.021218,
     "end_time": "2025-09-26T05:43:17.417686",
     "exception": false,
     "start_time": "2025-09-26T05:43:17.396468",
     "status": "completed"
    },
    "tags": []
   },
   "outputs": [
    {
     "data": {
      "text/html": [
       "<div>\n",
       "<style scoped>\n",
       "    .dataframe tbody tr th:only-of-type {\n",
       "        vertical-align: middle;\n",
       "    }\n",
       "\n",
       "    .dataframe tbody tr th {\n",
       "        vertical-align: top;\n",
       "    }\n",
       "\n",
       "    .dataframe thead th {\n",
       "        text-align: right;\n",
       "    }\n",
       "</style>\n",
       "<table border=\"1\" class=\"dataframe\">\n",
       "  <thead>\n",
       "    <tr style=\"text-align: right;\">\n",
       "      <th></th>\n",
       "      <th>hour_of_day</th>\n",
       "      <th>cash_type</th>\n",
       "      <th>money</th>\n",
       "      <th>coffee_name</th>\n",
       "      <th>Time_of_Day</th>\n",
       "      <th>Weekday</th>\n",
       "      <th>Month_name</th>\n",
       "      <th>Weekdaysort</th>\n",
       "      <th>Monthsort</th>\n",
       "      <th>Date</th>\n",
       "      <th>Time</th>\n",
       "    </tr>\n",
       "  </thead>\n",
       "  <tbody>\n",
       "    <tr>\n",
       "      <th>3542</th>\n",
       "      <td>10</td>\n",
       "      <td>card</td>\n",
       "      <td>35.76</td>\n",
       "      <td>Cappuccino</td>\n",
       "      <td>Morning</td>\n",
       "      <td>Sun</td>\n",
       "      <td>Mar</td>\n",
       "      <td>7</td>\n",
       "      <td>3</td>\n",
       "      <td>3/23/2025</td>\n",
       "      <td>34:54.9</td>\n",
       "    </tr>\n",
       "    <tr>\n",
       "      <th>3543</th>\n",
       "      <td>14</td>\n",
       "      <td>card</td>\n",
       "      <td>35.76</td>\n",
       "      <td>Cocoa</td>\n",
       "      <td>Afternoon</td>\n",
       "      <td>Sun</td>\n",
       "      <td>Mar</td>\n",
       "      <td>7</td>\n",
       "      <td>3</td>\n",
       "      <td>3/23/2025</td>\n",
       "      <td>43:37.4</td>\n",
       "    </tr>\n",
       "    <tr>\n",
       "      <th>3544</th>\n",
       "      <td>14</td>\n",
       "      <td>card</td>\n",
       "      <td>35.76</td>\n",
       "      <td>Cocoa</td>\n",
       "      <td>Afternoon</td>\n",
       "      <td>Sun</td>\n",
       "      <td>Mar</td>\n",
       "      <td>7</td>\n",
       "      <td>3</td>\n",
       "      <td>3/23/2025</td>\n",
       "      <td>44:16.9</td>\n",
       "    </tr>\n",
       "    <tr>\n",
       "      <th>3545</th>\n",
       "      <td>15</td>\n",
       "      <td>card</td>\n",
       "      <td>25.96</td>\n",
       "      <td>Americano</td>\n",
       "      <td>Afternoon</td>\n",
       "      <td>Sun</td>\n",
       "      <td>Mar</td>\n",
       "      <td>7</td>\n",
       "      <td>3</td>\n",
       "      <td>3/23/2025</td>\n",
       "      <td>47:28.7</td>\n",
       "    </tr>\n",
       "    <tr>\n",
       "      <th>3546</th>\n",
       "      <td>18</td>\n",
       "      <td>card</td>\n",
       "      <td>35.76</td>\n",
       "      <td>Latte</td>\n",
       "      <td>Night</td>\n",
       "      <td>Sun</td>\n",
       "      <td>Mar</td>\n",
       "      <td>7</td>\n",
       "      <td>3</td>\n",
       "      <td>3/23/2025</td>\n",
       "      <td>11:38.6</td>\n",
       "    </tr>\n",
       "  </tbody>\n",
       "</table>\n",
       "</div>"
      ],
      "text/plain": [
       "      hour_of_day cash_type  money coffee_name Time_of_Day Weekday Month_name  \\\n",
       "3542           10      card  35.76  Cappuccino     Morning     Sun        Mar   \n",
       "3543           14      card  35.76       Cocoa   Afternoon     Sun        Mar   \n",
       "3544           14      card  35.76       Cocoa   Afternoon     Sun        Mar   \n",
       "3545           15      card  25.96   Americano   Afternoon     Sun        Mar   \n",
       "3546           18      card  35.76       Latte       Night     Sun        Mar   \n",
       "\n",
       "      Weekdaysort  Monthsort       Date     Time  \n",
       "3542            7          3  3/23/2025  34:54.9  \n",
       "3543            7          3  3/23/2025  43:37.4  \n",
       "3544            7          3  3/23/2025  44:16.9  \n",
       "3545            7          3  3/23/2025  47:28.7  \n",
       "3546            7          3  3/23/2025  11:38.6  "
      ]
     },
     "execution_count": 5,
     "metadata": {},
     "output_type": "execute_result"
    }
   ],
   "source": [
    "# Checking last 05 Rows of Dataset\n",
    "coffee.tail()"
   ]
  },
  {
   "cell_type": "code",
   "execution_count": 6,
   "id": "9e9430c6",
   "metadata": {
    "execution": {
     "iopub.execute_input": "2025-09-26T05:43:17.430717Z",
     "iopub.status.busy": "2025-09-26T05:43:17.430433Z",
     "iopub.status.idle": "2025-09-26T05:43:17.452658Z",
     "shell.execute_reply": "2025-09-26T05:43:17.451587Z"
    },
    "papermill": {
     "duration": 0.030262,
     "end_time": "2025-09-26T05:43:17.454005",
     "exception": false,
     "start_time": "2025-09-26T05:43:17.423743",
     "status": "completed"
    },
    "tags": []
   },
   "outputs": [
    {
     "name": "stdout",
     "output_type": "stream",
     "text": [
      "<class 'pandas.core.frame.DataFrame'>\n",
      "RangeIndex: 3547 entries, 0 to 3546\n",
      "Data columns (total 11 columns):\n",
      " #   Column       Non-Null Count  Dtype  \n",
      "---  ------       --------------  -----  \n",
      " 0   hour_of_day  3547 non-null   int64  \n",
      " 1   cash_type    3547 non-null   object \n",
      " 2   money        3547 non-null   float64\n",
      " 3   coffee_name  3547 non-null   object \n",
      " 4   Time_of_Day  3547 non-null   object \n",
      " 5   Weekday      3547 non-null   object \n",
      " 6   Month_name   3547 non-null   object \n",
      " 7   Weekdaysort  3547 non-null   int64  \n",
      " 8   Monthsort    3547 non-null   int64  \n",
      " 9   Date         3547 non-null   object \n",
      " 10  Time         3547 non-null   object \n",
      "dtypes: float64(1), int64(3), object(7)\n",
      "memory usage: 304.9+ KB\n"
     ]
    }
   ],
   "source": [
    "# Checking Information of Dataset\n",
    "coffee.info()"
   ]
  },
  {
   "cell_type": "code",
   "execution_count": 7,
   "id": "72c0f068",
   "metadata": {
    "execution": {
     "iopub.execute_input": "2025-09-26T05:43:17.467064Z",
     "iopub.status.busy": "2025-09-26T05:43:17.466792Z",
     "iopub.status.idle": "2025-09-26T05:43:17.493162Z",
     "shell.execute_reply": "2025-09-26T05:43:17.492293Z"
    },
    "papermill": {
     "duration": 0.034893,
     "end_time": "2025-09-26T05:43:17.494800",
     "exception": false,
     "start_time": "2025-09-26T05:43:17.459907",
     "status": "completed"
    },
    "tags": []
   },
   "outputs": [
    {
     "data": {
      "text/html": [
       "<div>\n",
       "<style scoped>\n",
       "    .dataframe tbody tr th:only-of-type {\n",
       "        vertical-align: middle;\n",
       "    }\n",
       "\n",
       "    .dataframe tbody tr th {\n",
       "        vertical-align: top;\n",
       "    }\n",
       "\n",
       "    .dataframe thead th {\n",
       "        text-align: right;\n",
       "    }\n",
       "</style>\n",
       "<table border=\"1\" class=\"dataframe\">\n",
       "  <thead>\n",
       "    <tr style=\"text-align: right;\">\n",
       "      <th></th>\n",
       "      <th>hour_of_day</th>\n",
       "      <th>money</th>\n",
       "      <th>Weekdaysort</th>\n",
       "      <th>Monthsort</th>\n",
       "    </tr>\n",
       "  </thead>\n",
       "  <tbody>\n",
       "    <tr>\n",
       "      <th>count</th>\n",
       "      <td>3547.000000</td>\n",
       "      <td>3547.000000</td>\n",
       "      <td>3547.000000</td>\n",
       "      <td>3547.000000</td>\n",
       "    </tr>\n",
       "    <tr>\n",
       "      <th>mean</th>\n",
       "      <td>14.185791</td>\n",
       "      <td>31.645216</td>\n",
       "      <td>3.845785</td>\n",
       "      <td>6.453905</td>\n",
       "    </tr>\n",
       "    <tr>\n",
       "      <th>std</th>\n",
       "      <td>4.234010</td>\n",
       "      <td>4.877754</td>\n",
       "      <td>1.971501</td>\n",
       "      <td>3.500754</td>\n",
       "    </tr>\n",
       "    <tr>\n",
       "      <th>min</th>\n",
       "      <td>6.000000</td>\n",
       "      <td>18.120000</td>\n",
       "      <td>1.000000</td>\n",
       "      <td>1.000000</td>\n",
       "    </tr>\n",
       "    <tr>\n",
       "      <th>25%</th>\n",
       "      <td>10.000000</td>\n",
       "      <td>27.920000</td>\n",
       "      <td>2.000000</td>\n",
       "      <td>3.000000</td>\n",
       "    </tr>\n",
       "    <tr>\n",
       "      <th>50%</th>\n",
       "      <td>14.000000</td>\n",
       "      <td>32.820000</td>\n",
       "      <td>4.000000</td>\n",
       "      <td>7.000000</td>\n",
       "    </tr>\n",
       "    <tr>\n",
       "      <th>75%</th>\n",
       "      <td>18.000000</td>\n",
       "      <td>35.760000</td>\n",
       "      <td>6.000000</td>\n",
       "      <td>10.000000</td>\n",
       "    </tr>\n",
       "    <tr>\n",
       "      <th>max</th>\n",
       "      <td>22.000000</td>\n",
       "      <td>38.700000</td>\n",
       "      <td>7.000000</td>\n",
       "      <td>12.000000</td>\n",
       "    </tr>\n",
       "  </tbody>\n",
       "</table>\n",
       "</div>"
      ],
      "text/plain": [
       "       hour_of_day        money  Weekdaysort    Monthsort\n",
       "count  3547.000000  3547.000000  3547.000000  3547.000000\n",
       "mean     14.185791    31.645216     3.845785     6.453905\n",
       "std       4.234010     4.877754     1.971501     3.500754\n",
       "min       6.000000    18.120000     1.000000     1.000000\n",
       "25%      10.000000    27.920000     2.000000     3.000000\n",
       "50%      14.000000    32.820000     4.000000     7.000000\n",
       "75%      18.000000    35.760000     6.000000    10.000000\n",
       "max      22.000000    38.700000     7.000000    12.000000"
      ]
     },
     "execution_count": 7,
     "metadata": {},
     "output_type": "execute_result"
    }
   ],
   "source": [
    "# Describing the Dataset\n",
    "coffee.describe()"
   ]
  },
  {
   "cell_type": "code",
   "execution_count": 8,
   "id": "45650102",
   "metadata": {
    "execution": {
     "iopub.execute_input": "2025-09-26T05:43:17.508764Z",
     "iopub.status.busy": "2025-09-26T05:43:17.508455Z",
     "iopub.status.idle": "2025-09-26T05:43:17.517032Z",
     "shell.execute_reply": "2025-09-26T05:43:17.516098Z"
    },
    "papermill": {
     "duration": 0.017474,
     "end_time": "2025-09-26T05:43:17.518609",
     "exception": false,
     "start_time": "2025-09-26T05:43:17.501135",
     "status": "completed"
    },
    "tags": []
   },
   "outputs": [
    {
     "data": {
      "text/html": [
       "<div>\n",
       "<style scoped>\n",
       "    .dataframe tbody tr th:only-of-type {\n",
       "        vertical-align: middle;\n",
       "    }\n",
       "\n",
       "    .dataframe tbody tr th {\n",
       "        vertical-align: top;\n",
       "    }\n",
       "\n",
       "    .dataframe thead th {\n",
       "        text-align: right;\n",
       "    }\n",
       "</style>\n",
       "<table border=\"1\" class=\"dataframe\">\n",
       "  <thead>\n",
       "    <tr style=\"text-align: right;\">\n",
       "      <th></th>\n",
       "      <th>Column Name</th>\n",
       "    </tr>\n",
       "  </thead>\n",
       "  <tbody>\n",
       "    <tr>\n",
       "      <th>0</th>\n",
       "      <td>hour_of_day</td>\n",
       "    </tr>\n",
       "    <tr>\n",
       "      <th>1</th>\n",
       "      <td>cash_type</td>\n",
       "    </tr>\n",
       "    <tr>\n",
       "      <th>2</th>\n",
       "      <td>money</td>\n",
       "    </tr>\n",
       "    <tr>\n",
       "      <th>3</th>\n",
       "      <td>coffee_name</td>\n",
       "    </tr>\n",
       "    <tr>\n",
       "      <th>4</th>\n",
       "      <td>Time_of_Day</td>\n",
       "    </tr>\n",
       "    <tr>\n",
       "      <th>5</th>\n",
       "      <td>Weekday</td>\n",
       "    </tr>\n",
       "    <tr>\n",
       "      <th>6</th>\n",
       "      <td>Month_name</td>\n",
       "    </tr>\n",
       "    <tr>\n",
       "      <th>7</th>\n",
       "      <td>Weekdaysort</td>\n",
       "    </tr>\n",
       "    <tr>\n",
       "      <th>8</th>\n",
       "      <td>Monthsort</td>\n",
       "    </tr>\n",
       "    <tr>\n",
       "      <th>9</th>\n",
       "      <td>Date</td>\n",
       "    </tr>\n",
       "    <tr>\n",
       "      <th>10</th>\n",
       "      <td>Time</td>\n",
       "    </tr>\n",
       "  </tbody>\n",
       "</table>\n",
       "</div>"
      ],
      "text/plain": [
       "    Column Name\n",
       "0   hour_of_day\n",
       "1     cash_type\n",
       "2         money\n",
       "3   coffee_name\n",
       "4   Time_of_Day\n",
       "5       Weekday\n",
       "6    Month_name\n",
       "7   Weekdaysort\n",
       "8     Monthsort\n",
       "9          Date\n",
       "10         Time"
      ]
     },
     "execution_count": 8,
     "metadata": {},
     "output_type": "execute_result"
    }
   ],
   "source": [
    "# Checking Various Columns of Dataset\n",
    "pd.DataFrame(coffee.columns, columns=['Column Name'])"
   ]
  },
  {
   "cell_type": "code",
   "execution_count": 9,
   "id": "21a084a6",
   "metadata": {
    "execution": {
     "iopub.execute_input": "2025-09-26T05:43:17.532518Z",
     "iopub.status.busy": "2025-09-26T05:43:17.532193Z",
     "iopub.status.idle": "2025-09-26T05:43:17.540522Z",
     "shell.execute_reply": "2025-09-26T05:43:17.539777Z"
    },
    "papermill": {
     "duration": 0.016838,
     "end_time": "2025-09-26T05:43:17.541848",
     "exception": false,
     "start_time": "2025-09-26T05:43:17.525010",
     "status": "completed"
    },
    "tags": []
   },
   "outputs": [
    {
     "data": {
      "text/plain": [
       "hour_of_day    0\n",
       "cash_type      0\n",
       "money          0\n",
       "coffee_name    0\n",
       "Time_of_Day    0\n",
       "Weekday        0\n",
       "Month_name     0\n",
       "Weekdaysort    0\n",
       "Monthsort      0\n",
       "Date           0\n",
       "Time           0\n",
       "dtype: int64"
      ]
     },
     "execution_count": 9,
     "metadata": {},
     "output_type": "execute_result"
    }
   ],
   "source": [
    "# Checking if there is any NaN(Null value) present in the Dataset\n",
    "coffee.isnull().sum()"
   ]
  },
  {
   "cell_type": "markdown",
   "id": "55965ee7",
   "metadata": {
    "papermill": {
     "duration": 0.006542,
     "end_time": "2025-09-26T05:43:17.554945",
     "exception": false,
     "start_time": "2025-09-26T05:43:17.548403",
     "status": "completed"
    },
    "tags": []
   },
   "source": [
    "**Checking if there is any Duplicated Value present in the Dataset**"
   ]
  },
  {
   "cell_type": "code",
   "execution_count": 10,
   "id": "41a7544c",
   "metadata": {
    "execution": {
     "iopub.execute_input": "2025-09-26T05:43:17.568736Z",
     "iopub.status.busy": "2025-09-26T05:43:17.568463Z",
     "iopub.status.idle": "2025-09-26T05:43:17.576628Z",
     "shell.execute_reply": "2025-09-26T05:43:17.575695Z"
    },
    "papermill": {
     "duration": 0.016946,
     "end_time": "2025-09-26T05:43:17.578141",
     "exception": false,
     "start_time": "2025-09-26T05:43:17.561195",
     "status": "completed"
    },
    "tags": []
   },
   "outputs": [
    {
     "name": "stdout",
     "output_type": "stream",
     "text": [
      "Number of duplicated values in the dataset is 0\n"
     ]
    }
   ],
   "source": [
    "print('Number of duplicated values in the dataset is', coffee.duplicated().sum())"
   ]
  },
  {
   "cell_type": "markdown",
   "id": "20604ca2",
   "metadata": {
    "papermill": {
     "duration": 0.006408,
     "end_time": "2025-09-26T05:43:17.591132",
     "exception": false,
     "start_time": "2025-09-26T05:43:17.584724",
     "status": "completed"
    },
    "tags": []
   },
   "source": [
    "**Checking Shape of Dataset**"
   ]
  },
  {
   "cell_type": "code",
   "execution_count": 11,
   "id": "23105750",
   "metadata": {
    "execution": {
     "iopub.execute_input": "2025-09-26T05:43:17.605079Z",
     "iopub.status.busy": "2025-09-26T05:43:17.604727Z",
     "iopub.status.idle": "2025-09-26T05:43:17.609871Z",
     "shell.execute_reply": "2025-09-26T05:43:17.609060Z"
    },
    "papermill": {
     "duration": 0.013687,
     "end_time": "2025-09-26T05:43:17.611171",
     "exception": false,
     "start_time": "2025-09-26T05:43:17.597484",
     "status": "completed"
    },
    "tags": []
   },
   "outputs": [
    {
     "name": "stdout",
     "output_type": "stream",
     "text": [
      "The shape of Dataset is 3547 Rows and 11 Colimns\n"
     ]
    }
   ],
   "source": [
    "print(\"The shape of Dataset is {} Rows and {} Colimns\".format(len(coffee), len(coffee.columns)))"
   ]
  },
  {
   "cell_type": "code",
   "execution_count": 12,
   "id": "725f82aa",
   "metadata": {
    "execution": {
     "iopub.execute_input": "2025-09-26T05:43:17.626134Z",
     "iopub.status.busy": "2025-09-26T05:43:17.625803Z",
     "iopub.status.idle": "2025-09-26T05:43:17.634850Z",
     "shell.execute_reply": "2025-09-26T05:43:17.633938Z"
    },
    "papermill": {
     "duration": 0.018061,
     "end_time": "2025-09-26T05:43:17.636391",
     "exception": false,
     "start_time": "2025-09-26T05:43:17.618330",
     "status": "completed"
    },
    "tags": []
   },
   "outputs": [
    {
     "data": {
      "text/html": [
       "<div>\n",
       "<style scoped>\n",
       "    .dataframe tbody tr th:only-of-type {\n",
       "        vertical-align: middle;\n",
       "    }\n",
       "\n",
       "    .dataframe tbody tr th {\n",
       "        vertical-align: top;\n",
       "    }\n",
       "\n",
       "    .dataframe thead th {\n",
       "        text-align: right;\n",
       "    }\n",
       "</style>\n",
       "<table border=\"1\" class=\"dataframe\">\n",
       "  <thead>\n",
       "    <tr style=\"text-align: right;\">\n",
       "      <th></th>\n",
       "      <th>Data Type</th>\n",
       "    </tr>\n",
       "  </thead>\n",
       "  <tbody>\n",
       "    <tr>\n",
       "      <th>hour_of_day</th>\n",
       "      <td>int64</td>\n",
       "    </tr>\n",
       "    <tr>\n",
       "      <th>cash_type</th>\n",
       "      <td>object</td>\n",
       "    </tr>\n",
       "    <tr>\n",
       "      <th>money</th>\n",
       "      <td>float64</td>\n",
       "    </tr>\n",
       "    <tr>\n",
       "      <th>coffee_name</th>\n",
       "      <td>object</td>\n",
       "    </tr>\n",
       "    <tr>\n",
       "      <th>Time_of_Day</th>\n",
       "      <td>object</td>\n",
       "    </tr>\n",
       "    <tr>\n",
       "      <th>Weekday</th>\n",
       "      <td>object</td>\n",
       "    </tr>\n",
       "    <tr>\n",
       "      <th>Month_name</th>\n",
       "      <td>object</td>\n",
       "    </tr>\n",
       "    <tr>\n",
       "      <th>Weekdaysort</th>\n",
       "      <td>int64</td>\n",
       "    </tr>\n",
       "    <tr>\n",
       "      <th>Monthsort</th>\n",
       "      <td>int64</td>\n",
       "    </tr>\n",
       "    <tr>\n",
       "      <th>Date</th>\n",
       "      <td>object</td>\n",
       "    </tr>\n",
       "    <tr>\n",
       "      <th>Time</th>\n",
       "      <td>object</td>\n",
       "    </tr>\n",
       "  </tbody>\n",
       "</table>\n",
       "</div>"
      ],
      "text/plain": [
       "            Data Type\n",
       "hour_of_day     int64\n",
       "cash_type      object\n",
       "money         float64\n",
       "coffee_name    object\n",
       "Time_of_Day    object\n",
       "Weekday        object\n",
       "Month_name     object\n",
       "Weekdaysort     int64\n",
       "Monthsort       int64\n",
       "Date           object\n",
       "Time           object"
      ]
     },
     "execution_count": 12,
     "metadata": {},
     "output_type": "execute_result"
    }
   ],
   "source": [
    "# Checking DataType of All Columns\n",
    "pd.DataFrame(coffee.dtypes, columns=['Data Type'])"
   ]
  },
  {
   "cell_type": "markdown",
   "id": "a66097e8",
   "metadata": {
    "execution": {
     "iopub.execute_input": "2025-09-26T03:24:38.494768Z",
     "iopub.status.busy": "2025-09-26T03:24:38.493920Z",
     "iopub.status.idle": "2025-09-26T03:24:38.499474Z",
     "shell.execute_reply": "2025-09-26T03:24:38.498056Z",
     "shell.execute_reply.started": "2025-09-26T03:24:38.494737Z"
    },
    "papermill": {
     "duration": 0.006397,
     "end_time": "2025-09-26T05:43:17.649867",
     "exception": false,
     "start_time": "2025-09-26T05:43:17.643470",
     "status": "completed"
    },
    "tags": []
   },
   "source": [
    "# Checking Unique Valued of Different Features"
   ]
  },
  {
   "cell_type": "code",
   "execution_count": 13,
   "id": "5309badf",
   "metadata": {
    "execution": {
     "iopub.execute_input": "2025-09-26T05:43:17.664326Z",
     "iopub.status.busy": "2025-09-26T05:43:17.663988Z",
     "iopub.status.idle": "2025-09-26T05:43:17.673423Z",
     "shell.execute_reply": "2025-09-26T05:43:17.672574Z"
    },
    "papermill": {
     "duration": 0.018412,
     "end_time": "2025-09-26T05:43:17.675012",
     "exception": false,
     "start_time": "2025-09-26T05:43:17.656600",
     "status": "completed"
    },
    "tags": []
   },
   "outputs": [
    {
     "data": {
      "text/html": [
       "<div>\n",
       "<style scoped>\n",
       "    .dataframe tbody tr th:only-of-type {\n",
       "        vertical-align: middle;\n",
       "    }\n",
       "\n",
       "    .dataframe tbody tr th {\n",
       "        vertical-align: top;\n",
       "    }\n",
       "\n",
       "    .dataframe thead th {\n",
       "        text-align: right;\n",
       "    }\n",
       "</style>\n",
       "<table border=\"1\" class=\"dataframe\">\n",
       "  <thead>\n",
       "    <tr style=\"text-align: right;\">\n",
       "      <th></th>\n",
       "      <th>0</th>\n",
       "    </tr>\n",
       "  </thead>\n",
       "  <tbody>\n",
       "    <tr>\n",
       "      <th>0</th>\n",
       "      <td>10</td>\n",
       "    </tr>\n",
       "    <tr>\n",
       "      <th>1</th>\n",
       "      <td>12</td>\n",
       "    </tr>\n",
       "    <tr>\n",
       "      <th>2</th>\n",
       "      <td>13</td>\n",
       "    </tr>\n",
       "    <tr>\n",
       "      <th>3</th>\n",
       "      <td>15</td>\n",
       "    </tr>\n",
       "    <tr>\n",
       "      <th>4</th>\n",
       "      <td>16</td>\n",
       "    </tr>\n",
       "    <tr>\n",
       "      <th>5</th>\n",
       "      <td>18</td>\n",
       "    </tr>\n",
       "    <tr>\n",
       "      <th>6</th>\n",
       "      <td>19</td>\n",
       "    </tr>\n",
       "    <tr>\n",
       "      <th>7</th>\n",
       "      <td>11</td>\n",
       "    </tr>\n",
       "    <tr>\n",
       "      <th>8</th>\n",
       "      <td>14</td>\n",
       "    </tr>\n",
       "    <tr>\n",
       "      <th>9</th>\n",
       "      <td>17</td>\n",
       "    </tr>\n",
       "    <tr>\n",
       "      <th>10</th>\n",
       "      <td>9</td>\n",
       "    </tr>\n",
       "    <tr>\n",
       "      <th>11</th>\n",
       "      <td>20</td>\n",
       "    </tr>\n",
       "    <tr>\n",
       "      <th>12</th>\n",
       "      <td>8</td>\n",
       "    </tr>\n",
       "    <tr>\n",
       "      <th>13</th>\n",
       "      <td>22</td>\n",
       "    </tr>\n",
       "    <tr>\n",
       "      <th>14</th>\n",
       "      <td>7</td>\n",
       "    </tr>\n",
       "    <tr>\n",
       "      <th>15</th>\n",
       "      <td>21</td>\n",
       "    </tr>\n",
       "    <tr>\n",
       "      <th>16</th>\n",
       "      <td>6</td>\n",
       "    </tr>\n",
       "  </tbody>\n",
       "</table>\n",
       "</div>"
      ],
      "text/plain": [
       "     0\n",
       "0   10\n",
       "1   12\n",
       "2   13\n",
       "3   15\n",
       "4   16\n",
       "5   18\n",
       "6   19\n",
       "7   11\n",
       "8   14\n",
       "9   17\n",
       "10   9\n",
       "11  20\n",
       "12   8\n",
       "13  22\n",
       "14   7\n",
       "15  21\n",
       "16   6"
      ]
     },
     "execution_count": 13,
     "metadata": {},
     "output_type": "execute_result"
    }
   ],
   "source": [
    "pd.DataFrame(coffee['hour_of_day'].unique())"
   ]
  },
  {
   "cell_type": "code",
   "execution_count": 14,
   "id": "b2647e90",
   "metadata": {
    "execution": {
     "iopub.execute_input": "2025-09-26T05:43:17.690388Z",
     "iopub.status.busy": "2025-09-26T05:43:17.690017Z",
     "iopub.status.idle": "2025-09-26T05:43:17.698051Z",
     "shell.execute_reply": "2025-09-26T05:43:17.697273Z"
    },
    "papermill": {
     "duration": 0.016711,
     "end_time": "2025-09-26T05:43:17.699384",
     "exception": false,
     "start_time": "2025-09-26T05:43:17.682673",
     "status": "completed"
    },
    "tags": []
   },
   "outputs": [
    {
     "data": {
      "text/html": [
       "<div>\n",
       "<style scoped>\n",
       "    .dataframe tbody tr th:only-of-type {\n",
       "        vertical-align: middle;\n",
       "    }\n",
       "\n",
       "    .dataframe tbody tr th {\n",
       "        vertical-align: top;\n",
       "    }\n",
       "\n",
       "    .dataframe thead th {\n",
       "        text-align: right;\n",
       "    }\n",
       "</style>\n",
       "<table border=\"1\" class=\"dataframe\">\n",
       "  <thead>\n",
       "    <tr style=\"text-align: right;\">\n",
       "      <th></th>\n",
       "      <th>0</th>\n",
       "    </tr>\n",
       "  </thead>\n",
       "  <tbody>\n",
       "    <tr>\n",
       "      <th>0</th>\n",
       "      <td>card</td>\n",
       "    </tr>\n",
       "  </tbody>\n",
       "</table>\n",
       "</div>"
      ],
      "text/plain": [
       "      0\n",
       "0  card"
      ]
     },
     "execution_count": 14,
     "metadata": {},
     "output_type": "execute_result"
    }
   ],
   "source": [
    "pd.DataFrame(coffee['cash_type'].unique())"
   ]
  },
  {
   "cell_type": "code",
   "execution_count": 15,
   "id": "201f292c",
   "metadata": {
    "execution": {
     "iopub.execute_input": "2025-09-26T05:43:17.714647Z",
     "iopub.status.busy": "2025-09-26T05:43:17.713986Z",
     "iopub.status.idle": "2025-09-26T05:43:17.722354Z",
     "shell.execute_reply": "2025-09-26T05:43:17.721565Z"
    },
    "papermill": {
     "duration": 0.017524,
     "end_time": "2025-09-26T05:43:17.723867",
     "exception": false,
     "start_time": "2025-09-26T05:43:17.706343",
     "status": "completed"
    },
    "tags": []
   },
   "outputs": [
    {
     "data": {
      "text/html": [
       "<div>\n",
       "<style scoped>\n",
       "    .dataframe tbody tr th:only-of-type {\n",
       "        vertical-align: middle;\n",
       "    }\n",
       "\n",
       "    .dataframe tbody tr th {\n",
       "        vertical-align: top;\n",
       "    }\n",
       "\n",
       "    .dataframe thead th {\n",
       "        text-align: right;\n",
       "    }\n",
       "</style>\n",
       "<table border=\"1\" class=\"dataframe\">\n",
       "  <thead>\n",
       "    <tr style=\"text-align: right;\">\n",
       "      <th></th>\n",
       "      <th>0</th>\n",
       "    </tr>\n",
       "  </thead>\n",
       "  <tbody>\n",
       "    <tr>\n",
       "      <th>0</th>\n",
       "      <td>38.70</td>\n",
       "    </tr>\n",
       "    <tr>\n",
       "      <th>1</th>\n",
       "      <td>28.90</td>\n",
       "    </tr>\n",
       "    <tr>\n",
       "      <th>2</th>\n",
       "      <td>33.80</td>\n",
       "    </tr>\n",
       "    <tr>\n",
       "      <th>3</th>\n",
       "      <td>24.00</td>\n",
       "    </tr>\n",
       "    <tr>\n",
       "      <th>4</th>\n",
       "      <td>32.82</td>\n",
       "    </tr>\n",
       "    <tr>\n",
       "      <th>5</th>\n",
       "      <td>37.72</td>\n",
       "    </tr>\n",
       "    <tr>\n",
       "      <th>6</th>\n",
       "      <td>27.92</td>\n",
       "    </tr>\n",
       "    <tr>\n",
       "      <th>7</th>\n",
       "      <td>23.02</td>\n",
       "    </tr>\n",
       "    <tr>\n",
       "      <th>8</th>\n",
       "      <td>18.12</td>\n",
       "    </tr>\n",
       "    <tr>\n",
       "      <th>9</th>\n",
       "      <td>35.76</td>\n",
       "    </tr>\n",
       "    <tr>\n",
       "      <th>10</th>\n",
       "      <td>30.86</td>\n",
       "    </tr>\n",
       "    <tr>\n",
       "      <th>11</th>\n",
       "      <td>25.96</td>\n",
       "    </tr>\n",
       "    <tr>\n",
       "      <th>12</th>\n",
       "      <td>21.06</td>\n",
       "    </tr>\n",
       "  </tbody>\n",
       "</table>\n",
       "</div>"
      ],
      "text/plain": [
       "        0\n",
       "0   38.70\n",
       "1   28.90\n",
       "2   33.80\n",
       "3   24.00\n",
       "4   32.82\n",
       "5   37.72\n",
       "6   27.92\n",
       "7   23.02\n",
       "8   18.12\n",
       "9   35.76\n",
       "10  30.86\n",
       "11  25.96\n",
       "12  21.06"
      ]
     },
     "execution_count": 15,
     "metadata": {},
     "output_type": "execute_result"
    }
   ],
   "source": [
    "pd.DataFrame(coffee['money'].unique())"
   ]
  },
  {
   "cell_type": "code",
   "execution_count": 16,
   "id": "7853dca4",
   "metadata": {
    "execution": {
     "iopub.execute_input": "2025-09-26T05:43:17.740178Z",
     "iopub.status.busy": "2025-09-26T05:43:17.739176Z",
     "iopub.status.idle": "2025-09-26T05:43:17.747621Z",
     "shell.execute_reply": "2025-09-26T05:43:17.746920Z"
    },
    "papermill": {
     "duration": 0.017887,
     "end_time": "2025-09-26T05:43:17.749058",
     "exception": false,
     "start_time": "2025-09-26T05:43:17.731171",
     "status": "completed"
    },
    "tags": []
   },
   "outputs": [
    {
     "data": {
      "text/html": [
       "<div>\n",
       "<style scoped>\n",
       "    .dataframe tbody tr th:only-of-type {\n",
       "        vertical-align: middle;\n",
       "    }\n",
       "\n",
       "    .dataframe tbody tr th {\n",
       "        vertical-align: top;\n",
       "    }\n",
       "\n",
       "    .dataframe thead th {\n",
       "        text-align: right;\n",
       "    }\n",
       "</style>\n",
       "<table border=\"1\" class=\"dataframe\">\n",
       "  <thead>\n",
       "    <tr style=\"text-align: right;\">\n",
       "      <th></th>\n",
       "      <th>0</th>\n",
       "    </tr>\n",
       "  </thead>\n",
       "  <tbody>\n",
       "    <tr>\n",
       "      <th>0</th>\n",
       "      <td>Latte</td>\n",
       "    </tr>\n",
       "    <tr>\n",
       "      <th>1</th>\n",
       "      <td>Hot Chocolate</td>\n",
       "    </tr>\n",
       "    <tr>\n",
       "      <th>2</th>\n",
       "      <td>Americano</td>\n",
       "    </tr>\n",
       "    <tr>\n",
       "      <th>3</th>\n",
       "      <td>Americano with Milk</td>\n",
       "    </tr>\n",
       "    <tr>\n",
       "      <th>4</th>\n",
       "      <td>Cocoa</td>\n",
       "    </tr>\n",
       "    <tr>\n",
       "      <th>5</th>\n",
       "      <td>Cortado</td>\n",
       "    </tr>\n",
       "    <tr>\n",
       "      <th>6</th>\n",
       "      <td>Espresso</td>\n",
       "    </tr>\n",
       "    <tr>\n",
       "      <th>7</th>\n",
       "      <td>Cappuccino</td>\n",
       "    </tr>\n",
       "  </tbody>\n",
       "</table>\n",
       "</div>"
      ],
      "text/plain": [
       "                     0\n",
       "0                Latte\n",
       "1        Hot Chocolate\n",
       "2            Americano\n",
       "3  Americano with Milk\n",
       "4                Cocoa\n",
       "5              Cortado\n",
       "6             Espresso\n",
       "7           Cappuccino"
      ]
     },
     "execution_count": 16,
     "metadata": {},
     "output_type": "execute_result"
    }
   ],
   "source": [
    "pd.DataFrame(coffee['coffee_name'].unique())"
   ]
  },
  {
   "cell_type": "code",
   "execution_count": 17,
   "id": "f171254f",
   "metadata": {
    "execution": {
     "iopub.execute_input": "2025-09-26T05:43:17.764940Z",
     "iopub.status.busy": "2025-09-26T05:43:17.764356Z",
     "iopub.status.idle": "2025-09-26T05:43:17.771963Z",
     "shell.execute_reply": "2025-09-26T05:43:17.771293Z"
    },
    "papermill": {
     "duration": 0.016815,
     "end_time": "2025-09-26T05:43:17.773179",
     "exception": false,
     "start_time": "2025-09-26T05:43:17.756364",
     "status": "completed"
    },
    "tags": []
   },
   "outputs": [
    {
     "data": {
      "text/html": [
       "<div>\n",
       "<style scoped>\n",
       "    .dataframe tbody tr th:only-of-type {\n",
       "        vertical-align: middle;\n",
       "    }\n",
       "\n",
       "    .dataframe tbody tr th {\n",
       "        vertical-align: top;\n",
       "    }\n",
       "\n",
       "    .dataframe thead th {\n",
       "        text-align: right;\n",
       "    }\n",
       "</style>\n",
       "<table border=\"1\" class=\"dataframe\">\n",
       "  <thead>\n",
       "    <tr style=\"text-align: right;\">\n",
       "      <th></th>\n",
       "      <th>0</th>\n",
       "    </tr>\n",
       "  </thead>\n",
       "  <tbody>\n",
       "    <tr>\n",
       "      <th>0</th>\n",
       "      <td>Morning</td>\n",
       "    </tr>\n",
       "    <tr>\n",
       "      <th>1</th>\n",
       "      <td>Afternoon</td>\n",
       "    </tr>\n",
       "    <tr>\n",
       "      <th>2</th>\n",
       "      <td>Night</td>\n",
       "    </tr>\n",
       "  </tbody>\n",
       "</table>\n",
       "</div>"
      ],
      "text/plain": [
       "           0\n",
       "0    Morning\n",
       "1  Afternoon\n",
       "2      Night"
      ]
     },
     "execution_count": 17,
     "metadata": {},
     "output_type": "execute_result"
    }
   ],
   "source": [
    "pd.DataFrame(coffee['Time_of_Day'].unique())"
   ]
  },
  {
   "cell_type": "code",
   "execution_count": 18,
   "id": "4c4ee27b",
   "metadata": {
    "execution": {
     "iopub.execute_input": "2025-09-26T05:43:17.789523Z",
     "iopub.status.busy": "2025-09-26T05:43:17.789174Z",
     "iopub.status.idle": "2025-09-26T05:43:17.797339Z",
     "shell.execute_reply": "2025-09-26T05:43:17.796386Z"
    },
    "papermill": {
     "duration": 0.017847,
     "end_time": "2025-09-26T05:43:17.798899",
     "exception": false,
     "start_time": "2025-09-26T05:43:17.781052",
     "status": "completed"
    },
    "tags": []
   },
   "outputs": [
    {
     "data": {
      "text/html": [
       "<div>\n",
       "<style scoped>\n",
       "    .dataframe tbody tr th:only-of-type {\n",
       "        vertical-align: middle;\n",
       "    }\n",
       "\n",
       "    .dataframe tbody tr th {\n",
       "        vertical-align: top;\n",
       "    }\n",
       "\n",
       "    .dataframe thead th {\n",
       "        text-align: right;\n",
       "    }\n",
       "</style>\n",
       "<table border=\"1\" class=\"dataframe\">\n",
       "  <thead>\n",
       "    <tr style=\"text-align: right;\">\n",
       "      <th></th>\n",
       "      <th>0</th>\n",
       "    </tr>\n",
       "  </thead>\n",
       "  <tbody>\n",
       "    <tr>\n",
       "      <th>0</th>\n",
       "      <td>Fri</td>\n",
       "    </tr>\n",
       "    <tr>\n",
       "      <th>1</th>\n",
       "      <td>Sat</td>\n",
       "    </tr>\n",
       "    <tr>\n",
       "      <th>2</th>\n",
       "      <td>Sun</td>\n",
       "    </tr>\n",
       "    <tr>\n",
       "      <th>3</th>\n",
       "      <td>Mon</td>\n",
       "    </tr>\n",
       "    <tr>\n",
       "      <th>4</th>\n",
       "      <td>Tue</td>\n",
       "    </tr>\n",
       "    <tr>\n",
       "      <th>5</th>\n",
       "      <td>Wed</td>\n",
       "    </tr>\n",
       "    <tr>\n",
       "      <th>6</th>\n",
       "      <td>Thu</td>\n",
       "    </tr>\n",
       "  </tbody>\n",
       "</table>\n",
       "</div>"
      ],
      "text/plain": [
       "     0\n",
       "0  Fri\n",
       "1  Sat\n",
       "2  Sun\n",
       "3  Mon\n",
       "4  Tue\n",
       "5  Wed\n",
       "6  Thu"
      ]
     },
     "execution_count": 18,
     "metadata": {},
     "output_type": "execute_result"
    }
   ],
   "source": [
    "pd.DataFrame(coffee['Weekday'].unique())"
   ]
  },
  {
   "cell_type": "code",
   "execution_count": 19,
   "id": "7a5e0fde",
   "metadata": {
    "execution": {
     "iopub.execute_input": "2025-09-26T05:43:17.815415Z",
     "iopub.status.busy": "2025-09-26T05:43:17.815074Z",
     "iopub.status.idle": "2025-09-26T05:43:17.823261Z",
     "shell.execute_reply": "2025-09-26T05:43:17.822529Z"
    },
    "papermill": {
     "duration": 0.018168,
     "end_time": "2025-09-26T05:43:17.824761",
     "exception": false,
     "start_time": "2025-09-26T05:43:17.806593",
     "status": "completed"
    },
    "tags": []
   },
   "outputs": [
    {
     "data": {
      "text/html": [
       "<div>\n",
       "<style scoped>\n",
       "    .dataframe tbody tr th:only-of-type {\n",
       "        vertical-align: middle;\n",
       "    }\n",
       "\n",
       "    .dataframe tbody tr th {\n",
       "        vertical-align: top;\n",
       "    }\n",
       "\n",
       "    .dataframe thead th {\n",
       "        text-align: right;\n",
       "    }\n",
       "</style>\n",
       "<table border=\"1\" class=\"dataframe\">\n",
       "  <thead>\n",
       "    <tr style=\"text-align: right;\">\n",
       "      <th></th>\n",
       "      <th>0</th>\n",
       "    </tr>\n",
       "  </thead>\n",
       "  <tbody>\n",
       "    <tr>\n",
       "      <th>0</th>\n",
       "      <td>Mar</td>\n",
       "    </tr>\n",
       "    <tr>\n",
       "      <th>1</th>\n",
       "      <td>Apr</td>\n",
       "    </tr>\n",
       "    <tr>\n",
       "      <th>2</th>\n",
       "      <td>May</td>\n",
       "    </tr>\n",
       "    <tr>\n",
       "      <th>3</th>\n",
       "      <td>Jun</td>\n",
       "    </tr>\n",
       "    <tr>\n",
       "      <th>4</th>\n",
       "      <td>Jul</td>\n",
       "    </tr>\n",
       "    <tr>\n",
       "      <th>5</th>\n",
       "      <td>Aug</td>\n",
       "    </tr>\n",
       "    <tr>\n",
       "      <th>6</th>\n",
       "      <td>Sep</td>\n",
       "    </tr>\n",
       "    <tr>\n",
       "      <th>7</th>\n",
       "      <td>Oct</td>\n",
       "    </tr>\n",
       "    <tr>\n",
       "      <th>8</th>\n",
       "      <td>Nov</td>\n",
       "    </tr>\n",
       "    <tr>\n",
       "      <th>9</th>\n",
       "      <td>Dec</td>\n",
       "    </tr>\n",
       "    <tr>\n",
       "      <th>10</th>\n",
       "      <td>Jan</td>\n",
       "    </tr>\n",
       "    <tr>\n",
       "      <th>11</th>\n",
       "      <td>Feb</td>\n",
       "    </tr>\n",
       "  </tbody>\n",
       "</table>\n",
       "</div>"
      ],
      "text/plain": [
       "      0\n",
       "0   Mar\n",
       "1   Apr\n",
       "2   May\n",
       "3   Jun\n",
       "4   Jul\n",
       "5   Aug\n",
       "6   Sep\n",
       "7   Oct\n",
       "8   Nov\n",
       "9   Dec\n",
       "10  Jan\n",
       "11  Feb"
      ]
     },
     "execution_count": 19,
     "metadata": {},
     "output_type": "execute_result"
    }
   ],
   "source": [
    "pd.DataFrame(coffee['Month_name'].unique())"
   ]
  },
  {
   "cell_type": "code",
   "execution_count": 20,
   "id": "7857b34b",
   "metadata": {
    "execution": {
     "iopub.execute_input": "2025-09-26T05:43:17.841930Z",
     "iopub.status.busy": "2025-09-26T05:43:17.841091Z",
     "iopub.status.idle": "2025-09-26T05:43:17.848674Z",
     "shell.execute_reply": "2025-09-26T05:43:17.847817Z"
    },
    "papermill": {
     "duration": 0.017566,
     "end_time": "2025-09-26T05:43:17.850257",
     "exception": false,
     "start_time": "2025-09-26T05:43:17.832691",
     "status": "completed"
    },
    "tags": []
   },
   "outputs": [
    {
     "data": {
      "text/html": [
       "<div>\n",
       "<style scoped>\n",
       "    .dataframe tbody tr th:only-of-type {\n",
       "        vertical-align: middle;\n",
       "    }\n",
       "\n",
       "    .dataframe tbody tr th {\n",
       "        vertical-align: top;\n",
       "    }\n",
       "\n",
       "    .dataframe thead th {\n",
       "        text-align: right;\n",
       "    }\n",
       "</style>\n",
       "<table border=\"1\" class=\"dataframe\">\n",
       "  <thead>\n",
       "    <tr style=\"text-align: right;\">\n",
       "      <th></th>\n",
       "      <th>0</th>\n",
       "    </tr>\n",
       "  </thead>\n",
       "  <tbody>\n",
       "    <tr>\n",
       "      <th>0</th>\n",
       "      <td>5</td>\n",
       "    </tr>\n",
       "    <tr>\n",
       "      <th>1</th>\n",
       "      <td>6</td>\n",
       "    </tr>\n",
       "    <tr>\n",
       "      <th>2</th>\n",
       "      <td>7</td>\n",
       "    </tr>\n",
       "    <tr>\n",
       "      <th>3</th>\n",
       "      <td>1</td>\n",
       "    </tr>\n",
       "    <tr>\n",
       "      <th>4</th>\n",
       "      <td>2</td>\n",
       "    </tr>\n",
       "    <tr>\n",
       "      <th>5</th>\n",
       "      <td>3</td>\n",
       "    </tr>\n",
       "    <tr>\n",
       "      <th>6</th>\n",
       "      <td>4</td>\n",
       "    </tr>\n",
       "  </tbody>\n",
       "</table>\n",
       "</div>"
      ],
      "text/plain": [
       "   0\n",
       "0  5\n",
       "1  6\n",
       "2  7\n",
       "3  1\n",
       "4  2\n",
       "5  3\n",
       "6  4"
      ]
     },
     "execution_count": 20,
     "metadata": {},
     "output_type": "execute_result"
    }
   ],
   "source": [
    "pd.DataFrame(coffee['Weekdaysort'].unique())"
   ]
  },
  {
   "cell_type": "code",
   "execution_count": 21,
   "id": "f3aaafe0",
   "metadata": {
    "execution": {
     "iopub.execute_input": "2025-09-26T05:43:17.867115Z",
     "iopub.status.busy": "2025-09-26T05:43:17.866812Z",
     "iopub.status.idle": "2025-09-26T05:43:17.874133Z",
     "shell.execute_reply": "2025-09-26T05:43:17.873301Z"
    },
    "papermill": {
     "duration": 0.017206,
     "end_time": "2025-09-26T05:43:17.875552",
     "exception": false,
     "start_time": "2025-09-26T05:43:17.858346",
     "status": "completed"
    },
    "tags": []
   },
   "outputs": [
    {
     "data": {
      "text/html": [
       "<div>\n",
       "<style scoped>\n",
       "    .dataframe tbody tr th:only-of-type {\n",
       "        vertical-align: middle;\n",
       "    }\n",
       "\n",
       "    .dataframe tbody tr th {\n",
       "        vertical-align: top;\n",
       "    }\n",
       "\n",
       "    .dataframe thead th {\n",
       "        text-align: right;\n",
       "    }\n",
       "</style>\n",
       "<table border=\"1\" class=\"dataframe\">\n",
       "  <thead>\n",
       "    <tr style=\"text-align: right;\">\n",
       "      <th></th>\n",
       "      <th>0</th>\n",
       "    </tr>\n",
       "  </thead>\n",
       "  <tbody>\n",
       "    <tr>\n",
       "      <th>0</th>\n",
       "      <td>3</td>\n",
       "    </tr>\n",
       "    <tr>\n",
       "      <th>1</th>\n",
       "      <td>4</td>\n",
       "    </tr>\n",
       "    <tr>\n",
       "      <th>2</th>\n",
       "      <td>5</td>\n",
       "    </tr>\n",
       "    <tr>\n",
       "      <th>3</th>\n",
       "      <td>6</td>\n",
       "    </tr>\n",
       "    <tr>\n",
       "      <th>4</th>\n",
       "      <td>7</td>\n",
       "    </tr>\n",
       "    <tr>\n",
       "      <th>5</th>\n",
       "      <td>8</td>\n",
       "    </tr>\n",
       "    <tr>\n",
       "      <th>6</th>\n",
       "      <td>9</td>\n",
       "    </tr>\n",
       "    <tr>\n",
       "      <th>7</th>\n",
       "      <td>10</td>\n",
       "    </tr>\n",
       "    <tr>\n",
       "      <th>8</th>\n",
       "      <td>11</td>\n",
       "    </tr>\n",
       "    <tr>\n",
       "      <th>9</th>\n",
       "      <td>12</td>\n",
       "    </tr>\n",
       "    <tr>\n",
       "      <th>10</th>\n",
       "      <td>1</td>\n",
       "    </tr>\n",
       "    <tr>\n",
       "      <th>11</th>\n",
       "      <td>2</td>\n",
       "    </tr>\n",
       "  </tbody>\n",
       "</table>\n",
       "</div>"
      ],
      "text/plain": [
       "     0\n",
       "0    3\n",
       "1    4\n",
       "2    5\n",
       "3    6\n",
       "4    7\n",
       "5    8\n",
       "6    9\n",
       "7   10\n",
       "8   11\n",
       "9   12\n",
       "10   1\n",
       "11   2"
      ]
     },
     "execution_count": 21,
     "metadata": {},
     "output_type": "execute_result"
    }
   ],
   "source": [
    "pd.DataFrame(coffee['Monthsort'].unique())"
   ]
  },
  {
   "cell_type": "code",
   "execution_count": 22,
   "id": "0ba6b8ae",
   "metadata": {
    "execution": {
     "iopub.execute_input": "2025-09-26T05:43:17.893258Z",
     "iopub.status.busy": "2025-09-26T05:43:17.892924Z",
     "iopub.status.idle": "2025-09-26T05:43:17.901675Z",
     "shell.execute_reply": "2025-09-26T05:43:17.900929Z"
    },
    "papermill": {
     "duration": 0.019406,
     "end_time": "2025-09-26T05:43:17.902966",
     "exception": false,
     "start_time": "2025-09-26T05:43:17.883560",
     "status": "completed"
    },
    "tags": []
   },
   "outputs": [
    {
     "data": {
      "text/html": [
       "<div>\n",
       "<style scoped>\n",
       "    .dataframe tbody tr th:only-of-type {\n",
       "        vertical-align: middle;\n",
       "    }\n",
       "\n",
       "    .dataframe tbody tr th {\n",
       "        vertical-align: top;\n",
       "    }\n",
       "\n",
       "    .dataframe thead th {\n",
       "        text-align: right;\n",
       "    }\n",
       "</style>\n",
       "<table border=\"1\" class=\"dataframe\">\n",
       "  <thead>\n",
       "    <tr style=\"text-align: right;\">\n",
       "      <th></th>\n",
       "      <th>0</th>\n",
       "    </tr>\n",
       "  </thead>\n",
       "  <tbody>\n",
       "    <tr>\n",
       "      <th>0</th>\n",
       "      <td>3/1/2024</td>\n",
       "    </tr>\n",
       "    <tr>\n",
       "      <th>1</th>\n",
       "      <td>3/2/2024</td>\n",
       "    </tr>\n",
       "    <tr>\n",
       "      <th>2</th>\n",
       "      <td>3/3/2024</td>\n",
       "    </tr>\n",
       "    <tr>\n",
       "      <th>3</th>\n",
       "      <td>3/4/2024</td>\n",
       "    </tr>\n",
       "    <tr>\n",
       "      <th>4</th>\n",
       "      <td>3/5/2024</td>\n",
       "    </tr>\n",
       "    <tr>\n",
       "      <th>...</th>\n",
       "      <td>...</td>\n",
       "    </tr>\n",
       "    <tr>\n",
       "      <th>376</th>\n",
       "      <td>3/19/2025</td>\n",
       "    </tr>\n",
       "    <tr>\n",
       "      <th>377</th>\n",
       "      <td>3/20/2025</td>\n",
       "    </tr>\n",
       "    <tr>\n",
       "      <th>378</th>\n",
       "      <td>3/21/2025</td>\n",
       "    </tr>\n",
       "    <tr>\n",
       "      <th>379</th>\n",
       "      <td>3/22/2025</td>\n",
       "    </tr>\n",
       "    <tr>\n",
       "      <th>380</th>\n",
       "      <td>3/23/2025</td>\n",
       "    </tr>\n",
       "  </tbody>\n",
       "</table>\n",
       "<p>381 rows × 1 columns</p>\n",
       "</div>"
      ],
      "text/plain": [
       "             0\n",
       "0     3/1/2024\n",
       "1     3/2/2024\n",
       "2     3/3/2024\n",
       "3     3/4/2024\n",
       "4     3/5/2024\n",
       "..         ...\n",
       "376  3/19/2025\n",
       "377  3/20/2025\n",
       "378  3/21/2025\n",
       "379  3/22/2025\n",
       "380  3/23/2025\n",
       "\n",
       "[381 rows x 1 columns]"
      ]
     },
     "execution_count": 22,
     "metadata": {},
     "output_type": "execute_result"
    }
   ],
   "source": [
    "pd.DataFrame(coffee['Date'].unique())"
   ]
  },
  {
   "cell_type": "code",
   "execution_count": 23,
   "id": "1f306e01",
   "metadata": {
    "execution": {
     "iopub.execute_input": "2025-09-26T05:43:17.920822Z",
     "iopub.status.busy": "2025-09-26T05:43:17.919889Z",
     "iopub.status.idle": "2025-09-26T05:43:17.929519Z",
     "shell.execute_reply": "2025-09-26T05:43:17.928607Z"
    },
    "papermill": {
     "duration": 0.019924,
     "end_time": "2025-09-26T05:43:17.930970",
     "exception": false,
     "start_time": "2025-09-26T05:43:17.911046",
     "status": "completed"
    },
    "tags": []
   },
   "outputs": [
    {
     "data": {
      "text/html": [
       "<div>\n",
       "<style scoped>\n",
       "    .dataframe tbody tr th:only-of-type {\n",
       "        vertical-align: middle;\n",
       "    }\n",
       "\n",
       "    .dataframe tbody tr th {\n",
       "        vertical-align: top;\n",
       "    }\n",
       "\n",
       "    .dataframe thead th {\n",
       "        text-align: right;\n",
       "    }\n",
       "</style>\n",
       "<table border=\"1\" class=\"dataframe\">\n",
       "  <thead>\n",
       "    <tr style=\"text-align: right;\">\n",
       "      <th></th>\n",
       "      <th>0</th>\n",
       "    </tr>\n",
       "  </thead>\n",
       "  <tbody>\n",
       "    <tr>\n",
       "      <th>0</th>\n",
       "      <td>15:50.5</td>\n",
       "    </tr>\n",
       "    <tr>\n",
       "      <th>1</th>\n",
       "      <td>19:22.5</td>\n",
       "    </tr>\n",
       "    <tr>\n",
       "      <th>2</th>\n",
       "      <td>20:18.1</td>\n",
       "    </tr>\n",
       "    <tr>\n",
       "      <th>3</th>\n",
       "      <td>46:33.0</td>\n",
       "    </tr>\n",
       "    <tr>\n",
       "      <th>4</th>\n",
       "      <td>48:14.6</td>\n",
       "    </tr>\n",
       "    <tr>\n",
       "      <th>...</th>\n",
       "      <td>...</td>\n",
       "    </tr>\n",
       "    <tr>\n",
       "      <th>3368</th>\n",
       "      <td>07:11.3</td>\n",
       "    </tr>\n",
       "    <tr>\n",
       "      <th>3369</th>\n",
       "      <td>34:54.9</td>\n",
       "    </tr>\n",
       "    <tr>\n",
       "      <th>3370</th>\n",
       "      <td>43:37.4</td>\n",
       "    </tr>\n",
       "    <tr>\n",
       "      <th>3371</th>\n",
       "      <td>44:16.9</td>\n",
       "    </tr>\n",
       "    <tr>\n",
       "      <th>3372</th>\n",
       "      <td>11:38.6</td>\n",
       "    </tr>\n",
       "  </tbody>\n",
       "</table>\n",
       "<p>3373 rows × 1 columns</p>\n",
       "</div>"
      ],
      "text/plain": [
       "            0\n",
       "0     15:50.5\n",
       "1     19:22.5\n",
       "2     20:18.1\n",
       "3     46:33.0\n",
       "4     48:14.6\n",
       "...       ...\n",
       "3368  07:11.3\n",
       "3369  34:54.9\n",
       "3370  43:37.4\n",
       "3371  44:16.9\n",
       "3372  11:38.6\n",
       "\n",
       "[3373 rows x 1 columns]"
      ]
     },
     "execution_count": 23,
     "metadata": {},
     "output_type": "execute_result"
    }
   ],
   "source": [
    "pd.DataFrame(coffee['Time'].unique())"
   ]
  },
  {
   "cell_type": "markdown",
   "id": "53164ea7",
   "metadata": {
    "papermill": {
     "duration": 0.007589,
     "end_time": "2025-09-26T05:43:17.946842",
     "exception": false,
     "start_time": "2025-09-26T05:43:17.939253",
     "status": "completed"
    },
    "tags": []
   },
   "source": [
    "# Visual Representation\n",
    "Visual representation helps transform raw data into meaningful insights. It makes complex patterns and relationships easier to understand. Charts and graphs highlight trends, distributions, and comparisons. Visuals enhance both analysis and storytelling in data science. They allow readers to grasp key findings quickly and effectively."
   ]
  },
  {
   "cell_type": "code",
   "execution_count": 24,
   "id": "7323aaa6",
   "metadata": {
    "execution": {
     "iopub.execute_input": "2025-09-26T05:43:17.964625Z",
     "iopub.status.busy": "2025-09-26T05:43:17.963625Z",
     "iopub.status.idle": "2025-09-26T05:43:18.557747Z",
     "shell.execute_reply": "2025-09-26T05:43:18.556863Z"
    },
    "jupyter": {
     "source_hidden": true
    },
    "papermill": {
     "duration": 0.60438,
     "end_time": "2025-09-26T05:43:18.559118",
     "exception": false,
     "start_time": "2025-09-26T05:43:17.954738",
     "status": "completed"
    },
    "tags": []
   },
   "outputs": [
    {
     "data": {
      "image/png": "[encoded data removed]",
      "text/plain": [
       "<Figure size 640x480 with 1 Axes>"
      ]
     },
     "metadata": {},
     "output_type": "display_data"
    }
   ],
   "source": [
    "import matplotlib.pyplot as plt\n",
    "sns.barplot(x='coffee_name', y='money', data=coffee, palette='Set1')\n",
    "plt.title('Checking Revenue Earned from Different Coffee Types')\n",
    "plt.xlabel('COFFEE NAME', fontsize=10, fontfamily='bold')\n",
    "plt.ylabel('REVENUE EARNED', fontsize=10, fontfamily='bold')\n",
    "plt.xticks(rotation=50, ha='right')\n",
    "plt.show()"
   ]
  },
  {
   "cell_type": "code",
   "execution_count": 25,
   "id": "3ad36297",
   "metadata": {
    "execution": {
     "iopub.execute_input": "2025-09-26T05:43:18.578805Z",
     "iopub.status.busy": "2025-09-26T05:43:18.578523Z",
     "iopub.status.idle": "2025-09-26T05:43:18.962733Z",
     "shell.execute_reply": "2025-09-26T05:43:18.961819Z"
    },
    "jupyter": {
     "source_hidden": true
    },
    "papermill": {
     "duration": 0.396243,
     "end_time": "2025-09-26T05:43:18.964375",
     "exception": false,
     "start_time": "2025-09-26T05:43:18.568132",
     "status": "completed"
    },
    "tags": []
   },
   "outputs": [
    {
     "data": {
      "image/png": "[encoded data removed]",
      "text/plain": [
       "<Figure size 640x480 with 1 Axes>"
      ]
     },
     "metadata": {},
     "output_type": "display_data"
    }
   ],
   "source": [
    "import matplotlib.pyplot as plt\n",
    "sns.lineplot(x='coffee_name', y='hour_of_day', data=coffee, color='Orange')\n",
    "plt.title('Checking Revenue Earned from Different Coffee Types')\n",
    "plt.xlabel('COFFEE NAME', fontsize=10, fontfamily='bold')\n",
    "plt.ylabel('HOUR OF DAY', fontsize=10, fontfamily='bold')\n",
    "plt.xticks(rotation=50, ha='right')\n",
    "plt.show()"
   ]
  },
  {
   "cell_type": "code",
   "execution_count": 26,
   "id": "5326f750",
   "metadata": {
    "execution": {
     "iopub.execute_input": "2025-09-26T05:43:18.987048Z",
     "iopub.status.busy": "2025-09-26T05:43:18.986697Z",
     "iopub.status.idle": "2025-09-26T05:43:19.221386Z",
     "shell.execute_reply": "2025-09-26T05:43:19.220535Z"
    },
    "jupyter": {
     "source_hidden": true
    },
    "papermill": {
     "duration": 0.247479,
     "end_time": "2025-09-26T05:43:19.222808",
     "exception": false,
     "start_time": "2025-09-26T05:43:18.975329",
     "status": "completed"
    },
    "tags": []
   },
   "outputs": [
    {
     "data": {
      "image/png": "[encoded data removed]",
      "text/plain": [
       "<Figure size 640x480 with 1 Axes>"
      ]
     },
     "metadata": {},
     "output_type": "display_data"
    }
   ],
   "source": [
    "import matplotlib.pyplot as plt\n",
    "sns.barplot(x='Time_of_Day', y='money', data=coffee, palette='viridis')\n",
    "plt.title('Checking when people drink Coffee the most')\n",
    "plt.grid(True, linestyle='-', alpha=0.)\n",
    "plt.xlabel('Time of Day', fontsize=10, fontfamily='bold')\n",
    "plt.ylabel('Sales Frequency', fontsize=10, fontfamily='bold')\n",
    "plt.show()"
   ]
  },
  {
   "cell_type": "code",
   "execution_count": 27,
   "id": "56e504ca",
   "metadata": {
    "execution": {
     "iopub.execute_input": "2025-09-26T05:43:19.308652Z",
     "iopub.status.busy": "2025-09-26T05:43:19.308315Z",
     "iopub.status.idle": "2025-09-26T05:43:19.646395Z",
     "shell.execute_reply": "2025-09-26T05:43:19.645427Z"
    },
    "jupyter": {
     "source_hidden": true
    },
    "papermill": {
     "duration": 0.414671,
     "end_time": "2025-09-26T05:43:19.647868",
     "exception": false,
     "start_time": "2025-09-26T05:43:19.233197",
     "status": "completed"
    },
    "tags": []
   },
   "outputs": [
    {
     "data": {
      "image/png": "[encoded data removed]",
      "text/plain": [
       "<Figure size 1400x600 with 2 Axes>"
      ]
     },
     "metadata": {},
     "output_type": "display_data"
    }
   ],
   "source": [
    "heatmap_data = coffee.groupby([\"Weekday\", \"hour_of_day\"])[\"money\"].sum().reset_index()\n",
    "heatmap_pivot = heatmap_data.pivot(index=\"Weekday\", columns=\"hour_of_day\", values=\"money\")\n",
    "plt.figure(figsize=(14,6))\n",
    "sns.heatmap(heatmap_pivot, cmap=\"YlGnBu\", linewidths=0.5, linecolor=\"gray\")\n",
    "plt.title(\"Heatmap of Coffee Sales by Hour and Weekday\", fontsize=14)\n",
    "plt.xlabel(\"Hour of Day\")\n",
    "plt.ylabel(\"Weekday\")\n",
    "plt.show()"
   ]
  }
 ],
 "metadata": {
  "kaggle": {
   "accelerator": "none",
   "dataSources": [
    {
     "datasetId": 8339020,
     "sourceId": 13160626,
     "sourceType": "datasetVersion"
    }
   ],
   "dockerImageVersionId": 31089,
   "isGpuEnabled": false,
   "isInternetEnabled": false,
   "language": "python",
   "sourceType": "notebook"
  },
  "kernelspec": {
   "display_name": "Python 3",
   "language": "python",
   "name": "python3"
  },
  "language_info": {
   "codemirror_mode": {
    "name": "ipython",
    "version": 3
   },
   "file_extension": ".py",
   "mimetype": "text/x-python",
   "name": "python",
   "nbconvert_exporter": "python",
   "pygments_lexer": "ipython3",
   "version": "3.11.13"
  },
  "papermill": {
   "default_parameters": {},
   "duration": 12.300067,
   "end_time": "2025-09-26T05:43:20.278846",
   "environment_variables": {},
   "exception": null,
   "input_path": "__notebook__.ipynb",
   "output_path": "__notebook__.ipynb",
   "parameters": {},
   "start_time": "2025-09-26T05:43:07.978779",
   "version": "2.6.0"
  }
 },
 "nbformat": 4,
 "nbformat_minor": 5
}
