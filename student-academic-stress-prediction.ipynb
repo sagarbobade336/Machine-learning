{
 "cells": [
  {
   "cell_type": "code",
   "execution_count": 1,
   "id": "8ac78f6a",
   "metadata": {
    "_cell_guid": "b1076dfc-b9ad-4769-8c92-a6c4dae69d19",
    "_uuid": "8f2839f25d086af736a60e9eeb907d3b93b6e0e5",
    "execution": {
     "iopub.execute_input": "2025-08-26T10:13:33.524027Z",
     "iopub.status.busy": "2025-08-26T10:13:33.523722Z",
     "iopub.status.idle": "2025-08-26T10:13:35.641543Z",
     "shell.execute_reply": "2025-08-26T10:13:35.640529Z"
    },
    "papermill": {
     "duration": 2.12345,
     "end_time": "2025-08-26T10:13:35.643169",
     "exception": false,
     "start_time": "2025-08-26T10:13:33.519719",
     "status": "completed"
    },
    "tags": []
   },
   "outputs": [
    {
     "name": "stdout",
     "output_type": "stream",
     "text": [
      "/kaggle/input/student-academic-stress-real-world-dataset/academic Stress level - maintainance 1.csv\n"
     ]
    }
   ],
   "source": [
    "# This Python 3 environment comes with many helpful analytics libraries installed\n",
    "# It is defined by the kaggle/python Docker image: https://github.com/kaggle/docker-python\n",
    "# For example, here's several helpful packages to load\n",
    "\n",
    "import numpy as np # linear algebra\n",
    "import pandas as pd # data processing, CSV file I/O (e.g. pd.read_csv)\n",
    "\n",
    "# Input data files are available in the read-only \"../input/\" directory\n",
    "# For example, running this (by clicking run or pressing Shift+Enter) will list all files under the input directory\n",
    "\n",
    "import os\n",
    "for dirname, _, filenames in os.walk('/kaggle/input'):\n",
    "    for filename in filenames:\n",
    "        print(os.path.join(dirname, filename))\n",
    "\n",
    "# You can write up to 20GB to the current directory (/kaggle/working/) that gets preserved as output when you create a version using \"Save & Run All\" \n",
    "# You can also write temporary files to /kaggle/temp/, but they won't be saved outside of the current session"
   ]
  },
  {
   "cell_type": "code",
   "execution_count": 2,
   "id": "7116f718",
   "metadata": {
    "execution": {
     "iopub.execute_input": "2025-08-26T10:13:35.649675Z",
     "iopub.status.busy": "2025-08-26T10:13:35.649281Z",
     "iopub.status.idle": "2025-08-26T10:13:37.914248Z",
     "shell.execute_reply": "2025-08-26T10:13:37.913257Z"
    },
    "papermill": {
     "duration": 2.26973,
     "end_time": "2025-08-26T10:13:37.915869",
     "exception": false,
     "start_time": "2025-08-26T10:13:35.646139",
     "status": "completed"
    },
    "tags": []
   },
   "outputs": [],
   "source": [
    "import pandas as pd \n",
    "import numpy as np\n",
    "import matplotlib.pyplot as plt \n",
    "import seaborn as sns\n"
   ]
  },
  {
   "cell_type": "code",
   "execution_count": 3,
   "id": "b72f4af0",
   "metadata": {
    "execution": {
     "iopub.execute_input": "2025-08-26T10:13:37.922188Z",
     "iopub.status.busy": "2025-08-26T10:13:37.921739Z",
     "iopub.status.idle": "2025-08-26T10:13:37.944921Z",
     "shell.execute_reply": "2025-08-26T10:13:37.943945Z"
    },
    "papermill": {
     "duration": 0.028113,
     "end_time": "2025-08-26T10:13:37.946637",
     "exception": false,
     "start_time": "2025-08-26T10:13:37.918524",
     "status": "completed"
    },
    "tags": []
   },
   "outputs": [],
   "source": [
    "df = pd.read_csv('/kaggle/input/student-academic-stress-real-world-dataset/academic Stress level - maintainance 1.csv')"
   ]
  },
  {
   "cell_type": "code",
   "execution_count": 4,
   "id": "3300174f",
   "metadata": {
    "execution": {
     "iopub.execute_input": "2025-08-26T10:13:37.952619Z",
     "iopub.status.busy": "2025-08-26T10:13:37.952320Z",
     "iopub.status.idle": "2025-08-26T10:13:37.977983Z",
     "shell.execute_reply": "2025-08-26T10:13:37.977024Z"
    },
    "papermill": {
     "duration": 0.030357,
     "end_time": "2025-08-26T10:13:37.979546",
     "exception": false,
     "start_time": "2025-08-26T10:13:37.949189",
     "status": "completed"
    },
    "tags": []
   },
   "outputs": [
    {
     "data": {
      "text/html": [
       "<div>\n",
       "<style scoped>\n",
       "    .dataframe tbody tr th:only-of-type {\n",
       "        vertical-align: middle;\n",
       "    }\n",
       "\n",
       "    .dataframe tbody tr th {\n",
       "        vertical-align: top;\n",
       "    }\n",
       "\n",
       "    .dataframe thead th {\n",
       "        text-align: right;\n",
       "    }\n",
       "</style>\n",
       "<table border=\"1\" class=\"dataframe\">\n",
       "  <thead>\n",
       "    <tr style=\"text-align: right;\">\n",
       "      <th></th>\n",
       "      <th>Timestamp</th>\n",
       "      <th>Your Academic Stage</th>\n",
       "      <th>Peer pressure</th>\n",
       "      <th>Academic pressure from your home</th>\n",
       "      <th>Study Environment</th>\n",
       "      <th>What coping strategy you use as a student?</th>\n",
       "      <th>Do you have any bad habits like smoking, drinking on a daily basis?</th>\n",
       "      <th>What would you rate the academic  competition in your student life</th>\n",
       "      <th>Rate your academic stress index</th>\n",
       "    </tr>\n",
       "  </thead>\n",
       "  <tbody>\n",
       "    <tr>\n",
       "      <th>0</th>\n",
       "      <td>24/07/2025 22:05:39</td>\n",
       "      <td>undergraduate</td>\n",
       "      <td>4</td>\n",
       "      <td>5</td>\n",
       "      <td>Noisy</td>\n",
       "      <td>Analyze the situation and handle it with intel...</td>\n",
       "      <td>No</td>\n",
       "      <td>3</td>\n",
       "      <td>5</td>\n",
       "    </tr>\n",
       "    <tr>\n",
       "      <th>1</th>\n",
       "      <td>24/07/2025 22:05:52</td>\n",
       "      <td>undergraduate</td>\n",
       "      <td>3</td>\n",
       "      <td>4</td>\n",
       "      <td>Peaceful</td>\n",
       "      <td>Analyze the situation and handle it with intel...</td>\n",
       "      <td>No</td>\n",
       "      <td>3</td>\n",
       "      <td>3</td>\n",
       "    </tr>\n",
       "    <tr>\n",
       "      <th>2</th>\n",
       "      <td>24/07/2025 22:06:39</td>\n",
       "      <td>undergraduate</td>\n",
       "      <td>1</td>\n",
       "      <td>1</td>\n",
       "      <td>Peaceful</td>\n",
       "      <td>Social support (friends, family)</td>\n",
       "      <td>No</td>\n",
       "      <td>2</td>\n",
       "      <td>4</td>\n",
       "    </tr>\n",
       "    <tr>\n",
       "      <th>3</th>\n",
       "      <td>24/07/2025 22:06:45</td>\n",
       "      <td>undergraduate</td>\n",
       "      <td>3</td>\n",
       "      <td>2</td>\n",
       "      <td>Peaceful</td>\n",
       "      <td>Analyze the situation and handle it with intel...</td>\n",
       "      <td>No</td>\n",
       "      <td>4</td>\n",
       "      <td>3</td>\n",
       "    </tr>\n",
       "    <tr>\n",
       "      <th>4</th>\n",
       "      <td>24/07/2025 22:08:06</td>\n",
       "      <td>undergraduate</td>\n",
       "      <td>3</td>\n",
       "      <td>3</td>\n",
       "      <td>Peaceful</td>\n",
       "      <td>Analyze the situation and handle it with intel...</td>\n",
       "      <td>No</td>\n",
       "      <td>4</td>\n",
       "      <td>5</td>\n",
       "    </tr>\n",
       "  </tbody>\n",
       "</table>\n",
       "</div>"
      ],
      "text/plain": [
       "             Timestamp Your Academic Stage  Peer pressure  \\\n",
       "0  24/07/2025 22:05:39       undergraduate              4   \n",
       "1  24/07/2025 22:05:52       undergraduate              3   \n",
       "2  24/07/2025 22:06:39       undergraduate              1   \n",
       "3  24/07/2025 22:06:45       undergraduate              3   \n",
       "4  24/07/2025 22:08:06       undergraduate              3   \n",
       "\n",
       "   Academic pressure from your home Study Environment  \\\n",
       "0                                 5             Noisy   \n",
       "1                                 4          Peaceful   \n",
       "2                                 1          Peaceful   \n",
       "3                                 2          Peaceful   \n",
       "4                                 3          Peaceful   \n",
       "\n",
       "          What coping strategy you use as a student?  \\\n",
       "0  Analyze the situation and handle it with intel...   \n",
       "1  Analyze the situation and handle it with intel...   \n",
       "2                   Social support (friends, family)   \n",
       "3  Analyze the situation and handle it with intel...   \n",
       "4  Analyze the situation and handle it with intel...   \n",
       "\n",
       "  Do you have any bad habits like smoking, drinking on a daily basis?  \\\n",
       "0                                                 No                    \n",
       "1                                                 No                    \n",
       "2                                                 No                    \n",
       "3                                                 No                    \n",
       "4                                                 No                    \n",
       "\n",
       "   What would you rate the academic  competition in your student life  \\\n",
       "0                                                  3                    \n",
       "1                                                  3                    \n",
       "2                                                  2                    \n",
       "3                                                  4                    \n",
       "4                                                  4                    \n",
       "\n",
       "   Rate your academic stress index   \n",
       "0                                 5  \n",
       "1                                 3  \n",
       "2                                 4  \n",
       "3                                 3  \n",
       "4                                 5  "
      ]
     },
     "execution_count": 4,
     "metadata": {},
     "output_type": "execute_result"
    }
   ],
   "source": [
    "df.head()"
   ]
  },
  {
   "cell_type": "code",
   "execution_count": 5,
   "id": "6fd689c3",
   "metadata": {
    "execution": {
     "iopub.execute_input": "2025-08-26T10:13:37.987039Z",
     "iopub.status.busy": "2025-08-26T10:13:37.986206Z",
     "iopub.status.idle": "2025-08-26T10:13:37.999185Z",
     "shell.execute_reply": "2025-08-26T10:13:37.997964Z"
    },
    "papermill": {
     "duration": 0.018305,
     "end_time": "2025-08-26T10:13:38.000835",
     "exception": false,
     "start_time": "2025-08-26T10:13:37.982530",
     "status": "completed"
    },
    "tags": []
   },
   "outputs": [],
   "source": [
    "df.drop(columns = 'Timestamp', inplace = True)"
   ]
  },
  {
   "cell_type": "code",
   "execution_count": 6,
   "id": "9601f6e4",
   "metadata": {
    "execution": {
     "iopub.execute_input": "2025-08-26T10:13:38.007213Z",
     "iopub.status.busy": "2025-08-26T10:13:38.006861Z",
     "iopub.status.idle": "2025-08-26T10:13:38.027607Z",
     "shell.execute_reply": "2025-08-26T10:13:38.026639Z"
    },
    "papermill": {
     "duration": 0.025496,
     "end_time": "2025-08-26T10:13:38.029059",
     "exception": false,
     "start_time": "2025-08-26T10:13:38.003563",
     "status": "completed"
    },
    "tags": []
   },
   "outputs": [
    {
     "name": "stdout",
     "output_type": "stream",
     "text": [
      "<class 'pandas.core.frame.DataFrame'>\n",
      "RangeIndex: 140 entries, 0 to 139\n",
      "Data columns (total 8 columns):\n",
      " #   Column                                                               Non-Null Count  Dtype \n",
      "---  ------                                                               --------------  ----- \n",
      " 0   Your Academic Stage                                                  140 non-null    object\n",
      " 1   Peer pressure                                                        140 non-null    int64 \n",
      " 2   Academic pressure from your home                                     140 non-null    int64 \n",
      " 3   Study Environment                                                    139 non-null    object\n",
      " 4   What coping strategy you use as a student?                           140 non-null    object\n",
      " 5   Do you have any bad habits like smoking, drinking on a daily basis?  140 non-null    object\n",
      " 6   What would you rate the academic  competition in your student life   140 non-null    int64 \n",
      " 7   Rate your academic stress index                                      140 non-null    int64 \n",
      "dtypes: int64(4), object(4)\n",
      "memory usage: 8.9+ KB\n"
     ]
    }
   ],
   "source": [
    "df.info()"
   ]
  },
  {
   "cell_type": "code",
   "execution_count": 7,
   "id": "28c36865",
   "metadata": {
    "execution": {
     "iopub.execute_input": "2025-08-26T10:13:38.035640Z",
     "iopub.status.busy": "2025-08-26T10:13:38.035337Z",
     "iopub.status.idle": "2025-08-26T10:13:38.040824Z",
     "shell.execute_reply": "2025-08-26T10:13:38.039906Z"
    },
    "papermill": {
     "duration": 0.010584,
     "end_time": "2025-08-26T10:13:38.042402",
     "exception": false,
     "start_time": "2025-08-26T10:13:38.031818",
     "status": "completed"
    },
    "tags": []
   },
   "outputs": [],
   "source": [
    "df.rename(columns = {'Your Academic Stage':'Academic_Stage','Academic pressure from your home':'Academic_Home_Pressure','What coping strategy you use as a student?':'Coping_Strategy','Do you have any bad habits like smoking, drinking on a daily basis?':'Bad_Habits','What would you rate the academic  competition in your student life':'Academic_Competition_Rating','Rate your academic stress index ' : 'Stress_Index'}, inplace = True)"
   ]
  },
  {
   "cell_type": "code",
   "execution_count": 8,
   "id": "cc2e8c9b",
   "metadata": {
    "execution": {
     "iopub.execute_input": "2025-08-26T10:13:38.048900Z",
     "iopub.status.busy": "2025-08-26T10:13:38.048606Z",
     "iopub.status.idle": "2025-08-26T10:13:38.054214Z",
     "shell.execute_reply": "2025-08-26T10:13:38.053420Z"
    },
    "papermill": {
     "duration": 0.010405,
     "end_time": "2025-08-26T10:13:38.055551",
     "exception": false,
     "start_time": "2025-08-26T10:13:38.045146",
     "status": "completed"
    },
    "tags": []
   },
   "outputs": [],
   "source": [
    "df['Academic_Stage'] = df['Academic_Stage'].map({'high school': 0, 'undergraduate':1,'post-graduate':2})"
   ]
  },
  {
   "cell_type": "code",
   "execution_count": 9,
   "id": "b2c7c416",
   "metadata": {
    "execution": {
     "iopub.execute_input": "2025-08-26T10:13:38.062007Z",
     "iopub.status.busy": "2025-08-26T10:13:38.061727Z",
     "iopub.status.idle": "2025-08-26T10:13:38.072004Z",
     "shell.execute_reply": "2025-08-26T10:13:38.071049Z"
    },
    "papermill": {
     "duration": 0.015039,
     "end_time": "2025-08-26T10:13:38.073388",
     "exception": false,
     "start_time": "2025-08-26T10:13:38.058349",
     "status": "completed"
    },
    "tags": []
   },
   "outputs": [
    {
     "data": {
      "text/html": [
       "<div>\n",
       "<style scoped>\n",
       "    .dataframe tbody tr th:only-of-type {\n",
       "        vertical-align: middle;\n",
       "    }\n",
       "\n",
       "    .dataframe tbody tr th {\n",
       "        vertical-align: top;\n",
       "    }\n",
       "\n",
       "    .dataframe thead th {\n",
       "        text-align: right;\n",
       "    }\n",
       "</style>\n",
       "<table border=\"1\" class=\"dataframe\">\n",
       "  <thead>\n",
       "    <tr style=\"text-align: right;\">\n",
       "      <th></th>\n",
       "      <th>Academic_Stage</th>\n",
       "      <th>Peer pressure</th>\n",
       "      <th>Academic_Home_Pressure</th>\n",
       "      <th>Study Environment</th>\n",
       "      <th>Coping_Strategy</th>\n",
       "      <th>Bad_Habits</th>\n",
       "      <th>Academic_Competition_Rating</th>\n",
       "      <th>Stress_Index</th>\n",
       "    </tr>\n",
       "  </thead>\n",
       "  <tbody>\n",
       "    <tr>\n",
       "      <th>0</th>\n",
       "      <td>1</td>\n",
       "      <td>4</td>\n",
       "      <td>5</td>\n",
       "      <td>Noisy</td>\n",
       "      <td>Analyze the situation and handle it with intel...</td>\n",
       "      <td>No</td>\n",
       "      <td>3</td>\n",
       "      <td>5</td>\n",
       "    </tr>\n",
       "    <tr>\n",
       "      <th>1</th>\n",
       "      <td>1</td>\n",
       "      <td>3</td>\n",
       "      <td>4</td>\n",
       "      <td>Peaceful</td>\n",
       "      <td>Analyze the situation and handle it with intel...</td>\n",
       "      <td>No</td>\n",
       "      <td>3</td>\n",
       "      <td>3</td>\n",
       "    </tr>\n",
       "    <tr>\n",
       "      <th>2</th>\n",
       "      <td>1</td>\n",
       "      <td>1</td>\n",
       "      <td>1</td>\n",
       "      <td>Peaceful</td>\n",
       "      <td>Social support (friends, family)</td>\n",
       "      <td>No</td>\n",
       "      <td>2</td>\n",
       "      <td>4</td>\n",
       "    </tr>\n",
       "    <tr>\n",
       "      <th>3</th>\n",
       "      <td>1</td>\n",
       "      <td>3</td>\n",
       "      <td>2</td>\n",
       "      <td>Peaceful</td>\n",
       "      <td>Analyze the situation and handle it with intel...</td>\n",
       "      <td>No</td>\n",
       "      <td>4</td>\n",
       "      <td>3</td>\n",
       "    </tr>\n",
       "    <tr>\n",
       "      <th>4</th>\n",
       "      <td>1</td>\n",
       "      <td>3</td>\n",
       "      <td>3</td>\n",
       "      <td>Peaceful</td>\n",
       "      <td>Analyze the situation and handle it with intel...</td>\n",
       "      <td>No</td>\n",
       "      <td>4</td>\n",
       "      <td>5</td>\n",
       "    </tr>\n",
       "  </tbody>\n",
       "</table>\n",
       "</div>"
      ],
      "text/plain": [
       "   Academic_Stage  Peer pressure  Academic_Home_Pressure Study Environment  \\\n",
       "0               1              4                       5             Noisy   \n",
       "1               1              3                       4          Peaceful   \n",
       "2               1              1                       1          Peaceful   \n",
       "3               1              3                       2          Peaceful   \n",
       "4               1              3                       3          Peaceful   \n",
       "\n",
       "                                     Coping_Strategy Bad_Habits  \\\n",
       "0  Analyze the situation and handle it with intel...         No   \n",
       "1  Analyze the situation and handle it with intel...         No   \n",
       "2                   Social support (friends, family)         No   \n",
       "3  Analyze the situation and handle it with intel...         No   \n",
       "4  Analyze the situation and handle it with intel...         No   \n",
       "\n",
       "   Academic_Competition_Rating  Stress_Index  \n",
       "0                            3             5  \n",
       "1                            3             3  \n",
       "2                            2             4  \n",
       "3                            4             3  \n",
       "4                            4             5  "
      ]
     },
     "execution_count": 9,
     "metadata": {},
     "output_type": "execute_result"
    }
   ],
   "source": [
    "df.head()"
   ]
  }
 ],
 "metadata": {
  "kaggle": {
   "accelerator": "none",
   "dataSources": [
    {
     "datasetId": 8032342,
     "sourceId": 12814618,
     "sourceType": "datasetVersion"
    }
   ],
   "dockerImageVersionId": 31089,
   "isGpuEnabled": false,
   "isInternetEnabled": true,
   "language": "python",
   "sourceType": "notebook"
  },
  "kernelspec": {
   "display_name": "Python 3",
   "language": "python",
   "name": "python3"
  },
  "language_info": {
   "codemirror_mode": {
    "name": "ipython",
    "version": 3
   },
   "file_extension": ".py",
   "mimetype": "text/x-python",
   "name": "python",
   "nbconvert_exporter": "python",
   "pygments_lexer": "ipython3",
   "version": "3.11.13"
  },
  "papermill": {
   "default_parameters": {},
   "duration": 11.168747,
   "end_time": "2025-08-26T10:13:38.695054",
   "environment_variables": {},
   "exception": null,
   "input_path": "__notebook__.ipynb",
   "output_path": "__notebook__.ipynb",
   "parameters": {},
   "start_time": "2025-08-26T10:13:27.526307",
   "version": "2.6.0"
  }
 },
 "nbformat": 4,
 "nbformat_minor": 5
}
