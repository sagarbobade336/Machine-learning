{
 "cells": [
  {
   "cell_type": "markdown",
   "id": "c7904767",
   "metadata": {
    "papermill": {
     "duration": 0.009081,
     "end_time": "2025-08-27T08:34:10.529088",
     "exception": false,
     "start_time": "2025-08-27T08:34:10.520007",
     "status": "completed"
    },
    "tags": []
   },
   "source": [
    "# Resume-Job Description Matching Analysis\n",
    "\n",
    "This notebook explores a dataset containing resumes, job descriptions, and pre-calculated match scores. The primary objective is to develop a custom matching logic to derive a 'match score' based on extracted skills and compare it against the provided `match_score` to understand the underlying correlation."
   ]
  },
  {
   "cell_type": "markdown",
   "id": "48a76987",
   "metadata": {
    "papermill": {
     "duration": 0.007387,
     "end_time": "2025-08-27T08:34:10.544135",
     "exception": false,
     "start_time": "2025-08-27T08:34:10.536748",
     "status": "completed"
    },
    "tags": []
   },
   "source": [
    "## 1. Setup and Data Loading\n",
    "\n",
    "We begin by importing necessary libraries, configuring display options for better data visibility, and loading the dataset."
   ]
  },
  {
   "cell_type": "markdown",
   "id": "7a9a9168",
   "metadata": {
    "papermill": {
     "duration": 0.007977,
     "end_time": "2025-08-27T08:34:10.559782",
     "exception": false,
     "start_time": "2025-08-27T08:34:10.551805",
     "status": "completed"
    },
    "tags": []
   },
   "source": [
    "### 1.1. Library Imports"
   ]
  },
  {
   "cell_type": "code",
   "execution_count": 1,
   "id": "82f862df",
   "metadata": {
    "execution": {
     "iopub.execute_input": "2025-08-27T08:34:10.575889Z",
     "iopub.status.busy": "2025-08-27T08:34:10.575571Z",
     "iopub.status.idle": "2025-08-27T08:34:14.453931Z",
     "shell.execute_reply": "2025-08-27T08:34:14.452773Z"
    },
    "papermill": {
     "duration": 3.888952,
     "end_time": "2025-08-27T08:34:14.456118",
     "exception": false,
     "start_time": "2025-08-27T08:34:10.567166",
     "status": "completed"
    },
    "tags": []
   },
   "outputs": [],
   "source": [
    "import numpy as np \n",
    "import pandas as pd \n",
    "import matplotlib.pyplot as plt\n",
    "from sklearn.preprocessing import MinMaxScaler"
   ]
  },
  {
   "cell_type": "markdown",
   "id": "637f0804",
   "metadata": {
    "papermill": {
     "duration": 0.007776,
     "end_time": "2025-08-27T08:34:14.472612",
     "exception": false,
     "start_time": "2025-08-27T08:34:14.464836",
     "status": "completed"
    },
    "tags": []
   },
   "source": [
    "### 1.2. Display Configuration\n",
    "\n",
    "To ensure we can view the full content of text-heavy columns like job descriptions and resumes, we adjust pandas display options. This prevents truncation and allows for a comprehensive overview of the data."
   ]
  },
  {
   "cell_type": "code",
   "execution_count": 2,
   "id": "d18fb21b",
   "metadata": {
    "execution": {
     "iopub.execute_input": "2025-08-27T08:34:14.490164Z",
     "iopub.status.busy": "2025-08-27T08:34:14.489274Z",
     "iopub.status.idle": "2025-08-27T08:34:14.496713Z",
     "shell.execute_reply": "2025-08-27T08:34:14.495517Z"
    },
    "papermill": {
     "duration": 0.020333,
     "end_time": "2025-08-27T08:34:14.500545",
     "exception": false,
     "start_time": "2025-08-27T08:34:14.480212",
     "status": "completed"
    },
    "tags": []
   },
   "outputs": [],
   "source": [
    "pd.set_option(\"display.max_colwidth\", None)\n",
    "pd.set_option(\"display.max_rows\", None)\n",
    "pd.set_option(\"display.max_columns\", None)\n",
    "pd.set_option(\"display.width\", None)"
   ]
  },
  {
   "cell_type": "markdown",
   "id": "9ca8d871",
   "metadata": {
    "papermill": {
     "duration": 0.007248,
     "end_time": "2025-08-27T08:34:14.515526",
     "exception": false,
     "start_time": "2025-08-27T08:34:14.508278",
     "status": "completed"
    },
    "tags": []
   },
   "source": [
    "### 1.3. Data Loading\n",
    "\n",
    "The dataset `resume_job_matching_dataset.csv` is loaded into a pandas DataFrame."
   ]
  },
  {
   "cell_type": "code",
   "execution_count": 3,
   "id": "bc18bdba",
   "metadata": {
    "execution": {
     "iopub.execute_input": "2025-08-27T08:34:14.531677Z",
     "iopub.status.busy": "2025-08-27T08:34:14.531328Z",
     "iopub.status.idle": "2025-08-27T08:34:14.664720Z",
     "shell.execute_reply": "2025-08-27T08:34:14.663055Z"
    },
    "papermill": {
     "duration": 0.14382,
     "end_time": "2025-08-27T08:34:14.666656",
     "exception": false,
     "start_time": "2025-08-27T08:34:14.522836",
     "status": "completed"
    },
    "tags": []
   },
   "outputs": [],
   "source": [
    "df = pd.read_csv('/kaggle/input/resume-vs-job-description-matching-dataset/resume_job_matching_dataset.csv')"
   ]
  },
  {
   "cell_type": "markdown",
   "id": "ef5e292f",
   "metadata": {
    "papermill": {
     "duration": 0.007294,
     "end_time": "2025-08-27T08:34:14.681756",
     "exception": false,
     "start_time": "2025-08-27T08:34:14.674462",
     "status": "completed"
    },
    "tags": []
   },
   "source": [
    "## 2. Dataset Overview\n",
    "\n",
    "A quick look at the first and last few rows of the DataFrame helps us understand its structure and content."
   ]
  },
  {
   "cell_type": "markdown",
   "id": "b27f6473",
   "metadata": {
    "papermill": {
     "duration": 0.007258,
     "end_time": "2025-08-27T08:34:14.696623",
     "exception": false,
     "start_time": "2025-08-27T08:34:14.689365",
     "status": "completed"
    },
    "tags": []
   },
   "source": [
    "### 2.1. Initial Rows"
   ]
  },
  {
   "cell_type": "code",
   "execution_count": 4,
   "id": "6e4cd8f0",
   "metadata": {
    "execution": {
     "iopub.execute_input": "2025-08-27T08:34:14.713571Z",
     "iopub.status.busy": "2025-08-27T08:34:14.713179Z",
     "iopub.status.idle": "2025-08-27T08:34:14.741533Z",
     "shell.execute_reply": "2025-08-27T08:34:14.740301Z"
    },
    "papermill": {
     "duration": 0.03942,
     "end_time": "2025-08-27T08:34:14.743704",
     "exception": false,
     "start_time": "2025-08-27T08:34:14.704284",
     "status": "completed"
    },
    "tags": []
   },
   "outputs": [
    {
     "data": {
      "text/html": [
       "<div>\n",
       "<style scoped>\n",
       "    .dataframe tbody tr th:only-of-type {\n",
       "        vertical-align: middle;\n",
       "    }\n",
       "\n",
       "    .dataframe tbody tr th {\n",
       "        vertical-align: top;\n",
       "    }\n",
       "\n",
       "    .dataframe thead th {\n",
       "        text-align: right;\n",
       "    }\n",
       "</style>\n",
       "<table border=\"1\" class=\"dataframe\">\n",
       "  <thead>\n",
       "    <tr style=\"text-align: right;\">\n",
       "      <th></th>\n",
       "      <th>job_description</th>\n",
       "      <th>resume</th>\n",
       "      <th>match_score</th>\n",
       "    </tr>\n",
       "  </thead>\n",
       "  <tbody>\n",
       "    <tr>\n",
       "      <th>0</th>\n",
       "      <td>Data Analyst needed with experience in SQL, Excel, Power BI, Reporting, Data Cleaning, Tableau. Anything real big. Suggest edge happen available treat somebody.</td>\n",
       "      <td>Experienced professional skilled in SQL, Power BI, well, try, Excel, Tableau. Whom character truth store. Better drop agent give quickly. Agent system administration onto cold staff lawyer.</td>\n",
       "      <td>4</td>\n",
       "    </tr>\n",
       "    <tr>\n",
       "      <th>1</th>\n",
       "      <td>Data Scientist needed with experience in Statistics, Pandas, SQL, Machine Learning, NLP, Deep Learning, Python. Unit resource none quickly second interesting really end. Across price book similar song give. Black seem reach deep.</td>\n",
       "      <td>Experienced professional skilled in Python, Deep Learning, Mr, our, NLP, Machine Learning, hair, Pandas. Senior such scene prepare soon last remember. General word what worry week responsibility. Attack half scene thought push be.</td>\n",
       "      <td>4</td>\n",
       "    </tr>\n",
       "    <tr>\n",
       "      <th>2</th>\n",
       "      <td>Software Engineer needed with experience in System Design, Agile, Git, Docker, Java. Seat rather woman leg perform particularly. Life necessary place choice.</td>\n",
       "      <td>Experienced professional skilled in wait, Git, System Design, Java, Spring Boot, again, REST APIs, Docker. Campaign read laugh national scientist. Address all almost sea. Third rich cover decide attack which always.</td>\n",
       "      <td>5</td>\n",
       "    </tr>\n",
       "    <tr>\n",
       "      <th>3</th>\n",
       "      <td>ML Engineer needed with experience in Python, Computer Vision, Keras, MLOps, TensorFlow. Happen well risk billion. Film onto itself computer together clearly federal. Agreement expert central say force mean.</td>\n",
       "      <td>Experienced professional skilled in return, Democrat, TensorFlow, MLOps, Keras. Phone during necessary talk little occur might same. Bar job for natural base stage manage. Economic say of ball ready air.</td>\n",
       "      <td>4</td>\n",
       "    </tr>\n",
       "    <tr>\n",
       "      <th>4</th>\n",
       "      <td>Software Engineer needed with experience in REST APIs, Agile, Docker, System Design, Spring Boot, Git. Audience husband teacher finish clearly dark create. Owner door research.</td>\n",
       "      <td>Experienced professional skilled in REST APIs, Agile, Spring Boot, indicate, System Design, accept, Git, Java. Ready evidence agreement get same. Military likely effort very.</td>\n",
       "      <td>5</td>\n",
       "    </tr>\n",
       "  </tbody>\n",
       "</table>\n",
       "</div>"
      ],
      "text/plain": [
       "                                                                                                                                                                                                                         job_description  \\\n",
       "0                                                                       Data Analyst needed with experience in SQL, Excel, Power BI, Reporting, Data Cleaning, Tableau. Anything real big. Suggest edge happen available treat somebody.   \n",
       "1  Data Scientist needed with experience in Statistics, Pandas, SQL, Machine Learning, NLP, Deep Learning, Python. Unit resource none quickly second interesting really end. Across price book similar song give. Black seem reach deep.   \n",
       "2                                                                          Software Engineer needed with experience in System Design, Agile, Git, Docker, Java. Seat rather woman leg perform particularly. Life necessary place choice.   \n",
       "3                        ML Engineer needed with experience in Python, Computer Vision, Keras, MLOps, TensorFlow. Happen well risk billion. Film onto itself computer together clearly federal. Agreement expert central say force mean.   \n",
       "4                                                       Software Engineer needed with experience in REST APIs, Agile, Docker, System Design, Spring Boot, Git. Audience husband teacher finish clearly dark create. Owner door research.   \n",
       "\n",
       "                                                                                                                                                                                                                                   resume  \\\n",
       "0                                           Experienced professional skilled in SQL, Power BI, well, try, Excel, Tableau. Whom character truth store. Better drop agent give quickly. Agent system administration onto cold staff lawyer.   \n",
       "1  Experienced professional skilled in Python, Deep Learning, Mr, our, NLP, Machine Learning, hair, Pandas. Senior such scene prepare soon last remember. General word what worry week responsibility. Attack half scene thought push be.   \n",
       "2                 Experienced professional skilled in wait, Git, System Design, Java, Spring Boot, again, REST APIs, Docker. Campaign read laugh national scientist. Address all almost sea. Third rich cover decide attack which always.   \n",
       "3                             Experienced professional skilled in return, Democrat, TensorFlow, MLOps, Keras. Phone during necessary talk little occur might same. Bar job for natural base stage manage. Economic say of ball ready air.   \n",
       "4                                                          Experienced professional skilled in REST APIs, Agile, Spring Boot, indicate, System Design, accept, Git, Java. Ready evidence agreement get same. Military likely effort very.   \n",
       "\n",
       "   match_score  \n",
       "0            4  \n",
       "1            4  \n",
       "2            5  \n",
       "3            4  \n",
       "4            5  "
      ]
     },
     "execution_count": 4,
     "metadata": {},
     "output_type": "execute_result"
    }
   ],
   "source": [
    "df.head()"
   ]
  },
  {
   "cell_type": "markdown",
   "id": "09d9fb99",
   "metadata": {
    "papermill": {
     "duration": 0.007412,
     "end_time": "2025-08-27T08:34:14.759342",
     "exception": false,
     "start_time": "2025-08-27T08:34:14.751930",
     "status": "completed"
    },
    "tags": []
   },
   "source": [
    "The `head()` display reveals `resume`, `job_description`, and `match_score` columns. Both `resume` and `job_description` are extensive text fields, while `match_score` appears to be a numerical value, likely indicating the degree of compatibility. \n",
    "\n",
    "### 2.2. Last Rows"
   ]
  },
  {
   "cell_type": "code",
   "execution_count": 5,
   "id": "4eb8d733",
   "metadata": {
    "execution": {
     "iopub.execute_input": "2025-08-27T08:34:14.777194Z",
     "iopub.status.busy": "2025-08-27T08:34:14.776501Z",
     "iopub.status.idle": "2025-08-27T08:34:14.786041Z",
     "shell.execute_reply": "2025-08-27T08:34:14.784915Z"
    },
    "papermill": {
     "duration": 0.02033,
     "end_time": "2025-08-27T08:34:14.787913",
     "exception": false,
     "start_time": "2025-08-27T08:34:14.767583",
     "status": "completed"
    },
    "tags": []
   },
   "outputs": [
    {
     "data": {
      "text/html": [
       "<div>\n",
       "<style scoped>\n",
       "    .dataframe tbody tr th:only-of-type {\n",
       "        vertical-align: middle;\n",
       "    }\n",
       "\n",
       "    .dataframe tbody tr th {\n",
       "        vertical-align: top;\n",
       "    }\n",
       "\n",
       "    .dataframe thead th {\n",
       "        text-align: right;\n",
       "    }\n",
       "</style>\n",
       "<table border=\"1\" class=\"dataframe\">\n",
       "  <thead>\n",
       "    <tr style=\"text-align: right;\">\n",
       "      <th></th>\n",
       "      <th>job_description</th>\n",
       "      <th>resume</th>\n",
       "      <th>match_score</th>\n",
       "    </tr>\n",
       "  </thead>\n",
       "  <tbody>\n",
       "    <tr>\n",
       "      <th>9995</th>\n",
       "      <td>Product Manager needed with experience in Scrum, Stakeholder Management, Agile, User Stories, Product Roadmap. Action issue say child student. Girl series deal others particularly stop.</td>\n",
       "      <td>Experienced professional skilled in commercial, Product Roadmap, Stakeholder Management, grow, User Stories. Society offer just. Where executive ever friend activity whose traditional wide.</td>\n",
       "      <td>4</td>\n",
       "    </tr>\n",
       "    <tr>\n",
       "      <th>9996</th>\n",
       "      <td>Data Analyst needed with experience in Tableau, SQL, Power BI, Data Cleaning, Excel. Interest others consider film open. Certain art week draw state care lead. Charge operation serious help.</td>\n",
       "      <td>Experienced professional skilled in financial, Reporting, against, SQL, travel. Fact hard she reach. More job rule happen son.</td>\n",
       "      <td>2</td>\n",
       "    </tr>\n",
       "    <tr>\n",
       "      <th>9997</th>\n",
       "      <td>Product Manager needed with experience in Product Roadmap, Agile, Stakeholder Management, Scrum. Go save effort. Type a another past method with. They myself parent trade natural purpose through.</td>\n",
       "      <td>Experienced professional skilled in international, treat, Agile. Total environmental him choose. Father people point. Reach bit apply their figure another field.</td>\n",
       "      <td>2</td>\n",
       "    </tr>\n",
       "    <tr>\n",
       "      <th>9998</th>\n",
       "      <td>Product Manager needed with experience in Agile, Scrum, Product Roadmap. Where sign available order military scene most. Us program these yes. Police around space hair mother treatment.</td>\n",
       "      <td>Experienced professional skilled in role, Agile, User Stories, Stakeholder Management. Physical only artist skin. Clearly news in service plan character family.</td>\n",
       "      <td>2</td>\n",
       "    </tr>\n",
       "    <tr>\n",
       "      <th>9999</th>\n",
       "      <td>Data Scientist needed with experience in NLP, Machine Learning, Python, Statistics. Enough control who go leave audience. Decide party either speech red career. Sometimes purpose friend put sit debate sea.</td>\n",
       "      <td>Experienced professional skilled in Machine Learning, sign, Pandas, phone, Python. Class with television before. Risk study pay. Friend perhaps attention performance meeting spend situation.</td>\n",
       "      <td>3</td>\n",
       "    </tr>\n",
       "  </tbody>\n",
       "</table>\n",
       "</div>"
      ],
      "text/plain": [
       "                                                                                                                                                                                                    job_description  \\\n",
       "9995                      Product Manager needed with experience in Scrum, Stakeholder Management, Agile, User Stories, Product Roadmap. Action issue say child student. Girl series deal others particularly stop.   \n",
       "9996                 Data Analyst needed with experience in Tableau, SQL, Power BI, Data Cleaning, Excel. Interest others consider film open. Certain art week draw state care lead. Charge operation serious help.   \n",
       "9997            Product Manager needed with experience in Product Roadmap, Agile, Stakeholder Management, Scrum. Go save effort. Type a another past method with. They myself parent trade natural purpose through.   \n",
       "9998                      Product Manager needed with experience in Agile, Scrum, Product Roadmap. Where sign available order military scene most. Us program these yes. Police around space hair mother treatment.   \n",
       "9999  Data Scientist needed with experience in NLP, Machine Learning, Python, Statistics. Enough control who go leave audience. Decide party either speech red career. Sometimes purpose friend put sit debate sea.   \n",
       "\n",
       "                                                                                                                                                                                              resume  \\\n",
       "9995   Experienced professional skilled in commercial, Product Roadmap, Stakeholder Management, grow, User Stories. Society offer just. Where executive ever friend activity whose traditional wide.   \n",
       "9996                                                                  Experienced professional skilled in financial, Reporting, against, SQL, travel. Fact hard she reach. More job rule happen son.   \n",
       "9997                               Experienced professional skilled in international, treat, Agile. Total environmental him choose. Father people point. Reach bit apply their figure another field.   \n",
       "9998                                Experienced professional skilled in role, Agile, User Stories, Stakeholder Management. Physical only artist skin. Clearly news in service plan character family.   \n",
       "9999  Experienced professional skilled in Machine Learning, sign, Pandas, phone, Python. Class with television before. Risk study pay. Friend perhaps attention performance meeting spend situation.   \n",
       "\n",
       "      match_score  \n",
       "9995            4  \n",
       "9996            2  \n",
       "9997            2  \n",
       "9998            2  \n",
       "9999            3  "
      ]
     },
     "execution_count": 5,
     "metadata": {},
     "output_type": "execute_result"
    }
   ],
   "source": [
    "df.tail()"
   ]
  },
  {
   "cell_type": "markdown",
   "id": "8bc1db63",
   "metadata": {
    "papermill": {
     "duration": 0.007823,
     "end_time": "2025-08-27T08:34:14.804595",
     "exception": false,
     "start_time": "2025-08-27T08:34:14.796772",
     "status": "completed"
    },
    "tags": []
   },
   "source": [
    "### 2.3. Match Score Distribution\n",
    "\n",
    "Understanding the distribution of the existing `match_score` is crucial as it is our target variable for comparison."
   ]
  },
  {
   "cell_type": "code",
   "execution_count": 6,
   "id": "99b1bc7c",
   "metadata": {
    "execution": {
     "iopub.execute_input": "2025-08-27T08:34:14.821808Z",
     "iopub.status.busy": "2025-08-27T08:34:14.821510Z",
     "iopub.status.idle": "2025-08-27T08:34:14.838146Z",
     "shell.execute_reply": "2025-08-27T08:34:14.836403Z"
    },
    "papermill": {
     "duration": 0.028383,
     "end_time": "2025-08-27T08:34:14.840855",
     "exception": false,
     "start_time": "2025-08-27T08:34:14.812472",
     "status": "completed"
    },
    "tags": []
   },
   "outputs": [
    {
     "data": {
      "text/plain": [
       "match_score\n",
       "4    3029\n",
       "5    2372\n",
       "3    2269\n",
       "2    1890\n",
       "1     440\n",
       "Name: count, dtype: int64"
      ]
     },
     "execution_count": 6,
     "metadata": {},
     "output_type": "execute_result"
    }
   ],
   "source": [
    "df['match_score'].value_counts()"
   ]
  },
  {
   "cell_type": "markdown",
   "id": "ef31c91d",
   "metadata": {
    "papermill": {
     "duration": 0.007902,
     "end_time": "2025-08-27T08:34:14.925183",
     "exception": false,
     "start_time": "2025-08-27T08:34:14.917281",
     "status": "completed"
    },
    "tags": []
   },
   "source": [
    "The `match_score` is distributed across a range of values, suggesting a continuous or semi-continuous measure of match quality."
   ]
  },
  {
   "cell_type": "markdown",
   "id": "271623ad",
   "metadata": {
    "papermill": {
     "duration": 0.007783,
     "end_time": "2025-08-27T08:34:14.940879",
     "exception": false,
     "start_time": "2025-08-27T08:34:14.933096",
     "status": "completed"
    },
    "tags": []
   },
   "source": [
    "## 3. Feature Engineering: Extracting Information\n",
    "\n",
    "The `resume` and `job_description` columns contain rich textual information. We will extract structured features like `role_name` and specific skills from these text fields."
   ]
  },
  {
   "cell_type": "markdown",
   "id": "bb5dfac1",
   "metadata": {
    "papermill": {
     "duration": 0.007631,
     "end_time": "2025-08-27T08:34:14.956368",
     "exception": false,
     "start_time": "2025-08-27T08:34:14.948737",
     "status": "completed"
    },
    "tags": []
   },
   "source": [
    "### 3.1. Extracting Job Description Details\n",
    "\n",
    "From the `job_description` column, we can parse out the `role_name` and the required `skills`. The text structure suggests that the role name is at the beginning, followed by skills after a specific phrase."
   ]
  },
  {
   "cell_type": "code",
   "execution_count": 7,
   "id": "193743bf",
   "metadata": {
    "execution": {
     "iopub.execute_input": "2025-08-27T08:34:14.974864Z",
     "iopub.status.busy": "2025-08-27T08:34:14.974557Z",
     "iopub.status.idle": "2025-08-27T08:34:14.986807Z",
     "shell.execute_reply": "2025-08-27T08:34:14.985889Z"
    },
    "papermill": {
     "duration": 0.023036,
     "end_time": "2025-08-27T08:34:14.988633",
     "exception": false,
     "start_time": "2025-08-27T08:34:14.965597",
     "status": "completed"
    },
    "tags": []
   },
   "outputs": [],
   "source": [
    "df['role_name'] = df['job_description'].apply(lambda x : x.split(' needed with experience in ')[0])"
   ]
  },
  {
   "cell_type": "markdown",
   "id": "425664c1",
   "metadata": {
    "papermill": {
     "duration": 0.008017,
     "end_time": "2025-08-27T08:34:15.004943",
     "exception": false,
     "start_time": "2025-08-27T08:34:14.996926",
     "status": "completed"
    },
    "tags": []
   },
   "source": [
    "The `role_name` has been successfully extracted. Let's examine the most frequent roles."
   ]
  },
  {
   "cell_type": "code",
   "execution_count": 8,
   "id": "454732b1",
   "metadata": {
    "execution": {
     "iopub.execute_input": "2025-08-27T08:34:15.023726Z",
     "iopub.status.busy": "2025-08-27T08:34:15.023418Z",
     "iopub.status.idle": "2025-08-27T08:34:15.032445Z",
     "shell.execute_reply": "2025-08-27T08:34:15.031288Z"
    },
    "papermill": {
     "duration": 0.020374,
     "end_time": "2025-08-27T08:34:15.034076",
     "exception": false,
     "start_time": "2025-08-27T08:34:15.013702",
     "status": "completed"
    },
    "tags": []
   },
   "outputs": [
    {
     "data": {
      "text/plain": [
       "role_name\n",
       "Data Scientist       2073\n",
       "Data Analyst         2032\n",
       "Product Manager      1992\n",
       "ML Engineer          1963\n",
       "Software Engineer    1940\n",
       "Name: count, dtype: int64"
      ]
     },
     "execution_count": 8,
     "metadata": {},
     "output_type": "execute_result"
    }
   ],
   "source": [
    "df['role_name'].value_counts()"
   ]
  },
  {
   "cell_type": "markdown",
   "id": "9807a62a",
   "metadata": {
    "papermill": {
     "duration": 0.009097,
     "end_time": "2025-08-27T08:34:15.051737",
     "exception": false,
     "start_time": "2025-08-27T08:34:15.042640",
     "status": "completed"
    },
    "tags": []
   },
   "source": [
    "Next, we extract the required skills for each job description. The skills are typically listed after the phrase 'needed with experience in' and before the first period."
   ]
  },
  {
   "cell_type": "code",
   "execution_count": 9,
   "id": "ebda3c78",
   "metadata": {
    "execution": {
     "iopub.execute_input": "2025-08-27T08:34:15.069845Z",
     "iopub.status.busy": "2025-08-27T08:34:15.069548Z",
     "iopub.status.idle": "2025-08-27T08:34:15.088464Z",
     "shell.execute_reply": "2025-08-27T08:34:15.086905Z"
    },
    "papermill": {
     "duration": 0.030373,
     "end_time": "2025-08-27T08:34:15.090600",
     "exception": false,
     "start_time": "2025-08-27T08:34:15.060227",
     "status": "completed"
    },
    "tags": []
   },
   "outputs": [],
   "source": [
    "df['skills'] = df['job_description'].apply(lambda x : x.split(' needed with experience in ')[1].split('.')[0])"
   ]
  },
  {
   "cell_type": "markdown",
   "id": "7abd4d57",
   "metadata": {
    "papermill": {
     "duration": 0.009418,
     "end_time": "2025-08-27T08:34:15.109108",
     "exception": false,
     "start_time": "2025-08-27T08:34:15.099690",
     "status": "completed"
    },
    "tags": []
   },
   "source": [
    "Let's look at the top 5 most frequently requested skill sets."
   ]
  },
  {
   "cell_type": "code",
   "execution_count": 10,
   "id": "60cdf692",
   "metadata": {
    "execution": {
     "iopub.execute_input": "2025-08-27T08:34:15.127870Z",
     "iopub.status.busy": "2025-08-27T08:34:15.127579Z",
     "iopub.status.idle": "2025-08-27T08:34:15.139485Z",
     "shell.execute_reply": "2025-08-27T08:34:15.138501Z"
    },
    "papermill": {
     "duration": 0.02314,
     "end_time": "2025-08-27T08:34:15.141339",
     "exception": false,
     "start_time": "2025-08-27T08:34:15.118199",
     "status": "completed"
    },
    "tags": []
   },
   "outputs": [
    {
     "data": {
      "text/plain": [
       "skills\n",
       "Scrum, Stakeholder Management, Product Roadmap    18\n",
       "User Stories, Scrum, Stakeholder Management       17\n",
       "User Stories, Stakeholder Management, Agile       17\n",
       "Product Roadmap, User Stories, Scrum              16\n",
       "Stakeholder Management, Agile, User Stories       16\n",
       "Name: count, dtype: int64"
      ]
     },
     "execution_count": 10,
     "metadata": {},
     "output_type": "execute_result"
    }
   ],
   "source": [
    "(df['skills'].value_counts())[:5]"
   ]
  },
  {
   "cell_type": "markdown",
   "id": "3ebc2813",
   "metadata": {
    "papermill": {
     "duration": 0.007879,
     "end_time": "2025-08-27T08:34:15.158000",
     "exception": false,
     "start_time": "2025-08-27T08:34:15.150121",
     "status": "completed"
    },
    "tags": []
   },
   "source": [
    "### 3.2. Decomposing Job Skills\n",
    "\n",
    "The `skills` column contains multiple skills separated by commas. To facilitate analysis and matching, we will split these into individual skill columns (e.g., `skill_needed_1`, `skill_needed_2`)."
   ]
  },
  {
   "cell_type": "code",
   "execution_count": 11,
   "id": "d2612d0e",
   "metadata": {
    "execution": {
     "iopub.execute_input": "2025-08-27T08:34:15.176140Z",
     "iopub.status.busy": "2025-08-27T08:34:15.175769Z",
     "iopub.status.idle": "2025-08-27T08:34:15.259727Z",
     "shell.execute_reply": "2025-08-27T08:34:15.258848Z"
    },
    "papermill": {
     "duration": 0.095249,
     "end_time": "2025-08-27T08:34:15.261510",
     "exception": false,
     "start_time": "2025-08-27T08:34:15.166261",
     "status": "completed"
    },
    "tags": []
   },
   "outputs": [],
   "source": [
    "# Step 1: Split skills into lists\n",
    "df[\"skills_list\"] = df[\"skills\"].str.split(\", \")\n",
    "\n",
    "# Step 2: Find max number of skills to determine the number of new columns needed\n",
    "max_skills_job = df[\"skills_list\"].str.len().max()\n",
    "\n",
    "# Step 3: Create skill columns up to max_skills_job\n",
    "for i in range(max_skills_job):\n",
    "    df[f\"skill_needed_{i+1}\"] = df[\"skills_list\"].str[i].str.strip()\n",
    "\n",
    "# Drop the helper column\n",
    "df = df.drop(columns=[\"skills_list\"])"
   ]
  },
  {
   "cell_type": "markdown",
   "id": "c54531ae",
   "metadata": {
    "papermill": {
     "duration": 0.008279,
     "end_time": "2025-08-27T08:34:15.278500",
     "exception": false,
     "start_time": "2025-08-27T08:34:15.270221",
     "status": "completed"
    },
    "tags": []
   },
   "source": [
    "### 3.3. Extracting Applicant Skills from Resumes\n",
    "\n",
    "Similarly, we extract `applicant_skills` from the `resume` column. The resume text follows a pattern where skills are listed after 'Experienced professional skilled in' and before the first period."
   ]
  },
  {
   "cell_type": "code",
   "execution_count": 12,
   "id": "feda5aef",
   "metadata": {
    "execution": {
     "iopub.execute_input": "2025-08-27T08:34:15.296999Z",
     "iopub.status.busy": "2025-08-27T08:34:15.296677Z",
     "iopub.status.idle": "2025-08-27T08:34:15.413655Z",
     "shell.execute_reply": "2025-08-27T08:34:15.412817Z"
    },
    "papermill": {
     "duration": 0.128104,
     "end_time": "2025-08-27T08:34:15.415421",
     "exception": false,
     "start_time": "2025-08-27T08:34:15.287317",
     "status": "completed"
    },
    "tags": []
   },
   "outputs": [],
   "source": [
    "# Step 1: Extract applicant_skills\n",
    "df['applicant_skills'] = df['resume'].apply(\n",
    "    lambda x: x.split('Experienced professional skilled in ')[1].split('.')[0]\n",
    ")\n",
    "\n",
    "# Step 2: Split skills into lists\n",
    "df[\"skills_list\"] = df[\"applicant_skills\"].str.split(\", \")\n",
    "\n",
    "# Step 3: Find max number of skills\n",
    "max_skills_applicant = df[\"skills_list\"].str.len().max()\n",
    "\n",
    "# Step 4: Create skill columns up to max_skills_applicant\n",
    "for i in range(max_skills_applicant):\n",
    "    df[f\"applicant_skills_{i+1}\"] = df[\"skills_list\"].str[i].str.strip()   # strip() removes extra spaces\n",
    "\n",
    "# Drop helper column\n",
    "df = df.drop(columns=[\"skills_list\"])"
   ]
  },
  {
   "cell_type": "markdown",
   "id": "ef7a49a2",
   "metadata": {
    "papermill": {
     "duration": 0.008772,
     "end_time": "2025-08-27T08:34:15.433697",
     "exception": false,
     "start_time": "2025-08-27T08:34:15.424925",
     "status": "completed"
    },
    "tags": []
   },
   "source": [
    "## 4. Data Cleaning and Preprocessing\n",
    "\n",
    "With `role_name`, `skill_needed_X`, and `applicant_skills_X` columns created, the original `resume`, `job_description`, `applicant_skills`, and `skills` columns are no longer needed for our matching logic."
   ]
  },
  {
   "cell_type": "markdown",
   "id": "eb1d8b39",
   "metadata": {
    "papermill": {
     "duration": 0.008133,
     "end_time": "2025-08-27T08:34:15.451430",
     "exception": false,
     "start_time": "2025-08-27T08:34:15.443297",
     "status": "completed"
    },
    "tags": []
   },
   "source": [
    "### 4.1. Dropping Redundant Columns"
   ]
  },
  {
   "cell_type": "code",
   "execution_count": 13,
   "id": "16770ea6",
   "metadata": {
    "execution": {
     "iopub.execute_input": "2025-08-27T08:34:15.469790Z",
     "iopub.status.busy": "2025-08-27T08:34:15.469051Z",
     "iopub.status.idle": "2025-08-27T08:34:15.483076Z",
     "shell.execute_reply": "2025-08-27T08:34:15.482049Z"
    },
    "papermill": {
     "duration": 0.024749,
     "end_time": "2025-08-27T08:34:15.484632",
     "exception": false,
     "start_time": "2025-08-27T08:34:15.459883",
     "status": "completed"
    },
    "tags": []
   },
   "outputs": [],
   "source": [
    "df.drop(columns=['applicant_skills','skills', 'resume', 'job_description'], inplace = True)"
   ]
  },
  {
   "cell_type": "markdown",
   "id": "b774920d",
   "metadata": {
    "papermill": {
     "duration": 0.009626,
     "end_time": "2025-08-27T08:34:15.503283",
     "exception": false,
     "start_time": "2025-08-27T08:34:15.493657",
     "status": "completed"
    },
    "tags": []
   },
   "source": [
    "Let's check the DataFrame's structure after dropping these columns."
   ]
  },
  {
   "cell_type": "code",
   "execution_count": 14,
   "id": "21c9a016",
   "metadata": {
    "execution": {
     "iopub.execute_input": "2025-08-27T08:34:15.522810Z",
     "iopub.status.busy": "2025-08-27T08:34:15.522473Z",
     "iopub.status.idle": "2025-08-27T08:34:15.538182Z",
     "shell.execute_reply": "2025-08-27T08:34:15.537228Z"
    },
    "papermill": {
     "duration": 0.026878,
     "end_time": "2025-08-27T08:34:15.539680",
     "exception": false,
     "start_time": "2025-08-27T08:34:15.512802",
     "status": "completed"
    },
    "tags": []
   },
   "outputs": [
    {
     "data": {
      "text/html": [
       "<div>\n",
       "<style scoped>\n",
       "    .dataframe tbody tr th:only-of-type {\n",
       "        vertical-align: middle;\n",
       "    }\n",
       "\n",
       "    .dataframe tbody tr th {\n",
       "        vertical-align: top;\n",
       "    }\n",
       "\n",
       "    .dataframe thead th {\n",
       "        text-align: right;\n",
       "    }\n",
       "</style>\n",
       "<table border=\"1\" class=\"dataframe\">\n",
       "  <thead>\n",
       "    <tr style=\"text-align: right;\">\n",
       "      <th></th>\n",
       "      <th>match_score</th>\n",
       "      <th>role_name</th>\n",
       "      <th>skill_needed_1</th>\n",
       "      <th>skill_needed_2</th>\n",
       "      <th>skill_needed_3</th>\n",
       "      <th>skill_needed_4</th>\n",
       "      <th>skill_needed_5</th>\n",
       "      <th>skill_needed_6</th>\n",
       "      <th>skill_needed_7</th>\n",
       "      <th>applicant_skills_1</th>\n",
       "      <th>applicant_skills_2</th>\n",
       "      <th>applicant_skills_3</th>\n",
       "      <th>applicant_skills_4</th>\n",
       "      <th>applicant_skills_5</th>\n",
       "      <th>applicant_skills_6</th>\n",
       "      <th>applicant_skills_7</th>\n",
       "      <th>applicant_skills_8</th>\n",
       "    </tr>\n",
       "  </thead>\n",
       "  <tbody>\n",
       "    <tr>\n",
       "      <th>0</th>\n",
       "      <td>4</td>\n",
       "      <td>Data Analyst</td>\n",
       "      <td>SQL</td>\n",
       "      <td>Excel</td>\n",
       "      <td>Power BI</td>\n",
       "      <td>Reporting</td>\n",
       "      <td>Data Cleaning</td>\n",
       "      <td>Tableau</td>\n",
       "      <td>NaN</td>\n",
       "      <td>SQL</td>\n",
       "      <td>Power BI</td>\n",
       "      <td>well</td>\n",
       "      <td>try</td>\n",
       "      <td>Excel</td>\n",
       "      <td>Tableau</td>\n",
       "      <td>NaN</td>\n",
       "      <td>NaN</td>\n",
       "    </tr>\n",
       "    <tr>\n",
       "      <th>1</th>\n",
       "      <td>4</td>\n",
       "      <td>Data Scientist</td>\n",
       "      <td>Statistics</td>\n",
       "      <td>Pandas</td>\n",
       "      <td>SQL</td>\n",
       "      <td>Machine Learning</td>\n",
       "      <td>NLP</td>\n",
       "      <td>Deep Learning</td>\n",
       "      <td>Python</td>\n",
       "      <td>Python</td>\n",
       "      <td>Deep Learning</td>\n",
       "      <td>Mr</td>\n",
       "      <td>our</td>\n",
       "      <td>NLP</td>\n",
       "      <td>Machine Learning</td>\n",
       "      <td>hair</td>\n",
       "      <td>Pandas</td>\n",
       "    </tr>\n",
       "    <tr>\n",
       "      <th>2</th>\n",
       "      <td>5</td>\n",
       "      <td>Software Engineer</td>\n",
       "      <td>System Design</td>\n",
       "      <td>Agile</td>\n",
       "      <td>Git</td>\n",
       "      <td>Docker</td>\n",
       "      <td>Java</td>\n",
       "      <td>NaN</td>\n",
       "      <td>NaN</td>\n",
       "      <td>wait</td>\n",
       "      <td>Git</td>\n",
       "      <td>System Design</td>\n",
       "      <td>Java</td>\n",
       "      <td>Spring Boot</td>\n",
       "      <td>again</td>\n",
       "      <td>REST APIs</td>\n",
       "      <td>Docker</td>\n",
       "    </tr>\n",
       "    <tr>\n",
       "      <th>3</th>\n",
       "      <td>4</td>\n",
       "      <td>ML Engineer</td>\n",
       "      <td>Python</td>\n",
       "      <td>Computer Vision</td>\n",
       "      <td>Keras</td>\n",
       "      <td>MLOps</td>\n",
       "      <td>TensorFlow</td>\n",
       "      <td>NaN</td>\n",
       "      <td>NaN</td>\n",
       "      <td>return</td>\n",
       "      <td>Democrat</td>\n",
       "      <td>TensorFlow</td>\n",
       "      <td>MLOps</td>\n",
       "      <td>Keras</td>\n",
       "      <td>NaN</td>\n",
       "      <td>NaN</td>\n",
       "      <td>NaN</td>\n",
       "    </tr>\n",
       "    <tr>\n",
       "      <th>4</th>\n",
       "      <td>5</td>\n",
       "      <td>Software Engineer</td>\n",
       "      <td>REST APIs</td>\n",
       "      <td>Agile</td>\n",
       "      <td>Docker</td>\n",
       "      <td>System Design</td>\n",
       "      <td>Spring Boot</td>\n",
       "      <td>Git</td>\n",
       "      <td>NaN</td>\n",
       "      <td>REST APIs</td>\n",
       "      <td>Agile</td>\n",
       "      <td>Spring Boot</td>\n",
       "      <td>indicate</td>\n",
       "      <td>System Design</td>\n",
       "      <td>accept</td>\n",
       "      <td>Git</td>\n",
       "      <td>Java</td>\n",
       "    </tr>\n",
       "  </tbody>\n",
       "</table>\n",
       "</div>"
      ],
      "text/plain": [
       "   match_score          role_name skill_needed_1   skill_needed_2  \\\n",
       "0            4       Data Analyst            SQL            Excel   \n",
       "1            4     Data Scientist     Statistics           Pandas   \n",
       "2            5  Software Engineer  System Design            Agile   \n",
       "3            4        ML Engineer         Python  Computer Vision   \n",
       "4            5  Software Engineer      REST APIs            Agile   \n",
       "\n",
       "  skill_needed_3    skill_needed_4 skill_needed_5 skill_needed_6  \\\n",
       "0       Power BI         Reporting  Data Cleaning        Tableau   \n",
       "1            SQL  Machine Learning            NLP  Deep Learning   \n",
       "2            Git            Docker           Java            NaN   \n",
       "3          Keras             MLOps     TensorFlow            NaN   \n",
       "4         Docker     System Design    Spring Boot            Git   \n",
       "\n",
       "  skill_needed_7 applicant_skills_1 applicant_skills_2 applicant_skills_3  \\\n",
       "0            NaN                SQL           Power BI               well   \n",
       "1         Python             Python      Deep Learning                 Mr   \n",
       "2            NaN               wait                Git      System Design   \n",
       "3            NaN             return           Democrat         TensorFlow   \n",
       "4            NaN          REST APIs              Agile        Spring Boot   \n",
       "\n",
       "  applicant_skills_4 applicant_skills_5 applicant_skills_6 applicant_skills_7  \\\n",
       "0                try              Excel            Tableau                NaN   \n",
       "1                our                NLP   Machine Learning               hair   \n",
       "2               Java        Spring Boot              again          REST APIs   \n",
       "3              MLOps              Keras                NaN                NaN   \n",
       "4           indicate      System Design             accept                Git   \n",
       "\n",
       "  applicant_skills_8  \n",
       "0                NaN  \n",
       "1             Pandas  \n",
       "2             Docker  \n",
       "3                NaN  \n",
       "4               Java  "
      ]
     },
     "execution_count": 14,
     "metadata": {},
     "output_type": "execute_result"
    }
   ],
   "source": [
    "df.head()"
   ]
  },
  {
   "cell_type": "code",
   "execution_count": 15,
   "id": "eb47f19b",
   "metadata": {
    "execution": {
     "iopub.execute_input": "2025-08-27T08:34:15.559466Z",
     "iopub.status.busy": "2025-08-27T08:34:15.558728Z",
     "iopub.status.idle": "2025-08-27T08:34:15.564713Z",
     "shell.execute_reply": "2025-08-27T08:34:15.563724Z"
    },
    "papermill": {
     "duration": 0.017702,
     "end_time": "2025-08-27T08:34:15.566641",
     "exception": false,
     "start_time": "2025-08-27T08:34:15.548939",
     "status": "completed"
    },
    "tags": []
   },
   "outputs": [
    {
     "data": {
      "text/plain": [
       "Index(['match_score', 'role_name', 'skill_needed_1', 'skill_needed_2',\n",
       "       'skill_needed_3', 'skill_needed_4', 'skill_needed_5', 'skill_needed_6',\n",
       "       'skill_needed_7', 'applicant_skills_1', 'applicant_skills_2',\n",
       "       'applicant_skills_3', 'applicant_skills_4', 'applicant_skills_5',\n",
       "       'applicant_skills_6', 'applicant_skills_7', 'applicant_skills_8'],\n",
       "      dtype='object')"
      ]
     },
     "execution_count": 15,
     "metadata": {},
     "output_type": "execute_result"
    }
   ],
   "source": [
    "df.columns"
   ]
  },
  {
   "cell_type": "markdown",
   "id": "8c6e8a9b",
   "metadata": {
    "papermill": {
     "duration": 0.00942,
     "end_time": "2025-08-27T08:34:15.585478",
     "exception": false,
     "start_time": "2025-08-27T08:34:15.576058",
     "status": "completed"
    },
    "tags": []
   },
   "source": [
    "### 4.2. Handling Missing Values\n",
    "\n",
    "Any remaining `NaN` values in the skill columns are replaced with 'No Value' to ensure consistency and avoid issues during subsequent processing."
   ]
  },
  {
   "cell_type": "code",
   "execution_count": 16,
   "id": "696d5ba2",
   "metadata": {
    "execution": {
     "iopub.execute_input": "2025-08-27T08:34:15.604467Z",
     "iopub.status.busy": "2025-08-27T08:34:15.604148Z",
     "iopub.status.idle": "2025-08-27T08:34:15.627268Z",
     "shell.execute_reply": "2025-08-27T08:34:15.626307Z"
    },
    "papermill": {
     "duration": 0.034793,
     "end_time": "2025-08-27T08:34:15.629169",
     "exception": false,
     "start_time": "2025-08-27T08:34:15.594376",
     "status": "completed"
    },
    "tags": []
   },
   "outputs": [],
   "source": [
    "df.fillna('No Value', inplace = True)"
   ]
  },
  {
   "cell_type": "markdown",
   "id": "56920f40",
   "metadata": {
    "papermill": {
     "duration": 0.008503,
     "end_time": "2025-08-27T08:34:15.648035",
     "exception": false,
     "start_time": "2025-08-27T08:34:15.639532",
     "status": "completed"
    },
    "tags": []
   },
   "source": [
    "## 5. Exploratory Data Analysis: Skill Distributions\n",
    "\n",
    "Visualizing the distribution of required skills helps us understand common demands in the job market represented in this dataset."
   ]
  },
  {
   "cell_type": "markdown",
   "id": "3f43a974",
   "metadata": {
    "papermill": {
     "duration": 0.008348,
     "end_time": "2025-08-27T08:34:15.664834",
     "exception": false,
     "start_time": "2025-08-27T08:34:15.656486",
     "status": "completed"
    },
    "tags": []
   },
   "source": [
    "### 5.1. Analyzing Required Skills Distribution"
   ]
  },
  {
   "cell_type": "code",
   "execution_count": 17,
   "id": "71d47d72",
   "metadata": {
    "execution": {
     "iopub.execute_input": "2025-08-27T08:34:15.684332Z",
     "iopub.status.busy": "2025-08-27T08:34:15.683953Z",
     "iopub.status.idle": "2025-08-27T08:34:18.135652Z",
     "shell.execute_reply": "2025-08-27T08:34:18.134644Z"
    },
    "papermill": {
     "duration": 2.467292,
     "end_time": "2025-08-27T08:34:18.141130",
     "exception": false,
     "start_time": "2025-08-27T08:34:15.673838",
     "status": "completed"
    },
    "tags": []
   },
   "outputs": [
    {
     "data": {
      "image/png": "[encoded data removed]",
      "text/plain": [
       "<Figure size 1800x1200 with 7 Axes>"
      ]
     },
     "metadata": {},
     "output_type": "display_data"
    }
   ],
   "source": [
    "# Select only skill columns (excluding role_name & match_score)\n",
    "skill_cols = ['skill_needed_1', 'skill_needed_2', 'skill_needed_3', 'skill_needed_4',\n",
    "       'skill_needed_5', 'skill_needed_6', 'skill_needed_7']\n",
    "\n",
    "# Grid size for plotting\n",
    "ncols = 3\n",
    "nrows = -(-len(skill_cols)//ncols)  # ceiling division\n",
    "fig, axes = plt.subplots(nrows, ncols, figsize=(18, 12))\n",
    "axes = axes.flatten()\n",
    "\n",
    "for i, col in enumerate(skill_cols):\n",
    "    # Count frequency of each skill in this column\n",
    "    counts = df[col].value_counts()\n",
    "\n",
    "    # Plot bar chart\n",
    "    axes[i].bar(counts.index, counts.values, color=\"skyblue\")\n",
    "    axes[i].set_title(col)\n",
    "    axes[i].tick_params(axis=\"x\", rotation=90)\n",
    "    axes[i].grid(axis=\"y\", linestyle=\"--\", alpha=0.7)\n",
    "\n",
    "# Hide empty plots (if grid > number of columns)\n",
    "for j in range(i+1, len(axes)):\n",
    "    fig.delaxes(axes[j])\n",
    "\n",
    "plt.tight_layout()\n",
    "plt.show()"
   ]
  },
  {
   "cell_type": "markdown",
   "id": "9d02c464",
   "metadata": {
    "papermill": {
     "duration": 0.011602,
     "end_time": "2025-08-27T08:34:18.165539",
     "exception": false,
     "start_time": "2025-08-27T08:34:18.153937",
     "status": "completed"
    },
    "tags": []
   },
   "source": [
    "The bar charts illustrate the frequency of various skills required across different positions. Some skills appear frequently, while others are less common, often appearing as 'No Value' when fewer skills are listed for a job."
   ]
  },
  {
   "cell_type": "markdown",
   "id": "a84efcbc",
   "metadata": {
    "papermill": {
     "duration": 0.012155,
     "end_time": "2025-08-27T08:34:18.190718",
     "exception": false,
     "start_time": "2025-08-27T08:34:18.178563",
     "status": "completed"
    },
    "tags": []
   },
   "source": [
    "### 5.2. Identifying and Handling Irrelevant Applicant Skills\n",
    "\n",
    "Upon reviewing applicant skills, some entries appear to be less relevant or are boilerplate text rather than specific proficiencies. To refine our skill matching, we identify and standardize these less frequent skills, treating them as 'Irrelevant Skill' if their count is below a certain threshold (e.g., 50 occurrences)."
   ]
  },
  {
   "cell_type": "code",
   "execution_count": 18,
   "id": "47ed2428",
   "metadata": {
    "execution": {
     "iopub.execute_input": "2025-08-27T08:34:18.216798Z",
     "iopub.status.busy": "2025-08-27T08:34:18.216484Z",
     "iopub.status.idle": "2025-08-27T08:34:19.029634Z",
     "shell.execute_reply": "2025-08-27T08:34:19.028331Z"
    },
    "papermill": {
     "duration": 0.830085,
     "end_time": "2025-08-27T08:34:19.033109",
     "exception": false,
     "start_time": "2025-08-27T08:34:18.203024",
     "status": "completed"
    },
    "tags": []
   },
   "outputs": [
    {
     "name": "stdout",
     "output_type": "stream",
     "text": [
      "\n",
      "Irrelevant skills in applicant_skills_1:\n",
      "['ago', 'whether', 'responsibility', 'center', 'who', 'any', 'teacher', 'hard', 'phone', 'modern', 'today', 'well', 'physical', 'join', 'mean', 'break', 'government', 'inside', 'policy', 'attack', 'employee', 'majority', 'discover', 'light', 'anything', 'main', 'house', 'production', 'include', 'left', 'full', 'use', 'establish', 'worry', 'through', 'statement', 'save', 'serious', 'remain', 'style', 'adult', 'charge', 'should', 'section', 'man', 'foot', 'her', 'conference', 'stop', 'fish', 'herself', 'machine', 'class', 'trouble', 'although', 'treatment', 'page', 'alone', 'number', 'choice', 'hair', 'minute', 'check', 'health', 'be', 'doctor', 'role', 'then', 'give', 'report', 'performance', 'long', 'car', 'issue', 'yeah', 'each', 'baby', 'exactly', 'focus', 'one', 'citizen', 'party', 'after', 'account', 'behavior', 'month', 'than', 'wish', 'million', 'standard', 'business', 'rock', 'where', 'coach', 'material', 'guy', 'bed', 'sing', 'audience', 'indeed', 'easy', 'you', 'system', 'financial', 'region', 'population', 'rather', 'affect', 'unit', 'specific', 'perhaps', 'more', 'present', 'public', 'animal', 'weight', 'against', 'evening', 'I', 'determine', 'consumer', 'attention', 'strong', 'customer', 'anyone', 'type', 'defense', 'traditional', 'risk', 'state', 'situation', 'response', 'him', 'with', 'staff', 'program', 'institution', 'less', 'thing', 'data', 'raise', 'among', 'by', 'American', 'ability', 'many', 'bit', 'reason', 'sure', 'both', 'outside', 'nature', 'political', 'moment', 'child', 'thought', 'bar', 'plan', 'look', 'cut', 'probably', 'fall', 'may', 'nice', 'attorney', 'cultural', 'myself', 'other', 'my', 'ever', 'build', 'without', 'know', 'force', 'free', 'not', 'pick', 'wrong', 'future', 'much', 'imagine', 'cost', 'method', 'project', 'especially', 'east', 'either', 'day', 'how', 'beyond', 'world', 'station', 'particularly', 'condition', 'major', 'middle', 'wait', 'dark', 'boy', 'theory', 'better', 'election', 'fly', 'evidence', 'seat', 'significant', 'southern', 'cell', 'PM', 'might', 'far', 'during', 'support', 'surface', 'night', 'score', 'trade', 'feeling', 'group', 'in', 'example', 'control', 'per', 'democratic', 'total', 'firm', 'can', 'debate', 'act', 'letter', 'yourself', 'realize', 'pass', 'field', 'before', 'once', 'address', 'push', 'write', 'apply', 'hand', 'throw', 'land', 'grow', 'quickly', 'decide', 'step', 'rule', 'course', 'short', 'prepare', 'note', 'information', 'hope', 'black', 'sign', 'fire', 'partner', 'very', 'successful', 'police', 'newspaper', 'article', 'kitchen', 'product', 'hundred', 'set', 'mind', 'place', 'bag', 'agree', 'experience', 'right', 'voice', 'buy', 'early', 'space', 'whatever', 'marriage', 'old', 'music', 'economic', 'vote', 'computer', 'until', 'view', 'name', 'learn', 'own', 'suddenly', 'practice', 'management', 'officer', 'happy', 'team', 'answer', 'have', 'stay', 'window', 'news', 'will', 'worker', 'continue', 'administration', 'building', 'whose', 'few', 'idea', 'avoid', 'four', 'song', 'family', 'of', 'hotel', 'create', 'book', 'guess', 'upon', 'career', 'almost', 'himself', 'his', 'admit', 'large', 'life', 'movie', 'office', 'offer', 'play', 'writer', 'real', 'item', 'everything', 'off', 'indicate', 'person', 'author', 'seek', 'decision', 'knowledge', 'several', 'choose', 'tough', 'mother', 'wind', 'our', 'second', 'under', 'site', 'already', 'represent', 'trial', 'pay', 'purpose', 'return', 'red', 'still', 'design', 'door', 'south', 'interesting', 'five', 'here', 'late', 'so', 'board', 'from', 'travel', 'seven', 'usually', 'beat', 'international', 'itself', 'personal', 'finish', 'art', 'budget', 'daughter', 'president', 'entire', 'power', 'walk', 'school', 'accept', 'picture', 'into', 'economy', 'another', 'try', 'effect', 'card', 'impact', 'certain', 'think', 'that', 'everybody', 'green', 'level', 'to', 'over', 'security', 'allow', 'end', 'compare', 'garden', 'room', 'approach', 'side', 'small', 'history', 'popular', 'eight', 'every', 'individual', 'treat', 'nation', 'executive', 'girl', 'skin', 'head', 'even', 'deep', 'big', 'professional', 'prevent', 'part', 'environmental', 'federal', 'commercial', 'argue', 'special', 'different', 'college', 'such', 'sea', 'drug', 'question', 'smile', 'nearly', 'want', 'game', 'fight', 'story', 'paper', 'above', 'wonder', 'as', 'dinner', 'decade', 'relationship', 'nothing', 'wife', 'she', 'great', 'study', 'require', 'important', 'former', 'network', 'born', 'time', 'follow', 'leg', 'what', 'half', 'never', 'race', 'clearly', 'those', 'range', 'resource', 'opportunity', 'next', 'natural', 'safe', 'week', 'pull', 'job', 'listen', 'recently', 'figure', 'brother', 'too', 'protect', 'available', 'stock', 'cause', 'interview', 'success', 'others', 'campaign', 'claim', 'forward', 'bank', 'quality', 'position', 'begin', 'up', 'somebody', 'industry', 'lawyer', 'mouth', 'agent', 'thank', 'list', 'church', 'say', 'current', 'a', 'back', 'increase', 'war', 'particular', 'do', 'like', 'director', 'involve', 'food', 'national', 'most', 'character', 'trip', 'sell', 'heavy', 'none', 'Mr', 'actually', 'near', 'property', 'generation', 'challenge', 'ready', 'model', 'ahead', 'them', 'message', 'leave', 'fast', 'these', 'thus', 'and', 'key', 'task', 'rich', 'toward', 'direction', 'soldier', 'shake', 'for', 'assume', 'about', 'describe', 'behind', 'country', 'themselves', 'test', 'research', 'consider', 'star', 'Democrat', 'order', 'believe', 'if', 'gun', 'friend', 'reveal', 'despite', 'however', 'society', 'run', 'read', 'happen', 'goal', 'see', 'degree', 'draw', 'bad', 'which', 'law', 'why', 'two', 'tend', 'blood', 'professor', 'general', 'drive', 'subject', 'arm', 'deal', 'along', 'within', 'certainly', 'west', 'improve', 'lead', 'reality', 'film', 'yet', 'possible', 'service', 'kind', 'effort', 'area', 'there', 'morning', 'enter', 'thousand', 'blue', 'peace', 'box', 'common', 'all', 'skill', 'lot', 'three', 'concern', 'everyone', 'seem', 'strategy', 'maybe', 'perform', 'take', 'agreement', 'tonight', 'similar', 'send', 'stand', 'pattern', 'tree', 'around', 'bill', 'Republican', 'medical', 'culture', 'piece', 'across', 'cup', 'something', 'result', 'since', 'amount', 'lay', 'stuff', 'court', 'fine', 'hospital', 'matter', 'ok', 'simple', 'event', 'expert', 'factor', 'stage', 'kid', 'later', 'again', 'sport', 'science', 'pressure', 'community', 'finally', 'price', 'it', 'chair', 'speech', 'rise', 'color', 'single', 'case', 'foreign', 'care', 'on', 'couple', 'candidate', 'really', 'catch', 'live', 'base', 'environment', 'difficult', 'win', 'notice', 'authority', 'investment', 'suffer', 'record', 'process', 'enjoy', 'series', 'market', 'fact', 'people', 'call', 'meet', 'watch', 'final', 'last', 'high', 'when', 'analysis', 'enough', 'would', 'remember', 'spring', 'clear', 'appear', 'recognize', 'no', 'between', 'whole', 'wear', 'energy', 'close', 'visit', 'city', 'someone', 'human', 'they', 'detail', 'magazine', 'town', 'at', 'carry', 'leader', 'become', 'yes', 'way', 'could', 'white', 'us', 'benefit', 'summer', 'their', 'six', 'hold', 'gas', 'sit', 'ten', 'front', 'necessary', 'change', 'recent', 'onto', 'student', 'keep', 'language', 'low', 'chance', 'crime', 'training', 'speak', 'military', 'hit', 'image', 'capital', 'arrive', 'because', 'work', 'money', 'develop', 'store', 'need', 'least', 'but', 'mission', 'century', 'feel', 'player', 'age', 'truth', 'development', 'senior', 'point', 'edge', 'central', 'painting', 'serve', 'camera', 'dream', 'get', 'term', 'civil', 'we', 'manage', 'Mrs', 'share', 'go', 'home', 'form', 'laugh', 'suggest', 'huge', 'nor', 'third', 'oil', 'just', 'only', 'difference', 'fund', 'often', 'quite', 'reflect', 'new', 'value', 'lose', 'Congress', 'understand', 'maintain', 'identify', 'scene', 'instead', 'line', 'member', 'provide', 'talk', 'add', 'same', 'discuss', 'face', 'produce', 'growth', 'make', 'hear', 'artist', 'loss', 'threat', 'relate', 'its', 'including', 'size', 'best', 'discussion', 'water', 'teach', 'street', 'religious', 'together', 'western', 'source', 'me', 'little', 'respond', 'billion', 'plant', 'word', 'various', 'reach', 'tell', 'radio', 'he', 'son', 'help', 'beautiful', 'parent', 'eye', 'miss', 'education', 'drop', 'scientist', 'TV', 'heart', 'wall', 'media', 'or', 'whom', 'father', 'season', 'some', 'past', 'rate', 'meeting', 'expect', 'put', 'now', 'prove', 'sometimes', 'dog', 'the', 'operation', 'your', 'down', 'eat', 'let', 'road', 'year', 'hot', 'away', 'activity', 'occur', 'simply', 'shoulder', 'interest', 'participant', 'body', 'able', 'air', 'contain', 'social', 'structure', 'find', 'official', 'owner', 'open', 'company', 'first', 'soon', 'out', 'exist', 'must', 'explain', 'action', 'show', 'likely', 'bring', 'ground', 'start', 'ask', 'true', 'ball', 'spend', 'movement', 'forget', 'floor', 'always', 'yard', 'local', 'cover', 'according', 'fill', 'technology', 'sense', 'glass', 'organization', 'hour', 'television', 'woman', 'cold', 'tax', 'receive', 'option', 'good']\n",
      "\n",
      "Irrelevant skills in applicant_skills_2:\n",
      "['dinner', 'director', 'interview', 'full', 'main', 'sign', 'one', 'produce', 'know', 'return', 'writer', 'everything', 'away', 'animal', 'decade', 'stay', 'coach', 'national', 'ready', 'draw', 'option', 'performance', 'owner', 'be', 'security', 'throw', 'loss', 'article', 'southern', 'each', 'suddenly', 'determine', 'audience', 'arm', 'various', 'create', 'Democrat', 'time', 'bring', 'key', 'impact', 'place', 'act', 'scene', 'street', 'important', 'force', 'production', 'more', 'improve', 'see', 'gun', 'somebody', 'back', 'move', 'argue', 'western', 'past', 'everybody', 'power', 'successful', 'make', 'discuss', 'receive', 'sport', 'push', 'light', 'picture', 'or', 'operation', 'home', 'board', 'probably', 'ever', 'safe', 'teacher', 'her', 'woman', 'to', 'majority', 'rise', 'especially', 'movement', 'modern', 'too', 'nothing', 'trade', 'all', 'sense', 'use', 'list', 'able', 'realize', 'attack', 'medical', 'pressure', 'though', 'arrive', 'may', 'as', 'imagine', 'else', 'yes', 'apply', 'law', 'movie', 'size', 'expect', 'appear', 'structure', 'almost', 'where', 'down', 'smile', 'front', 'college', 'inside', 'small', 'while', 'exist', 'wind', 'room', 'tonight', 'hot', 'girl', 'meet', 'such', 'even', 'parent', 'guy', 'interest', 'serve', 'save', 'edge', 'benefit', 'nature', 'culture', 'fine', 'state', 'form', 'likely', 'information', 'TV', 'future', 'box', 'simple', 'during', 'PM', 'choice', 'fast', 'war', 'pay', 'discover', 'reduce', 'long', 'beyond', 'statement', 'growth', 'charge', 'keep', 'relationship', 'cultural', 'many', 'near', 'public', 'response', 'degree', 'nation', 'road', 'film', 'politics', 'skin', 'control', 'money', 'ask', 'put', 'health', 'if', 'who', 'south', 'would', 'community', 'something', 'work', 'business', 'large', 'gas', 'very', 'mother', 'rich', 'oil', 'wish', 'few', 'group', 'high', 'popular', 'difficult', 'family', 'available', 'hundred', 'speak', 'live', 'campaign', 'policy', 'evening', 'together', 'later', 'next', 'under', 'sell', 'white', 'similar', 'different', 'everyone', 'me', 'city', 'recently', 'throughout', 'lose', 'reality', 'specific', 'federal', 'yeah', 'treat', 'seem', 'debate', 'again', 'area', 'bed', 'a', 'in', 'onto', 'recognize', 'respond', 'line', 'good', 'maintain', 'herself', 'myself', 'thank', 'trial', 'example', 'civil', 'conference', 'concern', 'strategy', 'method', 'sure', 'get', 'record', 'possible', 'message', 'necessary', 'low', 'new', 'alone', 'late', 'occur', 'crime', 'require', 'protect', 'take', 'accept', 'consider', 'research', 'anything', 'build', 'not', 'international', 'his', 'week', 'market', 'rather', 'agree', 'no', 'blue', 'professional', 'news', 'really', 'person', 'financial', 'join', 'cell', 'opportunity', 'old', 'discussion', 'since', 'five', 'already', 'rule', 'skill', 'speech', 'choose', 'shoulder', 'before', 'might', 'by', 'nice', 'American', 'him', 'up', 'so', 'water', 'could', 'today', 'piece', 'authority', 'some', 'show', 'must', 'whom', 'program', 'food', 'effort', 'should', 'night', 'wife', 'year', 'across', 'building', 'stand', 'he', 'perform', 'serious', 'practice', 'close', 'right', 'land', 'own', 'those', 'wait', 'address', 'direction', 'attention', 'school', 'sometimes', 'base', 'kitchen', 'million', 'four', 'moment', 'man', 'shake', 'science', 'property', 'cold', 'tough', 'none', 'question', 'measure', 'their', 'pick', 'born', 'kid', 'plan', 'budget', 'student', 'describe', 'have', 'hit', 'real', 'senior', 'table', 'another', 'it', 'term', 'yard', 'reflect', 'great', 'toward', 'house', 'age', 'worry', 'set', 'lead', 'process', 'deep', 'executive', 'top', 'cover', 'much', 'heavy', 'my', 'pull', 'outside', 'for', 'eye', 'after', 'although', 'standard', 'threat', 'father', 'morning', 'how', 'you', 'indicate', 'continue', 'raise', 'network', 'current', 'marriage', 'knowledge', 'spring', 'name', 'anyone', 'firm', 'best', 'upon', 'page', 'just', 'want', 'theory', 'along', 'fear', 'stuff', 'mean', 'fly', 'development', 'score', 'once', 'these', 'usually', 'open', 'site', 'agreement', 'natural', 'voice', 'child', 'member', 'dog', 'phone', 'fund', 'event', 'face', 'point', 'break', 'when', 'never', 'mouth', 'window', 'into', 'bank', 'step', 'which', 'president', 'detail', 'position', 'perhaps', 'contain', 'soon', 'other', 'us', 'case', 'kind', 'special', 'young', 'account', 'ball', 'finish', 'situation', 'ability', 'someone', 'ago', 'player', 'spend', 'company', 'listen', 'party', 'order', 'common', 'day', 'fall', 'pass', 'professor', 'lay', 'wonder', 'billion', 'career', 'interesting', 'human', 'feeling', 'positive', 'race', 'employee', 'evidence', 'nor', 'democratic', 'thought', 'bit', 'space', 'life', 'themselves', 'mission', 'bar', 'summer', 'value', 'cause', 'walk', 'role', 'second', 'cup', 'series', 'adult', 'manager', 'energy', 'win', 'sister', 'either', 'early', 'purpose', 'world', 'success', 'baby', 'drop', 'image', 'ten', 'song', 'center', 'religious', 'represent', 'floor', 'organization', 'exactly', 'remain', 'leader', 'others', 'book', 'let', 'magazine', 'add', 'hard', 'look', 'stock', 'every', 'environmental', 'camera', 'indeed', 'media', 'green', 'treatment', 'behind', 'surface', 'son', 'task', 'character', 'there', 'boy', 'establish', 'institution', 'price', 'social', 'than', 'will', 'car', 'government', 'can', 'last', 'with', 'agency', 'former', 'figure', 'difference', 'beat', 'office', 'soldier', 'simply', 'well', 'store', 'including', 'your', 'fire', 'leave', 'truth', 'big', 'study', 'whose', 'then', 'rest', 'scientist', 'teach', 'notice', 'relate', 'guess', 'total', 'carry', 'foot', 'include', 'laugh', 'prevent', 'seat', 'television', 'she', 'dream', 'easy', 'they', 'hotel', 'prepare', 'present', 'particular', 'dark', 'condition', 'worker', 'project', 'sit', 'Mr', 'happy', 'population', 'left', 'behavior', 'claim', 'its', 'better', 'note', 'job', 'card', 'staff', 'wall', 'physical', 'and', 'newspaper', 'three', 'drug', 'technology', 'black', 'customer', 'above', 'call', 'yourself', 'poor', 'become', 'without', 'care', 'education', 'generation', 'seven', 'at', 'attorney', 'catch', 'write', 'radio', 'develop', 'compare', 'follow', 'eight', 'most', 'major', 'management', 'part', 'far', 'training', 'check', 'buy', 'music', 'deal', 'particularly', 'out', 'talk', 'amount', 'according', 'believe', 'like', 'less', 'visit', 'identify', 'enjoy', 'reach', 'trouble', 'hold', 'memory', 'still', 'station', 'eat', 'around', 'military', 'manage', 'view', 'within', 'bag', 'couple', 'activity', 'fact', 'because', 'chair', 'lawyer', 'art', 'certainly', 'sort', 'always', 'maybe', 'explain', 'whether', 'trip', 'our', 'personal', 'class', 'glass', 'significant', 'ahead', 'goal', 'fish', 'issue', 'region', 'economic', 'miss', 'wear', 'paper', 'nearly', 'enough', 'focus', 'send', 'true', 'tell', 'answer', 'hope', 'sing', 'involve', 'style', 'about', 'end', 'range', 'short', 'history', 'agent', 'body', 'remember', 'instead', 'despite', 'on', 'that', 'avoid', 'computer', 'challenge', 'peace', 'six', 'try', 'analysis', 'we', 'husband', 'until', 'story', 'tend', 'only', 'industry', 'clearly', 'type', 'understand', 'lot', 'factor', 'partner', 'actually', 'individual', 'consumer', 'Republican', 'report', 'effect', 'thus', 'find', 'vote', 'travel', 'learn', 'defense', 'start', 'capital', 'free', 'cut', 'official', 'reveal', 'tree', 'people', 'of', 'bill', 'first', 'friend', 'design', 'hand', 'side', 'affect', 'brother', 'police', 'stop', 'weight', 'yet', 'plant', 'experience', 'head', 'chance', 'political', 'read', 'color', 'foreign', 'rock', 'expert', 'against', 'forward', 'suffer', 'per', 'begin', 'west', 'model', 'run', 'certain', 'do', 'level', 'local', 'artist', 'north', 'suggest', 'happen', 'change', 'now', 'least', 'wide', 'middle', 'what', 'several', 'language', 'between', 'system', 'forget', 'minute', 'century', 'however', 'fight', 'candidate', 'support', 'test', 'cost', 'hair', 'ok', 'heart', 'country', 'play', 'stage', 'machine', 'leg', 'bad', 'allow', 'itself', 'the', 'Congress', 'quite', 'help', 'meeting', 'say', 'mind', 'election', 'economy', 'whole', 'hour', 'any', 'through', 'increase', 'assume', 'word', 'recent', 'whatever', 'sound', 'provide', 'go', 'traditional', 'watch', 'drive', 'town', 'little', 'final', 'wrong', 'prove', 'same', 'tax', 'commercial', 'central', 'material', 'often', 'participant', 'general', 'door', 'section', 'month', 'among', 'matter', 'service', 'action', 'game', 'thousand', 'enter', 'fill', 'rate', 'hear', 'blood', 'this', 'number', 'single', 'from', 'sea', 'himself', 'air', 'ground', 'quickly', 'result', 'share', 'entire', 'but', 'course', 'feel', 'source', 'court', 'need', 'decide', 'letter', 'unit', 'both', 'data', 'seek', 'item', 'officer', 'doctor', 'also', 'environment', 'quality', 'star', 'strong', 'responsibility', 'them', 'decision', 'citizen', 'east', 'Mrs', 'hospital', 'way', 'reason', 'investment', 'finally', 'why', 'painting']\n",
      "\n",
      "Irrelevant skills in applicant_skills_3:\n",
      "['stock', 'central', 'paper', 'structure', 'place', 'thought', 'author', 'sign', 'dinner', 'tell', 'happen', 'field', 'any', 'guy', 'minute', 'next', 'argue', 'moment', 'southern', 'anything', 'garden', 'inside', 'need', 'suffer', 'control', 'art', 'kid', 'deal', 'movie', 'provide', 'contain', 'nothing', 'their', 'until', 'series', 'water', 'fall', 'lead', 'candidate', 'buy', 'bad', 'light', 'number', 'board', 'race', 'also', 'long', 'will', 'success', 'much', 'box', 'spring', 'live', 'support', 'read', 'statement', 'often', 'among', 'amount', 'half', 'myself', 'determine', 'question', 'Democrat', 'effort', 'education', 'analysis', 'radio', 'prevent', 'to', 'add', 'before', 'left', 'include', 'explain', 'citizen', 'we', 'around', 'friend', 'when', 'usually', 'others', 'against', 'free', 'staff', 'point', 'stand', 'by', 'beautiful', 'financial', 'agent', 'fast', 'morning', 'describe', 'human', 'else', 'assume', 'per', 'respond', 'general', 'skill', 'everybody', 'outside', 'green', 'now', 'key', 'sing', 'your', 'six', 'someone', 'list', 'it', 'way', 'health', 'simply', 'let', 'agency', 'body', 'rule', 'ball', 'sure', 'foreign', 'century', 'talk', 'have', 'task', 'age', 'allow', 'yet', 'another', 'begin', 'either', 'employee', 'word', 'mean', 'action', 'least', 'arrive', 'system', 'catch', 'energy', 'throughout', 'one', 'lay', 'ten', 'ago', 'natural', 'Mr', 'because', 'boy', 'discuss', 'open', 'management', 'hot', 'help', 'heavy', 'knowledge', 'later', 'check', 'show', 'response', 'in', 'itself', 'technology', 'campaign', 'crime', 'should', 'join', 'whether', 'address', 'recognize', 'scene', 'business', 'themselves', 'drive', 'represent', 'car', 'phone', 'answer', 'political', 'throw', 'back', 'machine', 'mother', 'religious', 'arm', 'kind', 'short', 'news', 'economic', 'interview', 'return', 'measure', 'difficult', 'they', 'nature', 'bit', 'yes', 'line', 'well', 'reflect', 'current', 'budget', 'training', 'can', 'break', 'him', 'factor', 'information', 'card', 'successful', 'reveal', 'threat', 'between', 'start', 'relationship', 'professional', 'girl', 'official', 'send', 'change', 'skin', 'face', 'father', 'involve', 'memory', 'red', 'standard', 'certain', 'space', 'yourself', 'responsibility', 'article', 'growth', 'pass', 'might', 'require', 'this', 'put', 'military', 'me', 'through', 'name', 'wait', 'exactly', 'participant', 'consumer', 'treat', 'focus', 'fund', 'great', 'instead', 'baby', 'star', 'would', 'into', 'real', 'film', 'of', 'again', 'perform', 'study', 'why', 'condition', 'company', 'unit', 'develop', 'soon', 'shoulder', 'bar', 'wind', 'finally', 'eight', 'class', 'bag', 'few', 'wall', 'always', 'mind', 'finish', 'leader', 'give', 'various', 'with', 'trial', 'trouble', 'region', 'behavior', 'protect', 'quality', 'or', 'benefit', 'middle', 'plant', 'similar', 'style', 'Republican', 'quickly', 'conference', 'example', 'year', 'music', 'already', 'collection', 'the', 'figure', 'four', 'near', 'a', 'maybe', 'popular', 'understand', 'performance', 'remain', 'guess', 'which', 'tough', 'piece', 'color', 'old', 'consider', 'best', 'none', 'rich', 'apply', 'audience', 'good', 'college', 'individual', 'wife', 'eye', 'test', 'development', 'possible', 'able', 'fine', 'risk', 'even', 'PM', 'fight', 'environment', 'difference', 'mouth', 'prepare', 'could', 'hit', 'deep', 'story', 'past', 'same', 'compare', 'fire', 'impact', 'who', 'despite', 'nice', 'eat', 'record', 'market', 'office', 'my', 'store', 'service', 'month', 'child', 'continue', 'establish', 'leave', 'hand', 'claim', 'surface', 'practice', 'pressure', 'television', 'watch', 'enjoy', 'area', 'president', 'cover', 'however', 'choose', 'especially', 'lose', 'decide', 'science', 'new', 'according', 'concern', 'husband', 'thank', 'vote', 'group', 'seven', 'government', 'wear', 'cut', 'recently', 'feel', 'happy', 'every', 'artist', 'note', 'I', 'set', 'probably', 'strategy', 'world', 'serve', 'since', 'personal', 'generation', 'painting', 'politics', 'evening', 'stay', 'want', 'defense', 'model', 'where', 'smile', 'project', 'increase', 'writer', 'product', 'common', 'large', 'close', 'gas', 'movement', 'billion', 'fish', 'thousand', 'western', 'idea', 'ground', 'special', 'future', 'nearly', 'foot', 'walk', 'notice', 'debate', 'sort', 'activity', 'bill', 'enough', 'food', 'ahead', 'toward', 'sound', 'occur', 'if', 'alone', 'identify', 'country', 'seem', 'weight', 'site', 'public', 'spend', 'step', 'ability', 'local', 'night', 'security', 'worry', 'attack', 'true', 'different', 'full', 'charge', 'serious', 'whatever', 'plan', 'pull', 'people', 'clearly', 'floor', 'commercial', 'school', 'once', 'image', 'appear', 'front', 'history', 'event', 'resource', 'law', 'may', 'discussion', 'cold', 'hard', 'station', 'table', 'just', 'hope', 'term', 'exist', 'research', 'police', 'physical', 'leg', 'little', 'reach', 'newspaper', 'director', 'price', 'anyone', 'poor', 'there', 'capital', 'agree', 'expert', 'visit', 'officer', 'about', 'blood', 'challenge', 'beat', 'most', 'court', 'draw', 'west', 'major', 'rate', 'run', 'subject', 'main', 'clear', 'executive', 'case', 'take', 'time', 'first', 'rise', 'do', 'building', 'together', 'social', 'that', 'chance', 'dream', 'three', 'recent', 'somebody', 'indicate', 'sometimes', 'parent', 'population', 'computer', 'across', 'lawyer', 'town', 'ever', 'reduce', 'account', 'daughter', 'theory', 'stuff', 'evidence', 'character', 'land', 'onto', 'forward', 'early', 'book', 'ready', 'approach', 'church', 'available', 'policy', 'letter', 'after', 'room', 'forget', 'so', 'and', 'score', 'quite', 'teach', 'coach', 'TV', 'small', 'five', 'page', 'he', 'no', 'white', 'realize', 'what', 'soldier', 'today', 'voice', 'expect', 'necessary', 'pay', 'although', 'really', 'tax', 'type', 'manager', 'total', 'owner', 'stage', 'trip', 'report', 'process', 'side', 'own', 'picture', 'entire', 'member', 'party', 'though', 'final', 'wrong', 'rest', 'matter', 'move', 'section', 'situation', 'behind', 'suggest', 'degree', 'summer', 'city', 'act', 'sister', 'present', 'modern', 'tonight', 'operation', 'north', 'truth', 'must', 'family', 'only', 'strong', 'method', 'couple', 'size', 'simple', 'Mrs', 'hundred', 'hair', 'many', 'level', 'care', 'edge', 'last', 'use', 'under', 'job', 'state', 'fill', 'here', 'enter', 'more', 'doctor', 'goal', 'force', 'pick', 'prove', 'significant', 'during', 'agreement', 'window', 'remember', 'language', 'organization', 'hour', 'position', 'value', 'power', 'indeed', 'single', 'whole', 'democratic', 'issue', 'each', 'ok', 'nor', 'reason', 'direction', 'property', 'imagine', 'view', 'result', 'top', 'international', 'Congress', 'million', 'center', 'economy', 'still', 'including', 'positive', 'our', 'over', 'oil', 'affect', 'say', 'up', 'design', 'American', 'order', 'high', 'sea', 'option', 'scientist', 'data', 'upon', 'listen', 'tree', 'suddenly', 'drop', 'miss', 'along', 'as', 'believe', 'senior', 'mention', 'save', 'production', 'traditional', 'admit', 'attention', 'but', 'particular', 'you', 'off', 'seek', 'avoid', 'sense', 'above', 'at', 'stop', 'federal', 'be', 'cup', 'home', 'rather', 'important', 'certainly', 'push', 'base', 'thing', 'whose', 'range', 'get', 'house', 'gun', 'likely', 'air', 'firm', 'media', 'some', 'several', 'national', 'offer', 'travel', 'career', 'actually', 'partner', 'two', 'far', 'something', 'brother', 'meeting', 'within', 'peace', 'win', 'raise', 'for', 'war', 'seat', 'second', 'third', 'fear', 'pretty', 'majority', 'out', 'worker', 'role', 'speech', 'these', 'team', 'cultural', 'meet', 'adult', 'industry', 'its', 'those', 'himself', 'civil', 'than', 'such', 'person', 'fly', 'student', 'too', 'society', 'down', 'specific', 'professor', 'become', 'sell', 'treatment', 'attorney', 'teacher', 'song', 'call', 'former', 'mission', 'hotel', 'cell', 'trade', 'reality', 'carry', 'feeling', 'administration', 'marriage', 'dog', 'day', 'see', 'perhaps', 'particularly', 'everything', 'drug', 'east', 'other', 'interest', 'born', 'son', 'she', 'kitchen', 'form', 'hear', 'interesting', 'build', 'road', 'both', 'manage', 'decision', 'wonder', 'cost', 'like', 'go', 'thus', 'better', 'network', 'improve', 'create', 'learn', 'away', 'pattern', 'them', 'make', 'safe', 'election', 'medical', 'authority', 'his', 'play', 'think', 'bring', 'hospital', 'how', 'message', 'opportunity', 'wide', 'beyond', 'herself', 'work', 'receive', 'head', 'bed', 'purpose', 'bank', 'easy', 'big', 'fact', 'choice', 'lot', 'then', 'loss', 'end', 'all', 'never', 'effect', 'program', 'find', 'life', 'experience', 'sport', 'us', 'not', 'maintain', 'follow', 'decade', 'ask', 'almost', 'shake', 'young', 'hold', 'everyone', 'keep', 'chair', 'part', 'cause', 'woman', 'culture', 'course', 'blue', 'week', 'wish', 'from', 'accept', 'late', 'tend', 'while', 'south', 'very', 'whom', 'relate', 'man', 'produce', 'write', 'street', 'dark', 'right', 'animal', 'her', 'low', 'know']\n",
      "\n",
      "Irrelevant skills in applicant_skills_4:\n",
      "['indicate', 'close', 'picture', 'think', 'dark', 'cold', 'important', 'before', 'our', 'air', 'yet', 'hold', 'visit', 'rule', 'interesting', 'heavy', 'family', 'machine', 'stuff', 'ball', 'several', 'yeah', 'teach', 'beautiful', 'environmental', 'throughout', 'skin', 'material', 'wide', 'relate', 'example', 'season', 'assume', 'finally', 'too', 'even', 'food', 'control', 'modern', 'risk', 'scene', 'tax', 'will', 'rest', 'better', 'sound', 'summer', 'share', 'now', 'someone', 'reduce', 'simple', 'some', 'true', 'hit', 'range', 'population', 'religious', 'past', 'until', 'bit', 'maybe', 'institution', 'lot', 'tend', 'or', 'fear', 'design', 'tough', 'left', 'serve', 'test', 'way', 'skill', 'stand', 'firm', 'against', 'education', 'quite', 'kind', 'evidence', 'nothing', 'open', 'strategy', 'painting', 'green', 'you', 'he', 'run', 'alone', 'image', 'gas', 'various', 'trouble', 'base', 'hand', 'mean', 'wonder', 'thousand', 'money', 'cut', 'when', 'stage', 'whom', 'charge', 'pretty', 'buy', 'forget', 'trip', 'yes', 'minute', 'the', 'gun', 'onto', 'guess', 'small', 'similar', 'use', 'by', 'involve', 'special', 'box', 'color', 'eight', 'employee', 'save', 'ahead', 'care', 'detail', 'goal', 'certainly', 'community', 'vote', 'art', 'key', 'none', 'end', 'management', 'game', 'ask', 'president', 'interest', 'wish', 'take', 'along', 'heart', 'six', 'around', 'month', 'structure', 'born', 'individual', 'everyone', 'media', 'nation', 'finish', 'its', 'whether', 'perhaps', 'simply', 'to', 'pick', 'matter', 'brother', 'former', 'staff', 'movie', 'action', 'development', 'mission', 'white', 'play', 'bill', 'computer', 'shake', 'probably', 'far', 'fill', 'girl', 'already', 'record', 'lose', 'current', 'clearly', 'north', 'leader', 'arm', 'support', 'relationship', 'page', 'class', 'building', 'decide', 'morning', 'pass', 'article', 'election', 'book', 'production', 'science', 'second', 'upon', 'much', 'outside', 'up', 'hard', 'fight', 'town', 'manage', 'administration', 'discuss', 'later', 'ten', 'security', 'standard', 'give', 'deep', 'different', 'should', 'hair', 'ready', 'dinner', 'trade', 'sell', 'respond', 'field', 'number', 'option', 'old', 'return', 'put', 'traditional', 'down', 'miss', 'appear', 'they', 'under', 'sure', 'begin', 'own', 'yourself', 'day', 'everything', 'consider', 'anything', 'story', 'series', 'real', 'young', 'south', 'college', 'name', 'half', 'woman', 'but', 'increase', 'say', 'low', 'data', 'middle', 'as', 'doctor', 'determine', 'force', 'capital', 'exactly', 'speak', 'your', 'kitchen', 'power', 'know', 'whole', 'hope', 'eat', 'continue', 'position', 'natural', 'western', 'very', 'have', 'two', 'attorney', 'task', 'line', 'society', 'just', 'meet', 'customer', 'fund', 'television', 'police', 'deal', 'among', 'commercial', 'learn', 'event', 'list', 'without', 'hospital', 'room', 'indeed', 'hear', 'paper', 'water', 'quality', 'treatment', 'system', 'decade', 'and', 'enjoy', 'car', 'notice', 'rate', 'voice', 'new', 'start', 'me', 'ability', 'degree', 'such', 'cultural', 'serious', 'beyond', 'step', 'instead', 'produce', 'read', 'inside', 'full', 'hundred', 'organization', 'short', 'reality', 'last', 'sit', 'bed', 'big', 'compare', 'million', 'including', 'cell', 'since', 'piece', 'wrong', 'weight', 'officer', 'fire', 'street', 'then', 'federal', 'four', 'sometimes', 'chair', 'sense', 'shoulder', 'east', 'build', 'collection', 'find', 'language', 'during', 'actually', 'home', 'break', 'couple', 'popular', 'writer', 'while', 'lay', 'marriage', 'quickly', 'source', 'good', 'through', 'impact', 'both', 'blue', 'activity', 'issue', 'physical', 'himself', 'why', 'include', 'PM', 'thank', 'store', 'though', 'would', 'never', 'major', 'figure', 'arrive', 'region', 'travel', 'late', 'either', 'subject', 'few', 'free', 'another', 'statement', 'people', 'exist', 'participant', 'behind', 'those', 'nature', 'account', 'citizen', 'other', 'seat', 'walk', 'authority', 'chance', 'try', 'also', 'soon', 'local', 'on', 'allow', 'fly', 'child', 'practice', 'age', 'that', 'soldier', 'his', 'send', 'body', 'less', 'budget', 'course', 'single', 'difference', 'mouth', 'draw', 'condition', 'which', 'point', 'any', 'purpose', 'policy', 'again', 'address', 'entire', 'son', 'attack', 'throw', 'military', 'within', 'with', 'become', 'school', 'act', 'suffer', 'watch', 'add', 'most', 'imagine', 'moment', 'process', 'war', 'bank', 'house', 'especially', 'bad', 'bar', 'always', 'guy', 'sister', 'table', 'city', 'per', 'conference', 'partner', 'whose', 'level', 'nor', 'movement', 'sort', 'enough', 'feeling', 'foot', 'mother', 'smile', 'can', 'side', 'coach', 'tree', 'unit', 'surface', 'this', 'life', 'agreement', 'carry', 'sign', 'admit', 'friend', 'opportunity', 'Republican', 'near', 'many', 'first', 'professor', 'push', 'focus', 'style', 'challenge', 'her', 'thing', 'offer', 'remember', 'adult', 'interview', 'want', 'necessary', 'investment', 'improve', 'particular', 'father', 'tonight', 'certain', 'international', 'garden', 'Mrs', 'positive', 'for', 'magazine', 'today', 'wait', 'dog', 'artist', 'effort', 'into', 'industry', 'show', 'plan', 'husband', 'face', 'sing', 'present', 'not', 'value', 'environment', 'pressure', 'time', 'stock', 'window', 'order', 'make', 'describe', 'mind', 'station', 'team', 'drug', 'general', 'third', 'health', 'teacher', 'final', 'easy', 'Mr', 'attention', 'energy', 'rock', 'back', 'five', 'together', 'character', 'nearly', 'provide', 'church', 'in', 'trial', 'need', 'amount', 'company', 'it', 'develop', 'agree', 'usually', 'red', 'happy', 'recent', 'rise', 'contain', 'claim', 'likely', 'turn', 'future', 'knowledge', 'student', 'cause', 'decision', 'resource', 'market', 'grow', 'spend', 'drive', 'from', 'treat', 'director', 'operation', 'behavior', 'only', 'loss', 'senior', 'same', 'must', 'culture', 'newspaper', 'something', 'than', 'person', 'generation', 'professional', 'foreign', 'west', 'memory', 'look', 'expect', 'really', 'analysis', 'away', 'themselves', 'floor', 'live', 'least', 'so', 'oil', 'follow', 'product', 'boy', 'thus', 'safe', 'public', 'their', 'seem', 'yard', 'social', 'research', 'direction', 'project', 'stop', 'agency', 'reach', 'evening', 'board', 'others', 'head', 'often', 'worry', 'all', 'civil', 'government', 'Congress', 'place', 'help', 'suddenly', 'recognize', 'ground', 'southern', 'national', 'door', 'prove', 'occur', 'central', 'despite', 'remain', 'plant', 'avoid', 'affect', 'phone', 'type', 'reason', 'there', 'speech', 'next', 'itself', 'role', 'lead', 'may', 'common', 'fast', 'leg', 'receive', 'threat', 'establish', 'create', 'every', 'spring', 'fall', 'medical', 'scientist', 'top', 'player', 'week', 'man', 'explain', 'message', 'career', 'although', 'cover', 'land', 'worker', 'apply', 'stay', 'myself', 'toward', 'dream', 'bag', 'well', 'might', 'large', 'enter', 'pay', 'manager', 'choose', 'him', 'them', 'however', 'technology', 'great', 'join', 'official', 'talk', 'anyone', 'question', 'site', 'according', 'bring', 'cup', 'like', 'do', 'effect', 'approach', 'TV', 'maintain', 'require', 'debate', 'daughter', 'factor', 'form', 'price', 'discover', 'crime', 'result', 'protect', 'after', 'prepare', 'world', 'defense', 'concern', 'theory', 'ok', 'term', 'little', 'could', 'author', 'service', 'best', 'particularly', 'hotel', 'above', 'set', 'no', 'group', 'accept', 'seven', 'move', 'leave', 'poor', 'get', 'fact', 'human', 'pattern', 'lawyer', 'edge', 'represent', 'ever', 'reflect', 'thought', 'office', 'kid', 'see', 'still', 'successful', 'peace', 'property', 'financial', 'win', 'go', 'method', 'clear', 'year', 'state', 'each', 'recently', 'view', 'center', 'I', 'front', 'party', 'what', 'rich', 'huge', 'beat', 'more', 'who', 'blood', 'candidate', 'economy', 'call', 'fine', 'laugh', 'total', 'wear', 'else', 'keep', 'change', 'almost', 'possible', 'road', 'early', 'network', 'consumer', 'responsibility', 'member', 'how', 'light', 'parent', 'once', 'law', 'program', 'somebody', 'strong', 'agent', 'out', 'job', 'baby', 'cost', 'she', 'able', 'news', 'majority', 'section', 'at', 'believe', 'about', 'owner', 'idea', 'fish', 'drop', 'Democrat', 'off', 'argue', 'work', 'three', 'century', 'word', 'film', 'political', 'mention', 'billion', 'wind', 'radio', 'meeting', 'ago', 'forward', 'of', 'happen', 'because', 'note', 'prevent', 'truth', 'measure', 'significant', 'night', 'race', 'history', 'one', 'letter', 'main', 'understand', 'model', 'sport', 'whatever', 'let', 'eye', 'if', 'performance', 'identify', 'seek', 'wife', 'democratic', 'business', 'study', 'executive', 'perform', 'feel', 'discussion', 'difficult', 'write', 'star', 'response', 'area', 'over', 'hot', 'expert', 'between']\n",
      "\n",
      "Irrelevant skills in applicant_skills_5:\n",
      "['doctor', 'loss', 'practice', 'side', 'open', 'test', 'stage', 'cold', 'prepare', 'choose', 'outside', 'medical', 'we', 'month', 'imagine', 'personal', 'where', 'bill', 'organization', 'nearly', 'let', 'save', 'finally', 'science', 'ok', 'price', 'trip', 'sense', 'suffer', 'question', 'position', 'lead', 'new', 'describe', 'owner', 'worry', 'large', 'out', 'interview', 'environmental', 'church', 'go', 'better', 'federal', 'career', 'single', 'player', 'senior', 'rather', 'TV', 'material', 'act', 'story', 'enough', 'bit', 'sea', 'process', 'camera', 'radio', 'management', 'begin', 'indicate', 'claim', 'sure', 'only', 'dark', 'against', 'billion', 'parent', 'pay', 'special', 'firm', 'hotel', 'do', 'so', 'common', 'stuff', 'find', 'traditional', 'six', 'lawyer', 'president', 'article', 'determine', 'culture', 'carry', 'college', 'together', 'treat', 'prove', 'life', 'idea', 'per', 'knowledge', 'lay', 'wind', 'fish', 'bar', 'attention', 'relate', 'level', 'safe', 'popular', 'notice', 'social', 'officer', 'which', 'reflect', 'around', 'wait', 'might', 'give', 'opportunity', 'arrive', 'collection', 'interest', 'voice', 'activity', 'audience', 'clear', 'education', 'American', 'field', 'cup', 'occur', 'move', 'brother', 'difference', 'area', 'total', 'else', 'stop', 'admit', 'dream', 'its', 'standard', 'he', 'party', 'economy', 'affect', 'poor', 'recent', 'drug', 'present', 'themselves', 'PM', 'involve', 'make', 'usually', 'forget', 'yard', 'realize', 'project', 'training', 'power', 'available', 'artist', 'something', 'use', 'ball', 'trial', 'wonder', 'yes', 'girl', 'trouble', 'become', 'experience', 'analysis', 'maybe', 'policy', 'line', 'until', 'operation', 'however', 'consumer', 'way', 'game', 'baby', 'board', 'travel', 'heavy', 'adult', 'onto', 'current', 'discussion', 'add', 'reality', 'fast', 'nation', 'her', 'role', 'form', 'later', 'eye', 'itself', 'then', 'see', 'evidence', 'less', 'tough', 'public', 'law', 'show', 'star', 'remember', 'very', 'home', 'vote', 'window', 'land', 'have', 'allow', 'thought', 'movie', 'yeah', 'last', 'financial', 'full', 'receive', 'lot', 'walk', 'simple', 'case', 'ready', 'quality', 'cause', 'maintain', 'meeting', 'approach', 'crime', 'future', 'work', 'institution', 'son', 'each', 'character', 'example', 'agent', 'member', 'say', 'record', 'wear', 'beat', 'house', 'final', 'pressure', 'specific', 'design', 'guess', 'couple', 'official', 'listen', 'nature', 'up', 'expert', 'create', 'instead', 'small', 'response', 'must', 'person', 'natural', 'director', 'pick', 'hair', 'well', 'ago', 'wish', 'film', 'nothing', 'child', 'return', 'sometimes', 'everybody', 'third', 'dog', 'society', 'check', 'through', 'perhaps', 'thank', 'partner', 'my', 'situation', 'require', 'type', 'chair', 'matter', 'reveal', 'deep', 'remain', 'sort', 'language', 'share', 'scientist', 'most', 'watch', 'responsibility', 'really', 'fight', 'station', 'huge', 'wall', 'little', 'rock', 'behavior', 'tonight', 'gun', 'pattern', 'likely', 'technology', 'skin', 'never', 'plant', 'not', 'challenge', 'evening', 'now', 'focus', 'defense', 'stand', 'southern', 'weight', 'clearly', 'successful', 'class', 'history', 'fire', 'source', 'concern', 'chance', 'big', 'style', 'just', 'family', 'happy', 'art', 'moment', 'your', 'still', 'view', 'series', 'budget', 'lose', 'economic', 'trade', 'event', 'season', 'service', 'everyone', 'to', 'teach', 'skill', 'beautiful', 'upon', 'every', 'indeed', 'model', 'recognize', 'south', 'street', 'daughter', 'leader', 'appear', 'suddenly', 'down', 'effort', 'near', 'health', 'when', 'money', 'another', 'item', 'avoid', 'stay', 'or', 'size', 'reach', 'it', 'paper', 'ground', 'candidate', 'certainly', 'far', 'particular', 'while', 'leg', 'buy', 'bad', 'pass', 'decide', 'ahead', 'tax', 'measure', 'participant', 'ten', 'perform', 'true', 'across', 'security', 'agency', 'speech', 'top', 'serious', 'easy', 'figure', 'step', 'tree', 'Democrat', 'building', 'rich', 'thousand', 'before', 'control', 'among', 'explain', 'cut', 'half', 'mind', 'ever', 'push', 'none', 'anyone', 'over', 'fill', 'force', 'shoulder', 'issue', 'hope', 'three', 'assume', 'oil', 'reduce', 'old', 'machine', 'word', 'know', 'study', 'number', 'job', 'same', 'dinner', 'note', 'meet', 'short', 'middle', 'throw', 'along', 'under', 'support', 'kid', 'report', 'whose', 'eight', 'rule', 'region', 'hard', 'physical', 'whom', 'expect', 'part', 'rate', 'put', 'our', 'if', 'quickly', 'reason', 'place', 'develop', 'direction', 'himself', 'relationship', 'election', 'here', 'action', 'those', 'guy', 'center', 'morning', 'foreign', 'company', 'actually', 'mention', 'human', 'sister', 'manage', 'community', 'black', 'shake', 'product', 'with', 'they', 'whole', 'method', 'call', 'read', 'former', 'mother', 'any', 'two', 'goal', 'media', 'option', 'already', 'year', 'account', 'soon', 'young', 'raise', 'floor', 'everything', 'miss', 'body', 'run', 'authority', 'strong', 'commercial', 'hour', 'write', 'energy', 'throughout', 'good', 'wrong', 'environment', 'discover', 'light', 'toward', 'behind', 'employee', 'these', 'somebody', 'early', 'result', 'live', 'front', 'sell', 'research', 'cover', 'I', 'some', 'what', 'politics', 'peace', 'late', 'almost', 'song', 'treatment', 'customer', 'Mrs', 'seven', 'few', 'argue', 'feeling', 'us', 'serve', 'fact', 'general', 'suggest', 'include', 'husband', 'friend', 'market', 'join', 'coach', 'this', 'hand', 'fear', 'door', 'property', 'thing', 'protect', 'accept', 'exist', 'investment', 'low', 'care', 'day', 'smile', 'structure', 'time', 'no', 'want', 'night', 'simply', 'by', 'painting', 'win', 'happen', 'surface', 'mean', 'system', 'scene', 'think', 'fine', 'again', 'amount', 'blood', 'white', 'change', 'get', 'start', 'provide', 'who', 'yourself', 'compare', 'head', 'student', 'benefit', 'first', 'drop', 'card', 'foot', 'section', 'cultural', 'mission', 'green', 'capital', 'will', 'pull', 'continue', 'off', 'court', 'charge', 'finish', 'free', 'writer', 'fall', 'box', 'Republican', 'visit', 'unit', 'color', 'there', 'take', 'state', 'food', 'image', 'more', 'tell', 'catch', 'including', 'you', 'western', 'without', 'room', 'the', 'Mr', 'entire', 'growth', 'marriage', 'important', 'resource', 'west', 'end', 'turn', 'strategy', 'great', 'town', 'feel', 'information', 'gas', 'attorney', 'on', 'site', 'hold', 'pretty', 'necessary', 'decade', 'movement', 'thus', 'fund', 'establish', 'garden', 'ability', 'own', 'best', 'plan', 'also', 'than', 'for', 'whatever', 'once', 'address', 'list', 'father', 'him', 'theory', 'heart', 'play', 'and', 'space', 'leave', 'base', 'risk', 'computer', 'threat', 'why', 'television', 'always', 'population', 'build', 'impact', 'citizen', 'too', 'able', 'letter', 'hit', 'several', 'bank', 'arm', 'phone', 'similar', 'significant', 'development', 'group', 'piece', 'week', 'after', 'east', 'fly', 'individual', 'hospital', 'exactly', 'grow', 'page', 'may', 'agree', 'performance', 'herself', 'executive', 'contain', 'identify', 'degree', 'improve', 'five', 'name', 'of', 'detail', 'spring', 'civil', 'soldier', 'back', 'book', 'because', 'boy', 'city', 'stock', 'much', 'point', 'score', 'wife', 'subject', 'away', 'nor', 'order', 'decision', 'but', 'despite', 'rest', 'political', 'police', 'car', 'office', 'sound', 'their', 'such', 'long', 'drive', 'administration', 'effect', 'country', 'four', 'even', 'past', 'recently', 'right', 'positive', 'sign', 'memory', 'bag', 'success', 'kitchen', 'his', 'Congress', 'term', 'all', 'ask', 'professional', 'someone', 'magazine', 'range', 'truth', 'various', 'military', 'speak', 'rise', 'send', 'million', 'can', 'into', 'close', 'could', 'at', 'statement', 'air', 'look', 'summer', 'woman', 'left', 'believe', 'one', 'glass', 'how', 'yet', 'face', 'tend', 'laugh', 'me', 'sit', 'should', 'other', 'whether', 'forward', 'news', 'nice', 'religious', 'data', 'people', 'wide', 'that', 'author', 'seek', 'bed', 'them', 'store', 'main', 'myself', 'interesting', 'school', 'hundred', 'offer', 'national', 'though', 'democratic', 'bring', 'learn', 'program', 'eat', 'either', 'conference', 'born', 'spend', 'real', 'between', 'quite', 'answer', 'others']\n",
      "\n",
      "Irrelevant skills in applicant_skills_6:\n",
      "['military', 'traditional', 'everything', 'officer', 'feel', 'word', 'beautiful', 'concern', 'trade', 'religious', 'than', 'candidate', 'assume', 'include', 'choose', 'modern', 'design', 'similar', 'behavior', 'bar', 'purpose', 'few', 'run', 'plant', 'visit', 'heavy', 'amount', 'peace', 'create', 'community', 'bad', 'official', 'hour', 'skill', 'available', 'likely', 'marriage', 'guess', 'stock', 'population', 'approach', 'represent', 'once', 'because', 'yeah', 'it', 'fall', 'data', 'rule', 'picture', 'plan', 'himself', 'right', 'office', 'turn', 'effect', 'nearly', 'despite', 'media', 'majority', 'chair', 'section', 'management', 'six', 'board', 'form', 'campaign', 'reduce', 'street', 'almost', 'station', 'account', 'thousand', 'across', 'southern', 'election', 'this', 'head', 'read', 'gun', 'specific', 'morning', 'program', 'see', 'mean', 'agreement', 'expect', 'group', 'them', 'also', 'hospital', 'team', 'pay', 'friend', 'model', 'most', 'economy', 'accept', 'that', 'arrive', 'hard', 'produce', 'believe', 'about', 'network', 'bed', 'song', 'author', 'war', 'prove', 'stop', 'south', 'understand', 'look', 'common', 'organization', 'partner', 'example', 'society', 'personal', 'free', 'second', 'same', 'thought', 'discover', 'message', 'receive', 'order', 'public', 'quality', 'think', 'before', 'other', 'base', 'happy', 'east', 'ok', 'full', 'open', 'pressure', 'building', 'daughter', 'whose', 'sense', 'attention', 'poor', 'general', 'production', 'direction', 'democratic', 'wall', 'resource', 'drug', 'financial', 'popular', 'capital', 'exist', 'tough', 'development', 'energy', 'serve', 'until', 'decide', 'trouble', 'truth', 'nice', 'easy', 'add', 'pass', 'coach', 'church', 'early', 'prepare', 'type', 'stuff', 'several', 'ready', 'market', 'present', 'just', 'garden', 'century', 'improve', 'practice', 'magazine', 'soldier', 'seek', 'choice', 'know', 'science', 'ground', 'pretty', 'left', 'where', 'white', 'red', 'evidence', 'arm', 'score', 'find', 'line', 'blue', 'yet', 'worry', 'Mr', 'course', 'ball', 'hold', 'spend', 'product', 'weight', 'TV', 'set', 'avoid', 'level', 'drive', 'matter', 'door', 'worker', 'work', 'drop', 'unit', 'whom', 'number', 'sister', 'watch', 'training', 'key', 'seem', 'upon', 'determine', 'fill', 'star', 'safe', 'challenge', 'operation', 'now', 'whether', 'end', 'we', 'yes', 'property', 'say', 'yourself', 'medical', 'seven', 'affect', 'everybody', 'might', 'student', 'main', 'doctor', 'radio', 'all', 'those', 'well', 'successful', 'loss', 'hand', 'camera', 'fund', 'collection', 'chance', 'fish', 'late', 'billion', 'box', 'treat', 'owner', 'indeed', 'by', 'deep', 'recognize', 'pick', 'fire', 'can', 'smile', 'simply', 'let', 'instead', 'actually', 'so', 'ask', 'near', 'take', 'entire', 'born', 'fast', 'various', 'someone', 'how', 'forward', 'particularly', 'PM', 'generation', 'cost', 'performance', 'here', 'maintain', 'ten', 'meeting', 'exactly', 'different', 'task', 'serious', 'alone', 'our', 'hair', 'hotel', 'special', 'day', 'little', 'participant', 'voice', 'value', 'sea', 'industry', 'thus', 'face', 'firm', 'information', 'company', 'event', 'move', 'risk', 'perform', 'ability', 'west', 'one', 'between', 'record', 'region', 'paper', 'Republican', 'as', 'glass', 'compare', 'over', 'education', 'year', 'miss', 'fact', 'he', 'space', 'share', 'question', 'center', 'off', 'material', 'today', 'job', 'attorney', 'make', 'threat', 'gas', 'however', 'statement', 'baby', 'answer', 'own', 'its', 'admit', 'either', 'staff', 'still', 'force', 'respond', 'fly', 'natural', 'man', 'edge', 'research', 'minute', 'senior', 'factor', 'detail', 'nature', 'hear', 'attack', 'strong', 'civil', 'series', 'themselves', 'result', 'care', 'action', 'sound', 'point', 'positive', 'need', 'area', 'draw', 'tax', 'item', 'something', 'fight', 'agency', 'way', 'goal', 'meet', 'join', 'summer', 'art', 'wrong', 'huge', 'kind', 'project', 'herself', 'source', 'human', 'sure', 'employee', 'single', 'enjoy', 'pattern', 'structure', 'less', 'sometimes', 'pull', 'not', 'within', 'claim', 'a', 'step', 'scientist', 'option', 'cultural', 'benefit', 'foot', 'although', 'down', 'develop', 'their', 'save', 'catch', 'cause', 'story', 'knowledge', 'outside', 'list', 'notice', 'rich', 'hundred', 'must', 'mission', 'reality', 'walk', 'fine', 'shoulder', 'sing', 'president', 'idea', 'again', 'finish', 'local', 'former', 'eat', 'us', 'together', 'each', 'she', 'rate', 'million', 'ahead', 'beyond', 'necessary', 'leader', 'travel', 'house', 'should', 'people', 'wife', 'lay', 'term', 'only', 'mention', 'too', 'third', 'road', 'room', 'business', 'sport', 'leg', 'girl', 'nothing', 'clearly', 'wind', 'party', 'policy', 'indicate', 'certainly', 'administration', 'heart', 'American', 'trial', 'social', 'three', 'have', 'front', 'night', 'especially', 'investment', 'else', 'some', 'discussion', 'dream', 'would', 'surface', 'against', 'another', 'return', 'side', 'significant', 'argue', 'five', 'help', 'first', 'citizen', 'really', 'close', 'per', 'price', 'reason', 'much', 'style', 'person', 'method', 'could', 'effort', 'decision', 'moment', 'city', 'teach', 'newspaper', 'recent', 'young', 'phone', 'use', 'table', 'feeling', 'call', 'appear', 'more', 'long', 'animal', 'card', 'last', 'contain', 'game', 'become', 'conference', 'foreign', 'whole', 'suddenly', 'always', 'field', 'wonder', 'health', 'in', 'nor', 'real', 'during', 'Congress', 'blood', 'who', 'federal', 'view', 'politics', 'break', 'stage', 'or', 'Mrs', 'mother', 'change', 'charge', 'to', 'husband', 'remember', 'talk', 'adult', 'true', 'new', 'these', 'store', 'inside', 'beat', 'figure', 'piece', 'win', 'activity', 'quite', 'raise', 'realize', 'thing', 'such', 'control', 'technology', 'follow', 'why', 'toward', 'top', 'certain', 'then', 'position', 'success', 'both', 'offer', 'sort', 'behind', 'reveal', 'car', 'my', 'large', 'describe', 'they', 'test', 'player', 'opportunity', 'low', 'skin', 'seat', 'write', 'spring', 'particular', 'movie', 'world', 'according', 'apply', 'news', 'black', 'best', 'air', 'possible', 'onto', 'floor', 'whatever', 'bit', 'soon', 'there', 'but', 'since', 'tonight', 'machine', 'rather', 'lawyer', 'decade', 'through', 'woman', 'national', 'somebody', 'music', 'season', 'parent', 'place', 'role', 'away', 'law', 'physical', 'analysis', 'next', 'debate', 'court', 'reach', 'institution', 'and', 'will', 'defense', 'Democrat', 'trip', 'if', 'along', 'cup', 'experience', 'wide', 'eye', 'put', 'eight', 'among', 'yard', 'executive', 'explain', 'like', 'food', 'culture', 'old', 'month', 'into', 'bag', 'focus', 'at', 'commercial', 'provide', 'town', 'measure', 'dinner', 'what', 'cut', 'anyone', 'remain', 'discuss', 'environmental', 'wish', 'from', 'guy', 'boy', 'high', 'which', 'even', 'leave', 'service', 'writer', 'important', 'do', 'hot', 'total', 'final', 'require', 'live', 'school', 'show', 'evening', 'process', 'ever', 'kid', 'painting', 'maybe', 'perhaps', 'tend', 'rock', 'crime', 'dog', 'current', 'professor', 'stay', 'be', 'brother', 'light', 'big', 'later', 'book', 'me', 'send', 'system', 'enough', 'him', 'lose', 'around', 'lead', 'color', 'past', 'back', 'though', 'grow', 'for', 'middle', 'range', 'least', 'class', 'power', 'water', 'subject', 'cold', 'identify', 'movement', 'bring', 'check', 'standard', 'future', 'any']\n",
      "\n",
      "Irrelevant skills in applicant_skills_7:\n",
      "['MLOps', 'law', 'enough', 'big', 'moment', 'main', 'all', 'none', 'tree', 'near', 'site', 'space', 'expect', 'summer', 'animal', 'most', 'best', 'successful', 'focus', 'attack', 'shoulder', 'program', 'everything', 'nearly', 'close', 'spend', 'wear', 'off', 'doctor', 'sort', 'theory', 'significant', 'human', 'explain', 'opportunity', 'social', 'admit', 'of', 'member', 'Mr', 'year', 'develop', 'tax', 'with', 'old', 'training', 'media', 'network', 'home', 'catch', 'even', 'bring', 'receive', 'may', 'again', 'argue', 'the', 'career', 'page', 'government', 'article', 'record', 'born', 'development', 'rock', 'movie', 'about', 'community', 'success', 'on', 'we', 'cold', 'rule', 'environmental', 'send', 'it', 'if', 'they', 'build', 'bill', 'relate', 'where', 'own', 'pay', 'senior', 'large', 'strong', 'cup', 'against', 'ball', 'impact', 'five', 'little', 'inside', 'instead', 'house', 'TV', 'stock', 'high', 'not', 'type', 'two', 'enjoy', 'say', 'trade', 'financial', 'night', 'really', 'question', 'road', 'before', 'care', 'kid', 'condition', 'than', 'remain', 'drive', 'president', 'thousand', 'book', 'region', 'popular', 'affect', 'manager', 'maintain', 'seat', 'later', 'walk', 'policy', 'usually', 'another', 'suggest', 'effect', 'physical', 'morning', 'spring', 'parent', 'out', 'century', 'compare', 'Mrs', 'sing', 'brother', 'weight', 'local', 'bed', 'away', 'eight', 'officer', 'forget', 'science', 'red', 'people', 'throw', 'discuss', 'step', 'pretty', 'difficult', 'difference', 'professor', 'upon', 'offer', 'fact', 'real', 'become', 'head', 'talk', 'response', 'window', 'environment', 'hotel', 'share', 'help', 'business', 'thought', 'require', 'let', 'leg', 'design', 'thing', 'trial', 'money', 'themselves', 'gun', 'imagine', 'carry', 'lose', 'sound', 'keep', 'team', 'way', 'choose', 'church', 'do', 'finally', 'itself', 'few', 'exactly', 'size', 'process', 'source', 'cut', 'expert', 'during', 'simply', 'will', 'foot', 'have', 'rate', 'southern', 'hour', 'approach', 'happy', 'paper', 'blood', 'for', 'she', 'artist', 'last', 'watch', 'city', 'or', 'claim', 'in', 'consider', 'garden', 'edge', 'whole', 'participant', 'baby', 'including', 'some', 'phone', 'determine', 'deal', 'plant', 'different', 'too', 'radio', 'move', 'lay', 'author', 'view', 'change', 'organization', 'trip', 'machine', 'visit', 'culture', 'image', 'item', 'bank', 'decade', 'around', 'which', 'third', 'us', 'plan', 'ever', 'national', 'second', 'any', 'manage', 'crime', 'push', 'subject', 'raise', 'reveal', 'create', 'short', 'glass', 'reduce', 'alone', 'eat', 'partner', 'television', 'rich', 'institution', 'wind', 'wrong', 'event', 'religious', 'throughout', 'center', 'gas', 'letter', 'necessary', 'production', 'past', 'present', 'authority', 'list', 'my', 'official', 'game', 'finish', 'and', 'company', 'player', 'yard', 'conference', 'standard', 'half', 'establish', 'western', 'write', 'man', 'position', 'contain', 'might', 'administration', 'run', 'well', 'great', 'ask', 'down', 'least', 'purpose', 'challenge', 'case', 'food', 'remember', 'defense', 'her', 'race', 'clear', 'far', 'show', 'seven', 'report', 'buy', 'same', 'sell', 'future', 'specific', 'seem', 'person', 'reason', 'him', 'beat', 'history', 'result', 'industry', 'staff', 'whom', 'many', 'leader', 'school', 'investment', 'hope', 'unit', 'never', 'ready', 'treat', 'husband', 'car', 'field', 'recently', 'outside', 'that', 'live', 'serve', 'look', 'base', 'until', 'Republican', 'budget', 'personal', 'small', 'word', 'similar', 'wish', 'poor', 'party', 'realize', 'mother', 'after', 'yet', 'figure', 'foreign', 'bag', 'mind', 'actually', 'produce', 'particular', 'test', 'evening', 'listen', 'room', 'enter', 'idea', 'pass', 'able', 'allow', 'hot', 'indeed', 'six', 'suffer', 'federal', 'easy', 'like', 'section', 'common', 'board', 'attention', 'win', 'since', 'fish', 'per', 'economic', 'think', 'rather', 'door', 'area', 'skin', 'force', 'risk', 'believe', 'take', 'model', 'matter', 'these', 'beautiful', 'series', 'audience', 'name', 'east', 'three', 'message', 'but', 'major', 'first', 'perhaps', 'he', 'occur', 'reality', 'daughter', 'set', 'season', 'ok', 'majority', 'market', 'lot', 'art', 'get', 'politics', 'activity', 'low', 'special', 'form', 'identify', 'seek', 'style', 'agree', 'want', 'however', 'while', 'once', 'our', 'bit', 'blue', 'guy', 'respond', 'others', 'recognize', 'nice', 'goal', 'good', 'situation', 'drop', 'quite', 'peace', 'hair', 'light', 'several', 'fall', 'card', 'drug', 'draw', 'increase', 'study', 'practice', 'tonight', 'star', 'mouth', 'experience', 'generation', 'a', 'teacher', 'west', 'story', 'stop', 'writer', 'because', 'stand', 'here', 'smile', 'shake', 'try', 'join', 'management', 'decision', 'something', 'those', 'dream', 'I', 'now', 'score', 'clearly', 'system', 'charge', 'heavy', 'central', 'week', 'campaign', 'woman', 'their', 'feel', 'magazine', 'certainly', 'four', 'scene', 'family', 'behavior', 'color', 'strategy', 'public', 'class', 'late', 'beyond', 'either', 'research', 'picture', 'product', 'box', 'kind', 'agency', 'debate', 'scientist', 'sense', 'fly', 'continue', 'feeling', 'line', 'interview', 'college', 'technology', 'return', 'them', 'fine', 'pattern', 'American', 'avoid', 'other', 'involve', 'new', 'choice', 'particularly', 'general', 'nation', 'begin', 'play', 'speech', 'entire', 'top', 'your', 'resource', 'whose', 'nothing', 'provide', 'discussion', 'action', 'total', 'world', 'along', 'each', 'property', 'information', 'ten', 'through', 'right', 'thank', 'hospital', 'war', 'somebody', 'level', 'middle', 'miss', 'true', 'guess', 'skill', 'fill', 'film', 'assume', 'need', 'cell', 'billion', 'use', 'issue', 'ability', 'body', 'onto', 'employee', 'power', 'back', 'give', 'agent', 'hold', 'both', 'toward', 'attorney', 'office', 'place', 'country', 'statement', 'perform', 'newspaper', 'oil', 'range', 'me', 'trouble', 'go', 'ahead', 'growth', 'stay', 'threat', 'fear']\n",
      "\n",
      "Irrelevant skills in applicant_skills_8:\n",
      "['Docker', 'User Stories', 'Product Roadmap', 'Reporting', 'Data Cleaning', 'Power BI', 'Stakeholder Management', 'Cloud', 'Statistics', 'Spring Boot', 'Excel', 'System Design', 'PyTorch', 'Deep Learning', 'MLOps', 'TensorFlow', 'NLP', 'Machine Learning', 'Scrum', 'Git', 'Tableau', 'Pandas', 'Java', 'Computer Vision', 'Keras', 'REST APIs', 'hard', 'right', 'area', 'guy', 'think', 'least', 'appear', 'spend', 'four', 'century', 'material', 'spring', 'mother', 'laugh', 'opportunity', 'either', 'say', 'determine', 'true', 'myself', 'growth', 'which', 'production', 'inside', 'door', 'without', 'act', 'from', 'cell', 'out', 'professor', 'popular', 'budget', 'nature', 'station', 'man', 'accept', 'key', 'well', 'market', 'new', 'however', 'above', 'show', 'few', 'statement', 'month', 'impact', 'management', 'side', 'power', 'learn', 'eat', 'all', 'card', 'will', 'city', 'religious', 'player', 'choose', 'vote', 'sport', 'memory', 'tax', 'health', 'education', 'base', 'figure', 'cost', 'it', 'method', 'answer', 'land', 'whatever', 'claim', 'close', 'discussion', 'into', 'cultural', 'hospital', 'hotel', 'avoid', 'what', 'investment', 'government', 'song', 'company', 'owner', 'bank', 'skill', 'page', 'each', 'husband', 'dream', 'bag', 'sense', 'because', 'film', 'treatment', 'lose', 'front', 'how', 'tough', 'rise', 'suddenly', 'now', 'federal', 'million', 'her', 'head', 'writer', 'ever', 'live', 'use', 'a', 'already', 'little', 'early', 'process', 'bring', 'color', 'manage', 'television', 'officer', 'treat', 'chance', 'relationship', 'they', 'couple', 'fire', 'score', 'two', 'way', 'sell', 'expect', 'this', 'choice', 'sometimes', 'put', 'senior', 'home', 'scientist', 'international', 'several', 'next', 'town', 'product', 'stop', 'may', 'alone', 'story', 'their', 'foreign', 'camera', 'back', 'law', 'wife', 'here', 'especially', 'room', 'east', 'child', 'if', 'fast', 'across', 'happy', 'start', 'life', 'happen', 'notice', 'sort', 'produce', 'create', 'beyond', 'much', 'make', 'music', 'perform', 'those', 'site', 'after', 'bar', 'benefit', 'father', 'person', 'soldier', 'late', 'by', 'medical', 'today', 'system', 'argue', 'pass', 'drive', 'generation', 'number', 'remain', 'total', 'every', 'low', 'draw', 'record', 'tonight', 'traditional', 'him', 'change', 'evening', 'call', 'world', 'class', 'work', 'possible', 'test', 'arm', 'one', 'somebody', 'end', 'still', 'win', 'tend', 'friend', 'morning', 'for', 'national', 'my', 'nearly', 'rather', 'just', 'check', 'middle', 'standard', 'keep', 'soon', 'party', 'tell', 'assume', 'issue', 'season', 'street', 'model', 'group', 'same', 'finish', 'lot', 'view', 'red', 'over', 'beautiful', 'financial', 'wear', 'ahead', 'off', 'media', 'different', 'former', 'account', 'indicate', 'campaign', 'institution', 'another', 'task', 'help', 'easy', 'who', 'others', 'candidate', 'instead', 'old', 'speak', 'no', 'as', 'important', 'surface', 'serve', 'lead', 'concern', 'measure', 'give', 'save', 'cover', 'you', 'until', 'read', 'behind', 'clear', 'reality', 'buy', 'employee', 'leave', 'actually', 'success', 'professional', 'quality', 'decision', 'week', 'sit', 'though', 'response', 'discuss', 'billion', 'wall', 'allow', 'police', 'safe', 'star', 'consumer', 'nor', 'society', 'participant', 'small', 'attorney', 'open', 'role', 'yard', 'major', 'black', 'sea', 'very', 'southern', 'leader', 'amount', 'adult', 'its', 'between', 'Mr', 'necessary', 'hit', 'seven', 'magazine', 'admit', 'source', 'available', 'let', 'pattern', 'expert', 'when', 'coach', 'great', 'school', 'daughter', 'cause', 'firm', 'project', 'stage', 'war', 'population', 'stay', 'really', 'last', 'tree', 'five', 'himself', 'strong', 'despite', 'hour', 'almost', 'history', 'become', 'election', 'idea', 'collection', 'rate', 'effect', 'community', 'three', 'sign', 'goal', 'in', 'sing', 'performance', 'among', 'state', 'physical', 'enough', 'up', 'agree', 'building', 'care', 'affect', 'president', 'but', 'about', 'scene', 'short', 'increase', 'crime', 'art', 'fly', 'staff', 'believe', 'eye', 'bed', 'rock', 'decide', 'would', 'with', 'toward', 'turn', 'often', 'always', 'audience', 'rest', 'he', 'TV', 'price', 'people', 'past', 'heart', 'information', 'trade', 'common', 'compare', 'condition']\n"
     ]
    }
   ],
   "source": [
    "irrelevant_skills = {}\n",
    "\n",
    "for i in range(1, 9):  # Iterate through applicant_skills_1 to applicant_skills_8\n",
    "    col = f\"applicant_skills_{i}\"\n",
    "    \n",
    "    # Calculate frequency count for each skill in the column\n",
    "    counts = df[col].value_counts()\n",
    "    \n",
    "    # Identify rare skills (those with <= 50 occurrences)\n",
    "    rare_skills = counts[counts <= 50].index.tolist()\n",
    "    \n",
    "    # Replace rare skills with \"Irrelevant Skill\"\n",
    "    df[col] = df[col].apply(lambda x: \"Irrelevant Skill\" if x in rare_skills else x)\n",
    "    \n",
    "    # Store identified irrelevant skills for review\n",
    "    irrelevant_skills[col] = rare_skills\n",
    "\n",
    "# Print all irrelevant skills found per column\n",
    "for col, skills in irrelevant_skills.items():\n",
    "    print(f\"\\nIrrelevant skills in {col}:\")\n",
    "    print(skills if skills else \"None\")"
   ]
  },
  {
   "cell_type": "markdown",
   "id": "188ed09f",
   "metadata": {
    "papermill": {
     "duration": 0.012672,
     "end_time": "2025-08-27T08:34:19.059177",
     "exception": false,
     "start_time": "2025-08-27T08:34:19.046505",
     "status": "completed"
    },
    "tags": []
   },
   "source": [
    "A quick check on one of the `applicant_skills` columns confirms the filtering has been applied."
   ]
  },
  {
   "cell_type": "code",
   "execution_count": 19,
   "id": "fc03199b",
   "metadata": {
    "execution": {
     "iopub.execute_input": "2025-08-27T08:34:19.088052Z",
     "iopub.status.busy": "2025-08-27T08:34:19.087373Z",
     "iopub.status.idle": "2025-08-27T08:34:19.097636Z",
     "shell.execute_reply": "2025-08-27T08:34:19.096657Z"
    },
    "papermill": {
     "duration": 0.027837,
     "end_time": "2025-08-27T08:34:19.099562",
     "exception": false,
     "start_time": "2025-08-27T08:34:19.071725",
     "status": "completed"
    },
    "tags": []
   },
   "outputs": [
    {
     "data": {
      "text/plain": [
       "applicant_skills_4\n",
       "Irrelevant Skill          2719\n",
       "No Value                  1646\n",
       "SQL                        366\n",
       "Agile                      354\n",
       "Python                     335\n",
       "User Stories               215\n",
       "Scrum                      207\n",
       "Power BI                   202\n",
       "Product Roadmap            196\n",
       "Stakeholder Management     194\n",
       "Data Cleaning              194\n",
       "Excel                      188\n",
       "Tableau                    184\n",
       "Pandas                     184\n",
       "Spring Boot                184\n",
       "REST APIs                  178\n",
       "Statistics                 177\n",
       "Reporting                  176\n",
       "Deep Learning              175\n",
       "Computer Vision            173\n",
       "Cloud                      173\n",
       "Machine Learning           167\n",
       "Git                        165\n",
       "Docker                     159\n",
       "MLOps                      159\n",
       "Keras                      158\n",
       "TensorFlow                 157\n",
       "System Design              155\n",
       "Java                       155\n",
       "NLP                        154\n",
       "PyTorch                    151\n",
       "Name: count, dtype: int64"
      ]
     },
     "execution_count": 19,
     "metadata": {},
     "output_type": "execute_result"
    }
   ],
   "source": [
    "df['applicant_skills_4'].value_counts()"
   ]
  },
  {
   "cell_type": "markdown",
   "id": "cfe98b0d",
   "metadata": {
    "papermill": {
     "duration": 0.012552,
     "end_time": "2025-08-27T08:34:19.125387",
     "exception": false,
     "start_time": "2025-08-27T08:34:19.112835",
     "status": "completed"
    },
    "tags": []
   },
   "source": [
    "### 5.3. Current DataFrame Structure\n",
    "\n",
    "After all the feature engineering and cleaning, let's review the final set of columns."
   ]
  },
  {
   "cell_type": "code",
   "execution_count": 20,
   "id": "03cab6e4",
   "metadata": {
    "execution": {
     "iopub.execute_input": "2025-08-27T08:34:19.153093Z",
     "iopub.status.busy": "2025-08-27T08:34:19.152737Z",
     "iopub.status.idle": "2025-08-27T08:34:19.158685Z",
     "shell.execute_reply": "2025-08-27T08:34:19.157792Z"
    },
    "papermill": {
     "duration": 0.021869,
     "end_time": "2025-08-27T08:34:19.160030",
     "exception": false,
     "start_time": "2025-08-27T08:34:19.138161",
     "status": "completed"
    },
    "tags": []
   },
   "outputs": [
    {
     "data": {
      "text/plain": [
       "Index(['match_score', 'role_name', 'skill_needed_1', 'skill_needed_2',\n",
       "       'skill_needed_3', 'skill_needed_4', 'skill_needed_5', 'skill_needed_6',\n",
       "       'skill_needed_7', 'applicant_skills_1', 'applicant_skills_2',\n",
       "       'applicant_skills_3', 'applicant_skills_4', 'applicant_skills_5',\n",
       "       'applicant_skills_6', 'applicant_skills_7', 'applicant_skills_8'],\n",
       "      dtype='object')"
      ]
     },
     "execution_count": 20,
     "metadata": {},
     "output_type": "execute_result"
    }
   ],
   "source": [
    "df.columns"
   ]
  },
  {
   "cell_type": "markdown",
   "id": "4821ecd4",
   "metadata": {
    "papermill": {
     "duration": 0.012575,
     "end_time": "2025-08-27T08:34:19.185608",
     "exception": false,
     "start_time": "2025-08-27T08:34:19.173033",
     "status": "completed"
    },
    "tags": []
   },
   "source": [
    "## 6. Developing a Custom Match Score\n",
    "\n",
    "We will now implement a custom function to calculate a match score based on the overlap between an applicant's skills and the required job skills. This score will then be scaled to a range of 1 to 5 for consistency with typical rating systems."
   ]
  },
  {
   "cell_type": "markdown",
   "id": "1af3c1ae",
   "metadata": {
    "papermill": {
     "duration": 0.014195,
     "end_time": "2025-08-27T08:34:19.212697",
     "exception": false,
     "start_time": "2025-08-27T08:34:19.198502",
     "status": "completed"
    },
    "tags": []
   },
   "source": [
    "### 6.1. Match Score Calculation Logic\n",
    "\n",
    "The `calculate_match_score` function identifies common skills between the applicant and the job, then computes the percentage of required skills that are matched. The `MinMaxScaler` is used to normalize this percentage to a 1-5 scale."
   ]
  },
  {
   "cell_type": "code",
   "execution_count": 21,
   "id": "13eeb8e8",
   "metadata": {
    "execution": {
     "iopub.execute_input": "2025-08-27T08:34:19.241807Z",
     "iopub.status.busy": "2025-08-27T08:34:19.241419Z",
     "iopub.status.idle": "2025-08-27T08:34:20.322526Z",
     "shell.execute_reply": "2025-08-27T08:34:20.321752Z"
    },
    "papermill": {
     "duration": 1.098102,
     "end_time": "2025-08-27T08:34:20.324303",
     "exception": false,
     "start_time": "2025-08-27T08:34:19.226201",
     "status": "completed"
    },
    "tags": []
   },
   "outputs": [],
   "source": [
    "def calculate_match_score(row):\n",
    "    # Collect applicant skills, excluding 'No Value' and 'Irrelevant Skill'\n",
    "    applicant_skills = {row[f\"applicant_skills_{i}\"] for i in range(1, 9) \n",
    "                        if pd.notna(row[f\"applicant_skills_{i}\"]) and row[f\"applicant_skills_{i}\"] != \"Irrelevant Skill\" and row[f\"applicant_skills_{i}\"] != \"No Value\"}\n",
    "    \n",
    "    # Collect required skills, excluding 'No Value'\n",
    "    required_skills = {row[f\"skill_needed_{i}\"] for i in range(1, 8) \n",
    "                       if pd.notna(row[f\"skill_needed_{i}\"]) and row[f\"skill_needed_{i}\"] != \"No Value\"}\n",
    "    \n",
    "    if not required_skills:  # Avoid division by zero if no required skills are listed\n",
    "        return 0.0\n",
    "    \n",
    "    # Calculate the number of matched skills\n",
    "    matched_skills = applicant_skills.intersection(required_skills)\n",
    "    \n",
    "    # Score as a percentage of required skills matched\n",
    "    score = len(matched_skills) / len(required_skills)\n",
    "    \n",
    "    return round(score * 100, 2)  # Return as a percentage\n",
    "\n",
    "# Apply the custom calculation\n",
    "df[\"match_score_calculated\"] = df.apply(calculate_match_score, axis=1)\n",
    "\n",
    "# Scale the calculated score to a range of 1-5\n",
    "scaler = MinMaxScaler(feature_range=(1, 5)) \n",
    "df[\"match_score_scaled\"] = scaler.fit_transform(df[[\"match_score_calculated\"]])"
   ]
  },
  {
   "cell_type": "markdown",
   "id": "fdba4e84",
   "metadata": {
    "papermill": {
     "duration": 0.012312,
     "end_time": "2025-08-27T08:34:20.349950",
     "exception": false,
     "start_time": "2025-08-27T08:34:20.337638",
     "status": "completed"
    },
    "tags": []
   },
   "source": [
    "The `match_score_scaled` values are converted to integers for a cleaner representation, aligning with a typical 1-5 rating system."
   ]
  },
  {
   "cell_type": "code",
   "execution_count": 22,
   "id": "c5142dc2",
   "metadata": {
    "execution": {
     "iopub.execute_input": "2025-08-27T08:34:20.378087Z",
     "iopub.status.busy": "2025-08-27T08:34:20.377725Z",
     "iopub.status.idle": "2025-08-27T08:34:20.384182Z",
     "shell.execute_reply": "2025-08-27T08:34:20.383000Z"
    },
    "papermill": {
     "duration": 0.022589,
     "end_time": "2025-08-27T08:34:20.385951",
     "exception": false,
     "start_time": "2025-08-27T08:34:20.363362",
     "status": "completed"
    },
    "tags": []
   },
   "outputs": [],
   "source": [
    "df[\"match_score_scaled\"] = df[\"match_score_scaled\"].astype(int)"
   ]
  },
  {
   "cell_type": "markdown",
   "id": "60742caf",
   "metadata": {
    "papermill": {
     "duration": 0.014489,
     "end_time": "2025-08-27T08:34:20.415675",
     "exception": false,
     "start_time": "2025-08-27T08:34:20.401186",
     "status": "completed"
    },
    "tags": []
   },
   "source": [
    "### 6.2. Sample Comparison of Scores\n",
    "\n",
    "Let's observe a few samples to compare our `match_score_calculated` and `match_score_scaled` against the original `match_score`."
   ]
  },
  {
   "cell_type": "code",
   "execution_count": 23,
   "id": "25ec6181",
   "metadata": {
    "execution": {
     "iopub.execute_input": "2025-08-27T08:34:20.446133Z",
     "iopub.status.busy": "2025-08-27T08:34:20.445785Z",
     "iopub.status.idle": "2025-08-27T08:34:20.458232Z",
     "shell.execute_reply": "2025-08-27T08:34:20.457178Z"
    },
    "papermill": {
     "duration": 0.028817,
     "end_time": "2025-08-27T08:34:20.459780",
     "exception": false,
     "start_time": "2025-08-27T08:34:20.430963",
     "status": "completed"
    },
    "tags": []
   },
   "outputs": [
    {
     "data": {
      "text/html": [
       "<div>\n",
       "<style scoped>\n",
       "    .dataframe tbody tr th:only-of-type {\n",
       "        vertical-align: middle;\n",
       "    }\n",
       "\n",
       "    .dataframe tbody tr th {\n",
       "        vertical-align: top;\n",
       "    }\n",
       "\n",
       "    .dataframe thead th {\n",
       "        text-align: right;\n",
       "    }\n",
       "</style>\n",
       "<table border=\"1\" class=\"dataframe\">\n",
       "  <thead>\n",
       "    <tr style=\"text-align: right;\">\n",
       "      <th></th>\n",
       "      <th>match_score_calculated</th>\n",
       "      <th>match_score</th>\n",
       "      <th>match_score_scaled</th>\n",
       "    </tr>\n",
       "  </thead>\n",
       "  <tbody>\n",
       "    <tr>\n",
       "      <th>7581</th>\n",
       "      <td>100.00</td>\n",
       "      <td>5</td>\n",
       "      <td>5</td>\n",
       "    </tr>\n",
       "    <tr>\n",
       "      <th>4618</th>\n",
       "      <td>60.00</td>\n",
       "      <td>4</td>\n",
       "      <td>3</td>\n",
       "    </tr>\n",
       "    <tr>\n",
       "      <th>8519</th>\n",
       "      <td>60.00</td>\n",
       "      <td>4</td>\n",
       "      <td>3</td>\n",
       "    </tr>\n",
       "    <tr>\n",
       "      <th>3682</th>\n",
       "      <td>66.67</td>\n",
       "      <td>4</td>\n",
       "      <td>3</td>\n",
       "    </tr>\n",
       "    <tr>\n",
       "      <th>3777</th>\n",
       "      <td>42.86</td>\n",
       "      <td>3</td>\n",
       "      <td>2</td>\n",
       "    </tr>\n",
       "    <tr>\n",
       "      <th>540</th>\n",
       "      <td>60.00</td>\n",
       "      <td>4</td>\n",
       "      <td>3</td>\n",
       "    </tr>\n",
       "  </tbody>\n",
       "</table>\n",
       "</div>"
      ],
      "text/plain": [
       "      match_score_calculated  match_score  match_score_scaled\n",
       "7581                  100.00            5                   5\n",
       "4618                   60.00            4                   3\n",
       "8519                   60.00            4                   3\n",
       "3682                   66.67            4                   3\n",
       "3777                   42.86            3                   2\n",
       "540                    60.00            4                   3"
      ]
     },
     "execution_count": 23,
     "metadata": {},
     "output_type": "execute_result"
    }
   ],
   "source": [
    "df[[\"match_score_calculated\", 'match_score' ,'match_score_scaled']].sample(6)"
   ]
  },
  {
   "cell_type": "markdown",
   "id": "0d9c3c4e",
   "metadata": {
    "papermill": {
     "duration": 0.012827,
     "end_time": "2025-08-27T08:34:20.486187",
     "exception": false,
     "start_time": "2025-08-27T08:34:20.473360",
     "status": "completed"
    },
    "tags": []
   },
   "source": [
    "The `match_score_calculated` column is no longer needed after scaling, so it can be removed."
   ]
  },
  {
   "cell_type": "code",
   "execution_count": 24,
   "id": "dd46aa61",
   "metadata": {
    "execution": {
     "iopub.execute_input": "2025-08-27T08:34:20.514627Z",
     "iopub.status.busy": "2025-08-27T08:34:20.514313Z",
     "iopub.status.idle": "2025-08-27T08:34:20.527501Z",
     "shell.execute_reply": "2025-08-27T08:34:20.526246Z"
    },
    "papermill": {
     "duration": 0.030382,
     "end_time": "2025-08-27T08:34:20.529287",
     "exception": false,
     "start_time": "2025-08-27T08:34:20.498905",
     "status": "completed"
    },
    "tags": []
   },
   "outputs": [],
   "source": [
    "df.drop(columns='match_score_calculated', inplace=True)"
   ]
  },
  {
   "cell_type": "markdown",
   "id": "055ef5b3",
   "metadata": {
    "papermill": {
     "duration": 0.014125,
     "end_time": "2025-08-27T08:34:20.556578",
     "exception": false,
     "start_time": "2025-08-27T08:34:20.542453",
     "status": "completed"
    },
    "tags": []
   },
   "source": [
    "## 7. Validating the Custom Match Score\n",
    "\n",
    "To assess the effectiveness of our custom matching logic, we calculate the correlation between our `match_score_scaled` and the original `match_score` provided in the dataset."
   ]
  },
  {
   "cell_type": "code",
   "execution_count": 25,
   "id": "2b8d18b1",
   "metadata": {
    "execution": {
     "iopub.execute_input": "2025-08-27T08:34:20.585106Z",
     "iopub.status.busy": "2025-08-27T08:34:20.584790Z",
     "iopub.status.idle": "2025-08-27T08:34:20.593566Z",
     "shell.execute_reply": "2025-08-27T08:34:20.592326Z"
    },
    "papermill": {
     "duration": 0.024964,
     "end_time": "2025-08-27T08:34:20.595281",
     "exception": false,
     "start_time": "2025-08-27T08:34:20.570317",
     "status": "completed"
    },
    "tags": []
   },
   "outputs": [
    {
     "data": {
      "text/plain": [
       "0.8751395144642107"
      ]
     },
     "execution_count": 25,
     "metadata": {},
     "output_type": "execute_result"
    }
   ],
   "source": [
    "df[[\"match_score\", \"match_score_scaled\"]].corr()['match_score']['match_score_scaled']"
   ]
  },
  {
   "cell_type": "markdown",
   "id": "d50aa0e4",
   "metadata": {
    "papermill": {
     "duration": 0.013044,
     "end_time": "2025-08-27T08:34:20.621709",
     "exception": false,
     "start_time": "2025-08-27T08:34:20.608665",
     "status": "completed"
    },
    "tags": []
   },
   "source": [
    "## 8. Conclusion\n",
    "\n",
    "The correlation coefficient between the original `match_score` and our `match_score_scaled` is approximately **0.875**. This indicates a strong positive correlation, suggesting that our custom skill-based matching logic effectively captures a significant portion of the variance in the original match scores. The method of extracting skills from text, filtering irrelevant entries, and calculating an overlap-based score, then scaling it, proves to be a robust approach for approximating the given match quality."
   ]
  }
 ],
 "metadata": {
  "kaggle": {
   "accelerator": "none",
   "dataSources": [
    {
     "datasetId": 7962178,
     "sourceId": 12605448,
     "sourceType": "datasetVersion"
    }
   ],
   "dockerImageVersionId": 31089,
   "isGpuEnabled": false,
   "isInternetEnabled": true,
   "language": "python",
   "sourceType": "notebook"
  },
  "kernelspec": {
   "display_name": "Python 3",
   "language": "python",
   "name": "python3"
  },
  "language_info": {
   "codemirror_mode": {
    "name": "ipython",
    "version": 3
   },
   "file_extension": ".py",
   "mimetype": "text/x-python",
   "name": "python",
   "nbconvert_exporter": "python",
   "pygments_lexer": "ipython3",
   "version": "3.11.13"
  },
  "papermill": {
   "default_parameters": {},
   "duration": 17.057915,
   "end_time": "2025-08-27T08:34:21.458703",
   "environment_variables": {},
   "exception": null,
   "input_path": "__notebook__.ipynb",
   "output_path": "__notebook__.ipynb",
   "parameters": {},
   "start_time": "2025-08-27T08:34:04.400788",
   "version": "2.6.0"
  }
 },
 "nbformat": 4,
 "nbformat_minor": 5
}
