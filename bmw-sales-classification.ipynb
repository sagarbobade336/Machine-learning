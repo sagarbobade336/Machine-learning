{
 "cells": [
  {
   "cell_type": "code",
   "execution_count": 1,
   "id": "686e44d8",
   "metadata": {
    "_cell_guid": "b1076dfc-b9ad-4769-8c92-a6c4dae69d19",
    "_uuid": "8f2839f25d086af736a60e9eeb907d3b93b6e0e5",
    "execution": {
     "iopub.execute_input": "2025-08-05T19:11:32.101965Z",
     "iopub.status.busy": "2025-08-05T19:11:32.101641Z",
     "iopub.status.idle": "2025-08-05T19:11:36.019924Z",
     "shell.execute_reply": "2025-08-05T19:11:36.018754Z"
    },
    "papermill": {
     "duration": 3.924429,
     "end_time": "2025-08-05T19:11:36.021615",
     "exception": false,
     "start_time": "2025-08-05T19:11:32.097186",
     "status": "completed"
    },
    "tags": []
   },
   "outputs": [
    {
     "name": "stdout",
     "output_type": "stream",
     "text": [
      "/kaggle/input/bmw-car-sales-dataset/BMW_Car_Sales_Classification.csv\n"
     ]
    }
   ],
   "source": [
    "# This Python 3 environment comes with many helpful analytics libraries installed\n",
    "# It is defined by the kaggle/python Docker image: https://github.com/kaggle/docker-python\n",
    "# For example, here's several helpful packages to load\n",
    "\n",
    "import numpy as np # linear algebra\n",
    "import pandas as pd # data processing, CSV file I/O (e.g. pd.read_csv)\n",
    "from sklearn.preprocessing import LabelEncoder\n",
    "from sklearn.model_selection import train_test_split\n",
    "\n",
    "# Input data files are available in the read-only \"../input/\" directory\n",
    "# For example, running this (by clicking run or pressing Shift+Enter) will list all files under the input directory\n",
    "\n",
    "import os\n",
    "for dirname, _, filenames in os.walk('/kaggle/input'):\n",
    "    for filename in filenames:\n",
    "        print(os.path.join(dirname, filename))\n",
    "# You can write up to 20GB to the current directory (/kaggle/working/) that gets preserved as output when you create a version using \"Save & Run All\" \n",
    "# You can also write temporary files to /kaggle/temp/, but they won't be saved outside of the current session"
   ]
  },
  {
   "cell_type": "code",
   "execution_count": 2,
   "id": "72ab66a2",
   "metadata": {
    "execution": {
     "iopub.execute_input": "2025-08-05T19:11:36.028785Z",
     "iopub.status.busy": "2025-08-05T19:11:36.028379Z",
     "iopub.status.idle": "2025-08-05T19:11:36.215461Z",
     "shell.execute_reply": "2025-08-05T19:11:36.214399Z"
    },
    "papermill": {
     "duration": 0.192449,
     "end_time": "2025-08-05T19:11:36.217382",
     "exception": false,
     "start_time": "2025-08-05T19:11:36.024933",
     "status": "completed"
    },
    "tags": []
   },
   "outputs": [
    {
     "data": {
      "text/html": [
       "<div>\n",
       "<style scoped>\n",
       "    .dataframe tbody tr th:only-of-type {\n",
       "        vertical-align: middle;\n",
       "    }\n",
       "\n",
       "    .dataframe tbody tr th {\n",
       "        vertical-align: top;\n",
       "    }\n",
       "\n",
       "    .dataframe thead th {\n",
       "        text-align: right;\n",
       "    }\n",
       "</style>\n",
       "<table border=\"1\" class=\"dataframe\">\n",
       "  <thead>\n",
       "    <tr style=\"text-align: right;\">\n",
       "      <th></th>\n",
       "      <th>Model</th>\n",
       "      <th>Year</th>\n",
       "      <th>Region</th>\n",
       "      <th>Color</th>\n",
       "      <th>Fuel_Type</th>\n",
       "      <th>Transmission</th>\n",
       "      <th>Engine_Size_L</th>\n",
       "      <th>Mileage_KM</th>\n",
       "      <th>Price_USD</th>\n",
       "      <th>Sales_Volume</th>\n",
       "      <th>Sales_Classification</th>\n",
       "    </tr>\n",
       "  </thead>\n",
       "  <tbody>\n",
       "    <tr>\n",
       "      <th>0</th>\n",
       "      <td>5 Series</td>\n",
       "      <td>2016</td>\n",
       "      <td>Asia</td>\n",
       "      <td>Red</td>\n",
       "      <td>Petrol</td>\n",
       "      <td>Manual</td>\n",
       "      <td>3.5</td>\n",
       "      <td>151748</td>\n",
       "      <td>98740</td>\n",
       "      <td>8300</td>\n",
       "      <td>High</td>\n",
       "    </tr>\n",
       "    <tr>\n",
       "      <th>1</th>\n",
       "      <td>i8</td>\n",
       "      <td>2013</td>\n",
       "      <td>North America</td>\n",
       "      <td>Red</td>\n",
       "      <td>Hybrid</td>\n",
       "      <td>Automatic</td>\n",
       "      <td>1.6</td>\n",
       "      <td>121671</td>\n",
       "      <td>79219</td>\n",
       "      <td>3428</td>\n",
       "      <td>Low</td>\n",
       "    </tr>\n",
       "    <tr>\n",
       "      <th>2</th>\n",
       "      <td>5 Series</td>\n",
       "      <td>2022</td>\n",
       "      <td>North America</td>\n",
       "      <td>Blue</td>\n",
       "      <td>Petrol</td>\n",
       "      <td>Automatic</td>\n",
       "      <td>4.5</td>\n",
       "      <td>10991</td>\n",
       "      <td>113265</td>\n",
       "      <td>6994</td>\n",
       "      <td>Low</td>\n",
       "    </tr>\n",
       "    <tr>\n",
       "      <th>3</th>\n",
       "      <td>X3</td>\n",
       "      <td>2024</td>\n",
       "      <td>Middle East</td>\n",
       "      <td>Blue</td>\n",
       "      <td>Petrol</td>\n",
       "      <td>Automatic</td>\n",
       "      <td>1.7</td>\n",
       "      <td>27255</td>\n",
       "      <td>60971</td>\n",
       "      <td>4047</td>\n",
       "      <td>Low</td>\n",
       "    </tr>\n",
       "    <tr>\n",
       "      <th>4</th>\n",
       "      <td>7 Series</td>\n",
       "      <td>2020</td>\n",
       "      <td>South America</td>\n",
       "      <td>Black</td>\n",
       "      <td>Diesel</td>\n",
       "      <td>Manual</td>\n",
       "      <td>2.1</td>\n",
       "      <td>122131</td>\n",
       "      <td>49898</td>\n",
       "      <td>3080</td>\n",
       "      <td>Low</td>\n",
       "    </tr>\n",
       "  </tbody>\n",
       "</table>\n",
       "</div>"
      ],
      "text/plain": [
       "      Model  Year         Region  Color Fuel_Type Transmission  Engine_Size_L  \\\n",
       "0  5 Series  2016           Asia    Red    Petrol       Manual            3.5   \n",
       "1        i8  2013  North America    Red    Hybrid    Automatic            1.6   \n",
       "2  5 Series  2022  North America   Blue    Petrol    Automatic            4.5   \n",
       "3        X3  2024    Middle East   Blue    Petrol    Automatic            1.7   \n",
       "4  7 Series  2020  South America  Black    Diesel       Manual            2.1   \n",
       "\n",
       "   Mileage_KM  Price_USD  Sales_Volume Sales_Classification  \n",
       "0      151748      98740          8300                 High  \n",
       "1      121671      79219          3428                  Low  \n",
       "2       10991     113265          6994                  Low  \n",
       "3       27255      60971          4047                  Low  \n",
       "4      122131      49898          3080                  Low  "
      ]
     },
     "execution_count": 2,
     "metadata": {},
     "output_type": "execute_result"
    }
   ],
   "source": [
    "data = pd.read_csv('../input/bmw-car-sales-dataset/BMW_Car_Sales_Classification.csv')\n",
    "data.head()"
   ]
  },
  {
   "cell_type": "code",
   "execution_count": 3,
   "id": "d8fea682",
   "metadata": {
    "execution": {
     "iopub.execute_input": "2025-08-05T19:11:36.224759Z",
     "iopub.status.busy": "2025-08-05T19:11:36.224450Z",
     "iopub.status.idle": "2025-08-05T19:11:36.267924Z",
     "shell.execute_reply": "2025-08-05T19:11:36.266685Z"
    },
    "papermill": {
     "duration": 0.048916,
     "end_time": "2025-08-05T19:11:36.269527",
     "exception": false,
     "start_time": "2025-08-05T19:11:36.220611",
     "status": "completed"
    },
    "tags": []
   },
   "outputs": [
    {
     "name": "stdout",
     "output_type": "stream",
     "text": [
      "<class 'pandas.core.frame.DataFrame'>\n",
      "RangeIndex: 50000 entries, 0 to 49999\n",
      "Data columns (total 11 columns):\n",
      " #   Column                Non-Null Count  Dtype  \n",
      "---  ------                --------------  -----  \n",
      " 0   Model                 50000 non-null  object \n",
      " 1   Year                  50000 non-null  int64  \n",
      " 2   Region                50000 non-null  object \n",
      " 3   Color                 50000 non-null  object \n",
      " 4   Fuel_Type             50000 non-null  object \n",
      " 5   Transmission          50000 non-null  object \n",
      " 6   Engine_Size_L         50000 non-null  float64\n",
      " 7   Mileage_KM            50000 non-null  int64  \n",
      " 8   Price_USD             50000 non-null  int64  \n",
      " 9   Sales_Volume          50000 non-null  int64  \n",
      " 10  Sales_Classification  50000 non-null  object \n",
      "dtypes: float64(1), int64(4), object(6)\n",
      "memory usage: 4.2+ MB\n"
     ]
    }
   ],
   "source": [
    "data.info()"
   ]
  },
  {
   "cell_type": "code",
   "execution_count": 4,
   "id": "540f4c7b",
   "metadata": {
    "execution": {
     "iopub.execute_input": "2025-08-05T19:11:36.276761Z",
     "iopub.status.busy": "2025-08-05T19:11:36.276447Z",
     "iopub.status.idle": "2025-08-05T19:11:36.311462Z",
     "shell.execute_reply": "2025-08-05T19:11:36.310150Z"
    },
    "papermill": {
     "duration": 0.040493,
     "end_time": "2025-08-05T19:11:36.313078",
     "exception": false,
     "start_time": "2025-08-05T19:11:36.272585",
     "status": "completed"
    },
    "tags": []
   },
   "outputs": [
    {
     "data": {
      "text/html": [
       "<div>\n",
       "<style scoped>\n",
       "    .dataframe tbody tr th:only-of-type {\n",
       "        vertical-align: middle;\n",
       "    }\n",
       "\n",
       "    .dataframe tbody tr th {\n",
       "        vertical-align: top;\n",
       "    }\n",
       "\n",
       "    .dataframe thead th {\n",
       "        text-align: right;\n",
       "    }\n",
       "</style>\n",
       "<table border=\"1\" class=\"dataframe\">\n",
       "  <thead>\n",
       "    <tr style=\"text-align: right;\">\n",
       "      <th></th>\n",
       "      <th>Year</th>\n",
       "      <th>Engine_Size_L</th>\n",
       "      <th>Mileage_KM</th>\n",
       "      <th>Price_USD</th>\n",
       "      <th>Sales_Volume</th>\n",
       "    </tr>\n",
       "  </thead>\n",
       "  <tbody>\n",
       "    <tr>\n",
       "      <th>count</th>\n",
       "      <td>50000.000000</td>\n",
       "      <td>50000.000000</td>\n",
       "      <td>50000.000000</td>\n",
       "      <td>50000.000000</td>\n",
       "      <td>50000.000000</td>\n",
       "    </tr>\n",
       "    <tr>\n",
       "      <th>mean</th>\n",
       "      <td>2017.015700</td>\n",
       "      <td>3.247180</td>\n",
       "      <td>100307.203140</td>\n",
       "      <td>75034.600900</td>\n",
       "      <td>5067.514680</td>\n",
       "    </tr>\n",
       "    <tr>\n",
       "      <th>std</th>\n",
       "      <td>4.324459</td>\n",
       "      <td>1.009078</td>\n",
       "      <td>57941.509344</td>\n",
       "      <td>25998.248882</td>\n",
       "      <td>2856.767125</td>\n",
       "    </tr>\n",
       "    <tr>\n",
       "      <th>min</th>\n",
       "      <td>2010.000000</td>\n",
       "      <td>1.500000</td>\n",
       "      <td>3.000000</td>\n",
       "      <td>30000.000000</td>\n",
       "      <td>100.000000</td>\n",
       "    </tr>\n",
       "    <tr>\n",
       "      <th>25%</th>\n",
       "      <td>2013.000000</td>\n",
       "      <td>2.400000</td>\n",
       "      <td>50178.000000</td>\n",
       "      <td>52434.750000</td>\n",
       "      <td>2588.000000</td>\n",
       "    </tr>\n",
       "    <tr>\n",
       "      <th>50%</th>\n",
       "      <td>2017.000000</td>\n",
       "      <td>3.200000</td>\n",
       "      <td>100388.500000</td>\n",
       "      <td>75011.500000</td>\n",
       "      <td>5087.000000</td>\n",
       "    </tr>\n",
       "    <tr>\n",
       "      <th>75%</th>\n",
       "      <td>2021.000000</td>\n",
       "      <td>4.100000</td>\n",
       "      <td>150630.250000</td>\n",
       "      <td>97628.250000</td>\n",
       "      <td>7537.250000</td>\n",
       "    </tr>\n",
       "    <tr>\n",
       "      <th>max</th>\n",
       "      <td>2024.000000</td>\n",
       "      <td>5.000000</td>\n",
       "      <td>199996.000000</td>\n",
       "      <td>119998.000000</td>\n",
       "      <td>9999.000000</td>\n",
       "    </tr>\n",
       "  </tbody>\n",
       "</table>\n",
       "</div>"
      ],
      "text/plain": [
       "               Year  Engine_Size_L     Mileage_KM      Price_USD  Sales_Volume\n",
       "count  50000.000000   50000.000000   50000.000000   50000.000000  50000.000000\n",
       "mean    2017.015700       3.247180  100307.203140   75034.600900   5067.514680\n",
       "std        4.324459       1.009078   57941.509344   25998.248882   2856.767125\n",
       "min     2010.000000       1.500000       3.000000   30000.000000    100.000000\n",
       "25%     2013.000000       2.400000   50178.000000   52434.750000   2588.000000\n",
       "50%     2017.000000       3.200000  100388.500000   75011.500000   5087.000000\n",
       "75%     2021.000000       4.100000  150630.250000   97628.250000   7537.250000\n",
       "max     2024.000000       5.000000  199996.000000  119998.000000   9999.000000"
      ]
     },
     "execution_count": 4,
     "metadata": {},
     "output_type": "execute_result"
    }
   ],
   "source": [
    "data.describe()"
   ]
  },
  {
   "cell_type": "markdown",
   "id": "a560c9d2",
   "metadata": {
    "papermill": {
     "duration": 0.003035,
     "end_time": "2025-08-05T19:11:36.319607",
     "exception": false,
     "start_time": "2025-08-05T19:11:36.316572",
     "status": "completed"
    },
    "tags": []
   },
   "source": [
    "# Data Processing"
   ]
  },
  {
   "cell_type": "code",
   "execution_count": 5,
   "id": "0f591677",
   "metadata": {
    "execution": {
     "iopub.execute_input": "2025-08-05T19:11:36.327405Z",
     "iopub.status.busy": "2025-08-05T19:11:36.326967Z",
     "iopub.status.idle": "2025-08-05T19:11:36.332927Z",
     "shell.execute_reply": "2025-08-05T19:11:36.331658Z"
    },
    "papermill": {
     "duration": 0.011717,
     "end_time": "2025-08-05T19:11:36.334586",
     "exception": false,
     "start_time": "2025-08-05T19:11:36.322869",
     "status": "completed"
    },
    "tags": []
   },
   "outputs": [
    {
     "name": "stdout",
     "output_type": "stream",
     "text": [
      "Model\n",
      "['Model', 'Year', 'Region', 'Color', 'Fuel_Type', 'Transmission', 'Engine_Size_L', 'Mileage_KM', 'Price_USD', 'Sales_Volume']\n"
     ]
    }
   ],
   "source": [
    "print(data.columns[0])\n",
    "featureMeans = list(data.columns[0:10])\n",
    "print(featureMeans)"
   ]
  },
  {
   "cell_type": "code",
   "execution_count": 6,
   "id": "272a829f",
   "metadata": {
    "execution": {
     "iopub.execute_input": "2025-08-05T19:11:36.342588Z",
     "iopub.status.busy": "2025-08-05T19:11:36.342244Z",
     "iopub.status.idle": "2025-08-05T19:11:36.405002Z",
     "shell.execute_reply": "2025-08-05T19:11:36.404102Z"
    },
    "papermill": {
     "duration": 0.068767,
     "end_time": "2025-08-05T19:11:36.406737",
     "exception": false,
     "start_time": "2025-08-05T19:11:36.337970",
     "status": "completed"
    },
    "tags": []
   },
   "outputs": [
    {
     "data": {
      "text/html": [
       "<div>\n",
       "<style scoped>\n",
       "    .dataframe tbody tr th:only-of-type {\n",
       "        vertical-align: middle;\n",
       "    }\n",
       "\n",
       "    .dataframe tbody tr th {\n",
       "        vertical-align: top;\n",
       "    }\n",
       "\n",
       "    .dataframe thead th {\n",
       "        text-align: right;\n",
       "    }\n",
       "</style>\n",
       "<table border=\"1\" class=\"dataframe\">\n",
       "  <thead>\n",
       "    <tr style=\"text-align: right;\">\n",
       "      <th></th>\n",
       "      <th>Model</th>\n",
       "      <th>Year</th>\n",
       "      <th>Region</th>\n",
       "      <th>Color</th>\n",
       "      <th>Fuel_Type</th>\n",
       "      <th>Transmission</th>\n",
       "      <th>Engine_Size_L</th>\n",
       "      <th>Mileage_KM</th>\n",
       "      <th>Price_USD</th>\n",
       "      <th>Sales_Volume</th>\n",
       "      <th>Sales_Classification</th>\n",
       "    </tr>\n",
       "  </thead>\n",
       "  <tbody>\n",
       "    <tr>\n",
       "      <th>0</th>\n",
       "      <td>1</td>\n",
       "      <td>2016</td>\n",
       "      <td>1</td>\n",
       "      <td>3</td>\n",
       "      <td>3</td>\n",
       "      <td>1</td>\n",
       "      <td>3.5</td>\n",
       "      <td>151748</td>\n",
       "      <td>98740</td>\n",
       "      <td>8300</td>\n",
       "      <td>High</td>\n",
       "    </tr>\n",
       "    <tr>\n",
       "      <th>1</th>\n",
       "      <td>10</td>\n",
       "      <td>2013</td>\n",
       "      <td>4</td>\n",
       "      <td>3</td>\n",
       "      <td>2</td>\n",
       "      <td>0</td>\n",
       "      <td>1.6</td>\n",
       "      <td>121671</td>\n",
       "      <td>79219</td>\n",
       "      <td>3428</td>\n",
       "      <td>Low</td>\n",
       "    </tr>\n",
       "    <tr>\n",
       "      <th>2</th>\n",
       "      <td>1</td>\n",
       "      <td>2022</td>\n",
       "      <td>4</td>\n",
       "      <td>1</td>\n",
       "      <td>3</td>\n",
       "      <td>0</td>\n",
       "      <td>4.5</td>\n",
       "      <td>10991</td>\n",
       "      <td>113265</td>\n",
       "      <td>6994</td>\n",
       "      <td>Low</td>\n",
       "    </tr>\n",
       "    <tr>\n",
       "      <th>3</th>\n",
       "      <td>6</td>\n",
       "      <td>2024</td>\n",
       "      <td>3</td>\n",
       "      <td>1</td>\n",
       "      <td>3</td>\n",
       "      <td>0</td>\n",
       "      <td>1.7</td>\n",
       "      <td>27255</td>\n",
       "      <td>60971</td>\n",
       "      <td>4047</td>\n",
       "      <td>Low</td>\n",
       "    </tr>\n",
       "    <tr>\n",
       "      <th>4</th>\n",
       "      <td>2</td>\n",
       "      <td>2020</td>\n",
       "      <td>5</td>\n",
       "      <td>0</td>\n",
       "      <td>0</td>\n",
       "      <td>1</td>\n",
       "      <td>2.1</td>\n",
       "      <td>122131</td>\n",
       "      <td>49898</td>\n",
       "      <td>3080</td>\n",
       "      <td>Low</td>\n",
       "    </tr>\n",
       "  </tbody>\n",
       "</table>\n",
       "</div>"
      ],
      "text/plain": [
       "   Model  Year  Region  Color  Fuel_Type  Transmission  Engine_Size_L  \\\n",
       "0      1  2016       1      3          3             1            3.5   \n",
       "1     10  2013       4      3          2             0            1.6   \n",
       "2      1  2022       4      1          3             0            4.5   \n",
       "3      6  2024       3      1          3             0            1.7   \n",
       "4      2  2020       5      0          0             1            2.1   \n",
       "\n",
       "   Mileage_KM  Price_USD  Sales_Volume Sales_Classification  \n",
       "0      151748      98740          8300                 High  \n",
       "1      121671      79219          3428                  Low  \n",
       "2       10991     113265          6994                  Low  \n",
       "3       27255      60971          4047                  Low  \n",
       "4      122131      49898          3080                  Low  "
      ]
     },
     "execution_count": 6,
     "metadata": {},
     "output_type": "execute_result"
    }
   ],
   "source": [
    "labelEncoder = LabelEncoder()\n",
    "encodeCol = [\"Model\",\"Region\",\"Color\",\"Fuel_Type\",\"Transmission\"]\n",
    "for col in encodeCol:\n",
    "    data[col] = labelEncoder.fit_transform(data[col])\n",
    "data.head()"
   ]
  },
  {
   "cell_type": "code",
   "execution_count": 7,
   "id": "b62ae0bb",
   "metadata": {
    "execution": {
     "iopub.execute_input": "2025-08-05T19:11:36.415338Z",
     "iopub.status.busy": "2025-08-05T19:11:36.415003Z",
     "iopub.status.idle": "2025-08-05T19:11:36.439525Z",
     "shell.execute_reply": "2025-08-05T19:11:36.438595Z"
    },
    "papermill": {
     "duration": 0.031081,
     "end_time": "2025-08-05T19:11:36.441443",
     "exception": false,
     "start_time": "2025-08-05T19:11:36.410362",
     "status": "completed"
    },
    "tags": []
   },
   "outputs": [],
   "source": [
    "X = data.loc[:,featureMeans]\n",
    "y = data.loc[:, 'Sales_Classification']\n",
    "\n",
    "X_train, X_test, y_train, y_test = train_test_split(X, y, test_size = 0.2, random_state = 42)"
   ]
  },
  {
   "cell_type": "code",
   "execution_count": 8,
   "id": "842b7f11",
   "metadata": {
    "execution": {
     "iopub.execute_input": "2025-08-05T19:11:36.450117Z",
     "iopub.status.busy": "2025-08-05T19:11:36.449740Z",
     "iopub.status.idle": "2025-08-05T19:11:36.718682Z",
     "shell.execute_reply": "2025-08-05T19:11:36.717509Z"
    },
    "papermill": {
     "duration": 0.2752,
     "end_time": "2025-08-05T19:11:36.720384",
     "exception": false,
     "start_time": "2025-08-05T19:11:36.445184",
     "status": "completed"
    },
    "tags": []
   },
   "outputs": [
    {
     "name": "stdout",
     "output_type": "stream",
     "text": [
      "BMW\n",
      "Accuracy of GaussianNB classifier on training set: 1.00\n",
      "Accuracy of GaussianNB classifier on test set: 1.00\n"
     ]
    }
   ],
   "source": [
    "from sklearn.naive_bayes import GaussianNB\n",
    "\n",
    "nbclf = GaussianNB().fit(X_train, y_train)\n",
    "predicted = nbclf.predict(X_test)\n",
    "print('BMW')\n",
    "print('Accuracy of GaussianNB classifier on training set: {:.2f}'.format(nbclf.score(X_train, y_train)))\n",
    "print('Accuracy of GaussianNB classifier on test set: {:.2f}'.format(nbclf.score(X_test, y_test)))"
   ]
  },
  {
   "cell_type": "code",
   "execution_count": 9,
   "id": "c5f23aba",
   "metadata": {
    "execution": {
     "iopub.execute_input": "2025-08-05T19:11:36.728628Z",
     "iopub.status.busy": "2025-08-05T19:11:36.728307Z",
     "iopub.status.idle": "2025-08-05T19:11:37.064589Z",
     "shell.execute_reply": "2025-08-05T19:11:37.063118Z"
    },
    "papermill": {
     "duration": 0.342333,
     "end_time": "2025-08-05T19:11:37.066232",
     "exception": false,
     "start_time": "2025-08-05T19:11:36.723899",
     "status": "completed"
    },
    "tags": []
   },
   "outputs": [
    {
     "name": "stdout",
     "output_type": "stream",
     "text": [
      "Classification report for classifier GaussianNB():\n",
      "              precision    recall  f1-score   support\n",
      "\n",
      "        High       1.00      1.00      1.00      3032\n",
      "         Low       1.00      1.00      1.00      6968\n",
      "\n",
      "    accuracy                           1.00     10000\n",
      "   macro avg       1.00      1.00      1.00     10000\n",
      "weighted avg       1.00      1.00      1.00     10000\n",
      "\n",
      "\n",
      "Confusion matrix:\n",
      "[[3032    0]\n",
      " [   4 6964]]\n"
     ]
    }
   ],
   "source": [
    "from sklearn import metrics\n",
    "\n",
    "print(\"Classification report for classifier %s:\\n%s\\n\"\n",
    "      % (nbclf, metrics.classification_report(y_test, predicted)))\n",
    "print(\"Confusion matrix:\\n%s\" % metrics.confusion_matrix(y_test, predicted))"
   ]
  }
 ],
 "metadata": {
  "kaggle": {
   "accelerator": "none",
   "dataSources": [
    {
     "datasetId": 7869838,
     "sourceId": 12473757,
     "sourceType": "datasetVersion"
    }
   ],
   "dockerImageVersionId": 31089,
   "isGpuEnabled": false,
   "isInternetEnabled": true,
   "language": "python",
   "sourceType": "notebook"
  },
  "kernelspec": {
   "display_name": "Python 3",
   "language": "python",
   "name": "python3"
  },
  "language_info": {
   "codemirror_mode": {
    "name": "ipython",
    "version": 3
   },
   "file_extension": ".py",
   "mimetype": "text/x-python",
   "name": "python",
   "nbconvert_exporter": "python",
   "pygments_lexer": "ipython3",
   "version": "3.11.13"
  },
  "papermill": {
   "default_parameters": {},
   "duration": 11.206798,
   "end_time": "2025-08-05T19:11:37.790413",
   "environment_variables": {},
   "exception": null,
   "input_path": "__notebook__.ipynb",
   "output_path": "__notebook__.ipynb",
   "parameters": {},
   "start_time": "2025-08-05T19:11:26.583615",
   "version": "2.6.0"
  }
 },
 "nbformat": 4,
 "nbformat_minor": 5
}
